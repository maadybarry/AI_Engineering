{
 "cells": [
  {
   "cell_type": "code",
   "execution_count": 2,
   "id": "85cc0a35-14e5-489e-ae16-82e7fd5d3d6a",
   "metadata": {},
   "outputs": [],
   "source": [
    "%load_ext dotenv\n",
    "%dotenv"
   ]
  },
  {
   "cell_type": "markdown",
   "id": "733d9ad1-61b6-48e8-af35-111bc2d9c831",
   "metadata": {},
   "source": [
    "## Chaining/Piping"
   ]
  },
  {
   "cell_type": "code",
   "execution_count": 4,
   "id": "fc27d7ec-3a51-4342-943f-9bf9db97d198",
   "metadata": {},
   "outputs": [],
   "source": [
    "from langchain_openai import ChatOpenAI\n",
    "\n",
    "from langchain_core.prompts import ChatPromptTemplate\n",
    "\n",
    "from langchain_core.output_parsers import CommaSeparatedListOutputParser"
   ]
  },
  {
   "cell_type": "code",
   "execution_count": 71,
   "id": "611d07a3-6701-41ca-8718-a67d9a38c9d0",
   "metadata": {},
   "outputs": [],
   "source": [
    "llm = ChatOpenAI(\n",
    "    model='gpt-4o-mini',\n",
    "    temperature=0,\n",
    "    seed=100\n",
    ")"
   ]
  },
  {
   "cell_type": "code",
   "execution_count": 14,
   "id": "9b826896-86b5-4478-84b8-f09349601cce",
   "metadata": {},
   "outputs": [],
   "source": [
    "instructions_for_parsing = CommaSeparatedListOutputParser().get_format_instructions()"
   ]
  },
  {
   "cell_type": "code",
   "execution_count": 16,
   "id": "a7d9aa74-07b8-41e3-84d8-44994bdef62b",
   "metadata": {},
   "outputs": [],
   "source": [
    "chat_template = ChatPromptTemplate.from_messages([('human',\"I have just bought a pet {pet}, could you please suggest 3 names? \\n\" + instructions_for_parsing)])"
   ]
  },
  {
   "cell_type": "code",
   "execution_count": 18,
   "id": "9008cccd-44c2-4b7e-8c1c-69d97d640dfe",
   "metadata": {},
   "outputs": [
    {
     "data": {
      "text/plain": [
       "ChatPromptTemplate(input_variables=['pet'], input_types={}, partial_variables={}, messages=[HumanMessagePromptTemplate(prompt=PromptTemplate(input_variables=['pet'], input_types={}, partial_variables={}, template='I have just bought a pet {pet}, could you please suggest 3 names? \\nYour response should be a list of comma separated values, eg: `foo, bar, baz` or `foo,bar,baz`'), additional_kwargs={})])"
      ]
     },
     "execution_count": 18,
     "metadata": {},
     "output_type": "execute_result"
    }
   ],
   "source": [
    "chat_template"
   ]
  },
  {
   "cell_type": "code",
   "execution_count": 20,
   "id": "9705221a-0652-4fee-bd88-1b4ac38f5c70",
   "metadata": {},
   "outputs": [],
   "source": [
    "output_comma_parser = CommaSeparatedListOutputParser()"
   ]
  },
  {
   "cell_type": "code",
   "execution_count": 22,
   "id": "467b6249-bdaa-48f0-9af0-357e8ead8c08",
   "metadata": {},
   "outputs": [],
   "source": [
    "chain = chat_template | llm | output_comma_parser"
   ]
  },
  {
   "cell_type": "code",
   "execution_count": 24,
   "id": "ac05d6fa-5845-4cbc-82dd-4ec2f874d333",
   "metadata": {},
   "outputs": [],
   "source": [
    "response = chain.invoke({'pet':'snake'})"
   ]
  },
  {
   "cell_type": "code",
   "execution_count": 28,
   "id": "b50bc488-180c-4216-8153-17e07f011c7d",
   "metadata": {},
   "outputs": [
    {
     "data": {
      "text/plain": [
       "['Slytherin', 'Serpentina', 'Hiss-teria']"
      ]
     },
     "execution_count": 28,
     "metadata": {},
     "output_type": "execute_result"
    }
   ],
   "source": [
    "response"
   ]
  },
  {
   "cell_type": "markdown",
   "id": "77322e23-31f4-4731-b6f2-ace9a407e10b",
   "metadata": {},
   "source": [
    "## Batching"
   ]
  },
  {
   "cell_type": "code",
   "execution_count": 81,
   "id": "5f3ad07e-744c-4247-be2a-2b3e0e0e2228",
   "metadata": {},
   "outputs": [],
   "source": [
    "chat_template_b = ChatPromptTemplate.from_messages([('human',\"I have recently adopted a {pet} of the breed {breed}, could you suggest how I should go about training?\")])"
   ]
  },
  {
   "cell_type": "code",
   "execution_count": 79,
   "id": "679d00e1-f07b-4f76-b444-ad55a58e2b4f",
   "metadata": {},
   "outputs": [],
   "source": [
    "chain_b = chat_template_b | llm"
   ]
  },
  {
   "cell_type": "code",
   "execution_count": 38,
   "id": "d1a98514-3443-4827-8689-67c7b01bcfbc",
   "metadata": {},
   "outputs": [
    {
     "name": "stdout",
     "output_type": "stream",
     "text": [
      "CPU times: user 19.7 ms, sys: 2.96 ms, total: 22.6 ms\n",
      "Wall time: 2.16 s\n"
     ]
    },
    {
     "data": {
      "text/plain": [
       "AIMessage(content='Congratulations on adopting a Doberman! They are intelligent, loyal, and energetic dogs that can make wonderful companions. Here are some tips for training your Doberman:\\n\\n### 1. **Start Early**\\n   - Begin training as soon as you bring your Doberman home. Early socialization and training are crucial for developing a well-adjusted dog.\\n\\n### 2. **Socialization**\\n   - Expose your Doberman to various environments, people, and other animals. This helps them become well-rounded and reduces the likelihood of fear or aggression.\\n\\n### 3. **Positive Reinforcement**\\n   - Use positive reinforcement techniques, such as treats, praise, and play, to reward good behavior. This encourages your dog to repeat those behaviors.\\n\\n### ', additional_kwargs={'refusal': None}, response_metadata={'token_usage': {'completion_tokens': 150, 'prompt_tokens': 30, 'total_tokens': 180, 'completion_tokens_details': {'accepted_prediction_tokens': 0, 'audio_tokens': 0, 'reasoning_tokens': 0, 'rejected_prediction_tokens': 0}, 'prompt_tokens_details': {'audio_tokens': 0, 'cached_tokens': 0}}, 'model_name': 'gpt-4o-mini-2024-07-18', 'system_fingerprint': 'fp_b376dfbbd5', 'id': 'chatcmpl-BJBgBIhTKJ8PoW4wmQ0jl1DYJ37xW', 'finish_reason': 'length', 'logprobs': None}, id='run-3be8e8be-2f5f-4e69-b3a3-bfa84b736aca-0', usage_metadata={'input_tokens': 30, 'output_tokens': 150, 'total_tokens': 180, 'input_token_details': {'audio': 0, 'cache_read': 0}, 'output_token_details': {'audio': 0, 'reasoning': 0}})"
      ]
     },
     "execution_count": 38,
     "metadata": {},
     "output_type": "execute_result"
    }
   ],
   "source": [
    "%%time\n",
    "chain_b.invoke({'pet':'dog', 'breed':'doberman'})"
   ]
  },
  {
   "cell_type": "code",
   "execution_count": 44,
   "id": "b399044d-08e9-4bd9-8047-26f44024f2cb",
   "metadata": {},
   "outputs": [
    {
     "name": "stdout",
     "output_type": "stream",
     "text": [
      "CPU times: user 16.7 ms, sys: 2.68 ms, total: 19.3 ms\n",
      "Wall time: 2.99 s\n"
     ]
    },
    {
     "data": {
      "text/plain": [
       "AIMessage(content='Training a ball python is quite different from training a dog or other pets, as snakes do not respond to commands or training in the same way. However, you can help your ball python become more comfortable with handling and its environment. Here are some tips for \"training\" your ball python:\\n\\n### 1. **Handling:**\\n   - **Start Slowly:** Allow your snake to acclimate to its new environment for at least a week before handling. This helps reduce stress.\\n   - **Gentle Handling:** When you start handling, do so gently and support the snake\\'s body. Avoid sudden movements that could startle it.\\n   - **Short Sessions:** Keep handling sessions short (10-15 minutes) at first, gradually increasing the time as', additional_kwargs={'refusal': None}, response_metadata={'token_usage': {'completion_tokens': 150, 'prompt_tokens': 29, 'total_tokens': 179, 'completion_tokens_details': {'accepted_prediction_tokens': 0, 'audio_tokens': 0, 'reasoning_tokens': 0, 'rejected_prediction_tokens': 0}, 'prompt_tokens_details': {'audio_tokens': 0, 'cached_tokens': 0}}, 'model_name': 'gpt-4o-mini-2024-07-18', 'system_fingerprint': 'fp_b376dfbbd5', 'id': 'chatcmpl-BJBhtzsICrwXE1yoKEYiDM3oOG0md', 'finish_reason': 'length', 'logprobs': None}, id='run-3e3db30f-b43c-4f5a-8355-3d43b82858b3-0', usage_metadata={'input_tokens': 29, 'output_tokens': 150, 'total_tokens': 179, 'input_token_details': {'audio': 0, 'cache_read': 0}, 'output_token_details': {'audio': 0, 'reasoning': 0}})"
      ]
     },
     "execution_count": 44,
     "metadata": {},
     "output_type": "execute_result"
    }
   ],
   "source": [
    "%%time\n",
    "chain_b.invoke({'pet':'snake', 'breed':'ball python'})"
   ]
  },
  {
   "cell_type": "code",
   "execution_count": 45,
   "id": "79d898eb-5be5-4f09-8ea1-eb1fa1abc531",
   "metadata": {},
   "outputs": [
    {
     "name": "stdout",
     "output_type": "stream",
     "text": [
      "CPU times: user 28.3 ms, sys: 4.44 ms, total: 32.7 ms\n",
      "Wall time: 2.35 s\n"
     ]
    },
    {
     "data": {
      "text/plain": [
       "[AIMessage(content='Congratulations on adopting a Doberman! They are intelligent, loyal, and energetic dogs that can make wonderful companions. Here are some tips for training your Doberman:\\n\\n### 1. **Start Early**\\n   - Begin training as soon as you bring your Doberman home. Early socialization and training are crucial for developing a well-adjusted dog.\\n\\n### 2. **Socialization**\\n   - Expose your Doberman to various environments, people, and other animals. This helps them become well-rounded and reduces the likelihood of fear or aggression.\\n\\n### 3. **Positive Reinforcement**\\n   - Use positive reinforcement techniques, such as treats, praise, and play, to reward good behavior. This encourages your dog to repeat those behaviors.\\n\\n### ', additional_kwargs={'refusal': None}, response_metadata={'token_usage': {'completion_tokens': 150, 'prompt_tokens': 30, 'total_tokens': 180, 'completion_tokens_details': {'accepted_prediction_tokens': 0, 'audio_tokens': 0, 'reasoning_tokens': 0, 'rejected_prediction_tokens': 0}, 'prompt_tokens_details': {'audio_tokens': 0, 'cached_tokens': 0}}, 'model_name': 'gpt-4o-mini-2024-07-18', 'system_fingerprint': 'fp_b376dfbbd5', 'id': 'chatcmpl-BJBhwS9vVxWT0vKGvHXp8Pd0L5yCq', 'finish_reason': 'length', 'logprobs': None}, id='run-8b5b8a1b-5f6f-4bde-82d2-13da5da4f6b5-0', usage_metadata={'input_tokens': 30, 'output_tokens': 150, 'total_tokens': 180, 'input_token_details': {'audio': 0, 'cache_read': 0}, 'output_token_details': {'audio': 0, 'reasoning': 0}}),\n",
       " AIMessage(content='Training a ball python is quite different from training a dog or other pets, as snakes do not respond to commands or training in the same way. However, you can help your ball python become more comfortable with handling and its environment. Here are some tips for \"training\" your ball python:\\n\\n### 1. **Handling:**\\n   - **Start Slowly:** Allow your snake to acclimate to its new environment for at least a week before handling. This helps reduce stress.\\n   - **Gentle Handling:** When you do start handling, do so gently and support the snake\\'s body. Avoid sudden movements.\\n   - **Short Sessions:** Keep handling sessions short at first (5-10 minutes) and gradually increase the time as your snake becomes more', additional_kwargs={'refusal': None}, response_metadata={'token_usage': {'completion_tokens': 150, 'prompt_tokens': 29, 'total_tokens': 179, 'completion_tokens_details': {'accepted_prediction_tokens': 0, 'audio_tokens': 0, 'reasoning_tokens': 0, 'rejected_prediction_tokens': 0}, 'prompt_tokens_details': {'audio_tokens': 0, 'cached_tokens': 0}}, 'model_name': 'gpt-4o-mini-2024-07-18', 'system_fingerprint': 'fp_b376dfbbd5', 'id': 'chatcmpl-BJBhwzohXtTOsqwNb5sgHr2Oq2s53', 'finish_reason': 'length', 'logprobs': None}, id='run-c809e3ec-ec51-4dcb-9170-5867a6c7f089-0', usage_metadata={'input_tokens': 29, 'output_tokens': 150, 'total_tokens': 179, 'input_token_details': {'audio': 0, 'cache_read': 0}, 'output_token_details': {'audio': 0, 'reasoning': 0}})]"
      ]
     },
     "execution_count": 45,
     "metadata": {},
     "output_type": "execute_result"
    }
   ],
   "source": [
    "%%time\n",
    "chain_b.batch([{'pet':'dog', 'breed':'doberman'},{'pet':'snake', 'breed':'ball python'}])"
   ]
  },
  {
   "cell_type": "markdown",
   "id": "aa397eeb-4c2a-4f0d-b36b-42d82d7e348f",
   "metadata": {},
   "source": [
    "## Streaming"
   ]
  },
  {
   "cell_type": "code",
   "execution_count": 83,
   "id": "2c845140-a2fd-4fc5-9226-7e1da9e1bfd2",
   "metadata": {},
   "outputs": [],
   "source": [
    "response = chain_b.stream({'pet':'dog', 'breed':'doberman'})"
   ]
  },
  {
   "cell_type": "code",
   "execution_count": 85,
   "id": "b5dddda2-139f-4542-8c15-83864a0ae4b1",
   "metadata": {},
   "outputs": [
    {
     "data": {
      "text/plain": [
       "<generator object RunnableSequence.stream at 0x115651c60>"
      ]
     },
     "execution_count": 85,
     "metadata": {},
     "output_type": "execute_result"
    }
   ],
   "source": [
    "response"
   ]
  },
  {
   "cell_type": "code",
   "execution_count": 87,
   "id": "8bfe32c7-51df-47c7-8068-8521f9b69a25",
   "metadata": {},
   "outputs": [
    {
     "name": "stdout",
     "output_type": "stream",
     "text": [
      "Congratulations on adopting a Doberman! They are intelligent, loyal, and energetic dogs that can make wonderful companions. Here are some tips for training your Doberman:\n",
      "\n",
      "### 1. **Start Early**\n",
      "   - Begin training as soon as you bring your dog home. Early socialization and training are crucial for Dobermans, as they are sensitive and can develop behavioral issues if not properly trained.\n",
      "\n",
      "### 2. **Use Positive Reinforcement**\n",
      "   - Reward-based training is the most effective method. Use treats, praise, and playtime as rewards for good behavior. This encourages your dog to repeat those behaviors.\n",
      "\n",
      "### 3. **Be Consistent**\n",
      "   - Use the same commands and cues consistently. This helps your dog understand what you expect from them. Consistency in your training approach is key.\n",
      "\n",
      "### 4. **Socialization**\n",
      "   - Expose your Doberman to different environments, people, and other animals. This helps them become well-adjusted and reduces the likelihood of fear-based behaviors.\n",
      "\n",
      "### 5. **Basic Commands**\n",
      "   - Teach basic commands such as \"sit,\" \"stay,\" \"come,\" \"down,\" and \"leave it.\" These commands are essential for safety and good behavior.\n",
      "\n",
      "### 6. **Short Training Sessions**\n",
      "   - Keep training sessions short (5-10 minutes) but frequent. Dobermans can become bored or distracted if sessions are too long.\n",
      "\n",
      "### 7. **Gradual Increase in Difficulty**\n",
      "   - Start with simple commands and gradually increase the difficulty as your dog learns. This keeps them engaged and challenged.\n",
      "\n",
      "### 8. **Leash Training**\n",
      "   - Dobermans are strong dogs, so leash training is important. Teach them to walk nicely on a leash without pulling. Use treats to reward them for walking beside you.\n",
      "\n",
      "### 9. **Address Behavioral Issues Early**\n",
      "   - If you notice any undesirable behaviors (like barking, jumping, or chewing), address them immediately. Ignoring these behaviors can lead to them becoming habits.\n",
      "\n",
      "### 10. **Professional Training Classes**\n",
      "   - Consider enrolling in a training class, especially if you’re a first-time dog owner. Professional trainers can provide valuable guidance and support.\n",
      "\n",
      "### 11. **Mental Stimulation**\n",
      "   - Dobermans are intelligent and need mental stimulation. Incorporate puzzle toys, obedience training, and interactive games into their routine.\n",
      "\n",
      "### 12. **Exercise**\n",
      "   - Ensure your Doberman gets plenty of physical exercise. Daily walks, playtime, and activities like fetch or agility training can help burn off excess energy.\n",
      "\n",
      "### 13. **Patience and Understanding**\n",
      "   - Training takes time, and every dog learns at their own pace. Be patient and understanding, and celebrate small successes along the way.\n",
      "\n",
      "### 14. **Build a Strong Bond**\n",
      "   - Spend quality time with your Doberman to build trust and a strong bond. This will make training easier and more enjoyable for both of you.\n",
      "\n",
      "### 15. **Health and Nutrition**\n",
      "   - Ensure your Doberman is healthy and well-nourished, as this can affect their energy levels and ability to focus during training.\n",
      "\n",
      "By following these tips and being dedicated to your Doberman's training, you'll help them become a well-behaved and happy companion. Enjoy your time together!"
     ]
    }
   ],
   "source": [
    "for i in response:\n",
    "    print(i.content, end='')"
   ]
  }
 ],
 "metadata": {
  "kernelspec": {
   "display_name": "langchain_env",
   "language": "python",
   "name": "langchain_env"
  },
  "language_info": {
   "codemirror_mode": {
    "name": "ipython",
    "version": 3
   },
   "file_extension": ".py",
   "mimetype": "text/x-python",
   "name": "python",
   "nbconvert_exporter": "python",
   "pygments_lexer": "ipython3",
   "version": "3.12.9"
  }
 },
 "nbformat": 4,
 "nbformat_minor": 5
}
