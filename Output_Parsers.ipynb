{
 "cells": [
  {
   "cell_type": "code",
   "execution_count": 2,
   "id": "7e704ce2-8902-4cf0-841a-675c2811e1b4",
   "metadata": {},
   "outputs": [],
   "source": [
    "%load_ext dotenv\n",
    "%dotenv"
   ]
  },
  {
   "cell_type": "code",
   "execution_count": 4,
   "id": "b78b181e-6112-449d-8ac7-65fa3fc74e75",
   "metadata": {},
   "outputs": [],
   "source": [
    "from langchain_openai import ChatOpenAI\n",
    "from langchain_core.messages import HumanMessage\n",
    "\n",
    "from langchain_core.output_parsers import StrOutputParser\n",
    "from langchain.chains import LLMChain"
   ]
  },
  {
   "cell_type": "markdown",
   "id": "6fa97f40-cb02-4582-aae5-35507a594d89",
   "metadata": {},
   "source": [
    "## String Output Parser"
   ]
  },
  {
   "cell_type": "code",
   "execution_count": 6,
   "id": "0a589e59-7ebf-491a-89ea-510cf17e6b2c",
   "metadata": {},
   "outputs": [],
   "source": [
    "model = ChatOpenAI(\n",
    "    model='gpt-4o-mini',\n",
    "    temperature=0,\n",
    "    max_completion_tokens=150,\n",
    "    seed=100\n",
    ")"
   ]
  },
  {
   "cell_type": "code",
   "execution_count": 12,
   "id": "b5849c05-09ac-452a-970d-1079829f38a4",
   "metadata": {},
   "outputs": [
    {
     "data": {
      "text/plain": [
       "HumanMessage(content='Could you tell me an interesting fact about Chennai, India?', additional_kwargs={}, response_metadata={})"
      ]
     },
     "execution_count": 12,
     "metadata": {},
     "output_type": "execute_result"
    }
   ],
   "source": [
    "message_h = HumanMessage(content='Could you tell me an interesting fact about Chennai, India?')\n",
    "message_h"
   ]
  },
  {
   "cell_type": "code",
   "execution_count": 16,
   "id": "ced44cf0-ac9e-4058-8687-bf146c0c22cd",
   "metadata": {},
   "outputs": [],
   "source": [
    "response = model.invoke([message_h])"
   ]
  },
  {
   "cell_type": "code",
   "execution_count": 17,
   "id": "150fcccb-acc9-4e1b-a1fe-aae454f6d5bc",
   "metadata": {},
   "outputs": [
    {
     "data": {
      "text/plain": [
       "AIMessage(content=\"Certainly! One interesting fact about Chennai is that it is home to the second-largest beach in the world, Marina Beach. Stretching over 13 kilometers (about 8 miles) along the Bay of Bengal, Marina Beach is not only a popular tourist destination but also a vibrant hub for local culture and activities. The beach is known for its stunning sunrises, bustling atmosphere, and various food stalls offering local delicacies. It serves as a gathering place for residents and visitors alike, making it an integral part of Chennai's identity.\", additional_kwargs={'refusal': None}, response_metadata={'token_usage': {'completion_tokens': 108, 'prompt_tokens': 19, 'total_tokens': 127, 'completion_tokens_details': {'accepted_prediction_tokens': 0, 'audio_tokens': 0, 'reasoning_tokens': 0, 'rejected_prediction_tokens': 0}, 'prompt_tokens_details': {'audio_tokens': 0, 'cached_tokens': 0}}, 'model_name': 'gpt-4o-mini-2024-07-18', 'system_fingerprint': 'fp_b376dfbbd5', 'id': 'chatcmpl-BIxXdSNIsXObwkRmZuk48MzujDNgH', 'finish_reason': 'stop', 'logprobs': None}, id='run-7a0761f8-aa9d-4a91-8626-6bc6cfc96632-0', usage_metadata={'input_tokens': 19, 'output_tokens': 108, 'total_tokens': 127, 'input_token_details': {'audio': 0, 'cache_read': 0}, 'output_token_details': {'audio': 0, 'reasoning': 0}})"
      ]
     },
     "execution_count": 17,
     "metadata": {},
     "output_type": "execute_result"
    }
   ],
   "source": [
    "response"
   ]
  },
  {
   "cell_type": "code",
   "execution_count": 20,
   "id": "866b7826-efd1-4c35-96a4-dd1aa0e8215d",
   "metadata": {},
   "outputs": [],
   "source": [
    "str_parser = StrOutputParser()"
   ]
  },
  {
   "cell_type": "code",
   "execution_count": 22,
   "id": "e2816c99-b873-4754-992b-29dd9e72db58",
   "metadata": {},
   "outputs": [],
   "source": [
    "response_string = str_parser.invoke(response)"
   ]
  },
  {
   "cell_type": "code",
   "execution_count": 24,
   "id": "0cf62fcc-368d-483b-ac3d-ce89c6b66b7a",
   "metadata": {},
   "outputs": [
    {
     "data": {
      "text/plain": [
       "\"Certainly! One interesting fact about Chennai is that it is home to the second-largest beach in the world, Marina Beach. Stretching over 13 kilometers (about 8 miles) along the Bay of Bengal, Marina Beach is not only a popular tourist destination but also a vibrant hub for local culture and activities. The beach is known for its stunning sunrises, bustling atmosphere, and various food stalls offering local delicacies. It serves as a gathering place for residents and visitors alike, making it an integral part of Chennai's identity.\""
      ]
     },
     "execution_count": 24,
     "metadata": {},
     "output_type": "execute_result"
    }
   ],
   "source": [
    "response_string"
   ]
  },
  {
   "cell_type": "markdown",
   "id": "453a20cb-d328-420f-a7f1-5f7696febb3e",
   "metadata": {},
   "source": [
    "## Comma Seperated Output Parser (List)"
   ]
  },
  {
   "cell_type": "code",
   "execution_count": 29,
   "id": "ed1aeaee-9358-4367-8f8c-9ba67da39ce6",
   "metadata": {},
   "outputs": [],
   "source": [
    "from langchain_core.output_parsers import CommaSeparatedListOutputParser"
   ]
  },
  {
   "cell_type": "code",
   "execution_count": 35,
   "id": "0006cbe3-7a22-4cd5-b94b-93608d2ee163",
   "metadata": {},
   "outputs": [
    {
     "data": {
      "text/plain": [
       "HumanMessage(content='\\nGive me a list of top 10 places to visit in Chennai !\\n\\nYour response should be a list of comma separated values, eg: `foo, bar, baz` or `foo,bar,baz`\\n', additional_kwargs={}, response_metadata={})"
      ]
     },
     "execution_count": 35,
     "metadata": {},
     "output_type": "execute_result"
    }
   ],
   "source": [
    "message_hl = HumanMessage(content=f'''\n",
    "Give me a list of top 10 places to visit in Chennai !\n",
    "\n",
    "{CommaSeparatedListOutputParser().get_format_instructions()}\n",
    "''')\n",
    "message_hl"
   ]
  },
  {
   "cell_type": "code",
   "execution_count": 37,
   "id": "6740103f-6f2e-47d3-8c26-d2caa459011a",
   "metadata": {},
   "outputs": [],
   "source": [
    "response = model.invoke([message_hl])"
   ]
  },
  {
   "cell_type": "code",
   "execution_count": 39,
   "id": "f1f60951-d2ff-4d28-ae04-ba7846282b6c",
   "metadata": {},
   "outputs": [],
   "source": [
    "list_parser = CommaSeparatedListOutputParser()"
   ]
  },
  {
   "cell_type": "code",
   "execution_count": 41,
   "id": "fce3a7b2-3c4d-448d-93cc-2dd627ed1c45",
   "metadata": {},
   "outputs": [
    {
     "data": {
      "text/plain": [
       "['Marina Beach',\n",
       " 'Kapaleeshwarar Temple',\n",
       " 'Fort St. George',\n",
       " 'San Thome Basilica',\n",
       " 'Government Museum',\n",
       " 'Valluvar Kottam',\n",
       " 'Guindy National Park',\n",
       " 'Mahabalipuram',\n",
       " 'Chennai Citi Centre',\n",
       " \"Elliot's Beach\"]"
      ]
     },
     "execution_count": 41,
     "metadata": {},
     "output_type": "execute_result"
    }
   ],
   "source": [
    "response_list = list_parser.invoke(response)\n",
    "response_list"
   ]
  },
  {
   "cell_type": "markdown",
   "id": "b7cb11f4-3fea-44d5-afdd-996f7b9d63a4",
   "metadata": {},
   "source": [
    "## DateTime Output Parser"
   ]
  },
  {
   "cell_type": "code",
   "execution_count": 44,
   "id": "4720f9e5-5cb7-4d1d-884e-0d9b7be83f30",
   "metadata": {},
   "outputs": [],
   "source": [
    "from langchain.output_parsers import DatetimeOutputParser"
   ]
  },
  {
   "cell_type": "code",
   "execution_count": 46,
   "id": "4b16d363-f5d6-45f5-97db-8efca8510aec",
   "metadata": {},
   "outputs": [
    {
     "data": {
      "text/plain": [
       "HumanMessage(content=\"\\nWhen was the city of Chennai founded ?\\n\\nWrite a datetime string that matches the following pattern: '%Y-%m-%dT%H:%M:%S.%fZ'.\\n\\nExamples: 1901-09-01T19:31:31.891174Z, 1683-11-04T00:33:35.266479Z, 1267-07-27T18:03:27.910065Z\\n\\nReturn ONLY this string, no other words!\\n\", additional_kwargs={}, response_metadata={})"
      ]
     },
     "execution_count": 46,
     "metadata": {},
     "output_type": "execute_result"
    }
   ],
   "source": [
    "message_hdt = HumanMessage(content=f'''\n",
    "When was the city of Chennai founded ?\n",
    "\n",
    "{DatetimeOutputParser().get_format_instructions()}\n",
    "''')\n",
    "message_hdt"
   ]
  },
  {
   "cell_type": "code",
   "execution_count": 56,
   "id": "707ab74e-37da-47c0-afd0-55c8a5a84350",
   "metadata": {},
   "outputs": [
    {
     "data": {
      "text/plain": [
       "AIMessage(content='1639-08-22T00:00:00.000000Z', additional_kwargs={'refusal': None}, response_metadata={'token_usage': {'completion_tokens': 17, 'prompt_tokens': 108, 'total_tokens': 125, 'completion_tokens_details': {'accepted_prediction_tokens': 0, 'audio_tokens': 0, 'reasoning_tokens': 0, 'rejected_prediction_tokens': 0}, 'prompt_tokens_details': {'audio_tokens': 0, 'cached_tokens': 0}}, 'model_name': 'gpt-4o-mini-2024-07-18', 'system_fingerprint': 'fp_b376dfbbd5', 'id': 'chatcmpl-BIxdor5wELIKrNuaMuzVtfye71MtV', 'finish_reason': 'stop', 'logprobs': None}, id='run-72c6237b-7b8b-449a-8923-19efdce89fde-0', usage_metadata={'input_tokens': 108, 'output_tokens': 17, 'total_tokens': 125, 'input_token_details': {'audio': 0, 'cache_read': 0}, 'output_token_details': {'audio': 0, 'reasoning': 0}})"
      ]
     },
     "execution_count": 56,
     "metadata": {},
     "output_type": "execute_result"
    }
   ],
   "source": [
    "response = model.invoke([message_hdt])\n",
    "response"
   ]
  },
  {
   "cell_type": "code",
   "execution_count": 57,
   "id": "05014afc-a6bb-4f03-9b8b-37d20a1783e3",
   "metadata": {},
   "outputs": [],
   "source": [
    "date_parser = DatetimeOutputParser()"
   ]
  },
  {
   "cell_type": "code",
   "execution_count": 58,
   "id": "bd27fed9-9459-4fe7-9ce0-9ca83b899013",
   "metadata": {},
   "outputs": [
    {
     "data": {
      "text/plain": [
       "datetime.datetime(1639, 8, 22, 0, 0)"
      ]
     },
     "execution_count": 58,
     "metadata": {},
     "output_type": "execute_result"
    }
   ],
   "source": [
    "response_date = date_parser.invoke(response)\n",
    "response_date"
   ]
  }
 ],
 "metadata": {
  "kernelspec": {
   "display_name": "langchain_env",
   "language": "python",
   "name": "langchain_env"
  },
  "language_info": {
   "codemirror_mode": {
    "name": "ipython",
    "version": 3
   },
   "file_extension": ".py",
   "mimetype": "text/x-python",
   "name": "python",
   "nbconvert_exporter": "python",
   "pygments_lexer": "ipython3",
   "version": "3.12.9"
  }
 },
 "nbformat": 4,
 "nbformat_minor": 5
}
