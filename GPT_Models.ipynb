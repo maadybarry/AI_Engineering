{
 "cells": [
  {
   "cell_type": "markdown",
   "id": "e8f909c1-37e3-438e-92b4-adb077853cc3",
   "metadata": {
    "jp-MarkdownHeadingCollapsed": true
   },
   "source": [
    "## Basics"
   ]
  },
  {
   "cell_type": "code",
   "execution_count": 6,
   "id": "e90ceec8-9740-483b-a0a4-6a6dd0b98779",
   "metadata": {},
   "outputs": [],
   "source": [
    "import openai\n",
    "import config"
   ]
  },
  {
   "cell_type": "code",
   "execution_count": 8,
   "id": "7169ca49-0056-46a9-a5f0-bf25a6f9aa10",
   "metadata": {},
   "outputs": [],
   "source": [
    "api_key = config.OPENAI_KEY"
   ]
  },
  {
   "cell_type": "code",
   "execution_count": 10,
   "id": "37d0d42d-5745-4e1c-9600-1768fd9f9122",
   "metadata": {},
   "outputs": [],
   "source": [
    "openai.api_key = api_key"
   ]
  },
  {
   "cell_type": "code",
   "execution_count": 212,
   "id": "42076619-8b6e-4475-95c2-f748e08794ed",
   "metadata": {},
   "outputs": [],
   "source": [
    "def generate_text(prompt, temperature):\n",
    "    response = openai.responses.create(\n",
    "        model=\"gpt-4o-mini\",\n",
    "        input=prompt,\n",
    "        temperature=temperature,\n",
    "        max_output_tokens=30\n",
    "    )\n",
    "    return response.output[0].content[0].text"
   ]
  },
  {
   "cell_type": "code",
   "execution_count": 214,
   "id": "5fa6f5fd-b712-447e-b41e-b697cd1beaa1",
   "metadata": {},
   "outputs": [],
   "source": [
    "prompt = \"start a stroy with Once upon a time and the story shouldn't be more than max output token given\""
   ]
  },
  {
   "cell_type": "code",
   "execution_count": 216,
   "id": "98e3fc5e-d49a-4092-9567-28a2bf99386b",
   "metadata": {},
   "outputs": [],
   "source": [
    "generated_text = generate_text(prompt, 1)"
   ]
  },
  {
   "cell_type": "code",
   "execution_count": 217,
   "id": "bd8fa804-8bd5-4a00-930a-0d42b93b8c81",
   "metadata": {},
   "outputs": [
    {
     "name": "stdout",
     "output_type": "stream",
     "text": [
      "Once upon a time, in a small village nestled between two towering mountains, there lived a girl named Elara. She had a heart full of dreams\n"
     ]
    }
   ],
   "source": [
    "print(generated_text)"
   ]
  },
  {
   "cell_type": "markdown",
   "id": "214242f7-13a2-4f07-a578-96cf0384fd48",
   "metadata": {
    "jp-MarkdownHeadingCollapsed": true
   },
   "source": [
    "## Text Summarizer"
   ]
  },
  {
   "cell_type": "code",
   "execution_count": 164,
   "id": "6adb772a-6cc4-4cb8-a4c8-167f80148fb9",
   "metadata": {},
   "outputs": [],
   "source": [
    "def text_summarizer(prompt, temperature):\n",
    "    response = openai.responses.create(\n",
    "        model=\"gpt-4o-mini\",\n",
    "        input=[\n",
    "            {\n",
    "                \"role\": \"system\",\n",
    "                \"content\": \"You will be provided with a block of text, and your task is to extract a list of keywords from it.\"\n",
    "            },\n",
    "            {\n",
    "                \"role\": \"user\",\n",
    "                \"content\": \"A flying saucer seen by a guest house, a 7ft alien-like figure coming out of a hedge and a \\\"cigar-shaped\\\" UFO near a school yard.\\n\\nThese are just some of the 450 reported extraterrestrial encounters from one of the UK's largest mass sightings in a remote Welsh village.\\n\\nThe village of Broad Haven has since been described as the \\\"Bermuda Triangle\\\" of mysterious craft sightings and sightings of strange beings.\\n\\nResidents who reported these encounters across a single year in the late seventies have now told their story to the new Netflix documentary series 'Encounters', made by Steven Spielberg's production company.\\n\\nIt all happened back in 1977, when the Cold War was at its height and Star Wars and Close Encounters of the Third Kind - Spielberg's first science fiction blockbuster - dominated the box office.\"\n",
    "            },\n",
    "            {\n",
    "                \"role\": \"assistant\",\n",
    "                \"content\": \"flying saucer, guest house, 7ft alien-like figure, hedge, cigar-shaped UFO, school yard, extraterrestrial encounters, UK, mass sightings, remote Welsh village, Broad Haven, Bermuda Triangle, mysterious craft sightings, strange beings, residents, single year, late seventies, Netflix documentary series, Steven Spielberg, production company, 1977, Cold War, Star Wars, Close Encounters of the Third Kind, science fiction blockbuster, box office.\"\n",
    "            },\n",
    "            {\n",
    "                \"role\": \"user\",\n",
    "                \"content\": \"Each April, in the village of Maeliya in northwest Sri Lanka, Pinchal Weldurelage Siriwardene gathers his community under the shade of a large banyan tree. The tree overlooks a human-made body of water called a wewa – meaning reservoir or \\\"tank\\\" in Sinhala. The wewa stretches out besides the village's rice paddies for 175-acres (708,200 sq m) and is filled with the rainwater of preceding months.    \\n\\nSiriwardene, the 76-year-old secretary of the village's agrarian committee, has a tightly-guarded ritual to perform. By boiling coconut milk on an open hearth beside the tank, he will seek blessings for a prosperous harvest from the deities residing in the tree. \\\"It's only after that we open the sluice gate to water the rice fields,\\\" he told me when I visited on a scorching mid-April afternoon.\\n\\nBy releasing water into irrigation canals below, the tank supports the rice crop during the dry months before the rains arrive. For nearly two millennia, lake-like water bodies such as this have helped generations of farmers cultivate their fields. An old Sinhala phrase, \\\"wewai dagabai gamai pansalai\\\", even reflects the technology's centrality to village life; meaning \\\"tank, pagoda, village and temple\\\".\"\n",
    "            },\n",
    "            {\n",
    "                \"role\": \"assistant\",\n",
    "                \"content\": \"April, Maeliya, northwest Sri Lanka, Pinchal Weldurelage Siriwardene, banyan tree, wewa, reservoir, tank, Sinhala, rice paddies, 175-acres, 708,200 sq m, rainwater, agrarian committee, coconut milk, open hearth, blessings, prosperous harvest, deities, sluice gate, rice fields, irrigation canals, dry months, rains, lake-like water bodies, farmers, cultivate, Sinhala phrase, technology, village life, pagoda, temple.\"\n",
    "            },\n",
    "            {\n",
    "                \"role\": \"user\",\n",
    "                \"content\": prompt\n",
    "            }\n",
    "        ],\n",
    "        temperature=temperature\n",
    "    )\n",
    "    return response.output[0].content[0].text"
   ]
  },
  {
   "cell_type": "code",
   "execution_count": 166,
   "id": "78b96046-20e9-4886-be23-cfa10fe3e3f0",
   "metadata": {},
   "outputs": [],
   "source": [
    "prompt = \"Master Reef Guide Kirsty Whitman didn't need to tell me twice. Peering down through my snorkel mask in the direction of her pointed finger, I spotted a huge male manta ray trailing a female in perfect sync – an effort to impress a potential mate, exactly as Whitman had described during her animated presentation the previous evening. Having some knowledge of what was unfolding before my eyes on our snorkelling safari made the encounter even more magical as I kicked against the current to admire this intimate undersea ballet for a few precious seconds more.\""
   ]
  },
  {
   "cell_type": "code",
   "execution_count": 168,
   "id": "c9c62644-4545-4523-9948-76ed4152f0db",
   "metadata": {},
   "outputs": [],
   "source": [
    "summary = text_summarizer(prompt, 0.3)"
   ]
  },
  {
   "cell_type": "code",
   "execution_count": 169,
   "id": "036283ad-588a-4982-bc18-3cc29c4604d6",
   "metadata": {},
   "outputs": [
    {
     "name": "stdout",
     "output_type": "stream",
     "text": [
      "prompt: Master Reef Guide Kirsty Whitman didn't need to tell me twice. Peering down through my snorkel mask in the direction of her pointed finger, I spotted a huge male manta ray trailing a female in perfect sync – an effort to impress a potential mate, exactly as Whitman had described during her animated presentation the previous evening. Having some knowledge of what was unfolding before my eyes on our snorkelling safari made the encounter even more magical as I kicked against the current to admire this intimate undersea ballet for a few precious seconds more.\n",
      "summary: Master Reef Guide, Kirsty Whitman, snorkel mask, manta ray, female, mate, snorkelling safari, encounter, magical, current, intimate, undersea ballet, presentation.\n"
     ]
    }
   ],
   "source": [
    "print(\"prompt: \" + prompt)\n",
    "print(\"summary: \" + summary)"
   ]
  },
  {
   "cell_type": "markdown",
   "id": "4929655d-8cb9-44ed-b457-aa84006abcff",
   "metadata": {
    "jp-MarkdownHeadingCollapsed": true
   },
   "source": [
    "## Poetic Chatbot"
   ]
  },
  {
   "cell_type": "code",
   "execution_count": 179,
   "id": "04400914-b6a5-467b-b68c-e73e502e9afa",
   "metadata": {},
   "outputs": [],
   "source": [
    "def poetic_chatbot(prompt):\n",
    "    response = openai.responses.create(\n",
    "        model = 'gpt-4o-mini',\n",
    "        input = [\n",
    "            {\n",
    "                \"role\": \"system\",\n",
    "                \"content\": \"You are a poetic chatbot.\"\n",
    "            },\n",
    "            {\n",
    "                \"role\": \"user\",\n",
    "                \"content\": \"When was Google founded?\"\n",
    "            },\n",
    "            {\n",
    "                \"role\": \"assistant\",\n",
    "                \"content\": \"In the late '90s, a spark did ignite, Google emerged, a radiant light. By Larry and Sergey, in '98, it was born, a search engine new, on the web it was sworn.\"\n",
    "            },\n",
    "            {\n",
    "                \"role\": \"user\",\n",
    "                \"content\": \"Which country has the youngest president?\"\n",
    "            },\n",
    "            {\n",
    "                \"role\": \"assistant\",\n",
    "                \"content\": \"Ah, the pursuit of youth in politics, a theme we explore. In Austria, Sebastian Kurz did implore, at the age of 31, his journey did begin, leading with vigor, in a world filled with din.\"\n",
    "            },\n",
    "            {\n",
    "                \"role\": \"user\",\n",
    "                \"content\": prompt\n",
    "            }\n",
    "        ],\n",
    "        temperature=1,\n",
    "        max_output_tokens=256\n",
    "    )\n",
    "    return response.output[0].content[0].text"
   ]
  },
  {
   "cell_type": "code",
   "execution_count": 181,
   "id": "98440220-1391-4d7d-87ef-77c362b61182",
   "metadata": {},
   "outputs": [
    {
     "data": {
      "text/plain": [
       "'In ancient times, when cattle roamed free, The first cheese was crafted, a gift from dairy. Around 8000 B.C., in lands far away, The art of cheese-making found its way. From curds and whey, a delight was spun, A timeless creation, enjoyed by everyone.'"
      ]
     },
     "execution_count": 181,
     "metadata": {},
     "output_type": "execute_result"
    }
   ],
   "source": [
    "prompt = \"when was cheese first made?\"\n",
    "poetic_chatbot(prompt)"
   ]
  },
  {
   "cell_type": "markdown",
   "id": "c001e6f1-c088-4faa-8e5d-3bb77b4686ae",
   "metadata": {},
   "source": [
    "## Langchain Basics"
   ]
  },
  {
   "cell_type": "code",
   "execution_count": 278,
   "id": "63f7dc53-8123-493b-b737-d7e891d026e4",
   "metadata": {},
   "outputs": [],
   "source": [
    "from langchain.document_loaders import WebBaseLoader\n",
    "from langchain.text_splitter import RecursiveCharacterTextSplitter\n",
    "from langchain.embeddings import OpenAIEmbeddings\n",
    "from langchain.vectorstores import FAISS\n",
    "from langchain.memory import ConversationStringBufferMemory\n",
    "from langchain.llms import OpenAI\n",
    "from langchain.chains import ConversationalRetrievalChain\n",
    "from langchain_openai.chat_models import ChatOpenAI"
   ]
  },
  {
   "cell_type": "code",
   "execution_count": 259,
   "id": "f931f601-2c4f-4980-93f4-f68ab7874393",
   "metadata": {},
   "outputs": [],
   "source": [
    "url = \"https://365datascience.com/upcoming-courses\""
   ]
  },
  {
   "cell_type": "code",
   "execution_count": 261,
   "id": "6f49345b-0abf-4233-a7d3-b3ee33a7c48f",
   "metadata": {},
   "outputs": [],
   "source": [
    "loader = WebBaseLoader(url)"
   ]
  },
  {
   "cell_type": "code",
   "execution_count": 298,
   "id": "30fc5c6c-ee95-4000-849e-333131e1d21e",
   "metadata": {},
   "outputs": [],
   "source": [
    "raw_documents = loader.load()"
   ]
  },
  {
   "cell_type": "code",
   "execution_count": 300,
   "id": "f7b4dab0-2725-40b6-bc85-6cf161cb0684",
   "metadata": {},
   "outputs": [
    {
     "data": {
      "text/plain": [
       "[Document(metadata={'source': 'https://365datascience.com/upcoming-courses', 'title': 'Upcoming Data Science Courses – 365 Data Science', 'description': 'Discover all the upcoming data science courses on machine learning, programming, math, statistics, and more in the 365 Data Science program. Start now!', 'language': 'en'}, page_content=\"\\n\\n\\nUpcoming Data Science Courses – 365 Data Science\\n\\n\\n\\n  \\n              Learn  \\n                    Courses\\n                   \\n                    Career Tracks\\n                   \\n                    Projects\\n                   \\n                    Upcoming Courses\\n                   \\n              Certificates  \\n                    Career Track Certificate\\n                   \\n                    Course Certificate\\n                   \\n              Resources  \\n                      All Resources\\n                     \\n                      Course Notes\\n                     \\n                      Templates\\n                     \\n                      Infographics\\n                     \\n                      Career Guides\\n                     \\n                      Practice Exams\\n                     \\n                      Blog\\n                     \\n                      Reviews\\n                     \\n                      Success Stories\\n                     \\n                      Flashcards\\n                     \\n                      Calculators\\n                     \\n                      Interview Simulator\\n                     \\n              Pricing\\n             \\n              For Business  \\n                    Team Plan\\n                   \\n                    Live Training\\n                   \\n                Login\\n               \\n                  Sign Up\\n                 \\n            Log In\\n           \\n            Sign Up\\n              Upcoming\\n           \\n            AI Ethics\\n           \\n            with Ned Krastev\\n           \\n            AI ethics is the discipline that ensures artificial intelligence systems operate in fair, responsible, and beneficial ways to society.\\r\\n\\r\\nAs AI increasingly integrates into our daily lives and businesses, ethical considerations are more critical than ever. From data collection to deployment, AI impacts decisions that can have far-reaching moral consequences. \\r\\n\\r\\nThis course explores AI ethics’ core principles and challenges and provides practical strategies for applying them in real-world scenarios. It examines foundational concepts like privacy, fairness, and accountability and expands into such advanced topics as ethical data sourcing, responsible AI deployment, and the governance of emerging technologies—including ChatGPT and generative AI.\\r\\n\\n           Course launch in \\n                Mar\\n               \\n                2025\\n                \\n        Upcoming courses\\n        \\n        AI Ethics\\n       with Ned Krastev AI ethics is the discipline that ensures artificial intelligence systems operate in fair, responsible, and beneficial ways to society.\\r\\n\\r\\nAs AI increasingly integrates into our daily lives and businesses, ethical considerations are more critical than ever. From data collection to deployment, AI impacts decisions that can have far-reaching moral consequences. \\r\\n\\r\\nThis course explores AI ethics’ core principles and challenges and provides practical strategies for applying them in real-world scenarios. It examines foundational concepts like privacy, fairness, and accountability and expands into such advanced topics as ethical data sourcing, responsible AI deployment, and the governance of emerging technologies—including ChatGPT and generative AI.\\r\\n 54 Lessons  3 hours \\n        Python 101: Kickoff\\n       with Hristina Hristova Get started with Python—the world’s most popular programming language! This beginner-friendly Kickstarter course is designed to give you a rock-solid understanding of Python’s core foundations. Whether new to coding or just brushing up on the basics, this is the perfect place to begin your programming journey.\\r\\nLet's begin with the basics: why Python is essential, how to create and execute your first program, and how to handle errors. You'll then learn to manage numbers, text, and logical expressions and understand how to use variables to store and manipulate data.\\r\\nYou’ll explore the building blocks of Python, like arithmetic operators, Booleans, strings, and assignment techniques—all with hands-on examples, interactive, and coding exercises to help you practice and build accurate understanding. \\r\\nBy the end, you’ll write simple programs and understand how and why your code works.  27 Lessons  2 hours \\n        Introduction to Data Warehousing\\n       with Rahulraj Singh Master the essentials of data warehousing with this comprehensive course. Start by understanding foundational concepts, exploring the history, evolution, and real-world applications of data warehouses.\\r\\nDive into data warehouse architecture and design, comparing traditional and modern architectures, mastering dimensional modeling, schema design principles, data partitioning, and indexing for optimal query performance.\\r\\nLearn about implementation, management, data quality, governance, security, and privacy. Gain practical experience with ETL processes, including data extraction, transformation, loading strategies, and automation.\\r\\nExplore various data warehousing tools and technologies, cloud versus on-premises solutions, data visualization, and reporting. Delve into advanced concepts such as real-time warehousing, data lakehouses, managing large datasets, and slowly changing dimensions.\\r\\nFinally, put your skills into practice through a capstone project, where you'll design, build, and monitor a complete data warehouse system. 31 Lessons  2 hours \\n        Fully Automated MLOps\\n       with Stefan Micic Master fully automated MLOps pipelines in this practical two-hour course. Begin with an overview of MLOps automation, exploring its evolution, benefits, challenges, and key components like data ingestion, model training, evaluation, and deployment strategies.\\r\\nDeepen your understanding with advanced topics including monitoring, drift detection, and retraining strategies. Explore essential tools and technologies such as open-source frameworks, cloud-based solutions, infrastructure as code, and feature stores.\\r\\nLearn from real-world case studies, including NLP model deployment automation and a price prediction pipeline. By the end, you'll confidently implement automated MLOps solutions in your own machine learning projects. 27 Lessons  2 hours \\n        Data Ingestion with pandas\\n       with Samson Afolabi Learn efficient data ingestion and processing techniques with Pandas in this comprehensive course. Start with importing data from flat files, mastering CSV handling, optimizing large file operations, and troubleshooting common errors.\\r\\nExplore Excel data ingestion, including working with dates, merging and appending files, interacting with Google Sheets, and handling Excel formulas. Dive into JSON data and APIs by learning to load, parse, and manage responses effectively.\\r\\nFinally, discover database connectivity, executing SQL queries, and integrating various ingestion libraries. Finish the course equipped with the skills to streamline your data workflows confidently using Pandas. 28 Lessons  1 hours \\n        Math for ML\\n       with Neha Bansal Unlock the mathematical foundations essential for machine learning and data science in this comprehensive course. Start with the fundamentals of data warehousing and move into crucial concepts like orthogonal projections, matrix decomposition (Cholesky, Eigen, SVD), and practical applications such as PCA and topic modeling.\\r\\nExplore vector calculus, understanding key concepts and their significance in machine learning, including gradient descent and stochastic gradient descent optimization techniques. Gain a deep understanding of vector calculus applications in neural networks and backpropagation.\\r\\nThis course combines theoretical knowledge with practical insights, equipping you with essential mathematical skills to confidently navigate advanced analytics, machine learning models, and algorithm development. 33 Lessons  2 hours \\n        Intro to Llama\\n       with Jaleed Khan, phd Master AI-powered text generation and large language models with this practical, hands-on course. Begin by exploring foundational concepts behind Transformers and large language models (LLMs), including structured and creative text generation, translation, summarization, and question answering.\\r\\nDevelop your expertise in prompt engineering and fine-tuning strategies, ensuring precise and effective AI outputs. Learn methods to evaluate model performance, address bias, and consider ethical implications.\\r\\nThrough real-world examples and interactive projects, gain the skills to effectively utilize, customize, and deploy advanced language models, preparing you for practical applications in AI-driven text generation. 33 Lessons  2 hours \\n        Deep Learning with PyTorch\\n       with Gaurav Sarkar  Explore the fundamentals of deep learning using PyTorch in this hands-on course. Understand why PyTorch is a leading framework for deep learning, learn essential concepts like tensors, device management (CPU vs GPU), and automatic differentiation.\\r\\nMaster the process of feeding data into neural network models, defining loss functions, and executing training loops. Apply your knowledge practically through guided projects, solving real-world regression and classification problems.\\r\\nBy the end, you'll confidently build and train your own neural networks using PyTorch. 12 Lessons  2 hours \\n        Copilot in Excel\\n       with Ivan Kitov Master the future of Excel with this hands-on course exploring Microsoft Copilot—an AI-powered assistant built directly into Excel. Whether you're a financial analyst, accountant, or an investment analyst, this course will help you transform the way you work with spreadsheets.\\r\\nLearn to communicate with Excel using natural language, automate tasks, analyze complex datasets, and uncover insights faster than ever before. From generating formulas and cleaning data to visualizing trends and running Python-powered simulations, you'll see how Copilot becomes your real-time productivity partner.\\r\\nWe’ll also cover advanced use cases like Monte Carlo simulations, portfolio optimization, and Profit & Loss (P&L) automation—proving that even the most complex tasks can be simplified with AI in your corner.\\r\\nBy the end of this course, you’ll know how to collaborate with Copilot like a pro—saving time, improving accuracy, and unlocking Excel’s full potential. 24 Lessons  2 hours \\n        Python Coding Interviews\\n       with Joy Harjanto Prepare effectively for your Python coding interviews with this focused, practical course. Quickly refresh essential Python basics, covering data manipulation, type conversions, and foundational data types.\\r\\nBuild strong control flow skills by mastering if/else statements, loops (for and while), and various sorting techniques. Solve realistic coding problems step-by-step, developing your ability to write efficient and logical Python code under interview conditions.\\r\\nGain confidence handling complex control flows, manipulating lists, dictionaries, and optimizing your approach to algorithmic problems, equipping you to excel in technical interviews. 15 Lessons  2 hours \\n        Intro to Microsoft Azure\\n       with Andrew Jones Begin your Azure Cloud journey with this practical, hands-on course designed to introduce you to essential Azure cloud concepts. Start by exploring cloud computing fundamentals, understanding Azure's hierarchy, and navigating the Azure portal with a trial account setup.\\r\\nGain practical skills in creating and managing storage solutions like Azure Blob Storage and databases such as Azure SQL and Cosmos DB. Explore compute options including Azure Virtual Desktop, and dive into powerful Data & AI services.\\r\\nUnderstand Azure's Messaging services and implement robust Identity and Access Management (IaM) and security practices. Master techniques for deploying, managing, and monitoring Azure resources, while also learning how to prevent hidden costs.\\r\\nConclude with insights and best practices to confidently leverage Azure Cloud in your projects.\\r\\n 17 Lessons  2 hours \\n        Intro to Hugging Face\\n       with Lauren Newbold Explore the power of Hugging Face and the Transformers library in this practical, hands-on course. Start by setting up your environment and discovering Hugging Face's tools and applications.\\r\\nGain foundational knowledge of pipelines for various NLP tasks, including text generation, classification, summarization, and more. Learn how to customize pipelines, manage tokenizers, handle padding, truncation, and understand encodings.\\r\\nMaster fine-tuning pretrained models with real-world datasets, leveraging Hugging Face’s datasets library for efficient training, evaluation, and inference. Advance your skills further by exploring image and audio tasks, including image classification, object detection, audio data preprocessing, and fine-tuning audio models.\\r\\nFinish the course equipped with comprehensive Hugging Face expertise, ready to build and deploy sophisticated NLP and multimodal AI applications. 48 Lessons  2 hours \\n        Econometrics\\n       with Gerhard Kling Gain practical skills in econometrics and regression analysis using Python with this comprehensive course. Begin by refreshing your Python fundamentals, including installation, IDE setup, variables, data types, and basic data handling.\\r\\nExplore core econometric concepts, distinguishing them from machine learning, and learn key analytical techniques such as descriptive analysis, regression modeling, handling transformations, and managing data effectively.\\r\\nMaster regression analysis, including implementation in Python, creating insightful regression tables, and understanding growth models. Apply these techniques in practical scenarios, such as analyzing the UK real estate market. By the end, you'll confidently interpret econometric results and implement robust regression analyses in Python. 31 Lessons  2 hours \\n        Building RAGs and Agentic Systems with LlamaIndex\\n       with Madriss Seksaoui Master building advanced data-driven applications using LlamaIndex in this practical course. Start by setting up your environment and exploring core concepts, then learn data ingestion, indexing, and embedding techniques.\\r\\nDevelop powerful query pipelines and Retrieval-Augmented Generation (RAG) systems, optimizing performance through debugging and observability. Delve into agentic systems by creating single-agent and multi-agent workflows, managing branching, looping, and concurrent execution.\\r\\nFinally, apply your skills by constructing a domain-specific Q&A agent, gaining hands-on experience to confidently build and deploy intelligent agent systems.\\r\\n 18 Lessons  1 hours \\n        Intro to Google Cloud\\n       with Samantha Guerriero Embark on your Google Cloud learning journey in this comprehensive course designed to equip you with essential cloud skills. Start by exploring core cloud concepts, Google Cloud's offerings, and resource hierarchy, and get hands-on experience setting up your own cloud environment.\\r\\nLearn how to power applications with Google Cloud’s compute services including virtual machines, Kubernetes containers, and serverless deployments. Transform and analyze your data at scale using Cloud Storage, BigQuery, and Looker Studio dashboards.\\r\\nDive into Google Cloud's AI ecosystem, experiment with custom machine learning models, and explore cutting-edge GenAI solutions like Vertex AI Gemini. Strengthen your operations with secure IAM setups, cloud monitoring, cost optimization strategies, and developer-focused tools.\\r\\nWrap up with practical insights and real-world lessons to confidently continue your Google Cloud journey. 48 Lessons  2 hours \\n        AI Strategy\\n       with Bernard Marr This course provides a practical roadmap for harnessing AI as a transformative force in business. You'll gain strategic insights into AI’s evolution, impacts, and real-world applications, while learning how to craft, implement, and scale an effective AI strategy. Ideal for leaders and decision-makers, this course prepares you to navigate AI opportunities, manage risks, and position your organization for long-term competitive advantage in the AI-driven future. 25 Lessons  3 hours  \\n        Start Learning Today\\n       \\n        Kickstart your career with our top-notch courses by expert instructors and boost your job prospects with a 365 Data Science Certificate of Achievement.\\n        World-class instructors\\n       Exams testing your knowledge\\n       High-quality data science courses\\n       Certificate of achievement\\n       Motivational features based on game design\\n       \\n    Sign Up to Continue\\n      Continue with Google\\n    Continue with Google\\n    Continue with Facebook\\n    Continue with LinkedIn\\n    Continue with email\\n       \\n    By continuing, you agree to 365 Data Science’s\\n    Terms of Use\\n    and\\n    Privacy Policy \\n      Already have an account?\\n      \\n        Log In\\n           \\n          All the Data Science Courses You Need\\n          \\n                About\\n               \\n                    About Us\\n                  \\n                    Meet the Instructors\\n                  \\n                    Become an Instructor\\n                  \\n                    Contact Us\\n                  \\n                    Pricing\\n                  \\n                Learn\\n               \\n                    Courses\\n                  \\n                    Career tracks\\n                  \\n                    Career Certificate\\n                  \\n                    Course Certificate\\n                  \\n                Resources\\n               \\n                    Course Notes\\n                  \\n                    Templates\\n                  \\n                    Career Guides\\n                  \\n                    Practice exams\\n                  \\n                    Calculators\\n                  \\n                    Flashcards\\n                  \\n                    Blog\\n                  \\n                Platform\\n               \\n                    Success stories\\n                  \\n                    Q&A Hub\\n                  \\n                    Help Center\\n                  \\n                    Verify Certificate\\n                   \\n          © 2025 365 Data Science. All Rights Reserved.\\n         \\n            Sitemap\\n           \\n            Terms of Use\\n           \\n            Privacy Policy\\n           \\n            Cookies\\n          \\n\\n\")]"
      ]
     },
     "execution_count": 300,
     "metadata": {},
     "output_type": "execute_result"
    }
   ],
   "source": [
    "raw_documents"
   ]
  },
  {
   "cell_type": "code",
   "execution_count": 302,
   "id": "8f7a4ccb-6cc1-4a3d-8723-10a2d0d85c4a",
   "metadata": {},
   "outputs": [],
   "source": [
    "text_splitter = RecursiveCharacterTextSplitter()\n",
    "documents = text_splitter.split_documents(raw_documents)"
   ]
  },
  {
   "cell_type": "code",
   "execution_count": 318,
   "id": "dad7da5c-401d-445a-b43a-83b17117a374",
   "metadata": {},
   "outputs": [
    {
     "data": {
      "text/plain": [
       "[Document(metadata={'source': 'https://365datascience.com/upcoming-courses', 'title': 'Upcoming Data Science Courses – 365 Data Science', 'description': 'Discover all the upcoming data science courses on machine learning, programming, math, statistics, and more in the 365 Data Science program. Start now!', 'language': 'en'}, page_content='Upcoming Data Science Courses – 365 Data Science\\n\\n\\n\\n  \\n              Learn  \\n                    Courses\\n                   \\n                    Career Tracks\\n                   \\n                    Projects\\n                   \\n                    Upcoming Courses\\n                   \\n              Certificates  \\n                    Career Track Certificate\\n                   \\n                    Course Certificate\\n                   \\n              Resources  \\n                      All Resources\\n                     \\n                      Course Notes\\n                     \\n                      Templates\\n                     \\n                      Infographics\\n                     \\n                      Career Guides\\n                     \\n                      Practice Exams\\n                     \\n                      Blog\\n                     \\n                      Reviews\\n                     \\n                      Success Stories\\n                     \\n                      Flashcards\\n                     \\n                      Calculators\\n                     \\n                      Interview Simulator\\n                     \\n              Pricing\\n             \\n              For Business  \\n                    Team Plan\\n                   \\n                    Live Training\\n                   \\n                Login\\n               \\n                  Sign Up\\n                 \\n            Log In\\n           \\n            Sign Up\\n              Upcoming\\n           \\n            AI Ethics\\n           \\n            with Ned Krastev\\n           \\n            AI ethics is the discipline that ensures artificial intelligence systems operate in fair, responsible, and beneficial ways to society.\\r\\n\\r\\nAs AI increasingly integrates into our daily lives and businesses, ethical considerations are more critical than ever. From data collection to deployment, AI impacts decisions that can have far-reaching moral consequences. \\r\\n\\r\\nThis course explores AI ethics’ core principles and challenges and provides practical strategies for applying them in real-world scenarios. It examines foundational concepts like privacy, fairness, and accountability and expands into such advanced topics as ethical data sourcing, responsible AI deployment, and the governance of emerging technologies—including ChatGPT and generative AI.'),\n",
       " Document(metadata={'source': 'https://365datascience.com/upcoming-courses', 'title': 'Upcoming Data Science Courses – 365 Data Science', 'description': 'Discover all the upcoming data science courses on machine learning, programming, math, statistics, and more in the 365 Data Science program. Start now!', 'language': 'en'}, page_content=\"Course launch in \\n                Mar\\n               \\n                2025\\n                \\n        Upcoming courses\\n        \\n        AI Ethics\\n       with Ned Krastev AI ethics is the discipline that ensures artificial intelligence systems operate in fair, responsible, and beneficial ways to society.\\r\\n\\r\\nAs AI increasingly integrates into our daily lives and businesses, ethical considerations are more critical than ever. From data collection to deployment, AI impacts decisions that can have far-reaching moral consequences. \\r\\n\\r\\nThis course explores AI ethics’ core principles and challenges and provides practical strategies for applying them in real-world scenarios. It examines foundational concepts like privacy, fairness, and accountability and expands into such advanced topics as ethical data sourcing, responsible AI deployment, and the governance of emerging technologies—including ChatGPT and generative AI.\\r\\n 54 Lessons  3 hours \\n        Python 101: Kickoff\\n       with Hristina Hristova Get started with Python—the world’s most popular programming language! This beginner-friendly Kickstarter course is designed to give you a rock-solid understanding of Python’s core foundations. Whether new to coding or just brushing up on the basics, this is the perfect place to begin your programming journey.\\r\\nLet's begin with the basics: why Python is essential, how to create and execute your first program, and how to handle errors. You'll then learn to manage numbers, text, and logical expressions and understand how to use variables to store and manipulate data.\\r\\nYou’ll explore the building blocks of Python, like arithmetic operators, Booleans, strings, and assignment techniques—all with hands-on examples, interactive, and coding exercises to help you practice and build accurate understanding. \\r\\nBy the end, you’ll write simple programs and understand how and why your code works.  27 Lessons  2 hours \\n        Introduction to Data Warehousing\\n       with Rahulraj Singh Master the essentials of data warehousing with this comprehensive course. Start by understanding foundational concepts, exploring the history, evolution, and real-world applications of data warehouses.\\r\\nDive into data warehouse architecture and design, comparing traditional and modern architectures, mastering dimensional modeling, schema design principles, data partitioning, and indexing for optimal query performance.\\r\\nLearn about implementation, management, data quality, governance, security, and privacy. Gain practical experience with ETL processes, including data extraction, transformation, loading strategies, and automation.\\r\\nExplore various data warehousing tools and technologies, cloud versus on-premises solutions, data visualization, and reporting. Delve into advanced concepts such as real-time warehousing, data lakehouses, managing large datasets, and slowly changing dimensions.\\r\\nFinally, put your skills into practice through a capstone project, where you'll design, build, and monitor a complete data warehouse system. 31 Lessons  2 hours \\n        Fully Automated MLOps\\n       with Stefan Micic Master fully automated MLOps pipelines in this practical two-hour course. Begin with an overview of MLOps automation, exploring its evolution, benefits, challenges, and key components like data ingestion, model training, evaluation, and deployment strategies.\\r\\nDeepen your understanding with advanced topics including monitoring, drift detection, and retraining strategies. Explore essential tools and technologies such as open-source frameworks, cloud-based solutions, infrastructure as code, and feature stores.\\r\\nLearn from real-world case studies, including NLP model deployment automation and a price prediction pipeline. By the end, you'll confidently implement automated MLOps solutions in your own machine learning projects. 27 Lessons  2 hours \\n        Data Ingestion with pandas\"),\n",
       " Document(metadata={'source': 'https://365datascience.com/upcoming-courses', 'title': 'Upcoming Data Science Courses – 365 Data Science', 'description': 'Discover all the upcoming data science courses on machine learning, programming, math, statistics, and more in the 365 Data Science program. Start now!', 'language': 'en'}, page_content=\"Data Ingestion with pandas\\n       with Samson Afolabi Learn efficient data ingestion and processing techniques with Pandas in this comprehensive course. Start with importing data from flat files, mastering CSV handling, optimizing large file operations, and troubleshooting common errors.\\r\\nExplore Excel data ingestion, including working with dates, merging and appending files, interacting with Google Sheets, and handling Excel formulas. Dive into JSON data and APIs by learning to load, parse, and manage responses effectively.\\r\\nFinally, discover database connectivity, executing SQL queries, and integrating various ingestion libraries. Finish the course equipped with the skills to streamline your data workflows confidently using Pandas. 28 Lessons  1 hours \\n        Math for ML\\n       with Neha Bansal Unlock the mathematical foundations essential for machine learning and data science in this comprehensive course. Start with the fundamentals of data warehousing and move into crucial concepts like orthogonal projections, matrix decomposition (Cholesky, Eigen, SVD), and practical applications such as PCA and topic modeling.\\r\\nExplore vector calculus, understanding key concepts and their significance in machine learning, including gradient descent and stochastic gradient descent optimization techniques. Gain a deep understanding of vector calculus applications in neural networks and backpropagation.\\r\\nThis course combines theoretical knowledge with practical insights, equipping you with essential mathematical skills to confidently navigate advanced analytics, machine learning models, and algorithm development. 33 Lessons  2 hours \\n        Intro to Llama\\n       with Jaleed Khan, phd Master AI-powered text generation and large language models with this practical, hands-on course. Begin by exploring foundational concepts behind Transformers and large language models (LLMs), including structured and creative text generation, translation, summarization, and question answering.\\r\\nDevelop your expertise in prompt engineering and fine-tuning strategies, ensuring precise and effective AI outputs. Learn methods to evaluate model performance, address bias, and consider ethical implications.\\r\\nThrough real-world examples and interactive projects, gain the skills to effectively utilize, customize, and deploy advanced language models, preparing you for practical applications in AI-driven text generation. 33 Lessons  2 hours \\n        Deep Learning with PyTorch\\n       with Gaurav Sarkar  Explore the fundamentals of deep learning using PyTorch in this hands-on course. Understand why PyTorch is a leading framework for deep learning, learn essential concepts like tensors, device management (CPU vs GPU), and automatic differentiation.\\r\\nMaster the process of feeding data into neural network models, defining loss functions, and executing training loops. Apply your knowledge practically through guided projects, solving real-world regression and classification problems.\\r\\nBy the end, you'll confidently build and train your own neural networks using PyTorch. 12 Lessons  2 hours \\n        Copilot in Excel\\n       with Ivan Kitov Master the future of Excel with this hands-on course exploring Microsoft Copilot—an AI-powered assistant built directly into Excel. Whether you're a financial analyst, accountant, or an investment analyst, this course will help you transform the way you work with spreadsheets.\\r\\nLearn to communicate with Excel using natural language, automate tasks, analyze complex datasets, and uncover insights faster than ever before. From generating formulas and cleaning data to visualizing trends and running Python-powered simulations, you'll see how Copilot becomes your real-time productivity partner.\\r\\nWe’ll also cover advanced use cases like Monte Carlo simulations, portfolio optimization, and Profit & Loss (P&L) automation—proving that even the most complex tasks can be simplified with AI in your corner.\"),\n",
       " Document(metadata={'source': 'https://365datascience.com/upcoming-courses', 'title': 'Upcoming Data Science Courses – 365 Data Science', 'description': 'Discover all the upcoming data science courses on machine learning, programming, math, statistics, and more in the 365 Data Science program. Start now!', 'language': 'en'}, page_content=\"By the end of this course, you’ll know how to collaborate with Copilot like a pro—saving time, improving accuracy, and unlocking Excel’s full potential. 24 Lessons  2 hours \\n        Python Coding Interviews\\n       with Joy Harjanto Prepare effectively for your Python coding interviews with this focused, practical course. Quickly refresh essential Python basics, covering data manipulation, type conversions, and foundational data types.\\r\\nBuild strong control flow skills by mastering if/else statements, loops (for and while), and various sorting techniques. Solve realistic coding problems step-by-step, developing your ability to write efficient and logical Python code under interview conditions.\\r\\nGain confidence handling complex control flows, manipulating lists, dictionaries, and optimizing your approach to algorithmic problems, equipping you to excel in technical interviews. 15 Lessons  2 hours \\n        Intro to Microsoft Azure\\n       with Andrew Jones Begin your Azure Cloud journey with this practical, hands-on course designed to introduce you to essential Azure cloud concepts. Start by exploring cloud computing fundamentals, understanding Azure's hierarchy, and navigating the Azure portal with a trial account setup.\\r\\nGain practical skills in creating and managing storage solutions like Azure Blob Storage and databases such as Azure SQL and Cosmos DB. Explore compute options including Azure Virtual Desktop, and dive into powerful Data & AI services.\\r\\nUnderstand Azure's Messaging services and implement robust Identity and Access Management (IaM) and security practices. Master techniques for deploying, managing, and monitoring Azure resources, while also learning how to prevent hidden costs.\\r\\nConclude with insights and best practices to confidently leverage Azure Cloud in your projects.\\r\\n 17 Lessons  2 hours \\n        Intro to Hugging Face\\n       with Lauren Newbold Explore the power of Hugging Face and the Transformers library in this practical, hands-on course. Start by setting up your environment and discovering Hugging Face's tools and applications.\\r\\nGain foundational knowledge of pipelines for various NLP tasks, including text generation, classification, summarization, and more. Learn how to customize pipelines, manage tokenizers, handle padding, truncation, and understand encodings.\\r\\nMaster fine-tuning pretrained models with real-world datasets, leveraging Hugging Face’s datasets library for efficient training, evaluation, and inference. Advance your skills further by exploring image and audio tasks, including image classification, object detection, audio data preprocessing, and fine-tuning audio models.\\r\\nFinish the course equipped with comprehensive Hugging Face expertise, ready to build and deploy sophisticated NLP and multimodal AI applications. 48 Lessons  2 hours \\n        Econometrics\\n       with Gerhard Kling Gain practical skills in econometrics and regression analysis using Python with this comprehensive course. Begin by refreshing your Python fundamentals, including installation, IDE setup, variables, data types, and basic data handling.\\r\\nExplore core econometric concepts, distinguishing them from machine learning, and learn key analytical techniques such as descriptive analysis, regression modeling, handling transformations, and managing data effectively.\\r\\nMaster regression analysis, including implementation in Python, creating insightful regression tables, and understanding growth models. Apply these techniques in practical scenarios, such as analyzing the UK real estate market. By the end, you'll confidently interpret econometric results and implement robust regression analyses in Python. 31 Lessons  2 hours \\n        Building RAGs and Agentic Systems with LlamaIndex\"),\n",
       " Document(metadata={'source': 'https://365datascience.com/upcoming-courses', 'title': 'Upcoming Data Science Courses – 365 Data Science', 'description': 'Discover all the upcoming data science courses on machine learning, programming, math, statistics, and more in the 365 Data Science program. Start now!', 'language': 'en'}, page_content=\"Building RAGs and Agentic Systems with LlamaIndex\\n       with Madriss Seksaoui Master building advanced data-driven applications using LlamaIndex in this practical course. Start by setting up your environment and exploring core concepts, then learn data ingestion, indexing, and embedding techniques.\\r\\nDevelop powerful query pipelines and Retrieval-Augmented Generation (RAG) systems, optimizing performance through debugging and observability. Delve into agentic systems by creating single-agent and multi-agent workflows, managing branching, looping, and concurrent execution.\\r\\nFinally, apply your skills by constructing a domain-specific Q&A agent, gaining hands-on experience to confidently build and deploy intelligent agent systems.\\r\\n 18 Lessons  1 hours \\n        Intro to Google Cloud\\n       with Samantha Guerriero Embark on your Google Cloud learning journey in this comprehensive course designed to equip you with essential cloud skills. Start by exploring core cloud concepts, Google Cloud's offerings, and resource hierarchy, and get hands-on experience setting up your own cloud environment.\\r\\nLearn how to power applications with Google Cloud’s compute services including virtual machines, Kubernetes containers, and serverless deployments. Transform and analyze your data at scale using Cloud Storage, BigQuery, and Looker Studio dashboards.\\r\\nDive into Google Cloud's AI ecosystem, experiment with custom machine learning models, and explore cutting-edge GenAI solutions like Vertex AI Gemini. Strengthen your operations with secure IAM setups, cloud monitoring, cost optimization strategies, and developer-focused tools.\\r\\nWrap up with practical insights and real-world lessons to confidently continue your Google Cloud journey. 48 Lessons  2 hours \\n        AI Strategy\\n       with Bernard Marr This course provides a practical roadmap for harnessing AI as a transformative force in business. You'll gain strategic insights into AI’s evolution, impacts, and real-world applications, while learning how to craft, implement, and scale an effective AI strategy. Ideal for leaders and decision-makers, this course prepares you to navigate AI opportunities, manage risks, and position your organization for long-term competitive advantage in the AI-driven future. 25 Lessons  3 hours  \\n        Start Learning Today\\n       \\n        Kickstart your career with our top-notch courses by expert instructors and boost your job prospects with a 365 Data Science Certificate of Achievement.\\n        World-class instructors\\n       Exams testing your knowledge\\n       High-quality data science courses\\n       Certificate of achievement\\n       Motivational features based on game design\\n       \\n    Sign Up to Continue\\n      Continue with Google\\n    Continue with Google\\n    Continue with Facebook\\n    Continue with LinkedIn\\n    Continue with email\\n       \\n    By continuing, you agree to 365 Data Science’s\\n    Terms of Use\\n    and\\n    Privacy Policy \\n      Already have an account?\\n      \\n        Log In\\n           \\n          All the Data Science Courses You Need\\n          \\n                About\\n               \\n                    About Us\\n                  \\n                    Meet the Instructors\\n                  \\n                    Become an Instructor\\n                  \\n                    Contact Us\\n                  \\n                    Pricing\\n                  \\n                Learn\\n               \\n                    Courses\\n                  \\n                    Career tracks\\n                  \\n                    Career Certificate\\n                  \\n                    Course Certificate\\n                  \\n                Resources\\n               \\n                    Course Notes\\n                  \\n                    Templates\\n                  \\n                    Career Guides\\n                  \\n                    Practice exams\\n                  \\n                    Calculators\\n                  \\n                    Flashcards\"),\n",
       " Document(metadata={'source': 'https://365datascience.com/upcoming-courses', 'title': 'Upcoming Data Science Courses – 365 Data Science', 'description': 'Discover all the upcoming data science courses on machine learning, programming, math, statistics, and more in the 365 Data Science program. Start now!', 'language': 'en'}, page_content='Practice exams\\n                  \\n                    Calculators\\n                  \\n                    Flashcards\\n                  \\n                    Blog\\n                  \\n                Platform\\n               \\n                    Success stories\\n                  \\n                    Q&A Hub\\n                  \\n                    Help Center\\n                  \\n                    Verify Certificate\\n                   \\n          © 2025 365 Data Science. All Rights Reserved.\\n         \\n            Sitemap\\n           \\n            Terms of Use\\n           \\n            Privacy Policy\\n           \\n            Cookies')]"
      ]
     },
     "execution_count": 318,
     "metadata": {},
     "output_type": "execute_result"
    }
   ],
   "source": [
    "documents"
   ]
  },
  {
   "cell_type": "code",
   "execution_count": 304,
   "id": "cc8155ed-479e-455c-adb3-db3ae2835dec",
   "metadata": {},
   "outputs": [],
   "source": [
    "embeddings = OpenAIEmbeddings(api_key=api_key)"
   ]
  },
  {
   "cell_type": "code",
   "execution_count": 306,
   "id": "236a9488-c187-4c4a-bb15-25fdfa68fd37",
   "metadata": {},
   "outputs": [],
   "source": [
    "vectorstore = FAISS.from_documents(documents, embeddings)"
   ]
  },
  {
   "cell_type": "code",
   "execution_count": 307,
   "id": "90b44da0-51fd-40ff-ae35-1ca54fe61ed4",
   "metadata": {},
   "outputs": [],
   "source": [
    "memory = ConversationBufferMemory(memory_key=\"chat_history\", return_messages=True)"
   ]
  },
  {
   "cell_type": "code",
   "execution_count": 310,
   "id": "9a9789e8-d49c-4d59-a28c-f302eafd8229",
   "metadata": {},
   "outputs": [],
   "source": [
    "qa = ConversationalRetrievalChain.from_llm(ChatOpenAI(api_key=api_key,\n",
    "                                                      model = 'gpt-4o-mini',\n",
    "                                                      temperature=0),\n",
    "                                           vectorstore.as_retriever(),\n",
    "                                           memory=memory)"
   ]
  },
  {
   "cell_type": "code",
   "execution_count": 312,
   "id": "f2ea55a3-3d6e-42f8-93e8-5a3d683dbd79",
   "metadata": {},
   "outputs": [],
   "source": [
    "query = \"What is the next course to be uploaded on the 365DataScience platform ?\""
   ]
  },
  {
   "cell_type": "code",
   "execution_count": 314,
   "id": "a3d8fe2b-b657-414a-b11d-186aea0d418f",
   "metadata": {},
   "outputs": [],
   "source": [
    "result = qa.invoke({\"question\": query})"
   ]
  },
  {
   "cell_type": "code",
   "execution_count": 316,
   "id": "5f2a6084-deaa-48a7-869a-2e5e4d0f1865",
   "metadata": {},
   "outputs": [
    {
     "data": {
      "text/plain": [
       "'The next course to be uploaded on the 365 Data Science platform is \"AI Ethics\" with Ned Krastev, which is set to launch in March 2025.'"
      ]
     },
     "execution_count": 316,
     "metadata": {},
     "output_type": "execute_result"
    }
   ],
   "source": [
    "result['answer']"
   ]
  }
 ],
 "metadata": {
  "kernelspec": {
   "display_name": "Python [conda env:base] *",
   "language": "python",
   "name": "conda-base-py"
  },
  "language_info": {
   "codemirror_mode": {
    "name": "ipython",
    "version": 3
   },
   "file_extension": ".py",
   "mimetype": "text/x-python",
   "name": "python",
   "nbconvert_exporter": "python",
   "pygments_lexer": "ipython3",
   "version": "3.12.7"
  }
 },
 "nbformat": 4,
 "nbformat_minor": 5
}
