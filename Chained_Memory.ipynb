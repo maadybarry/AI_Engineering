{
 "cells": [
  {
   "cell_type": "code",
   "execution_count": 1,
   "id": "3e8063d4-9bd7-498e-baca-7f1faec3d8f5",
   "metadata": {},
   "outputs": [],
   "source": [
    "%load_ext dotenv\n",
    "%dotenv"
   ]
  },
  {
   "cell_type": "code",
   "execution_count": 57,
   "id": "0f48a045-873f-4996-9867-898737d98e08",
   "metadata": {},
   "outputs": [],
   "source": [
    "from langchain_openai.chat_models import ChatOpenAI\n",
    "from langchain_core.runnables import RunnableLambda, RunnablePassthrough, chain\n",
    "from langchain.memory import ConversationSummaryMemory\n",
    "from langchain.prompts import PromptTemplate\n",
    "from langchain_core.output_parsers import StrOutputParser\n",
    "from operator import itemgetter"
   ]
  },
  {
   "cell_type": "code",
   "execution_count": 23,
   "id": "c4cadf7c-2c74-4685-976a-78cdae2c5261",
   "metadata": {},
   "outputs": [],
   "source": [
    "TEMPLATE='''\n",
    "This is a friendly conversation between an AI and Human. Below is the summary of the conversation so far for context.\n",
    "If the AI doesn't know the anwser it says it doesn't know and always be polite and nice to the Human.\n",
    "\n",
    "Conversation summary:\n",
    "{message_log}\n",
    "\n",
    "Human:\n",
    "{question}\n",
    "\n",
    "AI:\n",
    "'''\n",
    "\n",
    "prompt_template = PromptTemplate.from_template(template=TEMPLATE)"
   ]
  },
  {
   "cell_type": "code",
   "execution_count": 25,
   "id": "4ca3f1ef-d994-4d85-9fc3-f173719359b8",
   "metadata": {},
   "outputs": [],
   "source": [
    "model = ChatOpenAI(\n",
    "    model='gpt-4o-mini',\n",
    "    temperature=0,\n",
    "    seed=10,\n",
    "    max_completion_tokens=150\n",
    ")"
   ]
  },
  {
   "cell_type": "code",
   "execution_count": 121,
   "id": "9c3dc325-7786-452d-b80a-d1966db1f30a",
   "metadata": {},
   "outputs": [],
   "source": [
    "memory = ConversationSummaryMemory(\n",
    "    llm=model,\n",
    "    memory_key='message_log',\n",
    "    return_messages=False\n",
    ")"
   ]
  },
  {
   "cell_type": "code",
   "execution_count": 31,
   "id": "62503e0f-9512-4cf4-864c-0902e33f8d16",
   "metadata": {},
   "outputs": [],
   "source": [
    "str_parser = StrOutputParser()"
   ]
  },
  {
   "cell_type": "code",
   "execution_count": 33,
   "id": "8a5be4f3-fbe4-4569-b7bd-4088b9ce852a",
   "metadata": {},
   "outputs": [
    {
     "data": {
      "text/plain": [
       "{'question': 'Can you tell me an interesting fact?'}"
      ]
     },
     "execution_count": 33,
     "metadata": {},
     "output_type": "execute_result"
    }
   ],
   "source": [
    "RunnablePassthrough().invoke({'question':'Can you tell me an interesting fact?'})"
   ]
  },
  {
   "cell_type": "code",
   "execution_count": 59,
   "id": "f4c30d29-4a68-4238-8910-66573687a462",
   "metadata": {},
   "outputs": [
    {
     "data": {
      "text/plain": [
       "{'question': 'Can you tell me an interesting fact?', 'message_log': ''}"
      ]
     },
     "execution_count": 59,
     "metadata": {},
     "output_type": "execute_result"
    }
   ],
   "source": [
    "RunnablePassthrough.assign(message_log = RunnableLambda(memory.load_memory_variables) | itemgetter('message_log')).invoke({'question':'Can you tell me an interesting fact?'})"
   ]
  },
  {
   "cell_type": "code",
   "execution_count": 119,
   "id": "f49367d3-1ea9-4b8b-9272-48c64cec5ca9",
   "metadata": {},
   "outputs": [],
   "source": [
    "@chain\n",
    "def memory_chain(question):\n",
    "    chain = (\n",
    "        RunnablePassthrough.assign(\n",
    "            message_log = RunnableLambda(memory.load_memory_variables) | itemgetter('message_log')\n",
    "        )\n",
    "        | prompt_template\n",
    "        | model\n",
    "        | str_parser\n",
    "    )\n",
    "\n",
    "    response = chain.invoke({'question': question})\n",
    "\n",
    "    memory.save_context(inputs={'input':question},outputs={'output':response})\n",
    "    \n",
    "    return response"
   ]
  },
  {
   "cell_type": "code",
   "execution_count": 125,
   "id": "894e060c-e767-44b4-8ac3-d4fc1cf0398e",
   "metadata": {},
   "outputs": [
    {
     "data": {
      "text/plain": [
       "\"Sure! Another interesting fact about Dubai is that it has the world's largest shopping mall, the Dubai Mall. It features over 1,200 retail stores, an indoor ice rink, an aquarium, and even a virtual reality park! It's not just a shopping destination; it's a complete entertainment experience.\""
      ]
     },
     "execution_count": 125,
     "metadata": {},
     "output_type": "execute_result"
    }
   ],
   "source": [
    "memory_chain.invoke('can you give me more interesting fact about dubai?')"
   ]
  },
  {
   "cell_type": "code",
   "execution_count": 127,
   "id": "8eb98e04-1061-4456-a913-a4d6112c1b00",
   "metadata": {},
   "outputs": [
    {
     "data": {
      "text/plain": [
       "\"The Dubai Mall is truly a remarkable destination! It spans over 1.1 million square meters, making it one of the largest shopping malls in the world. In addition to its vast array of retail stores, it offers a variety of attractions. For instance, the Dubai Aquarium & Underwater Zoo is one of the largest suspended aquariums globally, featuring thousands of marine animals. \\n\\nThere's also an indoor theme park called VR Park, which offers virtual reality experiences and rides. The mall is home to numerous dining options, ranging from casual eateries to fine dining restaurants, and it even has a cinema complex. Plus, visitors can enjoy the stunning Dubai Fountain show outside, which features choreographed water displays set to music. It's a fantastic place to shop,\""
      ]
     },
     "execution_count": 127,
     "metadata": {},
     "output_type": "execute_result"
    }
   ],
   "source": [
    "memory_chain.invoke('tell me more about the mall you are refering to')"
   ]
  },
  {
   "cell_type": "code",
   "execution_count": 129,
   "id": "5574dd68-404f-4493-a02e-41367952c6b6",
   "metadata": {},
   "outputs": [
    {
     "data": {
      "text/plain": [
       "'Sure! Here’s a list of must-visit places in Dubai:\\n\\n1. **Burj Khalifa** - Visit the observation decks for breathtaking views of the city.\\n2. **Dubai Mall** - Explore the vast shopping options, aquarium, and entertainment facilities.\\n3. **Dubai Fountain** - Enjoy the spectacular water and light show set to music.\\n4. **Palm Jumeirah** - Take a stroll or relax on the beach at this iconic man-made island.\\n5. **Dubai Marina** - Experience the vibrant waterfront with dining, shopping, and leisure activities.\\n6. **Old Dubai (Al Fahidi Historical Neighborhood)** - Discover the rich history and culture of the city.\\n7. **Dubai Miracle Garden** - Marvel at the stunning'"
      ]
     },
     "execution_count": 129,
     "metadata": {},
     "output_type": "execute_result"
    }
   ],
   "source": [
    "memory_chain.invoke('create a list of places I have to visit please')"
   ]
  }
 ],
 "metadata": {
  "kernelspec": {
   "display_name": "langchain_env",
   "language": "python",
   "name": "langchain_env"
  },
  "language_info": {
   "codemirror_mode": {
    "name": "ipython",
    "version": 3
   },
   "file_extension": ".py",
   "mimetype": "text/x-python",
   "name": "python",
   "nbconvert_exporter": "python",
   "pygments_lexer": "ipython3",
   "version": "3.12.9"
  }
 },
 "nbformat": 4,
 "nbformat_minor": 5
}
