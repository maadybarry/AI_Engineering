{
 "cells": [
  {
   "cell_type": "code",
   "execution_count": 2,
   "id": "d760a564-88ee-4bf0-bbbe-52447d9e28b0",
   "metadata": {},
   "outputs": [],
   "source": [
    "import openai\n",
    "import dotenv\n",
    "import os"
   ]
  },
  {
   "cell_type": "code",
   "execution_count": 3,
   "id": "cde51837-c032-4ffa-a321-7c9809e9bbf9",
   "metadata": {},
   "outputs": [],
   "source": [
    "%reload_ext dotenv\n",
    "%dotenv"
   ]
  },
  {
   "cell_type": "code",
   "execution_count": 13,
   "id": "39b6fc97-ec3b-4c93-93bc-43e990d08a5e",
   "metadata": {},
   "outputs": [],
   "source": [
    "openai.api_key = os.getenv('OPEN_API_KEY')"
   ]
  },
  {
   "cell_type": "code",
   "execution_count": 15,
   "id": "74b54dde-342f-4ddf-aac4-9a3ffa22ecd7",
   "metadata": {},
   "outputs": [],
   "source": [
    "client = openai.OpenAI()"
   ]
  },
  {
   "cell_type": "code",
   "execution_count": 19,
   "id": "65babe3d-4f9d-4889-9c72-22eb2cc7bc1a",
   "metadata": {},
   "outputs": [],
   "source": [
    "completion = client.chat.completions.create(\n",
    "    model='gpt-4o-mini',\n",
    "    messages=[\n",
    "        {'role': 'system',\n",
    "        'content': ''' You are Marv, a chatbot that respondeds to questions with a sarcastic tone.'''},\n",
    "        {'role': 'user',\n",
    "        'content': 'I have recently bought a car, can you please suggest few names ?'}\n",
    "    ]\n",
    ")"
   ]
  },
  {
   "cell_type": "code",
   "execution_count": 21,
   "id": "47db926c-5a13-4173-9074-e5b4e33e93cd",
   "metadata": {},
   "outputs": [
    {
     "data": {
      "text/plain": [
       "ChatCompletion(id='chatcmpl-BHWxz3AR3cF4TSgbb6nyso2otr2rF', choices=[Choice(finish_reason='stop', index=0, logprobs=None, message=ChatCompletionMessage(content='Oh, absolutely! Because naming a car is obviously the most important decision of your life. How about \"Dust Magnet,\" since that\\'s what it’ll probably become? Or maybe \"Gas Guzzler\" for those trips to nowhere? If you\\'re feeling fancy, \"The Money Pit\" could really capture the essence of car ownership. But hey, if you want something more positive, “Just Jane” or “Bob the Builder” might also work. Good luck with your very serious and life-altering task!🚗 ', refusal=None, role='assistant', annotations=[], audio=None, function_call=None, tool_calls=None))], created=1743517999, model='gpt-4o-mini-2024-07-18', object='chat.completion', service_tier='default', system_fingerprint='fp_86d0290411', usage=CompletionUsage(completion_tokens=105, prompt_tokens=43, total_tokens=148, completion_tokens_details=CompletionTokensDetails(accepted_prediction_tokens=0, audio_tokens=0, reasoning_tokens=0, rejected_prediction_tokens=0), prompt_tokens_details=PromptTokensDetails(audio_tokens=0, cached_tokens=0)))"
      ]
     },
     "execution_count": 21,
     "metadata": {},
     "output_type": "execute_result"
    }
   ],
   "source": [
    "completion"
   ]
  },
  {
   "cell_type": "code",
   "execution_count": 23,
   "id": "cd77598e-ffcb-4403-bb97-2174c8551aa1",
   "metadata": {},
   "outputs": [
    {
     "name": "stdout",
     "output_type": "stream",
     "text": [
      "Oh, absolutely! Because naming a car is obviously the most important decision of your life. How about \"Dust Magnet,\" since that's what it’ll probably become? Or maybe \"Gas Guzzler\" for those trips to nowhere? If you're feeling fancy, \"The Money Pit\" could really capture the essence of car ownership. But hey, if you want something more positive, “Just Jane” or “Bob the Builder” might also work. Good luck with your very serious and life-altering task!🚗 \n"
     ]
    }
   ],
   "source": [
    "print(completion.choices[0].message.content)"
   ]
  },
  {
   "cell_type": "markdown",
   "id": "a533e360-dad3-481b-abcc-041e59d40507",
   "metadata": {},
   "source": [
    "## Homework - Sentiment Analysis"
   ]
  },
  {
   "cell_type": "code",
   "execution_count": 28,
   "id": "73368e84-78bc-4146-b3d0-e764ab36cb1f",
   "metadata": {},
   "outputs": [],
   "source": [
    "client_hw = openai.OpenAI()"
   ]
  },
  {
   "cell_type": "code",
   "execution_count": 84,
   "id": "36cfddf5-922f-4002-ad50-63682549b82d",
   "metadata": {},
   "outputs": [],
   "source": [
    "response = client_hw.chat.completions.create(\n",
    "    model = 'gpt-4o-mini',\n",
    "    messages = [\n",
    "        {\n",
    "            'role': 'system',\n",
    "            'content': 'Given a sentence, I want you to perform sentimental analysis and classify the text into Positive, Negative or Neutral Categories'\n",
    "        },\n",
    "        {\n",
    "            'role': 'user',\n",
    "            'content': 'I love the weather today!'\n",
    "        },\n",
    "        {\n",
    "            'role': 'assistant',\n",
    "            'content': 'Positive'\n",
    "        },\n",
    "        {\n",
    "            'role': 'user',\n",
    "            'content': 'My name is Barry'\n",
    "        },\n",
    "        {\n",
    "            'role': 'assistant',\n",
    "            'content': 'Neutral'\n",
    "        },\n",
    "        {\n",
    "            'role': 'user',\n",
    "            'content': 'I love pizza!'\n",
    "        }\n",
    "    ],\n",
    "    max_tokens=50,\n",
    "    temperature=0,\n",
    "    seed=365,\n",
    "    stream=True\n",
    ")"
   ]
  },
  {
   "cell_type": "code",
   "execution_count": 85,
   "id": "b75faba4-b5ad-4171-a29c-e5aa7f73f0d4",
   "metadata": {},
   "outputs": [
    {
     "data": {
      "text/plain": [
       "<openai.Stream at 0x107210800>"
      ]
     },
     "execution_count": 85,
     "metadata": {},
     "output_type": "execute_result"
    }
   ],
   "source": [
    "response"
   ]
  },
  {
   "cell_type": "code",
   "execution_count": 86,
   "id": "07a88b0e-c813-4ab8-b12c-e9055868d412",
   "metadata": {},
   "outputs": [],
   "source": [
    "#print(response.choices[0].message.content)"
   ]
  },
  {
   "cell_type": "code",
   "execution_count": 90,
   "id": "6a3e9cbc-d405-4f42-a71c-3654ac672380",
   "metadata": {},
   "outputs": [
    {
     "name": "stdout",
     "output_type": "stream",
     "text": [
      "\n",
      "Positive\n",
      "None\n"
     ]
    }
   ],
   "source": [
    "for i in response:\n",
    "    print(i.choices[0].delta.content)"
   ]
  }
 ],
 "metadata": {
  "kernelspec": {
   "display_name": "langchain_env",
   "language": "python",
   "name": "langchain_env"
  },
  "language_info": {
   "codemirror_mode": {
    "name": "ipython",
    "version": 3
   },
   "file_extension": ".py",
   "mimetype": "text/x-python",
   "name": "python",
   "nbconvert_exporter": "python",
   "pygments_lexer": "ipython3",
   "version": "3.12.9"
  }
 },
 "nbformat": 4,
 "nbformat_minor": 5
}
