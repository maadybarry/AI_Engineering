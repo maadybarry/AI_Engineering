{
 "cells": [
  {
   "cell_type": "code",
   "execution_count": 2,
   "id": "84565ef1-b420-4e46-b8aa-1d6429f44871",
   "metadata": {},
   "outputs": [],
   "source": [
    "%load_ext dotenv\n",
    "%dotenv"
   ]
  },
  {
   "cell_type": "code",
   "execution_count": 127,
   "id": "3efc8dee-cbcf-404c-9ecb-327c0b31df2f",
   "metadata": {},
   "outputs": [],
   "source": [
    "from langchain_core.prompts import PromptTemplate\n",
    "from langchain_openai import ChatOpenAI, OpenAIEmbeddings\n",
    "from langchain_core.output_parsers import StrOutputParser\n",
    "\n",
    "from langchain_community.utilities import WikipediaAPIWrapper\n",
    "from langchain_community.tools import WikipediaQueryRun\n",
    "\n",
    "from langchain_chroma import Chroma\n",
    "from langchain_core.tools import tool\n",
    "from langchain_core.tools import create_retriever_tool\n",
    "\n",
    "from langchain import hub\n",
    "from langchain.agents import AgentExecutor, create_tool_calling_agent\n",
    "\n",
    "from platform import python_version"
   ]
  },
  {
   "cell_type": "code",
   "execution_count": 6,
   "id": "f38b5762-6889-4573-a86e-55790ce3673a",
   "metadata": {},
   "outputs": [],
   "source": [
    "wikipedia_api = WikipediaAPIWrapper()"
   ]
  },
  {
   "cell_type": "code",
   "execution_count": 26,
   "id": "32705ef2-7729-470b-9846-f467767d7c03",
   "metadata": {},
   "outputs": [
    {
     "name": "stdout",
     "output_type": "stream",
     "text": [
      "Page: Python (programming language)\n",
      "Summary: Python is a high-level, general-purpose programming language. Its design philosophy emphasizes code readability with the use of significant indentation.\n",
      "Python is dynamically type-checked and garbage-collected. It supports multiple programming paradigms, including structured (particularly procedural), object-oriented and functional programming. It is often described as a \"batteries included\" language due to its comprehensive standard library.\n",
      "Guido van Rossum began working on Python in the late 1980s as a successor to the ABC programming language and first released it in 1991 as Python 0.9.0. Python 2.0 was released in 2000. Python 3.0, released in 2008, was a major revision not completely backward-compatible with earlier versions. Python 2.7.18, released in 2020, was the last release of Python 2.\n",
      "Python consistently ranks as one of the most popular programming languages, and has gained widespread use in the machine learning community.\n",
      "\n",
      "\n",
      "\n",
      "Page: Monty Python\n",
      "Summary: Monty Python (also collectively known as the Pythons) were a British comedy troupe formed in 1969 consisting of Graham Chapman, John Cleese, Terry Gilliam, Eric Idle, Terry Jones and Michael Palin. The group came to prominence for the sketch comedy series Monty Python's Flying Circus, which aired on the BBC from 1969 to 1974. Their work then developed into a larger collection that included live shows, films, albums, books, and musicals; their influence on comedy has been compared to the Beatles' influence on music. Their sketch show has been called \"an important moment in the evolution of television comedy\".\n",
      "Monty Python's Flying Circus was loosely structured as a sketch show, but its innovative stream-of-consciousness approach and Gilliam's animation skills pushed the boundaries of what was acceptable in style and content. A self-contained comedy unit, the Pythons had creative control that allowed them to experiment with form and content, discarding rules of television comedy. They followed their television work by making  the films Monty Python and the Holy Grail (1975), Life of Brian (1979), and The Meaning of Life (1983). Their influence on British comedy has been apparent for years, while it has coloured the work of the early editions of Saturday Night Live through to absurdist trends in television comedy.\n",
      "At the 41st British Academy Film Awards in 1988, Monty Python received the BAFTA Award for Outstanding British Contribution to Cinema. In 1998, they were awarded the AFI Star Award by the American Film Institute. Holy Grail and Life of Brian are frequently ranked on lists of the greatest comedy films. A 2005 poll asked more than 300 comedians, comedy writers, producers, and directors to name the greatest comedians of all time, and half of Monty Python's members made the top 50.\n",
      "\n",
      "\n"
     ]
    }
   ],
   "source": [
    "print(wikipedia_api.run('python'))"
   ]
  },
  {
   "cell_type": "code",
   "execution_count": 34,
   "id": "156f5fb3-2d06-4f72-b632-afafb0c88839",
   "metadata": {},
   "outputs": [],
   "source": [
    "wikipedia_tool = WikipediaQueryRun(api_wrapper=wikipedia_api)"
   ]
  },
  {
   "cell_type": "code",
   "execution_count": 36,
   "id": "3cdf8ca3-3e22-46fa-884f-792118354cb3",
   "metadata": {},
   "outputs": [
    {
     "name": "stderr",
     "output_type": "stream",
     "text": [
      "/opt/anaconda3/envs/langchain_env/lib/python3.12/site-packages/wikipedia/wikipedia.py:389: GuessedAtParserWarning: No parser was explicitly specified, so I'm using the best available HTML parser for this system (\"html.parser\"). This usually isn't a problem, but if you run this code on another system, or in a different virtual environment, it may use a different parser and behave differently.\n",
      "\n",
      "The code that caused this warning is on line 389 of the file /opt/anaconda3/envs/langchain_env/lib/python3.12/site-packages/wikipedia/wikipedia.py. To get rid of this warning, pass the additional argument 'features=\"html.parser\"' to the BeautifulSoup constructor.\n",
      "\n",
      "  lis = BeautifulSoup(html).find_all('li')\n"
     ]
    },
    {
     "data": {
      "text/plain": [
       "'Page: Python (programming language)\\nSummary: Python is a high-level, general-purpose programming language. Its design philosophy emphasizes code readability with the use of significant indentation.\\nPython is dynamically type-checked and garbage-collected. It supports multiple programming paradigms, including structured (particularly procedural), object-oriented and functional programming. It is often described as a \"batteries included\" language due to its comprehensive standard library.\\nGuido van Rossum began working on Python in the late 1980s as a successor to the ABC programming language and first released it in 1991 as Python 0.9.0. Python 2.0 was released in 2000. Python 3.0, released in 2008, was a major revision not completely backward-compatible with earlier versions. Python 2.7.18, released in 2020, was the last release of Python 2.\\nPython consistently ranks as one of the most popular programming languages, and has gained widespread use in the machine learning community.\\n\\n\\n\\nPage: Monty Python\\nSummary: Monty Python (also collectively known as the Pythons) were a British comedy troupe formed in 1969 consisting of Graham Chapman, John Cleese, Terry Gilliam, Eric Idle, Terry Jones and Michael Palin. The group came to prominence for the sketch comedy series Monty Python\\'s Flying Circus, which aired on the BBC from 1969 to 1974. Their work then developed into a larger collection that included live shows, films, albums, books, and musicals; their influence on comedy has been compared to the Beatles\\' influence on music. Their sketch show has been called \"an important moment in the evolution of television comedy\".\\nMonty Python\\'s Flying Circus was loosely structured as a sketch show, but its innovative stream-of-consciousness approach and Gilliam\\'s animation skills pushed the boundaries of what was acceptable in style and content. A self-contained comedy unit, the Pythons had creative control that allowed them to experiment with form and content, discarding rules of television comedy. They followed their television work by making  the films Monty Python and the Holy Grail (1975), Life of Brian (1979), and The Meaning of Life (1983). Their influence on British comedy has been apparent for years, while it has coloured the work of the early editions of Saturday Night Live through to absurdist trends in television comedy.\\nAt the 41st British Academy Film Awards in 1988, Monty Python received the BAFTA Award for Outstanding British Contribution to Cinema. In 1998, they were awarded the AFI Star Award by the American Film Institute. Holy Grail and Life of Brian are frequently ranked on lists of the greatest comedy films. A 2005 poll asked more than 300 comedians, comedy writers, producers, and directors to name the greatest comedians of all time, and half of Monty Python\\'s members made the top 50.\\n\\n'"
      ]
     },
     "execution_count": 36,
     "metadata": {},
     "output_type": "execute_result"
    }
   ],
   "source": [
    "wikipedia_tool.invoke('python')"
   ]
  },
  {
   "cell_type": "code",
   "execution_count": 58,
   "id": "93263dfe-e9e9-439a-be59-b41e6df76bee",
   "metadata": {},
   "outputs": [],
   "source": [
    "TEMPLATE = '''\n",
    "Convert the question from the user into a wikipedia search query. DO NOT answer the question.\n",
    "\n",
    "{question}\n",
    "'''\n",
    "\n",
    "prompt_template = PromptTemplate.from_template(template=TEMPLATE)"
   ]
  },
  {
   "cell_type": "code",
   "execution_count": 60,
   "id": "fee9cde7-7673-4373-8de1-64e3ac03edcd",
   "metadata": {},
   "outputs": [],
   "source": [
    "llm = ChatOpenAI(\n",
    "    model='gpt-4o-mini',\n",
    "    temperature=0,\n",
    "    max_completion_tokens=200\n",
    ")"
   ]
  },
  {
   "cell_type": "code",
   "execution_count": 68,
   "id": "9eae64f3-b60f-4096-9387-26879258c5cc",
   "metadata": {},
   "outputs": [],
   "source": [
    "chain = prompt_template | llm | StrOutputParser() | wikipedia_tool"
   ]
  },
  {
   "cell_type": "code",
   "execution_count": 72,
   "id": "f55aee45-4167-4e06-a683-2a69a4a72dc3",
   "metadata": {},
   "outputs": [
    {
     "data": {
      "text/plain": [
       "'Page: Guido van Rossum\\nSummary: Guido van Rossum (Dutch: [ˈxidoː vɑn ˈrɔsʏm]; born 31 January 1956) is a Dutch programmer. He is the creator of the Python programming language, for which he was the \"benevolent dictator for life\" (BDFL) until he stepped down from the position on 12 July 2018. He remained a member of the Python Steering Council through 2019, and withdrew from nominations for the 2020 election.\\n\\n\\n\\nPage: Python (programming language)\\nSummary: Python is a high-level, general-purpose programming language. Its design philosophy emphasizes code readability with the use of significant indentation.\\nPython is dynamically type-checked and garbage-collected. It supports multiple programming paradigms, including structured (particularly procedural), object-oriented and functional programming. It is often described as a \"batteries included\" language due to its comprehensive standard library.\\nGuido van Rossum began working on Python in the late 1980s as a successor to the ABC programming language and first released it in 1991 as Python 0.9.0. Python 2.0 was released in 2000. Python 3.0, released in 2008, was a major revision not completely backward-compatible with earlier versions. Python 2.7.18, released in 2020, was the last release of Python 2.\\nPython consistently ranks as one of the most popular programming languages, and has gained widespread use in the machine learning community.\\n\\n\\n\\nPage: Monty Python\\nSummary: Monty Python (also collectively known as the Pythons) were a British comedy troupe formed in 1969 consisting of Graham Chapman, John Cleese, Terry Gilliam, Eric Idle, Terry Jones and Michael Palin. The group came to prominence for the sketch comedy series Monty Python\\'s Flying Circus, which aired on the BBC from 1969 to 1974. Their work then developed into a larger collection that included live shows, films, albums, books, and musicals; their influence on comedy has been compared to the Beatles\\' influence on music. Their sketch show has been called \"an important moment in the evolution of television comedy\".\\nMonty Python\\'s Flying Circus was loosely structured as a sketch show, but its innovative stream-of-consciousness approach and Gilliam\\'s animation skills pushed the boundaries of what was acceptable in style and content. A self-contained comedy unit, the Pythons had creative control that allowed them to experiment with form and content, discarding rules of television comedy. They followed their television work by making  the films Monty Python and the Holy Grail (1975), Life of Brian (1979), and The Meaning of Life (1983). Their influence on British comedy has been apparent for years, while it has coloured the work of the early editions of Saturday Night Live through to absurdist trends in television comedy.\\nAt the 41st British Academy Film Awards in 1988, Monty Python received the BAFTA Award for Outstanding British Contribution to Cinema. In 1998, they were awarded the AFI Star Award by the American Film Institute. Holy Grail and Life of Brian are frequently ranked on lists of the greatest comedy films. A 2005 poll asked more than 300 comedians, comedy writers, producers, and directors to name the greatest comedians of all time, and half of Monty Python\\'s members made the top 50.\\n\\n'"
      ]
     },
     "execution_count": 72,
     "metadata": {},
     "output_type": "execute_result"
    }
   ],
   "source": [
    "chain.invoke({'question':'Who was the creator of python?'})"
   ]
  },
  {
   "cell_type": "code",
   "execution_count": 76,
   "id": "5e7aa0ea-e612-4487-b54b-647683b50e69",
   "metadata": {},
   "outputs": [],
   "source": [
    "embedding = OpenAIEmbeddings(model='text-embedding-ada-002')"
   ]
  },
  {
   "cell_type": "code",
   "execution_count": 78,
   "id": "2e0ed56f-b4c7-4e7a-9d5e-5998c76347cf",
   "metadata": {},
   "outputs": [],
   "source": [
    "vectorstore = Chroma(persist_directory='./vector_db',embedding_function=embedding)"
   ]
  },
  {
   "cell_type": "code",
   "execution_count": 82,
   "id": "0d3ce00a-1484-4aa1-99a1-047a73a2de95",
   "metadata": {},
   "outputs": [
    {
     "data": {
      "text/plain": [
       "VectorStoreRetriever(tags=['Chroma', 'OpenAIEmbeddings'], vectorstore=<langchain_chroma.vectorstores.Chroma object at 0x117c597c0>, search_type='mmr', search_kwargs={'k': 3, 'lambda_multi': 0.7})"
      ]
     },
     "execution_count": 82,
     "metadata": {},
     "output_type": "execute_result"
    }
   ],
   "source": [
    "retriver = vectorstore.as_retriever(search_type = 'mmr', search_kwargs={'k':3,'lambda_multi':0.7})\n",
    "retriver"
   ]
  },
  {
   "cell_type": "code",
   "execution_count": 86,
   "id": "89e3bfa3-f2c8-4188-a362-56cb0fec24e6",
   "metadata": {},
   "outputs": [
    {
     "data": {
      "text/plain": [
       "[Document(id='fee6d2f3-7028-4ba6-8112-31cb32abc434', metadata={'course title': 'Data Analytics Course', 'module title': 'Programming Languages & Software Employed in Data Science - All the Tools You Need'}, page_content='As you can see from the infographic, R, and Python are the two most popular tools across all columns. Their biggest advantage is that they can manipulate data and are integrated within multiple data and data science software platforms. They are not just suitable for mathematical and statistical computations. In other words, R, and Python are adaptable. They can solve a wide variety of business and data-related problems from beginning to the end'),\n",
       " Document(id='d7780371-ba9d-412d-941c-473e01924b40', metadata={'course title': 'Data Analytics Course', 'module title': 'Programming Languages & Software Employed in Data Science - All the Tools You Need'}, page_content='Among the many applications we have plotted, we can say there is an increasing amount of software designed for working with big data such as Apache Hadoop, Apache Hbase, and Mongo DB. In terms of big data, Hadoop is the name that must stick with you. Hadoop is listed as a software in the sense that it is a collection of programs, but don’t imagine it as a nice-looking application'),\n",
       " Document(id='76e50d43-21ca-4b48-91a3-131c069b567d', metadata={'course title': 'Data Analytics Course', 'module title': 'Programming Languages & Software Employed in Data Science - All the Tools You Need'}, page_content='Great! We hope we gave you a good idea about the level of applicability of the most frequently used programming and software tools in the field of data science. Thank you for watching!')]"
      ]
     },
     "execution_count": 86,
     "metadata": {},
     "output_type": "execute_result"
    }
   ],
   "source": [
    "retriver.invoke('What software do data scientists use ?')"
   ]
  },
  {
   "cell_type": "code",
   "execution_count": 145,
   "id": "295addb3-0159-4368-bf79-bacf8e78770f",
   "metadata": {},
   "outputs": [],
   "source": [
    "retriver_tool = create_retriever_tool(retriever=retriver, \n",
    "                                      name='Data-Science-and-Data-Analytics', \n",
    "                                      description='''\n",
    "                                      Use this tool in retrive information related to Data Science and Data Analytics\n",
    "                                      ''')"
   ]
  },
  {
   "cell_type": "code",
   "execution_count": 147,
   "id": "368b9ff6-17b4-4e07-95db-21e57c74934e",
   "metadata": {},
   "outputs": [
    {
     "data": {
      "text/plain": [
       "Tool(name='Data-Science-and-Data-Analytics', description='\\n                                      Use this tool in retrive information related to Data Science and Data Analytics\\n                                      ', args_schema=<class 'langchain_core.tools.retriever.RetrieverInput'>, func=functools.partial(<function _get_relevant_documents at 0x1128a9080>, retriever=VectorStoreRetriever(tags=['Chroma', 'OpenAIEmbeddings'], vectorstore=<langchain_chroma.vectorstores.Chroma object at 0x117c597c0>, search_type='mmr', search_kwargs={'k': 3, 'lambda_multi': 0.7}), document_prompt=PromptTemplate(input_variables=['page_content'], input_types={}, partial_variables={}, template='{page_content}'), document_separator='\\n\\n', response_format='content'), coroutine=functools.partial(<function _aget_relevant_documents at 0x1128a91c0>, retriever=VectorStoreRetriever(tags=['Chroma', 'OpenAIEmbeddings'], vectorstore=<langchain_chroma.vectorstores.Chroma object at 0x117c597c0>, search_type='mmr', search_kwargs={'k': 3, 'lambda_multi': 0.7}), document_prompt=PromptTemplate(input_variables=['page_content'], input_types={}, partial_variables={}, template='{page_content}'), document_separator='\\n\\n', response_format='content'))"
      ]
     },
     "execution_count": 147,
     "metadata": {},
     "output_type": "execute_result"
    }
   ],
   "source": [
    "retriver_tool"
   ]
  },
  {
   "cell_type": "code",
   "execution_count": 149,
   "id": "d157b4d6-717a-4c1e-b086-e10662b5b2ba",
   "metadata": {},
   "outputs": [],
   "source": [
    "@tool('get-python-version')\n",
    "def get_python_version() -> str:\n",
    "    '''Use this tool to get the current python version being used'''\n",
    "    return python_version()"
   ]
  },
  {
   "cell_type": "code",
   "execution_count": 151,
   "id": "8ef466b6-e443-4eb6-8183-eb476afbf9b9",
   "metadata": {},
   "outputs": [
    {
     "data": {
      "text/plain": [
       "'3.12.9'"
      ]
     },
     "execution_count": 151,
     "metadata": {},
     "output_type": "execute_result"
    }
   ],
   "source": [
    "get_python_version(tool_input='')"
   ]
  },
  {
   "cell_type": "code",
   "execution_count": 153,
   "id": "ac015bec-43a5-42a1-855a-43cfae3779ab",
   "metadata": {},
   "outputs": [],
   "source": [
    "tools = [wikipedia_tool, retriver_tool, get_python_version]"
   ]
  },
  {
   "cell_type": "code",
   "execution_count": 155,
   "id": "eaf591e5-83d7-44a6-b138-bc1a4f6a4f2b",
   "metadata": {},
   "outputs": [
    {
     "name": "stderr",
     "output_type": "stream",
     "text": [
      "/opt/anaconda3/envs/langchain_env/lib/python3.12/site-packages/langsmith/client.py:278: LangSmithMissingAPIKeyWarning: API key must be provided when using hosted LangSmith API\n",
      "  warnings.warn(\n"
     ]
    }
   ],
   "source": [
    "chat_prompt_template = hub.pull('hwchase17/openai-tools-agent')"
   ]
  },
  {
   "cell_type": "code",
   "execution_count": 157,
   "id": "8f00bf24-9bea-4fb3-a4bd-dde194ff2b02",
   "metadata": {},
   "outputs": [],
   "source": [
    "agent = create_tool_calling_agent(llm=llm, tools=tools, prompt=chat_prompt_template)"
   ]
  },
  {
   "cell_type": "code",
   "execution_count": 159,
   "id": "f19d37e9-01d8-46d0-9def-3a69468f93bf",
   "metadata": {},
   "outputs": [],
   "source": [
    "agent_executor = AgentExecutor(tools=tools, agent=agent, verbose=True, return_intermediate_steps=True)"
   ]
  },
  {
   "cell_type": "code",
   "execution_count": 161,
   "id": "91e74e4b-5817-4dc6-8e79-2349c9a3988f",
   "metadata": {},
   "outputs": [
    {
     "name": "stdout",
     "output_type": "stream",
     "text": [
      "\n",
      "\n",
      "\u001b[1m> Entering new AgentExecutor chain...\u001b[0m\n",
      "\u001b[32;1m\u001b[1;3m\n",
      "Invoking: `get-python-version` with `{}`\n",
      "\n",
      "\n",
      "\u001b[0m\u001b[38;5;200m\u001b[1;3m3.12.9\u001b[0m\u001b[32;1m\u001b[1;3mYour current Python version is 3.12.9.\u001b[0m\n",
      "\n",
      "\u001b[1m> Finished chain.\u001b[0m\n"
     ]
    },
    {
     "data": {
      "text/plain": [
       "{'input': \"Could you tell me what's my current python version?\",\n",
       " 'output': 'Your current Python version is 3.12.9.',\n",
       " 'intermediate_steps': [(ToolAgentAction(tool='get-python-version', tool_input={}, log='\\nInvoking: `get-python-version` with `{}`\\n\\n\\n', message_log=[AIMessageChunk(content='', additional_kwargs={'tool_calls': [{'index': 0, 'id': 'call_o7nfCJnfPwwlJ9OC3VZCUBs8', 'function': {'arguments': '{}', 'name': 'get-python-version'}, 'type': 'function'}]}, response_metadata={'finish_reason': 'tool_calls', 'model_name': 'gpt-4o-mini-2024-07-18', 'system_fingerprint': 'fp_0392822090'}, id='run-4c7af004-04de-4964-bf33-ce24cf37bc15', tool_calls=[{'name': 'get-python-version', 'args': {}, 'id': 'call_o7nfCJnfPwwlJ9OC3VZCUBs8', 'type': 'tool_call'}], tool_call_chunks=[{'name': 'get-python-version', 'args': '{}', 'id': 'call_o7nfCJnfPwwlJ9OC3VZCUBs8', 'index': 0, 'type': 'tool_call_chunk'}])], tool_call_id='call_o7nfCJnfPwwlJ9OC3VZCUBs8'),\n",
       "   '3.12.9')]}"
      ]
     },
     "execution_count": 161,
     "metadata": {},
     "output_type": "execute_result"
    }
   ],
   "source": [
    "agent_executor.invoke({'input':\"Could you tell me what's my current python version?\"})"
   ]
  },
  {
   "cell_type": "code",
   "execution_count": 163,
   "id": "b8c5f821-a9d8-4b3e-875e-33ccf06b3978",
   "metadata": {},
   "outputs": [
    {
     "name": "stdout",
     "output_type": "stream",
     "text": [
      "\n",
      "\n",
      "\u001b[1m> Entering new AgentExecutor chain...\u001b[0m\n",
      "\u001b[32;1m\u001b[1;3m\n",
      "Invoking: `Data-Science-and-Data-Analytics` with `{'query': 'software used by data scientists'}`\n",
      "\n",
      "\n",
      "\u001b[0m\u001b[33;1m\u001b[1;3mIt’s actually a software framework which was designed to address the complexity of big data and its computational intensity. Most notably, Hadoop distributes the computational tasks on multiple computers which is basically the way to handle big data nowadays. Power BI, SaS, Qlik, and especially Tableau are top-notch examples of software designed for business intelligence visualizations\n",
      "\n",
      "As you can see from the infographic, R, and Python are the two most popular tools across all columns. Their biggest advantage is that they can manipulate data and are integrated within multiple data and data science software platforms. They are not just suitable for mathematical and statistical computations. In other words, R, and Python are adaptable. They can solve a wide variety of business and data-related problems from beginning to the end\n",
      "\n",
      "Great! We hope we gave you a good idea about the level of applicability of the most frequently used programming and software tools in the field of data science. Thank you for watching!\u001b[0m\u001b[32;1m\u001b[1;3mData scientists use a variety of software tools to analyze data, build models, and visualize results. Here are some of the most commonly used software:\n",
      "\n",
      "1. **Programming Languages**:\n",
      "   - **Python**: Widely used for data manipulation, analysis, and machine learning due to its extensive libraries (like Pandas, NumPy, and Scikit-learn).\n",
      "   - **R**: Popular for statistical analysis and data visualization, with a rich ecosystem of packages.\n",
      "\n",
      "2. **Data Visualization Tools**:\n",
      "   - **Tableau**: A leading tool for creating interactive and shareable dashboards.\n",
      "   - **Power BI**: A Microsoft tool for business analytics that provides interactive visualizations.\n",
      "   - **Qlik**: Offers business intelligence solutions for data visualization and reporting.\n",
      "\n",
      "3. **Big Data Technologies**:\n",
      "   - **Hadoop**: A framework that allows for distributed processing of large data sets across clusters of computers.\n",
      "\n",
      "4. **Statistical Software**:\n",
      "   - **S\u001b[0m\n",
      "\n",
      "\u001b[1m> Finished chain.\u001b[0m\n"
     ]
    },
    {
     "data": {
      "text/plain": [
       "{'input': 'What software do data scientists use?',\n",
       " 'output': 'Data scientists use a variety of software tools to analyze data, build models, and visualize results. Here are some of the most commonly used software:\\n\\n1. **Programming Languages**:\\n   - **Python**: Widely used for data manipulation, analysis, and machine learning due to its extensive libraries (like Pandas, NumPy, and Scikit-learn).\\n   - **R**: Popular for statistical analysis and data visualization, with a rich ecosystem of packages.\\n\\n2. **Data Visualization Tools**:\\n   - **Tableau**: A leading tool for creating interactive and shareable dashboards.\\n   - **Power BI**: A Microsoft tool for business analytics that provides interactive visualizations.\\n   - **Qlik**: Offers business intelligence solutions for data visualization and reporting.\\n\\n3. **Big Data Technologies**:\\n   - **Hadoop**: A framework that allows for distributed processing of large data sets across clusters of computers.\\n\\n4. **Statistical Software**:\\n   - **S',\n",
       " 'intermediate_steps': [(ToolAgentAction(tool='Data-Science-and-Data-Analytics', tool_input={'query': 'software used by data scientists'}, log=\"\\nInvoking: `Data-Science-and-Data-Analytics` with `{'query': 'software used by data scientists'}`\\n\\n\\n\", message_log=[AIMessageChunk(content='', additional_kwargs={'tool_calls': [{'index': 0, 'id': 'call_2vHz9Aa4qCS6efvIAa6oheTP', 'function': {'arguments': '{\"query\":\"software used by data scientists\"}', 'name': 'Data-Science-and-Data-Analytics'}, 'type': 'function'}]}, response_metadata={'finish_reason': 'tool_calls', 'model_name': 'gpt-4o-mini-2024-07-18', 'system_fingerprint': 'fp_0392822090'}, id='run-d0aed07f-f846-4f99-901b-08da34fcabce', tool_calls=[{'name': 'Data-Science-and-Data-Analytics', 'args': {'query': 'software used by data scientists'}, 'id': 'call_2vHz9Aa4qCS6efvIAa6oheTP', 'type': 'tool_call'}], tool_call_chunks=[{'name': 'Data-Science-and-Data-Analytics', 'args': '{\"query\":\"software used by data scientists\"}', 'id': 'call_2vHz9Aa4qCS6efvIAa6oheTP', 'index': 0, 'type': 'tool_call_chunk'}])], tool_call_id='call_2vHz9Aa4qCS6efvIAa6oheTP'),\n",
       "   'It’s actually a software framework which was designed to address the complexity of big data and its computational intensity. Most notably, Hadoop distributes the computational tasks on multiple computers which is basically the way to handle big data nowadays. Power BI, SaS, Qlik, and especially Tableau are top-notch examples of software designed for business intelligence visualizations\\n\\nAs you can see from the infographic, R, and Python are the two most popular tools across all columns. Their biggest advantage is that they can manipulate data and are integrated within multiple data and data science software platforms. They are not just suitable for mathematical and statistical computations. In other words, R, and Python are adaptable. They can solve a wide variety of business and data-related problems from beginning to the end\\n\\nGreat! We hope we gave you a good idea about the level of applicability of the most frequently used programming and software tools in the field of data science. Thank you for watching!')]}"
      ]
     },
     "execution_count": 163,
     "metadata": {},
     "output_type": "execute_result"
    }
   ],
   "source": [
    "agent_executor.invoke({'input':\"What software do data scientists use?\"})"
   ]
  },
  {
   "cell_type": "code",
   "execution_count": 171,
   "id": "ad5d1176-9362-46cd-8ec8-107202d16ebb",
   "metadata": {},
   "outputs": [
    {
     "name": "stdout",
     "output_type": "stream",
     "text": [
      "\n",
      "\n",
      "\u001b[1m> Entering new AgentExecutor chain...\u001b[0m\n",
      "\u001b[32;1m\u001b[1;3m\n",
      "Invoking: `Data-Science-and-Data-Analytics` with `{'query': 'most used software by data scientists'}`\n",
      "\n",
      "\n",
      "\u001b[0m\u001b[33;1m\u001b[1;3mAs you can see from the infographic, R, and Python are the two most popular tools across all columns. Their biggest advantage is that they can manipulate data and are integrated within multiple data and data science software platforms. They are not just suitable for mathematical and statistical computations. In other words, R, and Python are adaptable. They can solve a wide variety of business and data-related problems from beginning to the end\n",
      "\n",
      "Among the many applications we have plotted, we can say there is an increasing amount of software designed for working with big data such as Apache Hadoop, Apache Hbase, and Mongo DB. In terms of big data, Hadoop is the name that must stick with you. Hadoop is listed as a software in the sense that it is a collection of programs, but don’t imagine it as a nice-looking application\n",
      "\n",
      "Great! We hope we gave you a good idea about the level of applicability of the most frequently used programming and software tools in the field of data science. Thank you for watching!\u001b[0m\u001b[32;1m\u001b[1;3m\n",
      "Invoking: `wikipedia` with `{'query': 'Python (programming language)'}`\n",
      "\n",
      "\n",
      "\u001b[0m\u001b[36;1m\u001b[1;3mPage: Python (programming language)\n",
      "Summary: Python is a high-level, general-purpose programming language. Its design philosophy emphasizes code readability with the use of significant indentation.\n",
      "Python is dynamically type-checked and garbage-collected. It supports multiple programming paradigms, including structured (particularly procedural), object-oriented and functional programming. It is often described as a \"batteries included\" language due to its comprehensive standard library.\n",
      "Guido van Rossum began working on Python in the late 1980s as a successor to the ABC programming language and first released it in 1991 as Python 0.9.0. Python 2.0 was released in 2000. Python 3.0, released in 2008, was a major revision not completely backward-compatible with earlier versions. Python 2.7.18, released in 2020, was the last release of Python 2.\n",
      "Python consistently ranks as one of the most popular programming languages, and has gained widespread use in the machine learning community.\n",
      "\n",
      "\n",
      "\n",
      "Page: History of Python\n",
      "Summary: The programming language Python was conceived in the late 1980s, and its implementation was started in December 1989 by Guido van Rossum at CWI in the Netherlands as a successor to ABC capable of exception handling and interfacing with the Amoeba operating system. Van Rossum is Python's principal author, and his continuing central role in deciding the direction of Python is reflected in the title given to him by the Python community, Benevolent Dictator for Life (BDFL). (However, Van Rossum stepped down as leader on July 12, 2018.). Python was named after the BBC TV show Monty Python's Flying Circus.\n",
      "Python 2.0 was released on October 16, 2000, with many major new features, such as list comprehensions, cycle-detecting garbage collector (in addition to reference counting) and reference counting, for memory management and support for Unicode, along with a change to the development process itself, with a shift to a more transparent and community-backed process.\n",
      "Python 3.0, a major, backwards-incompatible release, was released on December 3, 2008 after a long period of testing. Many of its major features have also been backported to the backwards-compatible, though now-unsupported, Python 2.6 and 2.7. Releases of Python 3 include the 2to3 utility, which automates the translation of Python 2 code to Python 3.\n",
      "\n",
      "\n",
      "\n",
      "Page: Mojo (programming language)\n",
      "Summary: Mojo is a programming language in the Python family that is currently under development. It is available both in browsers via Jupyter notebooks, and locally on Linux and macOS. Mojo aims to combine the usability of a high-level programming language, specifically Python, with the performance of a system programming language such as C++, Rust, and Zig. As of February 2025, the Mojo compiler is closed source with an open source standard library. Modular, the company behind Mojo, has stated an intent to eventually open source the Mojo language, as it matures.\n",
      "Mojo builds on the Multi-Level Intermediate Representation (MLIR) compiler software framework instead of directly on the lower level LLVM compiler framework, as do many languages such as Julia, Swift, Clang, and Rust. MLIR is a newer compiler framework that allows Mojo to exploit higher level compiler passes unavailable in LLVM alone, and allows Mojo to compile down and target more than only central processing units (CPUs), including producing code that can run on graphics  processing units (GPUs), Tensor Processing Units (TPUs), application-specific integrated circuits (ASICs) and other accelerators. It can also often more effectively use certain types of CPU optimizations directly, like single instruction, multiple data (SIMD) with minor intervention by a developer, as occurs in many other languages. According to Jeremy Howard of fast.ai, Mojo can be seen as \"syntax sugar for MLIR\" and for that reason Mojo is well optimized for applications like artificial intelligence (AI).\u001b[0m\u001b[32;1m\u001b[1;3mIn the field of data science, some of the most commonly used software and programming languages include:\n",
      "\n",
      "1. **Python**: \n",
      "   - **Creator**: Guido van Rossum began working on Python in the late 1980s and first released it in 1991. Python is known for its readability and versatility, making it a favorite among data scientists for data manipulation, analysis, and machine learning.\n",
      "\n",
      "2. **R**: \n",
      "   - R is another popular programming language specifically designed for statistical computing and graphics. It is widely used among statisticians and data miners.\n",
      "\n",
      "3. **Apache Hadoop**: \n",
      "   - Hadoop is a framework that allows for the distributed processing of large data sets across clusters of computers. It is essential for big data applications.\n",
      "\n",
      "4. **Apache HBase**: \n",
      "   - HBase is a distributed, scalable, big data store that is modeled after Google's Bigtable. It is used for real-time read/write access to large datasets.\n",
      "\n",
      "5. **\u001b[0m\n",
      "\n",
      "\u001b[1m> Finished chain.\u001b[0m\n"
     ]
    },
    {
     "data": {
      "text/plain": [
       "{'input': '\\nI am following a data science coure -\\nCould you tell me what are the most used software used by data scientists that I need to learn ?\\nAlso, who the creators of those tools were ?\\n',\n",
       " 'output': \"In the field of data science, some of the most commonly used software and programming languages include:\\n\\n1. **Python**: \\n   - **Creator**: Guido van Rossum began working on Python in the late 1980s and first released it in 1991. Python is known for its readability and versatility, making it a favorite among data scientists for data manipulation, analysis, and machine learning.\\n\\n2. **R**: \\n   - R is another popular programming language specifically designed for statistical computing and graphics. It is widely used among statisticians and data miners.\\n\\n3. **Apache Hadoop**: \\n   - Hadoop is a framework that allows for the distributed processing of large data sets across clusters of computers. It is essential for big data applications.\\n\\n4. **Apache HBase**: \\n   - HBase is a distributed, scalable, big data store that is modeled after Google's Bigtable. It is used for real-time read/write access to large datasets.\\n\\n5. **\",\n",
       " 'intermediate_steps': [(ToolAgentAction(tool='Data-Science-and-Data-Analytics', tool_input={'query': 'most used software by data scientists'}, log=\"\\nInvoking: `Data-Science-and-Data-Analytics` with `{'query': 'most used software by data scientists'}`\\n\\n\\n\", message_log=[AIMessageChunk(content='', additional_kwargs={'tool_calls': [{'index': 0, 'id': 'call_WOq7h9CXmmRqi5p2GTla9YIU', 'function': {'arguments': '{\"query\": \"most used software by data scientists\"}', 'name': 'Data-Science-and-Data-Analytics'}, 'type': 'function'}, {'index': 1, 'id': 'call_rSbnBNI9haBrWlF3kmWfmEM8', 'function': {'arguments': '{\"query\": \"Python (programming language)\"}', 'name': 'wikipedia'}, 'type': 'function'}]}, response_metadata={'finish_reason': 'tool_calls', 'model_name': 'gpt-4o-mini-2024-07-18', 'system_fingerprint': 'fp_0392822090'}, id='run-20a4c538-8f81-4c81-b071-202b600ed68f', tool_calls=[{'name': 'Data-Science-and-Data-Analytics', 'args': {'query': 'most used software by data scientists'}, 'id': 'call_WOq7h9CXmmRqi5p2GTla9YIU', 'type': 'tool_call'}, {'name': 'wikipedia', 'args': {'query': 'Python (programming language)'}, 'id': 'call_rSbnBNI9haBrWlF3kmWfmEM8', 'type': 'tool_call'}], tool_call_chunks=[{'name': 'Data-Science-and-Data-Analytics', 'args': '{\"query\": \"most used software by data scientists\"}', 'id': 'call_WOq7h9CXmmRqi5p2GTla9YIU', 'index': 0, 'type': 'tool_call_chunk'}, {'name': 'wikipedia', 'args': '{\"query\": \"Python (programming language)\"}', 'id': 'call_rSbnBNI9haBrWlF3kmWfmEM8', 'index': 1, 'type': 'tool_call_chunk'}])], tool_call_id='call_WOq7h9CXmmRqi5p2GTla9YIU'),\n",
       "   'As you can see from the infographic, R, and Python are the two most popular tools across all columns. Their biggest advantage is that they can manipulate data and are integrated within multiple data and data science software platforms. They are not just suitable for mathematical and statistical computations. In other words, R, and Python are adaptable. They can solve a wide variety of business and data-related problems from beginning to the end\\n\\nAmong the many applications we have plotted, we can say there is an increasing amount of software designed for working with big data such as Apache Hadoop, Apache Hbase, and Mongo DB. In terms of big data, Hadoop is the name that must stick with you. Hadoop is listed as a software in the sense that it is a collection of programs, but don’t imagine it as a nice-looking application\\n\\nGreat! We hope we gave you a good idea about the level of applicability of the most frequently used programming and software tools in the field of data science. Thank you for watching!'),\n",
       "  (ToolAgentAction(tool='wikipedia', tool_input={'query': 'Python (programming language)'}, log=\"\\nInvoking: `wikipedia` with `{'query': 'Python (programming language)'}`\\n\\n\\n\", message_log=[AIMessageChunk(content='', additional_kwargs={'tool_calls': [{'index': 0, 'id': 'call_WOq7h9CXmmRqi5p2GTla9YIU', 'function': {'arguments': '{\"query\": \"most used software by data scientists\"}', 'name': 'Data-Science-and-Data-Analytics'}, 'type': 'function'}, {'index': 1, 'id': 'call_rSbnBNI9haBrWlF3kmWfmEM8', 'function': {'arguments': '{\"query\": \"Python (programming language)\"}', 'name': 'wikipedia'}, 'type': 'function'}]}, response_metadata={'finish_reason': 'tool_calls', 'model_name': 'gpt-4o-mini-2024-07-18', 'system_fingerprint': 'fp_0392822090'}, id='run-20a4c538-8f81-4c81-b071-202b600ed68f', tool_calls=[{'name': 'Data-Science-and-Data-Analytics', 'args': {'query': 'most used software by data scientists'}, 'id': 'call_WOq7h9CXmmRqi5p2GTla9YIU', 'type': 'tool_call'}, {'name': 'wikipedia', 'args': {'query': 'Python (programming language)'}, 'id': 'call_rSbnBNI9haBrWlF3kmWfmEM8', 'type': 'tool_call'}], tool_call_chunks=[{'name': 'Data-Science-and-Data-Analytics', 'args': '{\"query\": \"most used software by data scientists\"}', 'id': 'call_WOq7h9CXmmRqi5p2GTla9YIU', 'index': 0, 'type': 'tool_call_chunk'}, {'name': 'wikipedia', 'args': '{\"query\": \"Python (programming language)\"}', 'id': 'call_rSbnBNI9haBrWlF3kmWfmEM8', 'index': 1, 'type': 'tool_call_chunk'}])], tool_call_id='call_rSbnBNI9haBrWlF3kmWfmEM8'),\n",
       "   'Page: Python (programming language)\\nSummary: Python is a high-level, general-purpose programming language. Its design philosophy emphasizes code readability with the use of significant indentation.\\nPython is dynamically type-checked and garbage-collected. It supports multiple programming paradigms, including structured (particularly procedural), object-oriented and functional programming. It is often described as a \"batteries included\" language due to its comprehensive standard library.\\nGuido van Rossum began working on Python in the late 1980s as a successor to the ABC programming language and first released it in 1991 as Python 0.9.0. Python 2.0 was released in 2000. Python 3.0, released in 2008, was a major revision not completely backward-compatible with earlier versions. Python 2.7.18, released in 2020, was the last release of Python 2.\\nPython consistently ranks as one of the most popular programming languages, and has gained widespread use in the machine learning community.\\n\\n\\n\\nPage: History of Python\\nSummary: The programming language Python was conceived in the late 1980s, and its implementation was started in December 1989 by Guido van Rossum at CWI in the Netherlands as a successor to ABC capable of exception handling and interfacing with the Amoeba operating system. Van Rossum is Python\\'s principal author, and his continuing central role in deciding the direction of Python is reflected in the title given to him by the Python community, Benevolent Dictator for Life (BDFL). (However, Van Rossum stepped down as leader on July 12, 2018.). Python was named after the BBC TV show Monty Python\\'s Flying Circus.\\nPython 2.0 was released on October 16, 2000, with many major new features, such as list comprehensions, cycle-detecting garbage collector (in addition to reference counting) and reference counting, for memory management and support for Unicode, along with a change to the development process itself, with a shift to a more transparent and community-backed process.\\nPython 3.0, a major, backwards-incompatible release, was released on December 3, 2008 after a long period of testing. Many of its major features have also been backported to the backwards-compatible, though now-unsupported, Python 2.6 and 2.7. Releases of Python 3 include the 2to3 utility, which automates the translation of Python 2 code to Python 3.\\n\\n\\n\\nPage: Mojo (programming language)\\nSummary: Mojo is a programming language in the Python family that is currently under development. It is available both in browsers via Jupyter notebooks, and locally on Linux and macOS. Mojo aims to combine the usability of a high-level programming language, specifically Python, with the performance of a system programming language such as C++, Rust, and Zig. As of February 2025, the Mojo compiler is closed source with an open source standard library. Modular, the company behind Mojo, has stated an intent to eventually open source the Mojo language, as it matures.\\nMojo builds on the Multi-Level Intermediate Representation (MLIR) compiler software framework instead of directly on the lower level LLVM compiler framework, as do many languages such as Julia, Swift, Clang, and Rust. MLIR is a newer compiler framework that allows Mojo to exploit higher level compiler passes unavailable in LLVM alone, and allows Mojo to compile down and target more than only central processing units (CPUs), including producing code that can run on graphics  processing units (GPUs), Tensor Processing Units (TPUs), application-specific integrated circuits (ASICs) and other accelerators. It can also often more effectively use certain types of CPU optimizations directly, like single instruction, multiple data (SIMD) with minor intervention by a developer, as occurs in many other languages. According to Jeremy Howard of fast.ai, Mojo can be seen as \"syntax sugar for MLIR\" and for that reason Mojo is well optimized for applications like artificial intelligence (AI).')]}"
      ]
     },
     "execution_count": 171,
     "metadata": {},
     "output_type": "execute_result"
    }
   ],
   "source": [
    "agent_executor.invoke({'input':'''\n",
    "I am following a data science coure -\n",
    "Could you tell me what are the most used software used by data scientists that I need to learn ?\n",
    "Also, who the creators of those tools were ?\n",
    "'''})"
   ]
  }
 ],
 "metadata": {
  "kernelspec": {
   "display_name": "langchain_env",
   "language": "python",
   "name": "langchain_env"
  },
  "language_info": {
   "codemirror_mode": {
    "name": "ipython",
    "version": 3
   },
   "file_extension": ".py",
   "mimetype": "text/x-python",
   "name": "python",
   "nbconvert_exporter": "python",
   "pygments_lexer": "ipython3",
   "version": "3.12.9"
  }
 },
 "nbformat": 4,
 "nbformat_minor": 5
}
