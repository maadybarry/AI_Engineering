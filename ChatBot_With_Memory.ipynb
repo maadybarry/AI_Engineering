{
 "cells": [
  {
   "cell_type": "code",
   "execution_count": 2,
   "id": "f4348f90-b392-4c37-8306-70db26be5f59",
   "metadata": {},
   "outputs": [],
   "source": [
    "%load_ext dotenv\n",
    "%dotenv"
   ]
  },
  {
   "cell_type": "code",
   "execution_count": 16,
   "id": "d8bc8a11-5c1a-4755-9e4b-b508888f6f33",
   "metadata": {},
   "outputs": [],
   "source": [
    "from langchain_core.messages import SystemMessage\n",
    "from langchain_core.prompts import HumanMessagePromptTemplate, ChatPromptTemplate, MessagesPlaceholder\n",
    "\n",
    "from langchain_openai import ChatOpenAI\n",
    "from langchain.chains import LLMChain\n",
    "\n",
    "from langchain.memory import ConversationBufferMemory"
   ]
  },
  {
   "cell_type": "code",
   "execution_count": 36,
   "id": "7325e6c7-4a3d-49b2-a406-23788a8b7d3a",
   "metadata": {},
   "outputs": [],
   "source": [
    "model = ChatOpenAI(\n",
    "    model = 'gpt-4o-mini',\n",
    "    seed = 16,\n",
    "    temperature = 0\n",
    ")"
   ]
  },
  {
   "cell_type": "code",
   "execution_count": 38,
   "id": "5842974b-50b8-4d1f-9795-84ab7cac1391",
   "metadata": {},
   "outputs": [],
   "source": [
    "message_s = SystemMessage(content='You are a tour guide to the City of Chennai, Tamil Nadu, India')\n",
    "message_template_h = HumanMessagePromptTemplate.from_template(template='{prompt}')\n",
    "\n",
    "message_holder_var = MessagesPlaceholder(variable_name='message-holder-var')"
   ]
  },
  {
   "cell_type": "code",
   "execution_count": 40,
   "id": "d464501f-dc9c-4e5f-bb6a-f0d9b4f21e82",
   "metadata": {},
   "outputs": [],
   "source": [
    "chat_template = ChatPromptTemplate.from_messages([message_s, message_holder_var, message_template_h])"
   ]
  },
  {
   "cell_type": "code",
   "execution_count": 42,
   "id": "3789d3b1-9808-4060-8ad2-b032530315e7",
   "metadata": {},
   "outputs": [],
   "source": [
    "buffer_memory = ConversationBufferMemory(memory_key='message-holder-var',return_messages=True)"
   ]
  },
  {
   "cell_type": "code",
   "execution_count": 44,
   "id": "7db525d0-dfd6-43e8-a4d1-93edaf4262b1",
   "metadata": {},
   "outputs": [],
   "source": [
    "chain = LLMChain(llm=model, prompt=chat_template, memory=buffer_memory)"
   ]
  },
  {
   "cell_type": "code",
   "execution_count": 46,
   "id": "b65a6684-21f0-4308-82be-fb83eba3fadb",
   "metadata": {},
   "outputs": [],
   "source": [
    "reponse = chain.invoke({'prompt':'Create an itenariy to around Chennai city for 3 days 2 nights'})"
   ]
  },
  {
   "cell_type": "code",
   "execution_count": 47,
   "id": "98d4cbb0-ee0f-417a-a6b9-5e22d2d82d37",
   "metadata": {},
   "outputs": [
    {
     "name": "stdout",
     "output_type": "stream",
     "text": [
      "Sure! Here’s a suggested itinerary for a 3-day, 2-night trip around Chennai, Tamil Nadu. This itinerary includes a mix of cultural, historical, and leisure activities to give you a well-rounded experience of the city.\n",
      "\n",
      "### Day 1: Arrival and City Exploration\n",
      "\n",
      "**Morning:**\n",
      "- **Arrival in Chennai:** Check into your hotel and freshen up.\n",
      "- **Breakfast:** Enjoy a traditional South Indian breakfast at a local restaurant (try idli, dosa, and filter coffee).\n",
      "\n",
      "**Mid-Morning:**\n",
      "- **Marina Beach:** Visit one of the longest urban beaches in the world. Take a leisurely stroll along the shore and enjoy the sea breeze.\n",
      "\n",
      "**Afternoon:**\n",
      "- **Fort St. George:** Explore this historic fort, which houses the Tamil Nadu Legislative Assembly and a museum showcasing artifacts from the British colonial period.\n",
      "- **Lunch:** Have lunch at a nearby restaurant, sampling local Tamil cuisine.\n",
      "\n",
      "**Evening:**\n",
      "- **Kapaleeshwarar Temple:** Visit this ancient temple dedicated to Lord Shiva, known for its stunning Dravidian architecture.\n",
      "- **Shopping at T. Nagar:** Explore the bustling markets of T. Nagar, famous for silk sarees, jewelry, and traditional handicrafts.\n",
      "\n",
      "**Dinner:**\n",
      "- Enjoy dinner at a local restaurant, perhaps trying Chettinad cuisine, known for its spicy flavors.\n",
      "\n",
      "### Day 2: Culture and Heritage\n",
      "\n",
      "**Morning:**\n",
      "- **Breakfast:** Start your day with breakfast at your hotel or a local eatery.\n",
      "- **Government Museum:** Visit this museum, which houses a vast collection of art, archaeology, and natural history.\n",
      "\n",
      "**Mid-Morning:**\n",
      "- **Santhome Cathedral Basilica:** Explore this beautiful basilica built over the tomb of St. Thomas, one of the apostles of Jesus.\n",
      "\n",
      "**Afternoon:**\n",
      "- **Lunch:** Enjoy lunch at a restaurant in the Mylapore area.\n",
      "- **DakshinaChitra:** Head to this cultural village located about 30 km from Chennai. It showcases the art, architecture, and culture of South India.\n",
      "\n",
      "**Evening:**\n",
      "- **Elliot's Beach:** Relax at this quieter beach, perfect for a peaceful evening. You can also visit the nearby Ashtalakshmi Temple.\n",
      "- **Dinner:** Dine at a beachside restaurant, enjoying fresh seafood and local delicacies.\n",
      "\n",
      "### Day 3: Day Trip and Departure\n",
      "\n",
      "**Morning:**\n",
      "- **Breakfast:** Have breakfast at your hotel.\n",
      "- **Mahabalipuram:** Take a day trip to this UNESCO World Heritage Site, located about 60 km from Chennai. Explore the rock-cut temples and the famous Shore Temple.\n",
      "\n",
      "**Afternoon:**\n",
      "- **Lunch:** Enjoy lunch at a local restaurant in Mahabalipuram, trying out some coastal cuisine.\n",
      "- **Explore More:** Visit the Pancha Rathas and Arjuna's Penance, two of the most famous monuments in Mahabalipuram.\n",
      "\n",
      "**Evening:**\n",
      "- **Return to Chennai:** Head back to Chennai.\n",
      "- **Shopping and Relaxation:** If time permits, do some last-minute shopping at local markets or relax at your hotel.\n",
      "\n",
      "**Dinner:**\n",
      "- Enjoy a farewell dinner at a nice restaurant, reflecting on your trip.\n",
      "\n",
      "**Departure:**\n",
      "- Depending on your flight schedule, check out of your hotel and head to the airport or railway station.\n",
      "\n",
      "### Tips:\n",
      "- Make sure to stay hydrated and wear comfortable clothing and footwear.\n",
      "- Respect local customs, especially when visiting temples.\n",
      "- Consider hiring a local guide for a more in-depth experience at historical sites.\n",
      "\n",
      "Enjoy your trip to Chennai!\n"
     ]
    }
   ],
   "source": [
    "print(reponse['text'])"
   ]
  },
  {
   "cell_type": "code",
   "execution_count": 50,
   "id": "61d794c6-cc8c-4087-985d-03efab1a1dab",
   "metadata": {},
   "outputs": [],
   "source": [
    "reponse = chain.invoke({'prompt':'Can you change Santhome Church to something else ?'})"
   ]
  },
  {
   "cell_type": "code",
   "execution_count": 51,
   "id": "17dc20f7-5ce8-4c77-aebe-a2d0afbdb81d",
   "metadata": {},
   "outputs": [
    {
     "name": "stdout",
     "output_type": "stream",
     "text": [
      "Certainly! Instead of visiting Santhome Cathedral Basilica, you can explore the **Vivekananda House**. Here’s the revised itinerary for Day 2:\n",
      "\n",
      "### Day 2: Culture and Heritage\n",
      "\n",
      "**Morning:**\n",
      "- **Breakfast:** Start your day with breakfast at your hotel or a local eatery.\n",
      "- **Government Museum:** Visit this museum, which houses a vast collection of art, archaeology, and natural history.\n",
      "\n",
      "**Mid-Morning:**\n",
      "- **Vivekananda House:** Explore this historic house where Swami Vivekananda stayed in 1897. It has a museum dedicated to his life and teachings, along with beautiful gardens.\n",
      "\n",
      "**Afternoon:**\n",
      "- **Lunch:** Enjoy lunch at a restaurant in the Mylapore area.\n",
      "- **DakshinaChitra:** Head to this cultural village located about 30 km from Chennai. It showcases the art, architecture, and culture of South India.\n",
      "\n",
      "**Evening:**\n",
      "- **Elliot's Beach:** Relax at this quieter beach, perfect for a peaceful evening. You can also visit the nearby Ashtalakshmi Temple.\n",
      "- **Dinner:** Dine at a beachside restaurant, enjoying fresh seafood and local delicacies.\n",
      "\n",
      "This change allows you to experience another significant cultural site in Chennai while still enjoying the rich heritage of the city. Let me know if you need any further adjustments!\n"
     ]
    }
   ],
   "source": [
    "print(reponse['text'])"
   ]
  }
 ],
 "metadata": {
  "kernelspec": {
   "display_name": "langchain_env",
   "language": "python",
   "name": "langchain_env"
  },
  "language_info": {
   "codemirror_mode": {
    "name": "ipython",
    "version": 3
   },
   "file_extension": ".py",
   "mimetype": "text/x-python",
   "name": "python",
   "nbconvert_exporter": "python",
   "pygments_lexer": "ipython3",
   "version": "3.12.9"
  }
 },
 "nbformat": 4,
 "nbformat_minor": 5
}
