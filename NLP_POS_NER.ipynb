{
 "cells": [
  {
   "cell_type": "code",
   "execution_count": 6,
   "id": "2a76861e-aeb3-4bb2-b53b-ce016903a910",
   "metadata": {},
   "outputs": [],
   "source": [
    "import nltk\n",
    "from nltk.tokenize import word_tokenize\n",
    "from nltk.corpus import stopwords\n",
    "from nltk.stem import WordNetLemmatizer\n",
    "import spacy\n",
    "import re\n",
    "import pandas as pd\n",
    "import matplotlib.pyplot as plt"
   ]
  },
  {
   "cell_type": "code",
   "execution_count": 14,
   "id": "4fdc336f-ba57-4dc6-bde5-f51991e22748",
   "metadata": {},
   "outputs": [],
   "source": [
    "bbc_data = pd.read_csv(\"bbc_news.csv\")"
   ]
  },
  {
   "cell_type": "code",
   "execution_count": 16,
   "id": "2f37c5c9-f199-4157-9a0d-2e10bd51d823",
   "metadata": {},
   "outputs": [
    {
     "data": {
      "text/html": [
       "<div>\n",
       "<style scoped>\n",
       "    .dataframe tbody tr th:only-of-type {\n",
       "        vertical-align: middle;\n",
       "    }\n",
       "\n",
       "    .dataframe tbody tr th {\n",
       "        vertical-align: top;\n",
       "    }\n",
       "\n",
       "    .dataframe thead th {\n",
       "        text-align: right;\n",
       "    }\n",
       "</style>\n",
       "<table border=\"1\" class=\"dataframe\">\n",
       "  <thead>\n",
       "    <tr style=\"text-align: right;\">\n",
       "      <th></th>\n",
       "      <th>Unnamed: 0</th>\n",
       "      <th>index</th>\n",
       "      <th>title</th>\n",
       "      <th>pubDate</th>\n",
       "      <th>guid</th>\n",
       "      <th>link</th>\n",
       "      <th>description</th>\n",
       "    </tr>\n",
       "  </thead>\n",
       "  <tbody>\n",
       "    <tr>\n",
       "      <th>0</th>\n",
       "      <td>0</td>\n",
       "      <td>6684</td>\n",
       "      <td>Can I refuse to work?</td>\n",
       "      <td>Wed, 10 Aug 2022 15:46:18 GMT</td>\n",
       "      <td>https://www.bbc.co.uk/news/business-62147992</td>\n",
       "      <td>https://www.bbc.co.uk/news/business-62147992?a...</td>\n",
       "      <td>With much of the UK enduring another period of...</td>\n",
       "    </tr>\n",
       "    <tr>\n",
       "      <th>1</th>\n",
       "      <td>1</td>\n",
       "      <td>9267</td>\n",
       "      <td>'Liz Truss the Brief?' World reacts to UK poli...</td>\n",
       "      <td>Mon, 17 Oct 2022 11:35:12 GMT</td>\n",
       "      <td>https://www.bbc.co.uk/news/world-63285480</td>\n",
       "      <td>https://www.bbc.co.uk/news/world-63285480?at_m...</td>\n",
       "      <td>The UK's political chaos has been watched arou...</td>\n",
       "    </tr>\n",
       "    <tr>\n",
       "      <th>2</th>\n",
       "      <td>2</td>\n",
       "      <td>7387</td>\n",
       "      <td>Rationing energy is nothing new for off-grid c...</td>\n",
       "      <td>Wed, 31 Aug 2022 05:20:18 GMT</td>\n",
       "      <td>https://www.bbc.co.uk/news/uk-scotland-highlan...</td>\n",
       "      <td>https://www.bbc.co.uk/news/uk-scotland-highlan...</td>\n",
       "      <td>Scoraig in the north west Highlands has long h...</td>\n",
       "    </tr>\n",
       "    <tr>\n",
       "      <th>3</th>\n",
       "      <td>3</td>\n",
       "      <td>767</td>\n",
       "      <td>The hunt for superyachts of sanctioned Russian...</td>\n",
       "      <td>Tue, 22 Mar 2022 14:37:01 GMT</td>\n",
       "      <td>https://www.bbc.co.uk/news/60739336</td>\n",
       "      <td>https://www.bbc.co.uk/news/60739336?at_medium=...</td>\n",
       "      <td>Wealthy Russians sanctioned by the US, EU and ...</td>\n",
       "    </tr>\n",
       "    <tr>\n",
       "      <th>4</th>\n",
       "      <td>4</td>\n",
       "      <td>3712</td>\n",
       "      <td>Platinum Jubilee: 70 years of the Queen in 70 ...</td>\n",
       "      <td>Wed, 01 Jun 2022 23:17:33 GMT</td>\n",
       "      <td>https://www.bbc.co.uk/news/uk-61660128</td>\n",
       "      <td>https://www.bbc.co.uk/news/uk-61660128?at_medi...</td>\n",
       "      <td>A quick look back at the Queen's 70 years on t...</td>\n",
       "    </tr>\n",
       "    <tr>\n",
       "      <th>5</th>\n",
       "      <td>5</td>\n",
       "      <td>8967</td>\n",
       "      <td>Red Bull found guilty of breaking Formula 1's ...</td>\n",
       "      <td>Mon, 10 Oct 2022 15:23:47 GMT</td>\n",
       "      <td>https://www.bbc.co.uk/sport/formula1/63204082</td>\n",
       "      <td>https://www.bbc.co.uk/sport/formula1/63204082?...</td>\n",
       "      <td>Red Bull are found guilty of breaking Formula ...</td>\n",
       "    </tr>\n",
       "    <tr>\n",
       "      <th>6</th>\n",
       "      <td>6</td>\n",
       "      <td>10858</td>\n",
       "      <td>World Triathlon Championship Series: Flora Duf...</td>\n",
       "      <td>Fri, 25 Nov 2022 14:22:09 GMT</td>\n",
       "      <td>https://www.bbc.co.uk/sport/triathlon/63756049</td>\n",
       "      <td>https://www.bbc.co.uk/sport/triathlon/63756049...</td>\n",
       "      <td>Bermuda's Flora Duffy gets the better of Brita...</td>\n",
       "    </tr>\n",
       "    <tr>\n",
       "      <th>7</th>\n",
       "      <td>7</td>\n",
       "      <td>14914</td>\n",
       "      <td>Terry Hall: Coventry scooter ride-out pays tri...</td>\n",
       "      <td>Sun, 19 Mar 2023 16:42:11 GMT</td>\n",
       "      <td>https://www.bbc.co.uk/news/uk-england-coventry...</td>\n",
       "      <td>https://www.bbc.co.uk/news/uk-england-coventry...</td>\n",
       "      <td>Hundreds of people ride through Coventry on wh...</td>\n",
       "    </tr>\n",
       "    <tr>\n",
       "      <th>8</th>\n",
       "      <td>8</td>\n",
       "      <td>8934</td>\n",
       "      <td>Post Office and Fujitsu to face inquiry over H...</td>\n",
       "      <td>Mon, 10 Oct 2022 21:00:45 GMT</td>\n",
       "      <td>https://www.bbc.co.uk/news/business-63205335</td>\n",
       "      <td>https://www.bbc.co.uk/news/business-63205335?a...</td>\n",
       "      <td>The public inquiry is taking further evidence ...</td>\n",
       "    </tr>\n",
       "    <tr>\n",
       "      <th>9</th>\n",
       "      <td>9</td>\n",
       "      <td>4879</td>\n",
       "      <td>'Pavement parking frightens me'</td>\n",
       "      <td>Fri, 01 Jul 2022 23:02:09 GMT</td>\n",
       "      <td>https://www.bbc.co.uk/news/uk-england-nottingh...</td>\n",
       "      <td>https://www.bbc.co.uk/news/uk-england-nottingh...</td>\n",
       "      <td>Ted, who is blind, hopes people will reconside...</td>\n",
       "    </tr>\n",
       "  </tbody>\n",
       "</table>\n",
       "</div>"
      ],
      "text/plain": [
       "   Unnamed: 0  index                                              title  \\\n",
       "0           0   6684                              Can I refuse to work?   \n",
       "1           1   9267  'Liz Truss the Brief?' World reacts to UK poli...   \n",
       "2           2   7387  Rationing energy is nothing new for off-grid c...   \n",
       "3           3    767  The hunt for superyachts of sanctioned Russian...   \n",
       "4           4   3712  Platinum Jubilee: 70 years of the Queen in 70 ...   \n",
       "5           5   8967  Red Bull found guilty of breaking Formula 1's ...   \n",
       "6           6  10858  World Triathlon Championship Series: Flora Duf...   \n",
       "7           7  14914  Terry Hall: Coventry scooter ride-out pays tri...   \n",
       "8           8   8934  Post Office and Fujitsu to face inquiry over H...   \n",
       "9           9   4879                    'Pavement parking frightens me'   \n",
       "\n",
       "                         pubDate  \\\n",
       "0  Wed, 10 Aug 2022 15:46:18 GMT   \n",
       "1  Mon, 17 Oct 2022 11:35:12 GMT   \n",
       "2  Wed, 31 Aug 2022 05:20:18 GMT   \n",
       "3  Tue, 22 Mar 2022 14:37:01 GMT   \n",
       "4  Wed, 01 Jun 2022 23:17:33 GMT   \n",
       "5  Mon, 10 Oct 2022 15:23:47 GMT   \n",
       "6  Fri, 25 Nov 2022 14:22:09 GMT   \n",
       "7  Sun, 19 Mar 2023 16:42:11 GMT   \n",
       "8  Mon, 10 Oct 2022 21:00:45 GMT   \n",
       "9  Fri, 01 Jul 2022 23:02:09 GMT   \n",
       "\n",
       "                                                guid  \\\n",
       "0       https://www.bbc.co.uk/news/business-62147992   \n",
       "1          https://www.bbc.co.uk/news/world-63285480   \n",
       "2  https://www.bbc.co.uk/news/uk-scotland-highlan...   \n",
       "3                https://www.bbc.co.uk/news/60739336   \n",
       "4             https://www.bbc.co.uk/news/uk-61660128   \n",
       "5      https://www.bbc.co.uk/sport/formula1/63204082   \n",
       "6     https://www.bbc.co.uk/sport/triathlon/63756049   \n",
       "7  https://www.bbc.co.uk/news/uk-england-coventry...   \n",
       "8       https://www.bbc.co.uk/news/business-63205335   \n",
       "9  https://www.bbc.co.uk/news/uk-england-nottingh...   \n",
       "\n",
       "                                                link  \\\n",
       "0  https://www.bbc.co.uk/news/business-62147992?a...   \n",
       "1  https://www.bbc.co.uk/news/world-63285480?at_m...   \n",
       "2  https://www.bbc.co.uk/news/uk-scotland-highlan...   \n",
       "3  https://www.bbc.co.uk/news/60739336?at_medium=...   \n",
       "4  https://www.bbc.co.uk/news/uk-61660128?at_medi...   \n",
       "5  https://www.bbc.co.uk/sport/formula1/63204082?...   \n",
       "6  https://www.bbc.co.uk/sport/triathlon/63756049...   \n",
       "7  https://www.bbc.co.uk/news/uk-england-coventry...   \n",
       "8  https://www.bbc.co.uk/news/business-63205335?a...   \n",
       "9  https://www.bbc.co.uk/news/uk-england-nottingh...   \n",
       "\n",
       "                                         description  \n",
       "0  With much of the UK enduring another period of...  \n",
       "1  The UK's political chaos has been watched arou...  \n",
       "2  Scoraig in the north west Highlands has long h...  \n",
       "3  Wealthy Russians sanctioned by the US, EU and ...  \n",
       "4  A quick look back at the Queen's 70 years on t...  \n",
       "5  Red Bull are found guilty of breaking Formula ...  \n",
       "6  Bermuda's Flora Duffy gets the better of Brita...  \n",
       "7  Hundreds of people ride through Coventry on wh...  \n",
       "8  The public inquiry is taking further evidence ...  \n",
       "9  Ted, who is blind, hopes people will reconside...  "
      ]
     },
     "execution_count": 16,
     "metadata": {},
     "output_type": "execute_result"
    }
   ],
   "source": [
    "bbc_data.head(10)"
   ]
  },
  {
   "cell_type": "code",
   "execution_count": 18,
   "id": "e2be77d9-b440-4326-b1d1-066be4ed2d0c",
   "metadata": {},
   "outputs": [
    {
     "name": "stdout",
     "output_type": "stream",
     "text": [
      "<class 'pandas.core.frame.DataFrame'>\n",
      "RangeIndex: 1000 entries, 0 to 999\n",
      "Data columns (total 7 columns):\n",
      " #   Column       Non-Null Count  Dtype \n",
      "---  ------       --------------  ----- \n",
      " 0   Unnamed: 0   1000 non-null   int64 \n",
      " 1   index        1000 non-null   int64 \n",
      " 2   title        1000 non-null   object\n",
      " 3   pubDate      1000 non-null   object\n",
      " 4   guid         1000 non-null   object\n",
      " 5   link         1000 non-null   object\n",
      " 6   description  1000 non-null   object\n",
      "dtypes: int64(2), object(5)\n",
      "memory usage: 54.8+ KB\n"
     ]
    }
   ],
   "source": [
    "bbc_data.info()"
   ]
  },
  {
   "cell_type": "code",
   "execution_count": 20,
   "id": "4d13128e-5460-40b9-b869-097eb9d56a92",
   "metadata": {},
   "outputs": [],
   "source": [
    "titles = pd.DataFrame(bbc_data['title'])"
   ]
  },
  {
   "cell_type": "code",
   "execution_count": 22,
   "id": "853e9936-9ef4-4f34-8679-7f8f8a14231a",
   "metadata": {},
   "outputs": [
    {
     "data": {
      "text/html": [
       "<div>\n",
       "<style scoped>\n",
       "    .dataframe tbody tr th:only-of-type {\n",
       "        vertical-align: middle;\n",
       "    }\n",
       "\n",
       "    .dataframe tbody tr th {\n",
       "        vertical-align: top;\n",
       "    }\n",
       "\n",
       "    .dataframe thead th {\n",
       "        text-align: right;\n",
       "    }\n",
       "</style>\n",
       "<table border=\"1\" class=\"dataframe\">\n",
       "  <thead>\n",
       "    <tr style=\"text-align: right;\">\n",
       "      <th></th>\n",
       "      <th>title</th>\n",
       "    </tr>\n",
       "  </thead>\n",
       "  <tbody>\n",
       "    <tr>\n",
       "      <th>0</th>\n",
       "      <td>Can I refuse to work?</td>\n",
       "    </tr>\n",
       "    <tr>\n",
       "      <th>1</th>\n",
       "      <td>'Liz Truss the Brief?' World reacts to UK poli...</td>\n",
       "    </tr>\n",
       "    <tr>\n",
       "      <th>2</th>\n",
       "      <td>Rationing energy is nothing new for off-grid c...</td>\n",
       "    </tr>\n",
       "    <tr>\n",
       "      <th>3</th>\n",
       "      <td>The hunt for superyachts of sanctioned Russian...</td>\n",
       "    </tr>\n",
       "    <tr>\n",
       "      <th>4</th>\n",
       "      <td>Platinum Jubilee: 70 years of the Queen in 70 ...</td>\n",
       "    </tr>\n",
       "  </tbody>\n",
       "</table>\n",
       "</div>"
      ],
      "text/plain": [
       "                                               title\n",
       "0                              Can I refuse to work?\n",
       "1  'Liz Truss the Brief?' World reacts to UK poli...\n",
       "2  Rationing energy is nothing new for off-grid c...\n",
       "3  The hunt for superyachts of sanctioned Russian...\n",
       "4  Platinum Jubilee: 70 years of the Queen in 70 ..."
      ]
     },
     "execution_count": 22,
     "metadata": {},
     "output_type": "execute_result"
    }
   ],
   "source": [
    "titles.head()"
   ]
  },
  {
   "cell_type": "code",
   "execution_count": 24,
   "id": "fe6e7bd2-f2d9-4d63-93a1-12a05405a68e",
   "metadata": {},
   "outputs": [],
   "source": [
    "titles['lowercase'] = titles['title'].str.lower()"
   ]
  },
  {
   "cell_type": "code",
   "execution_count": 26,
   "id": "f71a78f4-b0fe-40f1-8340-e4da2223fa89",
   "metadata": {},
   "outputs": [
    {
     "data": {
      "text/html": [
       "<div>\n",
       "<style scoped>\n",
       "    .dataframe tbody tr th:only-of-type {\n",
       "        vertical-align: middle;\n",
       "    }\n",
       "\n",
       "    .dataframe tbody tr th {\n",
       "        vertical-align: top;\n",
       "    }\n",
       "\n",
       "    .dataframe thead th {\n",
       "        text-align: right;\n",
       "    }\n",
       "</style>\n",
       "<table border=\"1\" class=\"dataframe\">\n",
       "  <thead>\n",
       "    <tr style=\"text-align: right;\">\n",
       "      <th></th>\n",
       "      <th>title</th>\n",
       "      <th>lowercase</th>\n",
       "    </tr>\n",
       "  </thead>\n",
       "  <tbody>\n",
       "    <tr>\n",
       "      <th>0</th>\n",
       "      <td>Can I refuse to work?</td>\n",
       "      <td>can i refuse to work?</td>\n",
       "    </tr>\n",
       "    <tr>\n",
       "      <th>1</th>\n",
       "      <td>'Liz Truss the Brief?' World reacts to UK poli...</td>\n",
       "      <td>'liz truss the brief?' world reacts to uk poli...</td>\n",
       "    </tr>\n",
       "    <tr>\n",
       "      <th>2</th>\n",
       "      <td>Rationing energy is nothing new for off-grid c...</td>\n",
       "      <td>rationing energy is nothing new for off-grid c...</td>\n",
       "    </tr>\n",
       "    <tr>\n",
       "      <th>3</th>\n",
       "      <td>The hunt for superyachts of sanctioned Russian...</td>\n",
       "      <td>the hunt for superyachts of sanctioned russian...</td>\n",
       "    </tr>\n",
       "    <tr>\n",
       "      <th>4</th>\n",
       "      <td>Platinum Jubilee: 70 years of the Queen in 70 ...</td>\n",
       "      <td>platinum jubilee: 70 years of the queen in 70 ...</td>\n",
       "    </tr>\n",
       "  </tbody>\n",
       "</table>\n",
       "</div>"
      ],
      "text/plain": [
       "                                               title  \\\n",
       "0                              Can I refuse to work?   \n",
       "1  'Liz Truss the Brief?' World reacts to UK poli...   \n",
       "2  Rationing energy is nothing new for off-grid c...   \n",
       "3  The hunt for superyachts of sanctioned Russian...   \n",
       "4  Platinum Jubilee: 70 years of the Queen in 70 ...   \n",
       "\n",
       "                                           lowercase  \n",
       "0                              can i refuse to work?  \n",
       "1  'liz truss the brief?' world reacts to uk poli...  \n",
       "2  rationing energy is nothing new for off-grid c...  \n",
       "3  the hunt for superyachts of sanctioned russian...  \n",
       "4  platinum jubilee: 70 years of the queen in 70 ...  "
      ]
     },
     "execution_count": 26,
     "metadata": {},
     "output_type": "execute_result"
    }
   ],
   "source": [
    "titles.head()"
   ]
  },
  {
   "cell_type": "code",
   "execution_count": 40,
   "id": "36b05f8b-c289-4d21-b291-ac82982ac6dc",
   "metadata": {},
   "outputs": [],
   "source": [
    "en_stopwords = stopwords.words('english')\n",
    "titles['no_stopwords'] = titles['lowercase'].apply(lambda x: ' '.join(word for word in x.split() if word not in en_stopwords))"
   ]
  },
  {
   "cell_type": "code",
   "execution_count": 42,
   "id": "56fa859a-2edb-44fc-837f-3ab303d78f44",
   "metadata": {},
   "outputs": [
    {
     "data": {
      "text/html": [
       "<div>\n",
       "<style scoped>\n",
       "    .dataframe tbody tr th:only-of-type {\n",
       "        vertical-align: middle;\n",
       "    }\n",
       "\n",
       "    .dataframe tbody tr th {\n",
       "        vertical-align: top;\n",
       "    }\n",
       "\n",
       "    .dataframe thead th {\n",
       "        text-align: right;\n",
       "    }\n",
       "</style>\n",
       "<table border=\"1\" class=\"dataframe\">\n",
       "  <thead>\n",
       "    <tr style=\"text-align: right;\">\n",
       "      <th></th>\n",
       "      <th>title</th>\n",
       "      <th>lowercase</th>\n",
       "      <th>no_stopwords</th>\n",
       "    </tr>\n",
       "  </thead>\n",
       "  <tbody>\n",
       "    <tr>\n",
       "      <th>0</th>\n",
       "      <td>Can I refuse to work?</td>\n",
       "      <td>can i refuse to work?</td>\n",
       "      <td>refuse work?</td>\n",
       "    </tr>\n",
       "    <tr>\n",
       "      <th>1</th>\n",
       "      <td>'Liz Truss the Brief?' World reacts to UK poli...</td>\n",
       "      <td>'liz truss the brief?' world reacts to uk poli...</td>\n",
       "      <td>'liz truss brief?' world reacts uk political t...</td>\n",
       "    </tr>\n",
       "    <tr>\n",
       "      <th>2</th>\n",
       "      <td>Rationing energy is nothing new for off-grid c...</td>\n",
       "      <td>rationing energy is nothing new for off-grid c...</td>\n",
       "      <td>rationing energy nothing new off-grid community</td>\n",
       "    </tr>\n",
       "    <tr>\n",
       "      <th>3</th>\n",
       "      <td>The hunt for superyachts of sanctioned Russian...</td>\n",
       "      <td>the hunt for superyachts of sanctioned russian...</td>\n",
       "      <td>hunt superyachts sanctioned russian oligarchs</td>\n",
       "    </tr>\n",
       "    <tr>\n",
       "      <th>4</th>\n",
       "      <td>Platinum Jubilee: 70 years of the Queen in 70 ...</td>\n",
       "      <td>platinum jubilee: 70 years of the queen in 70 ...</td>\n",
       "      <td>platinum jubilee: 70 years queen 70 seconds</td>\n",
       "    </tr>\n",
       "  </tbody>\n",
       "</table>\n",
       "</div>"
      ],
      "text/plain": [
       "                                               title  \\\n",
       "0                              Can I refuse to work?   \n",
       "1  'Liz Truss the Brief?' World reacts to UK poli...   \n",
       "2  Rationing energy is nothing new for off-grid c...   \n",
       "3  The hunt for superyachts of sanctioned Russian...   \n",
       "4  Platinum Jubilee: 70 years of the Queen in 70 ...   \n",
       "\n",
       "                                           lowercase  \\\n",
       "0                              can i refuse to work?   \n",
       "1  'liz truss the brief?' world reacts to uk poli...   \n",
       "2  rationing energy is nothing new for off-grid c...   \n",
       "3  the hunt for superyachts of sanctioned russian...   \n",
       "4  platinum jubilee: 70 years of the queen in 70 ...   \n",
       "\n",
       "                                        no_stopwords  \n",
       "0                                       refuse work?  \n",
       "1  'liz truss brief?' world reacts uk political t...  \n",
       "2    rationing energy nothing new off-grid community  \n",
       "3      hunt superyachts sanctioned russian oligarchs  \n",
       "4        platinum jubilee: 70 years queen 70 seconds  "
      ]
     },
     "execution_count": 42,
     "metadata": {},
     "output_type": "execute_result"
    }
   ],
   "source": [
    "titles.head()"
   ]
  },
  {
   "cell_type": "code",
   "execution_count": 48,
   "id": "a9a9b99a-f241-4b07-9734-4c214dc10f52",
   "metadata": {},
   "outputs": [],
   "source": [
    "titles['no_stopwords_no_punct'] = titles.apply(lambda x: re.sub(r'([^\\w\\s])', '', x['no_stopwords']), axis = 1)"
   ]
  },
  {
   "cell_type": "code",
   "execution_count": 50,
   "id": "ec656a20-14e4-4446-8919-4e59347e832b",
   "metadata": {},
   "outputs": [
    {
     "data": {
      "text/html": [
       "<div>\n",
       "<style scoped>\n",
       "    .dataframe tbody tr th:only-of-type {\n",
       "        vertical-align: middle;\n",
       "    }\n",
       "\n",
       "    .dataframe tbody tr th {\n",
       "        vertical-align: top;\n",
       "    }\n",
       "\n",
       "    .dataframe thead th {\n",
       "        text-align: right;\n",
       "    }\n",
       "</style>\n",
       "<table border=\"1\" class=\"dataframe\">\n",
       "  <thead>\n",
       "    <tr style=\"text-align: right;\">\n",
       "      <th></th>\n",
       "      <th>title</th>\n",
       "      <th>lowercase</th>\n",
       "      <th>no_stopwords</th>\n",
       "      <th>no_stopwords_no_punct</th>\n",
       "    </tr>\n",
       "  </thead>\n",
       "  <tbody>\n",
       "    <tr>\n",
       "      <th>0</th>\n",
       "      <td>Can I refuse to work?</td>\n",
       "      <td>can i refuse to work?</td>\n",
       "      <td>refuse work?</td>\n",
       "      <td>refuse work</td>\n",
       "    </tr>\n",
       "    <tr>\n",
       "      <th>1</th>\n",
       "      <td>'Liz Truss the Brief?' World reacts to UK poli...</td>\n",
       "      <td>'liz truss the brief?' world reacts to uk poli...</td>\n",
       "      <td>'liz truss brief?' world reacts uk political t...</td>\n",
       "      <td>liz truss brief world reacts uk political turmoil</td>\n",
       "    </tr>\n",
       "    <tr>\n",
       "      <th>2</th>\n",
       "      <td>Rationing energy is nothing new for off-grid c...</td>\n",
       "      <td>rationing energy is nothing new for off-grid c...</td>\n",
       "      <td>rationing energy nothing new off-grid community</td>\n",
       "      <td>rationing energy nothing new offgrid community</td>\n",
       "    </tr>\n",
       "    <tr>\n",
       "      <th>3</th>\n",
       "      <td>The hunt for superyachts of sanctioned Russian...</td>\n",
       "      <td>the hunt for superyachts of sanctioned russian...</td>\n",
       "      <td>hunt superyachts sanctioned russian oligarchs</td>\n",
       "      <td>hunt superyachts sanctioned russian oligarchs</td>\n",
       "    </tr>\n",
       "    <tr>\n",
       "      <th>4</th>\n",
       "      <td>Platinum Jubilee: 70 years of the Queen in 70 ...</td>\n",
       "      <td>platinum jubilee: 70 years of the queen in 70 ...</td>\n",
       "      <td>platinum jubilee: 70 years queen 70 seconds</td>\n",
       "      <td>platinum jubilee 70 years queen 70 seconds</td>\n",
       "    </tr>\n",
       "  </tbody>\n",
       "</table>\n",
       "</div>"
      ],
      "text/plain": [
       "                                               title  \\\n",
       "0                              Can I refuse to work?   \n",
       "1  'Liz Truss the Brief?' World reacts to UK poli...   \n",
       "2  Rationing energy is nothing new for off-grid c...   \n",
       "3  The hunt for superyachts of sanctioned Russian...   \n",
       "4  Platinum Jubilee: 70 years of the Queen in 70 ...   \n",
       "\n",
       "                                           lowercase  \\\n",
       "0                              can i refuse to work?   \n",
       "1  'liz truss the brief?' world reacts to uk poli...   \n",
       "2  rationing energy is nothing new for off-grid c...   \n",
       "3  the hunt for superyachts of sanctioned russian...   \n",
       "4  platinum jubilee: 70 years of the queen in 70 ...   \n",
       "\n",
       "                                        no_stopwords  \\\n",
       "0                                       refuse work?   \n",
       "1  'liz truss brief?' world reacts uk political t...   \n",
       "2    rationing energy nothing new off-grid community   \n",
       "3      hunt superyachts sanctioned russian oligarchs   \n",
       "4        platinum jubilee: 70 years queen 70 seconds   \n",
       "\n",
       "                               no_stopwords_no_punct  \n",
       "0                                        refuse work  \n",
       "1  liz truss brief world reacts uk political turmoil  \n",
       "2     rationing energy nothing new offgrid community  \n",
       "3      hunt superyachts sanctioned russian oligarchs  \n",
       "4         platinum jubilee 70 years queen 70 seconds  "
      ]
     },
     "execution_count": 50,
     "metadata": {},
     "output_type": "execute_result"
    }
   ],
   "source": [
    "titles.head()"
   ]
  },
  {
   "cell_type": "code",
   "execution_count": 54,
   "id": "5b5c5a9a-c37a-4fac-b405-31545ae347b1",
   "metadata": {},
   "outputs": [],
   "source": [
    "titles['token_raw'] = titles.apply(lambda x: word_tokenize(x['title']), axis = 1)\n",
    "titles['token_clean'] = titles.apply(lambda x: word_tokenize(x['no_stopwords_no_punct']), axis = 1)"
   ]
  },
  {
   "cell_type": "code",
   "execution_count": 60,
   "id": "2644a4e9-7372-4a65-b238-08f88fa9d93a",
   "metadata": {},
   "outputs": [],
   "source": [
    "lemmatizer = WordNetLemmatizer()\n",
    "titles['token_clean_lemmatized'] = titles['token_clean'].apply(lambda tokens: [lemmatizer.lemmatize(token) for token in tokens]) "
   ]
  },
  {
   "cell_type": "code",
   "execution_count": 62,
   "id": "d30b09da-2519-40f1-8314-6025b7a75e9c",
   "metadata": {},
   "outputs": [
    {
     "data": {
      "text/plain": [
       "0                                       [refuse, work]\n",
       "1    [liz, truss, brief, world, reacts, uk, politic...\n",
       "2    [rationing, energy, nothing, new, offgrid, com...\n",
       "3    [hunt, superyachts, sanctioned, russian, oliga...\n",
       "4     [platinum, jubilee, 70, year, queen, 70, second]\n",
       "Name: token_clean_lemmatized, dtype: object"
      ]
     },
     "execution_count": 62,
     "metadata": {},
     "output_type": "execute_result"
    }
   ],
   "source": [
    "titles['token_clean_lemmatized'].head()"
   ]
  },
  {
   "cell_type": "code",
   "execution_count": 64,
   "id": "fbaa02b5-35ae-43d6-ba1e-aec7d0315cb7",
   "metadata": {},
   "outputs": [],
   "source": [
    "token_raw_list = sum(titles['token_raw'], [])\n",
    "token_clean_list = sum(titles['token_clean_lemmatized'], [])"
   ]
  },
  {
   "cell_type": "code",
   "execution_count": 66,
   "id": "a49bae0f-9db1-40b4-90c5-3f7556d27302",
   "metadata": {},
   "outputs": [
    {
     "name": "stdout",
     "output_type": "stream",
     "text": [
      "['refuse', 'work', 'liz', 'truss', 'brief', 'world', 'reacts', 'uk', 'political', 'turmoil', 'rationing', 'energy', 'nothing', 'new', 'offgrid', 'community', 'hunt', 'superyachts', 'sanctioned', 'russian', 'oligarch', 'platinum', 'jubilee', '70', 'year', 'queen', '70', 'second', 'red', 'bull', 'found', 'guilty', 'breaking', 'formula', '1', 'budget', 'cap', 'world', 'triathlon', 'championship', 'series', 'flora', 'duffy', 'beat', 'georgia', 'taylorbrown', 'womens', 'title', 'terry', 'hall', 'coventry', 'scooter', 'rideout', 'pay', 'tribute', 'singer', 'post', 'office', 'fujitsu', 'face', 'inquiry', 'horizon', 'scandal', 'pavement', 'parking', 'frightens', 'me', 'uk', 'interest', 'rate', 'rise', 'affect', 'high', 'could', 'go', 'stayed', 'storm', 'happens', 'now', 'six', 'nation', 'scotland', 'best', 'since', '99', 'beat', 'best', 'ireland', 'ever', 'long', 'liz', 'truss', 'survive', 'prime', 'minister', 'platinum', 'jubilee', 'beacon', 'light', 'across', 'globe', 'celebrate', 'queen', 'reign', 'top', 'student', 'loan', 'interest', 'rate', 'cut', '5', 'england', 'russian', 'said', 'theyd', 'take', 'baby', 'medic', 'story', 'week', 'picture', '1117', 'june', '2022', 'xi', 'jinping', 'hong', 'kong', 'tight', 'security', 'city', 'mark', '25', 'year', 'handover', 'rescue', 'carried', 'silence', 'listen', 'sound', 'life', 'nick', 'pope', 'newcastle', 'goalkeeper', 'extends', 'incredible', 'clean', 'sheet', 'record', 'china', 'plan', 'become', 'next', 'big', 'space', 'power', 'barcelona', 'thrash', 'leader', 'real', 'madrid', 'famous', 'clasico', 'win', 'kuenssberg', 'budget', 'can', 'not', 'mask', 'big', 'change', 'economy', 'nicola', 'bulley', 'search', 'know', 'disappearance', 'cost', 'living', 'christmas', 'light', 'display', 'survive', 'energy', 'crisis', '100yearold', 'edinburgh', 'man', 'still', 'working', 'three', 'day', 'week', 'freya', '600kg', 'walrus', 'cause', 'stir', 'norway', 'offer', 'uk', 'home', 'ukrainian', 'refugee', 'nicola', 'bulley', 'search', 'former', 'police', 'bos', 'say', 'criticism', 'unfair', 'bolduc', 'democrat', 'elevated', 'republican', 'backfire', 'strike', 'action', 'cancelled', 'queen', 'death', 'neighbourhood', 'leading', 'green', 'energy', 'revolution', 'men', 'u17', 'european', 'championship', 'dutch', '17yearold', 'isaac', 'babadi', 'score', 'panenka', 'penalty', 'amtrak', 'derailment', 'three', 'killed', 'missouri', 'train', 'hit', 'truck', 'energy', 'price', 'cap', 'rising', 'bill', 'four', 'discount', 'payment', 'could', 'help', 'environment', 'mushroom', 'board', 'future', 'surfing', 'flying', 'boat', 'tech', 'cleaner', 'shipping', 'scottish', 'football', 'ban', 'heading', 'day', 'match', 'chris', 'eubank', 'jr', 'v', 'liam', 'smith', 'next', 'boxing', 'unacceptable', 'taunt', 'town', 'destroyed', 'make', 'way', 'whitesonly', 'suburb', 'ukraine', 'war', 'village', 'celebrates', 'russian', 'retreat', 'root', 'hit', 'ton', 'england', 'take', 'command', 'west', 'indie', 'heineken', 'champion', 'cup', 'leicester', '166', 'edinburgh', 'jasper', 'wiese', 'try', 'sends', 'tiger', 'last', 'eight', 'world', 'cup', '2022', 'bellingham', 'gakpo', 'fernandez', 'breakout', 'star', 'briton', 'jack', 'fenton', 'killed', 'greek', 'helicopter', 'accident', 'emotional', 'sue', 'barker', 'get', 'centre', 'court', 'ovation', 'ukrainian', 'skating', 'sister', 'back', 'doing', 'love', 'england', 'v', 'india', 'edgbaston', 'official', 'investigate', 'crowd', 'racism', 'test', 'newspaper', 'headline', 'rwanda', 'plan', 'will', 'fail', 'sa', 'train', 'kyiv', 'force', 'name', 'leon', 'sir', 'lenny', 'henry', 'brings', 'moving', 'adoption', 'story', 'screen', 'big', 'brother', 'star', 'glyn', 'wise', 'plan', 'priest', 'minister', 'asleep', 'wheel', 'dentist', 'shortage', 'say', 'lib', 'dems', 'chris', 'kaba', 'met', 'suspends', 'officer', 'shot', 'dead', 'unarmed', 'man', 'world', 'cup', '2022', 'learned', 'group', 'stage', 'saw', 'record', 'number', 'upset', 'james', 'webb', 'nasa', 'space', 'telescope', 'delivers', 'spectacular', 'picture', 'constitution', 'hill', 'cheltenham', 'champion', 'hurdle', 'winner', 'the', 'horse', 'generation', 'least', 'one', 'victim', 'could', 'survived', 'arena', 'bomb', 'inquiry', 'gareth', 'bale', 'wale', 'captain', 'retires', 'football', 'aged', '33', 'ukraine', 'war', 'silent', 'street', 'wiped', 'donetsk', 'town', 'world', 'cup', '2022', 'vittorio', 'pozzos', 'legacy', 'record', 'might', 'finally', 'threat', 'train', 'strike', 'worker', 'vote', 'six', 'month', 'walkout', 'eidevall', '100', 'sure', 'arsenal', 'advance', 'firstleg', 'draw', 'ukraine', 'war', 'returning', 'place', 'father', 'killed', 'furniture', 'firm', 'made', 'collapse', 'customer', 'dark', 'refund', 'widow', 'u', 'capitol', 'riot', 'officer', 'stigma', 'death', 'nh', 'reach', 'deal', 'lifesaving', 'breastcancer', 'drug', 'giant', 'ceramic', 'sculpture', 'sandy', 'brown', 'unveiled', 'cornwall', 'ceo', 'secret', 'one', 'company', 'attracts', 'men', 'boris', 'becker', 'tennis', 'superstar', 'crashed', 'earth', 'turkish', 'mine', 'explosion', 'kill', '25', 'leaf', 'dozen', 'trapped', 'indian', 'well', 'andy', 'murray', 'emma', 'raducanu', 'jack', 'draper', 'win', 'reach', 'third', 'round', 'world', 'athletics', 'championship', 'gb', 'keely', 'hodgkinson', 'narrowly', 'miss', 'gold', 'dramatic', '800m', 'nh', 'crisis', 'medic', 'trying', 'fix', 'health', 'service', 'jet', 'crash', 'block', 'flat', 'russia', 'prince', 'harry', 'meghan', 'get', 'money', 'chelsea', '42', 'man', 'utd', 'chelsea', 'win', 'historic', 'third', 'successive', 'wsl', 'title', 'tory', 'leadership', 'rather', 'lose', 'right', 'thing', 'say', 'sunak', 'omagh', 'police', 'shooting', 'four', 'men', 'released', 'john', 'caldwell', 'attack', 'northern', 'ireland', '10', 'italy', 'sarah', 'mcfadden', 'score', 'famous', 'winner', 'belfast', 'actress', 'clara', 'darcy', 'starring', 'play', 'brain', 'tumour', 'bridgerton', 'south', 'asian', 'face', 'tv', 'make', 'happy', 'prince', 'harry', 'remembers', 'queen', 'elizabeth', 'ii', 'infectious', 'smile', 'million', 'receive', 'latest', 'costofliving', 'payment', 'joe', 'biden', 'head', 'middle', 'east', 'amid', 'faltering', 'u', 'sway', 'nh', 'public', 'satisfaction', 'health', 'service', 'drop', 'record', 'low', 'seen', 'major', 'winter', 'storm', 'paper', 'lion', 'bare', 'teeth', 'starmers', 'migration', 'policy', 'afghanistan', 'pupil', 'fear', 'spate', 'islamic', 'state', 'attack', 'princess', 'wale', 'kate', 'pay', 'tribute', 'queen', 'elizabeth', 'carol', 'service', 'emma', 'raducanu', 'u', 'open', 'champion', 'discusses', 'tough', 'split', 'coach', 'torben', 'beltz', 'oxford', 'united', '03', 'arsenal', 'eddie', 'nketiah', 'score', 'twice', 'gunner', 'progress', 'ukraine', 'roundup', 'putin', 'defends', 'necessary', 'invasion', 'kyiv', 'averts', 'cyberattack', 'ni', 'protocol', 'uk', 'eu', 'reach', 'agreement', 'trade', 'data', 'sharing', 'super', 'mario', 'bros', 'movie', 'jack', 'black', 'rise', 'game', 'adaptation', 'fourtime', 'slam', 'champion', 'osaka', 'announces', 'pregnancy', 'mcdonalds', 'cocacola', 'boycott', 'call', 'grow', 'russia', 'womens', 'footballer', 'year', 'contender', 'sam', 'kerr', 'war', 'ukraine', 'vladimir', 'putin', 'trained', 'fighter', 'africa', 'ryanairs', 'michael', 'oleary', 'want', 'practical', 'immigration', 'approach', 'i', 'planned', 'end', 'life', '16', 'still', 'here', 'england', '14', 'men', 'whipped', 'twickenham', 'crowd', 'stirring', 'display', 'open', 'rory', 'mcilroy', 'viktor', 'hovland', 'share', 'lead', 'st', 'andrew', 'third', 'round', 'real', 'madrid', '20', 'eintracht', 'frankfurt', 'karim', 'benzema', 'score', '324th', 'goal', 'real', 'super', 'cup', 'win', 'paper', 'boris', 'dossier', 'judge', 'to', 'back', 'down', 'rwanda', 'queen', 'pull', 'attending', 'commonwealth', 'service', 'mosque', 'fire', 'suspect', 'arrested', 'second', 'attack', 'world', 'cup', '2022', 'belgium', 'drop', 'love', 'away', 'shirt', 'qatar', 'uk', 'living', 'covid', 'plan', 'soho', 'street', 'turned', 'new', 'london', 'art', 'gallery', 'paper', 'cruise', 'ship', 'house', 'migrant', 'new', 'nh', 'cash', 'pay', 'gap', 'boss', 'staff', 'widen', 'think', 'tank', 'local', 'election', 'child', 'urge', 'action', 'save', 'wildlife', 'climate', 'change', 'uk', 'track', 'meet', 'target', 'trump', 'investigation', 'empty', 'folder', 'marked', 'classified', 'found', 'maralago', 'jim', 'ratcliffe', 'man', 'bidding', 'man', 'utd', 'shropshire', 'baby', 'death', 'parent', 'whose', 'life', 'changed', 'forever', 'bus', 'journey', 'taken', 'since', '2', 'fare', 'cap', 'say', 'watchdog', 'mexico', 'kidnapping', 'twisted', 'moral', 'code', 'explains', 'cartel', 'apology', 'rail', 'fare', 'england', 'rise', 'inflation', 'rate', 'minister', 'say', 'taliban', 'school', 'uturn', 'a', 'devastating', 'day', 'afghan', 'girl', 'malala', 'yousafzai', 'met', 'police', 'next', 'force', 'casey', 'review', 'ukraine', 'war', 'kherson', 'mariupol', 'key', 'russian', 'success', 'heineken', 'champion', 'cup', 'premiership', 'cap', 'hinders', 'english', 'team', 'alex', 'sanderson', 'ukraine', 'war', 'protester', 'expose', 'crack', 'kremlin', 'war', 'message', 'liz', 'truss', 'vow', 'match', 'ukraine', 'military', 'support', 'politics', 'return', 'wale', 'population', 'hit', 'new', 'high', 'growth', 'lowest', 'many', 'ukrainian', 'fled', 'home', 'gone', 'deloitte', 'report', 'european', 'football', 'made', 'significant', 'recovery', 'covid', 'pandemic', 'nigeria', 'flood', 'overwhelming', 'disaster', 'leaf', '600', 'people', 'dead', 'wimbledon', 'emma', 'raducanu', 'andy', 'murray', 'set', 'centre', 'court', 'day', 'one', 'journey', 'site', 'nord', 'stream', 'explosion', 'quiz', 'week', 'lindsay', 'lohan', 'trouble', 'gracie', 'spinks', 'receipt', 'could', 'traced', 'killer', 'family', 'supreme', 'court', 'happens', 'roe', 'v', 'wade', 'overturned', 'chancellor', 'warns', 'tax', 'rise', 'squeeze', 'spending', 'imran', 'khan', 'ousted', 'pakistan', 'pm', 'key', 'vote', 'artemis', 'nasa', 'orion', 'capsule', 'break', 'distance', 'record', 'ukraine', 'winning', 'social', 'medium', 'war', 'flint', 'arrest', 'missing', 'girl', '12', 'found', 'birmingham', 'france', 'drought', 'parched', 'town', 'left', 'short', 'drinking', 'water', 'invergordon', 'shed', 'door', 'marble', 'bust', 'could', 'sold', 'massive', 'toll', 'living', 'leasehold', 'property', 'ukraine', 'war', 'put', 'value', 'profit', 'nato', 'chief', 'tell', 'country', 'buyer', 'revive', 'interest', 'city', 'flat', 'return', 'office', 'uk', 'weather', 'long', 'cold', 'snap', 'last', 'hidilyn', 'diaz', 'accusation', 'antigovernment', 'plot', 'historic', 'olympic', 'gold', 'government', 'introduce', 'independent', 'football', 'regulator', 'england', 'backing', 'fanled', 'review', 'pint', 'power', 'parent', 'three', 'way', 'budget', 'could', 'affect', 'alevel', 'gcse', 'exam', 'happens', 'paper', 'nato', 'nordic', 'expansion', 'threat', 'boost', 'europe', 'sudden', 'unknown', 'death', 'childhood', 'why', 'beautiful', 'son', 'die', 'droylsden', 'man', 'charged', 'girl', '6', 'abducted', 'sexually', 'assaulted', 'fa', 'cup', 'wrexham', '33', 'sheffield', 'united', 'egans', 'late', 'strike', 'denies', 'wrexham', 'victory', 'uk', 'compassionate', 'say', 'pm', 'suella', 'braverman', 'invasion', 'row', 'foreign', 'secretary', 'liz', 'truss', 'join', 'tory', 'leadership', 'race', 'world', 'cup', '2022', 'wale', 'must', 'put', 'big', 'boy', 'pant', 'on', 'england', 'say', 'bos', 'robert', 'page', 'forgive', 'man', 'tried', 'murder', 'announces', 'leader', 'death', 'name', 'replacement', 'nurse', 'strike', 'much', 'know', 'pay', 'try', 'quiz', 'rishi', 'sunak', 'speaks', 'safety', 'fear', 'daughter', 'leslie', 'jordan', 'grace', 'star', 'dy', 'aged', '67', 'olivia', 'prattkorbel', 'murderaccused', 'highlevel', 'drug', 'dealer', 'north', 'carolina', 'suspect15', 'custody', 'raleigh', 'shooting', 'spree', 'uk', 'weather', 'long', 'cold', 'snap', 'last', 'queen', 'funeral', 'guest', 'attend', 'rishi', 'sunaks', 'failure', 'wear', 'seat', 'belt', 'investigated', 'heathrow', 'airport', 'extends', 'cap', 'passenger', 'end', 'october', 'john', 'peel', 'family', 'selling', 'rare', 'item', 'archive', 'mp', 'call', 'uk', 'ban', 'two', 'chinese', 'cctv', 'firm', 'u', 'economy', 'shrink', 'sparking', 'recession', 'fear', 'womens', 't20', 'world', 'cup', 'england', 'india', 'prepare', 'decisive', 'group', 'stage', 'encounter', 'michaela', 'mcareavey', 'two', 'men', 'apologise', 'video', 'mocking', 'bride', 'murder', 'scotland', '21', 'republic', 'ireland', 'ryan', 'christie', 'late', 'penalty', 'give', 'host', 'crucial', 'win', 'much', 'could', 'mortgage', 'rise', 'try', 'calculator', 'covid', 'vaccine', 'linked', 'death', 'major', 'u', 'study', 'find', 'oscar', '2023', 'rrrs', 'naatu', 'naatu', 'win', 'best', 'original', 'song', 'paper', 'russia', 'accused', 'genocide', 'fuel', 'duty', 'cut', 'forest', 'set', 'new', 'record', 'transferwindow', 'rush', 'watch', 'russian', 'tank', 'abandoned', 'retaken', 'ukrainian', 'territory', 'could', 'elgin', 'marble', 'returned', 'greece', 'review', 'nottingham', 'nh', 'maternity', 'failing', 'launch', 'world', 'cup', '2022', 'fan', 'miss', 'kickoff', 'fifa', 'ticket', 'app', 'issue', 'england', 'u21s', '30', 'albania', 'u21s', 'young', 'lion', 'qualify', '2023', 'european', 'under21', 'championship', 'make', 'movie', 'without', 'huge', 'carbon', 'footprint', 'tv', 'presenter', 'matthew', 'bassett', 'show', 'life', 'go', 'spinal', 'injury', 'gta', 'rockstar', 'rejected', 'eminem', 'movie', 'deal', 'say', 'insider', 'world', 'cup', '2022', 'france', 'kylian', 'mbappe', 'upstage', 'olivier', 'giroud', 'goalscoring', 'record', 'mystery', 'death', 'two', 'saudi', 'sister', 'sydney', 'matt', 'hancock', 'celebrity', 'led', 'dozen', 'complaint', 'mp', 'watchdog', 'cricket', 'world', 'cup', 'englandaustralia', 'final', 'shown', 'free', 'air', 'sunday', 'nurse', 'strike', 'thousand', 'join', 'first', 'walkout', 'sad', 'day', 'exeter', 'man', 'held', 'murder', 'woman', 'ludwell', 'valley', 'park', 'tory', 'leadership', 'truss', 'criticised', 'macron', 'jury', 'out', 'remark', 'keir', 'starmer', 'right', 'wage', 'stuck', 'decade', 'were', 'behind', 'you', 'famous', 'face', 'cheer', 'lioness', 'zelensky', 'asked', 'give', 'russia', 'part', 'ukraine', 'amber', 'heard', 'easy', 'forget', 'human', 'worker', 'take', 'london', 'street', 'amid', 'cost', 'living', 'crisis', 'my', 'cancerous', 'tumour', 'big', 'kettle', 'bell', 'chester', 'zoo', 'rare', 'baby', 'wallaby', 'emerges', 'mother', 'pouch', 'world', 'cup', '2022', 'belgium', 'afraid', 'lose', 'morocco', 'say', 'roberto', 'martinez', 'boy', 'george', 'tear', 'hancock', 'enters', 'celeb', 'camp', 'elon', 'musk', 'defends', 'racist', 'tirade', 'dilbert', 'creator', 'scott', 'adam', 'henry', 'cat', 'heart', 'addenbrookes', 'hospital', 'week', 'picture', '2', '8', 'april', '2022', 'former', 'uk', 'pm', 'boris', 'johnson', 'make', 'trip', 'ukraine', 'picture', 'sporting', 'memory', 'queen', 'cody', 'gakpo', 'liverpool', 'agree', 'sign', 'forward', 'say', 'psv', 'eindhoven', 'prince', 'william', 'oversees', 'trooping', 'colour', 'rehearsal', 'new', 'reality', 'woman', 'seeking', 'abortion', 'texas', 'water', 'pipe', 'robot', 'could', 'stop', 'billion', 'litre', 'leaking', 'london', 'west', 'end', 'man', 'crushed', 'telescopic', 'urinal', 'dy', 'emma', 'raducanu', 'injured', 'british', 'number', 'one', 'face', 'race', 'fit', 'wimbledon', 'world', 'cup', 'south', 'korea', 'reach', 'last', '16', 'dramatic', 'lastgasp', 'win', 'portugal', 'china', 'spy', 'balloon', 'u', 'navy', 'release', 'photo', 'debris', 'child', 'q', 'schoolgirl', 'stripsearch', 'isolated', 'issue', 'police', 'data', 'suggests', 'everybody', 'allowed', 'play', 'football', 'liverpool', '33', 'brighton', 'jurgen', 'klopp', 'vow', 'red', 'fight', 'difficult', 'spell', 'rugby', 'world', 'cup', 'england', 'claudia', 'macdonald', 'hannah', 'botterman', 'start', 'commonwealth', 'game', 'andrea', 'spendolinisirieix', 'noah', 'williams', 'win', 'mixed', 'synchronised', '10m', 'platform', 'gold', 'suella', 'braverman', 'challenge', 'critic', 'oust', 'asylum', 'row', 'beth', 'mead', 'arsenal', 'forward', 'say', 'record', 'wsl', 'crowd', 'still', 'beginning', 'manchester', 'united', '30', 'sheriff', 'tiraspol', 'cristiano', 'ronaldo', 'score', 'comfortable', 'win', 't20', 'world', 'cup', 'england', 'v', 'india', 'semifinal', 'jos', 'buttler', 'alex', 'hale', 'star', 'orkney', 'part', 'scallop', 'disco', 'fishing', 'trial', 'putin', 'mariupol', 'russian', 'president', 'saw', 'visit', 'ukraine', 'war', 'jewish', 'child', 'airlifted', 'israel', 'politics', 'increasingly', 'dealbreaker', 'u', 'dating', 'scene', 'covid19', 'china', 'shanghai', 'getting', 'used', 'new', 'normal', 'vietnam', 'veteran', 'win', 'lottery', 'six', 'time', 'intuition', 'council', 'tax', 'much', 'rising', 'alex', 'murdaugh', 'trial', 'power', 'privilege', 'murder', 'downfall', 'dynasty', 'leicester', 'city', 'bos', 'brendan', 'rodgers', 'vow', 'to', 'fight', 'on', 'survive', 'edgware', 'man', 'arrested', 'woman', 'dy', 'christmas', 'day', 'crash', 'sweden', '50', 'portugal', 'man', 'city', 'filippa', 'angeldal', 'score', 'two', 'easy', 'win', 'swede', 'ukraine', 'war', 'russian', 'foreign', 'minister', 'sergei', 'lavrov', 'factchecked', 'dominic', 'raab', 'face', 'question', 'aggressive', 'behaviour', 'claim', 'pakistan', 'flood', 'map', 'beforeafter', 'photo', 'show', 'extent', 'devastation', 'sri', 'lanka', 'protest', 'unifying', 'nation', 'ethnic', 'fault', 'line', 'run', 'deep', 'u', 'dollar', 'strong', 'mean', 'disabled', 'shropshire', 'man', 'completes', 'sevenday', 'marathon', 'feat', 'charlotszyu', 'undisputed', 'world', 'champion', 'break', 'hand', 'leila', 'borrington', 'woman', 'jailed', 'killing', 'threeyearold', 'stepson', 'fa', 'cup', '2023', 'highlight', 'joao', 'palhinha', 'manor', 'solomon', 'score', 'wonder', 'goal', 'fulham', 'beat', 'leeds', 'united', 'alabama', 'hunt', 'missing', 'prison', 'inmate', 'guard', 'billie', 'jean', 'king', 'cup', 'final', 'great', 'britain', 'underdog', 'inspired', 'glasgow', 'past', 'experience', 'liverpool', 'bos', 'jurgen', 'klopp', 'say', 'planning', 'fa', 'cup', 'semifinal', 'ridiculous', 'mariupol', 'video', 'appear', 'show', 'dead', 'civilian', 'u', 'open', 'rory', 'mcilroy', 'england', 'callum', 'tarren', 'one', 'behind', 'leader', 'adam', 'hadwin', 'ml', 'launch', 'investigation', 'dc', 'united', 'forward', 'taxi', 'fountas', 'accused', 'using', 'racial', 'slur', 'match', 'day', '2', 'analysis', 'bruno', 'guimaraes', 'game', 'newcastle', 'reanne', 'evans', 'beat', 'stuart', 'bingham', 'become', 'first', 'woman', 'win', 'match', 'snooker', 'shoot', 'ukraine', 'conflict', 'growing', 'number', 'firm', 'pull', 'back', 'russia', 'oleksiy', 'vadatursky', 'ukraine', 'grain', 'tycoon', 'killed', 'russian', 'shelling', 'mykolaiv', 'tory', 'member', 'vent', 'fury', 'rishi', 'sunaks', 'coronation', 'mp', 'antonio', 'conte', 'italian', 'thanks', 'tottenham', 'fan', 'sharing', 'passion', 'football', 'watch', 'drama', '60', 'second', 'corrie', 'mckeague', 'would', 'bingedrink', 'friend', 'death', 'inquest', 'british', 'gymnastics', 'name', 'banned', 'coach', 'zero', 'tolerance', 'plan', 'abuse', 'strike', 'rule', 'trade', 'union', 'allowed', 'strike', 'commonwealth', 'game', 'england', 'woman', 'beat', 'australia', 'win', 'historic', 'first', 'hockey', 'gold', 'worrying', 'number', 'slim', 'child', 'dieting', 'wallasey', 'pub', 'shooting', 'woman', 'fatally', 'shot', 'targeted', 'police', 'putin', 'set', 'midnight', 'deadline', 'rouble', 'gas', 'payment', 'big', 'zuu', 'breaking', 'mould', 'cookery', 'show', 'wayne', 'quilliam', 'photographing', 'diversity', 'aboriginal', 'australia', 'tory', 'mp', 'express', 'concern', 'tax', 'cut', 'pound', 'fall', 'war', 'ukraine', 'factchecking', 'russian', 'claim', 'nato', 'troop', 'fighting', 'ukraine', 'ni', 'election', '2022', 'prime', 'minister', 'visit', 'ni', 'dup', 'block', 'assembly', 'court', 'bid', 'protect', 'tenant', 'renttorent', 'ghost', 'landlord', 'hundred', 'boundary', 'womens', 'competition', 'small', 'duhan', 'van', 'der', 'merwe', 'score', 'sensational', 'six', 'nation', 'try', 'scotland', 'beat', 'england', 'rrr', 'indian', 'action', 'spectacle', 'charming', 'west', 'john', 'lennon', 'son', 'open', 'yoko', 'ono', 'performance', 'centre', 'liverpool', 'background', 'smith', 'attack', 'omagh', 'police', 'attack', 'john', 'caldwell', 'ha', 'suffered', 'lifechanging', 'injury', 'pelosi', 'visit', 'taiwan', 'put', 'ball', 'firmly', 'xi', 'jinpings', 'court', 'eva', 'kaili', 'senior', 'eu', 'lawmaker', 'arrested', 'alleged', 'bribery', 'gulf', 'state', 'england', 'v', 'south', 'africa', 'sophia', 'dunkley', 'ton', 'lead', 'host', 'convincing', 'win', 'second', 'odi', 'doctor', 'raise', 'safety', 'fear', 'birmingham', 'hospital', 'energy', 'saving', 'scheme', 'energy', 'saving', 'scheme', 'electricity', 'commonwealth', 'game', 'australia', 'beat', 'india', 'nine', 'run', 'claim', 'cricket', 'gold', 'man', 'utd', '21', 'liverpool', 'ten', 'hag', 'get', 'big', 'call', 'right', 'manchester', 'united', 'stun', 'liverpool', 'historic', 'english', 'pub', 'recognised', 'interior', 'pope', 'francis', 'apologises', 'indigenous', 'people', 'canada', 'swingometer', 'inventor', 'sir', 'david', 'butler', 'dy', '98', 'met', 'police', 'dark', 'corner', 'force', 'wayne', 'couzens', 'worked', 'ukraine', 'war', 'boris', 'johnson', 'visit', 'sweden', 'finland', 'mountaineer', 'jp', 'mohrs', 'message', 'we', 'reach', 'summit', 'deal', 'ataglance', 'house', 'zana', 'owner', 'hope', 'zara', 'trademark', 'win', 'inspire', 'others', 'face', 'face', 'bandit', 'warlord', 'nigeria', 'bucha', 'murder', 'german', 'report', 'say', 'russian', 'troop', 'discussed', 'killing', 'bruce', 'lehrmann', 'australia', 'parliament', 'rape', 'retrial', 'abandoned', 'love', 'island', 'ekinsu', 'davide', 'crowned', '2022', 'winner', 'live', 'final', 'england', 'v', 'south', 'africa', 'issy', 'wong', 'take', 'late', 'wicket', 'boost', 'host', 'nba', 'warrior', 'coach', 'texas', 'school', 'shooting', 'when', 'going', 'something', 'mary', 'queen', 'scot', 'deposed', 'ruler', 'secret', 'prison', 'letter', 'found', 'decoded', 'ukraine', 'war', 'im', 'scared', 'new', 'teacher', 'war', 'big', 'uk', 'trial', 'find', 'best', 'drug', 'fight', 'flu', 'area', 'new', 'record', 'july', 'heatwave', 'uk', 'covid', 'inquiry', 'draft', 'term', 'reference', 'set', 'mp', 'pierce', 'johnson', 'armour', 'big', 'moment', 'durban', 'flood', 'survivor', 'i', 'thought', 'world', 'ending', 'amazon', 'begin', 'drone', 'delivery', 'lockeford', 'california', 'year', 'petrol', 'price', 'fuel', 'duty', 'going', 'up', 'michelle', 'donelan', 'new', 'education', 'secretary', 'facing', 'thousand', 'complain', 'hmrc', 'tax', 'repayment', 'twitch', 'streamer', 'kai', 'cenat', 'break', 'subscriber', 'record', 'champion', 'league', 'nearly', '2000', 'liverpool', 'fan', 'set', 'sue', 'uefa', 'climate', 'change', 'force', 'indigenous', 'islander', 'panama', 'relocate', 'cost', 'living', 'firm', 'warned', 'consumer', 'want', 'low', 'price', 'kenya', 'investigate', 'sex', 'work', 'exposed', 'bbc', 'tea', 'documentary', 'wizz', 'air', 'suspend', 'moldova', 'flight', 'airspace', 'safety', 'bristol', 'mayor', 'fly', 'nine', 'hour', 'ted', 'climate', 'conference', 'victoria', 'azarenka', 'want', 'safeguarding', 'improved', 'female', 'player', 'being', 'spiked', 'stopped', 'going', 'again', 'royal', 'mail', 'overseas', 'parcel', 'ban', 'costing', 'hundred', 'pound', 'doctor', 'trailer', 'drop', 'fan', 'christmas', 'ae', 'absolute', 'chaos', 'spent', '15', 'hour', 'trolley', 'paper', 'voter', 'cost', 'living', 'fear', 'drought', 'day', 'away', 'ukraine', 'yarmolenko', 'get', 'europa', 'winner', 'west', 'ham', 'england', 'v', 'south', 'africa', 'ben', 'stokes', 'change', 'approach', 'despite', 'firsttest', 'loss', 'french', 'open', 'coco', 'gauff', 'call', 'peace', 'end', 'gun', 'violence', 'camera', 'message', 'indonesia', '120', 'dead', 'football', 'stampede', 'excess', 'death', '2022', 'among', 'worst', '50', 'year', 'it', 'bit', 'weird', 'young', 'mormon', 'missionary', 'bootcamp', 'training', 'italy', 'world', 'cup', 'azzurri', 'turn', 'disaster', 'north', 'macedonia', 'better', 'future', 'petr', 'pavel', 'exgeneral', 'beat', 'populist', 'rival', 'czech', 'election', 'half', 'million', 'people', 'watch', 'study', 'tiktok', 'comedian', 'rhod', 'gilbert', 'receiving', 'treatment', 'cancer', 'quiz', 'week', 'cristiano', 'ronaldos', 'offfield', 'goal', 'deptford', 'london', 'high', 'street', 'voted', 'one', 'world', 'coolest', 'alzheimers', 'neil', 'kinnock', 'supporting', 'wife', 'disease', 'paper', 'wake', 'zombie', 'truss', 'softens', 'handout', 'rock', 'really', 'power', 'light', 'bulb', 'no', 'say', 'expert', 'mind', 'game', 'argentina', 'dancing', 'hero', 'olivier', '2022', 'jason', 'manfords', 'best', 'joke', '7', 'highlight', 'author', 'benjamin', 'myers', 'cropcircle', 'maker', 'blew', 'people', 'mind', 'king', 'coronation', 'oil', 'animalcruelty', 'free', 'truss', 'tax', 'cut', 'clearly', 'wrong', 'approach', 'say', 'shapps', 'missing', 'doncaster', 'cockatiel', 'prompt', 'unusual', 'search', 'tactic', 'owner', 'election', 'result', '2022', 'boris', 'johnson', 'admits', 'tough', 'loss', 'tory', 'uk', 'election', '2022', 'really', 'simple', 'guide', 'almost', '400', 'migrant', 'cross', 'channel', 'small', 'boat', 'grenfell', 'tragedy', 'government', 'failing', 'act', 'inquiry', 'report', 'say', 'london', 'mayor', 'josephine', 'tewson', 'keeping', 'appearance', 'actress', 'dy', '91', 'margaret', 'thatcher', 'secret', 'brahms', 'phone', 'invented', 'texas', 'shooting', 'sunny', 'uvalde', 'school', 'day', 'ended', 'bloodshed', 'hay', 'fever', 'getting', 'worse', 'uk', 'ukraine', 'war', 'map', 'tracking', 'russian', 'invasion', 'covid', 'spring', 'booster', 'jab', 'launch', 'over75s', 'high', 'risk', 'england', 'u', 'midterm', 'election', 'finland', 'answer', 'fake', 'news', 'edinburgh', 'festival', 'biggest', 'art', 'festival', 'world', 'begin', 'world', 'cup', '2022', 'wale', 'allen', 'back', 'bale', 'ramsey', 'shine', 'england', 'game', 'crown', 'new', 'season', 'watched', '11m', 'uk', 'launch', 'day', 'first', 'official', 'rating', 'say', 'partygate', 'downing', 'street', 'party', 'resulted', 'fine', 'far', 'ukraine', 'war', 'rishi', 'sunak', 'visit', 'president', 'zelensky', 'kyiv', 'pledge', '50m', 'aid', 'u', 'tracking', 'suspected', 'chinese', 'surveillance', 'balloon', 'cost', 'living', 'we', 'work', 'cant', 'afford', 'family', 'rent', 'assad', 'syria', 'leader', 'make', 'historic', 'visit', 'uae', 'peru', 'protest', 'machu', 'picchu', 'closed', 'indefinitely', 'tourist', 'stranded', 'it', 'felt', 'like', 'u', 'looked', 'like', 'u', 'klopp', 'hail', 'derby', 'win', 'macron', 'defeat', 'le', 'pen', 'vow', 'unite', 'divided', 'france', 'losing', 'wife', 'pancreatic', 'cancer', 'taught', 'life', 'loss', 'world', 'cup', '2022', 'travelling', 'fan', 'found', 'qatar', 'tournament', 'tree', 'gift', 'thousand', 'u', 'city', 'world', 'aquatic', 'championship', 'summer', 'mcintosh', '15', 'win', 'gold', 'great', 'britain', 'take', 'relay', 'bronze', 'happened', 'uk', 'economy', 'pound', 'mortgage', 'week', 'traitor', 'viewer', 'became', 'loyal', 'bbc', 'reality', 'series', 'picture', 'harry', 'meghan', 'join', 'royal', 'national', 'service', 'thanksgiving', 'euro', '2022', 'look', 'quarterfinal', 'worcester', 'warrior', 'owner', 'agree', 'term', 'sale', 'club', 'interested', 'party', 'chocolate', 'sweet', 'price', 'jump', 'ahead', 'easter', 'record', 'number', 'nurse', 'quitting', 'nh', 'wimbledon', 'ban', 'russian', 'player', 'discrimination', 'andrey', 'rublev', 'steve', 'barclay', 'new', 'health', 'secretary', 'tackle', 'first', 'elaine', 'thompsonherah', 'beat', 'dina', 'ashersmith', 'emphatic', 'diamond', 'league', 'win', 'labour', 'conference', 'sir', 'keir', 'starmer', 'back', 'net', 'zero', 'electricity', 'boost', 'growth', 'sunak', 'tried', 'every', 'way', 'worked', 'queen', 'elizabeth', 'ii', 'personal', 'touch', 'plan', 'funeral', 'day', 'european', 'under19', 'championship', 'england', '40', 'serbia', 'highlight', 'washington', 'dc', 'tipping', 'point', 'migrant', 'arrive', 'border', 'flesheating', 'bug', 'swansea', 'dj', 'tell', 'graze', 'almost', 'killed', 'vanessa', 'bryant', 'testifies', 'blindsided', 'leaked', 'photo', 'match', 'peace', 'tour', 'i', 'friend', 'ukraine', 'gun', 'now', 'cost', 'living', 'tip', 'cut', 'energy', 'heating', 'cost', 'home', 'photographer', 'pick', 'top', 'shot', 'year', 'biden', 'say', 'maga', 'force', 'threaten', 'u', 'democracy', 'roman', 'abramovich', 'chelsea', 'credit', 'card', 'facility', 'temporarily', 'suspended', 'megafire', 'rip', 'swathe', 'land', 'near', 'bordeaux', 'bristol', 'mum', 'writes', 'heart', 'surgery', 'book', 'help', 'son', 'jeremy', 'corbyn', 'starmer', 'move', 'flagrant', 'attack', 'democracy', 'ukraine', 'war', 'oligarch', 'eugene', 'shvidlers', 'jet', 'held', 'indefinitely', 'ukraine', 'war', 'russia', 'troop', 'deployment', 'belarus', 'prompt', 'speculation', 'changing', 'face', 'north', 'sea', 'oil', 'industry', 'pink', 'lady', 'tractor', 'road', 'run', 'help', 'breast', 'cancer', 'research', 'po', 'ferry', 'backlash', 'grows', 'firing', '800', 'worker', 'european', 'super', 'league', 'new', 'proposal', 'would', 'open', 'competition', 'say', 'organiser', 'euro', '2022', 'watch', 'angle', 'alessia', 'russos', 'wow', 'goal', 'northern', 'ireland', 'meet', 'designer', 'learning', 'disability', 'ro', 'atkins', 'on', 'windfall', 'tax', 'debate', 'peterborough', 'work', 'start', 'cut', 'bretton', 'oak', 'tree', 'online', 'predator', 'targeting', 'livestreaming', 'charity', 'gymnast', 'simone', 'bile', 'given', 'highest', 'u', 'civilian', 'award', 'eliza', 'fletcher', 'police', 'identify', 'body', 'found', 'search', 'heiress', 'anteater', 'rescued', 'wildfire', 'bolivian', 'firefighter', 'french', 'open', 'rafael', 'nadal', 'play', 'wimbledon', 'need', 'foot', 'injection', 'i', 'jumping', 'hoop', 'get', 'loan', 'not', 'likely', 'possible', 'liverpool', 'manager', 'jurgen', 'klopp', 'title', 'hope', 'bank', 'england', 'vow', 'bring', 'inflation', 'pound', 'hit', 'record', 'low', 'tax', 'cut', 'plan', 'england', 'v', 'south', 'africa', 'danni', 'wyatt', 'sophia', 'dunkley', 'natalie', 'sciver', 'lead', 'england', 'victory', 'longterm', 'plan', 'tackle', 'racial', 'disparity', 'uk', 'uk', 'aid', 'cut', 'mean', 'one', 'south', 'sudan', 'hospital', 'much', 'talent', 'problem', 'indian', 'cricket', 'paper', 'raabs', 'high', 'standard', 'nicola', 'cop', 'search', 'sea', 'chelsea', 'bridge', 'man', 'tasered', 'critical', 'condition', 'river', 'thames', 'fall', 'dutch', 'boy', '4', 'take', 'mother', 'car', 'joyride', 'oscar', 'condemns', 'smith', 'slap', 'launch', 'review', 'boris', 'nemtsov', 'murdered', 'putin', 'rival', 'tailed', 'agent', 'linked', 'fsb', 'hit', 'squad', 'tv', 'lookahead', '23', 'highlight', 'look', '2023', 'n', 'korea', 'tested', 'longrange', 'missile', 'say', 'u', 'new', 'zealand', 'storm', 'gabrielle', 'tense', 'wait', 'excyclone', 'move', 'north', 'island', 'ukraine', 'war', 'russian', 'journalist', 'oksana', 'baulina', 'killed', 'kyiv', 'shelling', 'ukraine', 'war', 'priest', 'shot', 'checkpoint', 'gazprom', 'russian', 'gas', 'bos', 'say', 'our', 'product', 'rule', 'supply', 'row', 'body', 'missing', 'hillwalker', 'found', 'glen', 'coe', 'government', 'set', 'miss', 'air', 'pollution', 'goal', 'report', 'clive', 'myrie', 'ukrainian', 'met', 'give', 'recession', 'could', 'affect', 'me', 'ukraine', 'home', 'office', 'need', 'get', 'grip', 'owen', 'farrell', 'say', 'eddie', 'jones', 'sacking', 'england', 'bos', 'unbelievably', 'disappointing', 'poland', 'feel', 'strain', 'ukraine', 'refugee', 'ukraine', 'war', 'inside', 'recaptured', 'city', 'izyum', 'euro', '2022', 'leah', 'williamson', 'never', 'felt', 'england', 'going', 'spain', 'manchester', 'united', '22', 'leeds', 'united', 'jadon', 'sancho', 'goal', 'earns', 'home', 'side', 'point', 'thriller', 'champion', 'league', 'pep', 'guardiolas', 'manchester', 'city', 'aim', 'advance', 'most', 'open', 'competition', 'joe', 'clarke', 'express', 'embarrassment', 'shame', 'whatsapp', 'message', 'turkey', 'earthquake', 'antakya', 'unrecognisable', 'tour', 'guide', 'unproven', 'tyre', 'nichols', 'rumour', 'fit', 'victimblaming', 'pattern', 'artemis', 'nasa', 'try', 'launch', 'moon', 'rocket', 'saturday', 'el', 'sistema', 'venezuelan', 'music', 'scheme', 'changed', 'raploch', 'quiz', 'week', 'oscar', 'apologise', 'week', 'online', 'porn', 'my', 'pupil', 'ask', 'violence', 'independence', 'day', 'chicago', 'radio', 'became', 'voice', 'india', 'freedom', 'gorgosaurus', 'ancient', 'dinosaur', 'skeleton', 'sell', '6m', 'auction', 'sikh', 'prayer', 'book', 'return', 'military', '100', 'year', 'world', 'cup', '2022', 'elation', 'argentina', 'sorrow', 'france', 'fan', 'react', 'st', 'david', 'award', 'merthyr', 'litter', 'picker', 'daniel', 'lewis', 'honoured', 'ukraine', 'battle', 'control', 'sky', 'brit', 'nominee', 'pa', 'salieu', 'jailed', 'coventry', 'violent', 'disorder', 'ni', 'politics', 'another', 'stormont', 'election', 'certainty', 'rishi', 'sunak', 'promise', 'antisocial', 'behaviour', 'crackdown', 'kenyan', 'climber', 'join', 'first', 'allblack', 'team', 'attempting', 'mount', 'everest', 'french', 'election', 'left', 'surge', 'threatens', 'macron', 'majority', 'france', 'nh', 'mental', 'health', 'trust', 'set', 'food', 'bank', 'staff', 'carrot', 'ice', 'lolly', 'keeping', 'animal', 'cool', 'heatwave', 'warning', 'fresh', 'energy', 'bill', 'shock', 'october', 'price', 'rise', 'everton', 'day', 'hope', 'end', 'despair', 'pressure', 'increase', 'frank', 'lampard', 'lib', 'dems', 'call', 'higher', 'pay', 'social', 'care', 'staff', 'uk', 'inflation', 'higher', 'country', 'nigeria', 'historic', 'dye', 'pit', 'kano', 'risk', 'closure', 'sound', '2023', 'cat', 'burn', 'went', 'busking', 'platinum', 'record', 'firm', 'banging', 'head', 'wall', 'postbrexit', 'trade', 'war', 'ukraine', 'change', 'emphasis', 'admission', 'failure', 'moscow', 'ben', 'earl', 'saracen', 'flanker', 'named', 'premiership', 'player', 'season', 'crystal', 'palace', '11', 'manchester', 'united', 'michael', 'olise', 'score', 'late', 'equaliser', 'united', 'miss', 'chance', 'go', 'second', 'young', 'nigerian', 'pin', 'hope', 'presidential', 'outsider', 'cost', 'living', 'save', 'money', 'pet', 'care', 'attacking', 'ukraine', 'power', 'grid', 'war', 'crime', 'greg', 'norman', 'liv', 'golf', 'chief', 'field', 'question', 'saudi', 'arabia', 'human', 'right', 'record', 'dustin', 'johnson', 'resigns', 'pga', 'tour', 'play', 'liv', 'golf', 'sri', 'lanka', 'parliament', 'vote', 'new', 'president', 'amid', 'crisis', 'cost', 'living', 'deptford', 'charity', 'turn', 'phone', 'box', 'community', 'hub', 'chancellor', 'attempt', 'put', 'tax', 'uturn', 'behind', 'megan', 'newborough', 'man', 'strangled', 'girlfriend', 'convicted', 'murder', 'paper', 'hopelessly', 'devoted', 'you', 'taxplan', 'tension', 'arsenal', '30', 'tottenham', 'gunner', 'victory', 'ensures', 'wsl', 'title', 'decided', 'final', 'day', 'ecuador', 'declares', 'emergency', 'gang', 'crime', 'castrating', 'pablo', 'escobars', 'hippo', 'paper', 'uk', 'hostage', 'strike', 'world', 'cup', 'le', 'crunch', 'chinataiwan', 'china', 'brood', 'taiwan', 'pelosi', 'lovefest', 'trump', 'organization', 'found', 'guilty', 'tax', 'crime', 'new', 'york', 'trial', 'garth', 'crook', 'team', 'week', 'salah', 'toney', 'mount', 'silva', 'martinez', 'medusa', 'festival', 'one', 'killed', 'strong', 'wind', 'cause', 'stage', 'collapse', 'spain', 'strictly', 'come', 'dancing', 'year', 'newlypaired', 'couple', 'feeling', 'kinder', 'chocolate', 'factory', 'told', 'shut', 'salmonella', 'case', 'paper', 'vegan', 'mob', 'foiled', 'care', 'home', 'crisis', 'race', 'make', 'diesel', 'engine', 'run', 'hydrogen', 'manchester', 'city', '22', 'liverpool', 'rivalry', 'fierce', 'pitch', 'friendly', 'child', 'stopped', 'sleeping', 'eating', 'play', 'fornite', 'lawsuit', 'minibudget', 'mean', 'finance', 'pakistan', 'goat', 'longeared', 'kid', 'becomes', 'star', 'time', 'queen', 'funeral', 'wear', 'military', 'uniform', 'question', 'west', 'ham', 'united', '21', 'anderlecht', 'jarrod', 'bowen', 'said', 'benrahma', 'score', 'hammer', 'progress', 'woman', 'manipulated', 'abortion', 'pregnancy', 'crisis', 'centre', 'curious', 'owl', 'inspects', 'tv', 'weather', 'station', 'camera', 'dominic', 'raabs', 'quest', 'reform', 'human', 'right', 'law', 'almost', 'over', 'ukrainian', 'way', 'uk', 'hit', 'paperwork', 'deadend', 'calais', 'womens', 't20', 'world', 'cup', 'best', 'shot', 'alice', 'capseys', '51', 'ireland', 'encanto', 'director', 'invite', 'glass', 'hero', 'schoolgirl', 'lowri', 'baftas', 'cheltenham', 'stabbing', 'man', 'charged', 'attempted', 'murder', 'woman', 'attacked', 'teacher', 'top', '10', 'earner', 'area', 'omicron', 'v', 'zerocovid', 'long', 'china', 'hold', 'on', 'world', 'cup', '2022', 'argentina', 'france', 'meet', 'final', 'lusail', 'stadium', 'china', 'hong', 'kong', 'five', 'moment', 'fraught', 'relationship', 'since', 'handover', 'salt', 'bae', 'get', 'hold', 'world', 'cup', 'final', 'nurse', 'striking', 'area', 'use', 'lookup', 'find', 'scientist', 'actually', 'want', 'inuit', 'greenlanders', 'demand', 'answer', 'danish', 'birth', 'control', 'scandal', 'teacher', 'strike', 'neu', 'urge', 'teacher', 'reject', 'new', 'pay', 'deal', 'diwali', '2022', 'india', 'celebrates', 'festival', 'dazzling', 'display', 'light', 'sir', 'mo', 'farah', 'relieved', 'home', 'office', 'take', 'action', 'citizenship', 'harry', 'style', 'new', 'album', 'harrys', 'house', 'charm', 'music', 'critic', 'young', 'sport', 'personality', 'year', '2022', 'gymnast', 'jessica', 'gadirova', 'win', 'award', 'budget', 'jeremy', 'hunt', 'expand', 'free', 'childcare', 'one', 'twoyearolds', 'abortion', 'overturn', 'roe', 'v', 'wade', 'mean', 'it', 'like', 'oven', 'life', 'britain', 'hottest', 'neighbourhood', 'canada', 'mp', 'regret', 'calling', 'debate', 'toilet', 'motd', 'top', '10', 'could', 'trophy', 'way', 'spur', 'last', 'chandrashekhar', 'harbola', 'waited', '38', 'year', 'body', 'came', 'siachen', 'sunken', 'russian', 'warship', 'moskva', 'know', 'itaewon', 'crush', 'first', 'emergency', 'call', 'came', 'hour', 'crush', 'derby', 'county', 'administrator', 'give', 'chris', 'kirchner', 'friday', 'deadline', 'prove', 'buy', 'club', 'covid', 'five', 'thing', 'still', 'need', 'keep', 'eye', 'sir', 'terry', 'pratchett', 'short', 'story', 'published', 'found', 'fan', 'royal', 'society', 'chemistry', 'report', 'say', 'racism', 'pervasive', 'italian', 'pm', 'mario', 'draghi', 'offer', 'resignation', 'coalition', 'fall', 'apart', 'patagonia', 'billionaire', 'bos', 'fashion', 'retailer', 'give', 'company', 'away', 'struggling', 'gym', 'pool', 'issue', 'plea', 'help', 'i', 'caught', 'fraudster', 'funeral', 'director', 'bos', 'failing', 'young', 'people', 'cancer', 'no', 'idea', 'passenger', 'land', 'florida', 'plane', 'pilot', 'fall', 'ill', 'china', 'protest', 'mystery', 'beijing', 'demonstrator', 'spark', 'online', 'hunt', 'tribute', 'london', 'zoo', 'crocodile', 'skin', 'handbag', 'display', 'go', 'viral', 'rail', 'worker', 'given', 'fresh', 'pay', 'offer', 'dispute', 'northumberland', 'shooting', 'star', 'caught', 'oneinmillion', 'photo', 'trapped', 'saudi', 'arabia', 'mother', 'fight', 'free', 'daughter', 'julian', 'nagelsmann', 'bayern', 'munich', 'sack', 'manager', 'turn', 'thomas', 'tuchel', 'police', 'failing', 'bring', 'talent', 'black', 'community', 'say', 'racism', 'lead', 'north', 'korea', 'fighting', 'covid', 'traditional', 'medicine', 'killer', 'history', 'coercive', 'behaviour', 'face', 'tougher', 'sentence', 'kanye', 'west', 'adidas', 'investigates', 'claim', 'toxic', 'behaviour', 'boris', 'johnson', '48', 'hour', 'political', 'chaos', 'train', 'strike', 'series', 'walkout', 'saturday', 'suspended', 'antarctic', 'post', 'office', 'home', 'christmas', 'among', 'penguin', 'powerball', 'store', 'owner', 'sold', 'record', 'u', 'powerball', 'ticket', 'get', '1m', 'bonus', 'brit', 'award', '2023', 'host', 'mo', 'gilligan', 'gear', 'show', 'energy', 'bill', 'fear', 'power', 'cut', 'switch', 'nebuliser', 'uk', 'inflation', 'rate', 'calculator', 'much', 'price', 'rising', 'you', 'car', 'crushed', 'tractor', 'crash', 'caught', 'cctv', 'raf', 'mildenhall', 'pdc', 'world', 'championship', 'michael', 'van', 'gerwen', 'play', 'michael', 'smith', '2023', 'final', 'nicola', 'bulley', 'dive', 'team', 'pull', 'search', 'extended', 'tyson', 'fury', 'v', 'dillian', 'whyte', 'world', 'champion', 'not', 'thinking', 'retirement', 'ukraine', 'war', 'kyiv', 'mayor', 'klitschko', 'warns', 'evacuation', 'power', 'lost', 'dog', 'health', 'buy', 'bulldog', 'breed', 'reshaped', 'vet', 'plead', 'watch', 'rapper', 'loyle', 'carner', 'jamie', 'oliver', 'talk', 'food', 'confidence', 'qatar', '2022', 'people', 'protesting', 'world', 'cup', 'host', 'womens', 'euro', '2022', 'england', 'germany', 'fan', 'arrive', 'wembley', 'world', 'cup', '2022', 'take', 'penalty', 'shootout', 'rage', 'machine', 'pull', 'reading', 'leeds', 'festival', 'clarence', 'house', 'staff', 'told', 'job', 'risk', 'crash', 'dummy', 'aimed', 'protecting', 'woman', 'driver', 'heathrow', 'airport', 'two', 'plane', 'minor', 'collision', 'attacker', 'clear', 'wouldbe', 'goal', 'teammate', 'line', 'canadian', 'premier', 'league', 'french', 'election', 'macron', 'le', 'pen', 'clash', 'tv', 'presidential', 'debate', 'putin', 'west', 'unlikely', 'reject', 'russian', 'energy', 'year', 'business', 'close', 'stay', 'open', 'day', 'queen', 'funeral', 'energy', 'bill', 'fear', 'winter', 'loom', 'edge', 'scotland', 'bbc', 'presenter', 'lost', 'baby', 'urge', 'woman', 'open', 'miscarriage', 'rupert', 'murdoch', 'jerry', 'hall', 'reportedly', 'divorce', 'paper', 'tory', 'infighting', 'price', 'avoid', 'world', 'war', 'liverpool', '11', 'crystal', 'palace', 'nunez', 'red', 'card', 'costly', 'anfield', 'stalemate', 'cost', 'living', 'roll', 'royce', 'staff', 'get', '2000', 'payment', 'ukraine', 'facing', 'russian', 'army', 'front', 'line', 'donbas', 'monkeypox', 'catch', 'it', 'cost', 'living', 'young', 'cancer', 'patient', 'in', 'desperate', 'situation', 'rihanna', 'headline', 'super', 'bowl', 'halftime', 'show', 'actor', 'orlando', 'bloom', 'meet', 'child', 'affected', 'ukraine', 'war', 'visit', 'zelensky', 'scottish', 'spaceports', 'prototype', 'rocket', 'unveiled', 'chancellor', 'break', 'pledge', 'energy', 'bill', 'maralago', 'trumpowned', 'property', 'overvalued', 'pfas', 'possible', 'breakthrough', 'destroy', 'harmful', 'forever', 'chemical', 'watch', 'huge', 'fireball', 'engulfs', 'church', 'new', 'jersey', 'buffalo', 'shooting', 'ny', 'probe', 'bonechilling', 'social', 'medium', 'role', 'disney', 'magic', 'spell', 'wearing', 'off', 'cost', 'living', 'university', 'student', 'priced', 'out', 'graduation', 'birmingham', 'fall', 'womens', 'super', 'league', 'highflyer', 'relegation', 'world', 'cup', '2022', 'switzerland', '10', 'cameroon', 'breel', 'embolo', 'strike', 'secures', 'win', 'i', 'change', 'look', 'talk', 'fit', 'work', 'bus', 'driver', 'charged', 'murder', 'ramming', 'quebec', 'nursery', 'i', 'cant', 'forget', 'her', 'myanmar', 'soldier', 'admit', 'atrocity', 'insulate', 'britain', 'judge', 'inspired', 'activist', 'm25', 'protest', 'coco', 'gauff', 'column', 'tiktok', 'jaden', 'smith', 'help', 'escape', 'australian', 'open', 'pressure', 'covid', 'uk', 'first', 'country', 'approve', 'dualstrain', 'vaccine', 'wimbledon', 'ons', 'jabeur', 'postfinal', 'tear', 'bob', 'marley', 'runnerup', 'trophy', 'ulvade', 'shooting', 'kamala', 'harris', 'call', 'assault', 'weapon', 'ban', 'bob', 'dylan', 'apologises', 'machineprinted', 'signature', 'womens', 'six', 'nation', 'emilie', 'boulard', 'score', 'brilliant', 'try', 'france', 'italy', 'phyllida', 'barlow', 'renowned', 'british', 'sculptor', 'dy', 'aged', '78', 'master', 'rory', 'mcilroy', 'a', 'happy', 'ever', 'chipping', '18th', 'stunning', 'final', 'round', 'iraq', 'war', 'ali', 'abbas', 'lost', 'arm', 'war', 'high', 'street', 'shop', 'thriving', 'tough', 'year', 'xi', 'jinpings', 'party', 'getting', 'started', 'country', 'tackle', 'energy', 'bill', 'chris', 'mason', 'boris', 'johnson', 'political', 'future', 'hang', 'balance', 'rugby', 'world', 'cup', 'england', 'keep', 'cool', 'biggest', 'pool', 'game', 'heat', 'pump', 'work', 'get', 'one', 'timed', 'magazine', 'issue', 'final', 'print', 'edition', '54', 'year', 'imran', 'khan', 'pakistan', 'police', 'open', 'investigation', 'former', 'pm', 'liverpool', '01', 'real', 'madrid', 'champion', 'league', 'defeat', 'cap', 'miserable', 'end', 'magnificent', 'season', 'amid', 'paris', 'chaos', 'nikki', 'haley', 'five', 'thing', 'know', 'white', 'house', 'hopeful', 'u', 'live', 'xi', 'jinpings', 'world', 'euro', '2022', 'ni', 'bos', 'kenny', 'shiels', 'say', 'created', 'monster', 'growing', 'quickly', 'jeremy', 'hunt', 'everyone', 'pay', 'tax', 'falklands', 'war', 'i', 'thought', 'one', 'like', 'this', 'liz', 'truss', 'short', 'bumpy', 'ride', '85', 'second', 'tech', 'helping', 'driverless', 'car', 'see', 'round', 'corner', 'fryup', 'breakfast', 'cost', '40p', 'last', 'year', 'watch', 'moment', 'australian', 'police', 'swoop', 'secret', 'drug', 'flight', 'video', 'game', 'prescribed', 'doctor', 'treat', 'adhd', 'paying', 'basic', 'pushing', 'people', 'debt', 'charity', 'say', 'medium', 'given', 'access', 'family', 'court', 'hearing', 'china', 'heatwave', 'temperature', '40c', 'expected', 'weekend', 'moment', 'police', 'arrest', 'pub', 'shooting', 'suspect', 'belgorod', 'fear', 'denial', 'russian', 'city', 'hit', 'shell', 'council', 'tax', 'much', 'rising', 'nunez', 'head', 'winner', 'benfica', 'beat', 'ajax', 'reach', 'last', 'eight', 'buyer', 'back', '62000', 'mr', 'blobby', 'suit', 'purchase', 'ten', 'hag', 'warning', 'garnacho', 'teenager', 'star', 'man', 'utd', 'win', 'climate', 'change', 'first', 'bill', 'written', 'child', 'climate', 'education', 'secret', 'filming', 'victim', 'feel', 'let', 'court', 'm', 'store', 'sorry', 'displaying', 'daffodil', 'alongside', 'veg', 'world', 'snooker', 'championship', '2022', 'ronnie', 'osullivan', 'beat', 'david', 'gilbert', 'prince', 'harry', 'i', 'want', 'father', 'brother', 'back', 'pakistan', 'v', 'england', 'rehan', 'ahmed', 'could', 'make', 'debut', 'karachi', 'woman', 'found', 'new', 'life', 'given', 'six', 'week', 'live', 'paper', 'red', 'alert', 'earth', 'pm', 'turn', 'sharm', 'cricket', 'world', 'cup', 'england', 'australia', 'set', 'final', 'tiverton', 'honiton', 'byelection', 'voter', 'think', 'pm', 'sunak', 'welcome', 'valuable', 'talk', 'health', 'leader', 'macron', 'say', 'uk', 'france', 'face', 'problem', 'leader', 'unsure', 'friendship', 'eastenders', 'edward', 'syndrome', 'difficult', 'choice', 'parent', 'turkey', 'earthquake', 'rescue', 'continues', 'almost', '150', 'hour', 'on', 'you', 'miracle', 'kardashian', 'fined', 'crypto', 'pump', 'dump', 'netanyahus', 'hardline', 'new', 'government', 'take', 'office', 'israel', 'england', 'v', 'south', 'africa', 'host', 'win', 'first', 't20', 'wrap', 'multiformat', 'series', 'pitchside', 'brain', 'scan', 'aim', 'make', 'sport', 'safer', 'dinosaur', 'track', '113m', 'year', 'ago', 'exposed', 'severe', 'drought', 'el', 'clasico', 'real', 'madrid', 'beat', 'barcelona', '31', 'bernabeu', 'man', 'city', 'v', 'man', 'utd', 'erik', 'ten', 'hag', 'facing', 'derby', 'dilemma', 'danny', 'murphy', 'analysis', 'paper', 'predator', 'join', 'police', 'king', 'bungle', 'chantelle', 'cameron', 'beat', 'jessica', 'mccaskill', 'become', 'undisputed', 'lightwelterweight', 'champion', 'ferrell', 'oscar', 'nomination', 'elf', 'say', 'curtis', 'royal', 'mail', 'worker', 'hold', '19', 'day', 'strike', 'action', 'tony', 'blair', 'join', 'queen', 'highest', 'chivalry', 'order', 'windsor', 'ceremony', 'uganda', 'story', 'parent', 'never', 'told', 'rwanda', 'asylum', 'plan', 'uk', 'minister', 'partially', 'lose', 'rwanda', 'secrecy', 'bid', 'replace', 'boris', 'johnson', 'anne', 'frank', 'betrayal', 'book', 'pulled', 'finding', 'discredited', 'france', 'mustard', 'shortage', 'leaf', 'sour', 'taste', 'grand', 'national', 'preview', 'rachael', 'blackmore', 'seek', 'aintree', 'double', 'minella', 'time', 'shireen', 'abu', 'aqla', 'violence', 'al', 'jazeera', 'reporter', 'funeral', 'jerusalem', 'two', 'child', 'diagnosed', 'mnd', 'euro', '2024', 'italy', 'manager', 'mancini', 'bemoans', 'lack', 'italian', 'talent', 'serie', 'nicola', 'bulley', 'man', '34', 'arrested', 'police', 'scene', 'footage', 'mazepin', 'father', 'added', 'list', 'wealthy', 'russian', 'sanctioned', 'eu', 'labour', 'mp', 'christian', 'matheson', 'resigns', 'sexual', 'misconduct', 'england', 'v', 'india', 'third', 'odi', 'pant', 'hit', 'five', 'four', 'row', 'finish', 'england', 'raducanu', 'indian', 'well', 'third', 'round', 'win', 'garcia', 'thames', 'water', 'plan', 'introduce', 'hosepipe', 'ban', 'in', 'week', 'akons', 'wakanda', 'grazing', 'goat', 'crumbling', 'crypto', 'dream', 'rory', 'mcilroy', 'share', 'lead', 'canadian', 'open', 'final', 'round', 'cop27', 'egypt', 'climate', 'conference', 'important', 'woman', 'given', 'eightyear', 'jail', 'term', 'false', 'rape', 'claim', 'picture', 'flooding', 'across', 'uk', 'week', 'heavy', 'rain', 'front', 'line', 'battle', 'kharkiv', 'platinum', 'jubilee', 'eight', 'new', 'city', 'created', 'queen', 'honour', 'uk', 'athletics', 'championship', 'jeremiah', 'azu', 'daryll', 'neita', 'take', '100m', 'gold', 'brother', '12', '13', 'wanted', 'raiding', 'top', 'london', 'hotel', 'chicken', 'getting', 'expensive', 'five', 'way', 'save', 'money', 'train', 'ticket', 'womens', 'world', 'cup', 'playoff', 'wale', '10', 'bosniaherzegovina', 'ratcliffe', 'sheikh', 'jassim', 'submit', 'new', 'man', 'utd', 'bid', 'turkeysyria', 'earthquake', 'first', 'aid', 'convoy', 'reach', 'oppositionheld', 'idlib', 'mobile', 'phone', 'fraud', 'they', 'stole', '22500', 'using', 'banking', 'app', 'covid', 'test', 'still', 'need', 'travel', 'abroad', 'strike', 'rule', 'allowed', 'strike', 'our', 'mortgage', 'got', 'high', 'put', 'baby', 'transgender', 'prisoner', 'row', 'about', 'vladimir', 'putin', 'actually', 'arrested', 'train', 'driver', 'offered', 'pay', 'rise', 'bid', 'end', 'strike', 'i', 'adopt', 'wobbly', 'cat', 'cost', 'living', 'made', 'university', 'flat', 'hostile', 'labour', 'call', 'vote', 'give', 'mp', 'power', 'appoint', 'new', 'ethic', 'chief', 'comic', 'relief', 'return', 'traitor', 'eurovision', 'sketch', 'meditative', 'magic', 'watching', 'people', 'pay', 'respect', 'indian', 'well', 'emma', 'raducanu', 'beat', 'danka', 'kovinic', 'jack', 'draper', 'set', 'dan', 'evans', 'clash', 'commonwealth', 'game', 'watch', 'opening', 'ceremony', 'best', 'bit', 'including', 'duran', 'duran', 'lenny', 'henry', 'tom', 'daley', 'jacky', 'huntbroersma', 'cancer', 'survivor', 'ran', '104', 'marathon', '104', 'day', 'bafta', 'tv', 'award', 'eight', 'highlight', 'ceremony', 'west', 'ham', 'united', '12', 'eintracht', 'frankfurt', 'hammer', 'trail', 'first', 'leg', 'brentford', 'hit', 'four', 'humiliate', 'man', 'utd', 'energy', 'bill', 'cant', 'pay', 'could', 'ukraine', 'win', 'war', 'question', 'ukraine', 'war', 'russia', 'attack', 'theatre', 'sheltering', 'civilian', 'mariupol', 'say', 'pride', 'london', 'celebrating', '50th', 'anniversary', 'uk', 'first', 'pride', 'parade', 'john', 'lewis', 'mary', 'porta', 'warns', 'retailer', 'let', 'go', 'soul', 'angelina', 'jolie', 'visit', 'cafe', 'lviv', 'ukraine', 'world', 'cup', '2022', 'morocco', 'dream', 'beaten', 'france', 'semifinal', 'colombia', 'election', 'surprise', 'election', 'runoff', 'beckons', 'watford', '10', 'sheffield', 'united', 'hornet', 'give', 'rob', 'edward', 'winning', 'start', 'manager', 'match', 'day', '2', 'analysis', 'manchester', 'uniteds', 'shocking', 'display', 'we', 'cant', 'afford', 'give', 'away', 'christmas', 'cake', 'year', 'ancient', 'egyptian', 'green', 'coffin', 'returned', 'cairo', 'u', 'lauren', 'price', 'welsh', 'olympic', 'champion', 'win', 'professional', 'boxing', 'debut', 'wembley', 'arena', 'inside', 'amapiano', 'new', 'sound', 'south', 'africa', 'måneskin', 'wanted', 'show', 'dark', 'side', 'fame', 'new', 'album', 'rush', 'bordeaux', 'town', 'hall', 'set', 'fire', 'france', 'pension', 'protest', 'bao', 'fan', 'chinese', 'billionaire', 'keep', 'vanishing', 'rohingya', 'crisis', 'world', 'forgotten', 'stateless', 'refugee', 'nicola', 'bulley', 'body', 'found', 'river', 'confirmed', 'missing', 'mum', 'buffalo', 'shooting', 'parent', 'injured', 'victim', 'demand', 'political', 'action', 'joey', 'barton', 'cleared', 'assaulting', 'wife', 'georgia', 'energy', 'discount', 'phishing', 'robbed', '25000', 'text', 'scam', 'call', 'probe', 'claim', 'bbc', 'chair', 'helped', 'expm', 'secure', 'loan', 'ro', 'atkins', 'on', 'pm', 'lockdown', 'party', 'fine', 'hundred', 'shaheen', 'afridi', 'join', 'welsh', 'fire', 'kate', 'cross', 'move', 'northern', 'supercharger', 'world', 'cup', '2022', 'norm', 'lgbtq', 'football', 'fan', 'took', 'granted', 'shaken', 'wagatha', 'christie', 'six', 'takeaway', 'vardy', 'rooney', 'trial', 'queen', 'funeral', 'guest', 'attend', 'lucy', 'porter', 'tiktok', 'kill', 'standup', 'comedy', 'petrol', 'price', 'train', 'fare', 'head', 'teacher', 'quitting', 'within', 'five', 'year', 'taking', 'job', 'england', 'jake', 'wightman', 'could', 'successful', 'ever', 'coe', 'snp', 'candidate', 'predict', 'independence', 'five', 'year', 'disabled', 'get', 'cost', 'living', '150', 'september', 'twin', 'flying', 'support', 'sister', 'despite', 'selection', 'heartbreak', 'i', 'homeless', 'dozen', 'join', 'christmas', 'hike', 'uk', 'defies', 'climate', 'warning', 'new', 'oil', 'gas', 'licence', 'manchester', 'united', '31', 'everton', 'marcus', 'rashford', 'shine', 'man', 'utd', 'beat', 'everton', 'fa', 'cup', 'paper', 'foreign', 'worker', 'drive', 'lilibet', 'becomes', 'princess', 'paper', 'travel', 'carnage', 'worsens', 'pm', 'fuel', 'tory', 'anger', 'twitter', 'elon', 'musk', 'keen', 'taking', 'control', 'iranian', 'woman', 'need', 'certificate', 'prove', 'virgin', 'ukraine', 'war', 'world', 'must', 'act', 'stop', 'russia', 'nuclear', 'threat', 'zelensky', 'nation', 'league', 'wout', 'weghorst', 'denies', 'wale', 'draw', 'late', 'header', 'netherlands', 'go', 'back', 'iran', 'husband', 'kill', 'earth', 'wind', 'fire', 'drummer', 'fred', 'white', 'dy', 'aged', '67', 'northern', 'ireland', 'need', 'deal', 'everton', '11', 'tottenham', 'michael', 'keane', 'stunner', 'cancel', 'harry', 'kane', 'penalty', 'rishi', 'sunak', 'bow', 'tory', 'revolt', 'internet', 'safety', 'law', 'ghislaine', 'maxwell', 'appeal', 'sex', 'trafficking', 'conviction', 'singer', 'changed', 'one', 'word', 'canada', 'anthem', 'peace', 'message', 'gareth', 'bale', 'join', 'child', 'wale', 'centenary', 'year', 'covid', 'china', 'call', 'beijing', 'strengthen', 'response', 'coleen', 'rooney', 'online', 'post', 'last', 'resort', 'russia', 'invaded', 'ukraine', 'putin', 'want', 'rae', 'morris', 'i', 'definitely', 'fully', 'dropped', 'general', 'election', 'next', 'one', 'could', 'called', 'sooner', 'mlb', 'texas', 'ranger', 'eli', 'white', 'make', 'outrageous', 'catch', 'stop', 'home', 'run', 'tampa', 'bay', 'ray', 'ukraine', 'conflict', 'oil', 'price', 'soar', 'highest', 'level', 'since', '2008', 'why', 'cut', 'homeless', 'people', 'hair', 'free', 'nicola', 'sturgeon', 'search', 'begin', 'find', 'successor', 'job', 'i', 'like', 'breaking', 'prison', 'officer', 'stereotype', 'world', 'cup', 'england', 'fan', 'frustrated', 'disappointing', 'usa', 'match', 'the', 'pinnacle', 'quiz', 'night', 'airline', 'told', 'cancel', 'flight', 'stop', 'travel', 'chaos', 'introducing', 'dr', 'ringo', 'starr', 'kherson', 'inside', 'city', 'liberated', 'russian', 'roe', 'v', 'wade', 'u', 'supreme', 'court', 'ruling', 'abortion', 'tyre', 'nichols', 'exofficers', 'plead', 'guilty', 'death', 'bring', 'head', 'spy', 'sent', 'get', 'bin', 'laden', 'stop', 'oil', '200', 'arrested', 'oil', 'terminal', 'protest', 'gadd', 'ice', 'climber', 'closeup', 'view', 'climate', 'change', 'wimbledon', '2022', 'stefanos', 'tsitsipas', 'disqualified', 'this', 'rare', 'condition', 'give', 'tv', 'static', 'vision', 'jurgen', 'klopp', 'liverpool', 'manager', 'plan', 'quit', 'unless', 'someone', 'tell', 'me', 'uk', 'weather', 'spring', 'snow', 'part', 'country', 'hit', 'cold', 'snap', 'ukraine', 'war', 'flight', 'ban', 'hit', 'russian', 'foreign', 'minister', 'visit', 'serbia', 'euro', '2022', 'beth', 'mead', 'goal', 'give', 'england', 'winning', 'start', 'austria', 'premier', 'league', 'chelsealiverpool', 'man', 'utdleeds', 'brightonpalace', 'queen', 'funeral', 'latest', 'uk', 'weather', 'forecast', 'extreme', 'heat', 'continue', 'weekend', 'mariupol', 'satellite', 'image', 'suggest', 'mass', 'graf', 'dug', 'near', 'besieged', 'city', 'know', 'result', 'four', 'takeaway', 'year', 'gcse', 'result', 'british', 'gas', 'owner', 'centrica', 'shell', 'see', 'profit', 'soar', 'bill', 'rise', 'world', 'cup', '2022', 'england', 'bos', 'gareth', 'southgate', 'looking', 'forward', 'acid', 'test', 'france', 'mesut', 'ozil', 'five', 'great', 'arsenal', 'moment', 'exreal', 'madrid', 'germany', 'midfielder', 'retires', 'marcus', 'north', 'pull', 'running', 'england', 'managing', 'director', 'men', 'cricket', 'quiz', 'week', 'cheese', 'news', 'week', 'picture', '30', 'april', '6', 'may', '2022', 'man', 'city', 'v', 'liverpool', 'premier', 'league', 'top', 'two', 'meet', 'etihad', 'stadium', 'u', 'midterm', 'know', 'election', 'result', 'ni', 'secretary', 'meet', 'stormont', 'political', 'leader', 'many', 'people', 'cross', 'channel', 'small', 'boat', 'come', 'from', 'paper', 'a', 'new', 'iron', 'curtain', '100m', 'royal', 'grenfell', 'tower', 'fire', 'music', 'help', 'young', 'people', 'cope', 'newspaper', 'headline', 'ambulance', 'strike', 'threatens', 'life', 'call', 'taxi', 'liz', 'truss', 'sort', 'prime', 'minister', 'be', 'american', 'turning', 'some', 'of', 'gun', 'british', 'grand', 'prix', 'george', 'russell', 'say', 'formula', '1', 'need', 'learn', 'zhou', 'guanyu', 'crash', 'public', 'sector', 'pay', 'million', 'worker', 'await', 'deal', 'decision', 'chris', 'hipkins', 'uphill', 'battle', 'loom', 'new', 'zealand', 'next', 'pm', 'scan', 'reveal', 'covid', 'may', 'change', 'brain', 'hydra', 'german', 'police', 'dismantled', 'russian', 'darknet', 'site', 'new', 'chatbot', 'everyone', 'talking', 'call', 'extra', 'bank', 'holiday', 'made', 'permanent', 'world', 'cup', '2022', 'iran', 'performance', 'wont', 'enough', 'v', 'usa', 'gareth', 'southgate', 'disabled', 'fan', 'treated', 'like', 'animal', 'hearing', 'told', 'ambulance', 'wait', 'can', 'please', 'tell', 'hurry', 'shall', 'dead', 'commonwealth', 'game', 'take', 'big', 'step', 'towards', 'esports', 'england', 'show', 'game', 'glory', 'remarkable', 'test', 'summer', 'sky', 'walkway', 'proposal', 'edinburgh', 'radical', 'road', 'bavaria', 'train', 'crash', 'least', 'four', 'killed', 'german', 'rail', 'accident', 'secondary', 'school', 'place', 'parent', 'find', 'out', 'world', 'cup', '2022', 'england', 'step', 'up', 'wale', 'win', 'show', 'frightening', 'depth', 'gareth', 'southgates', 'squad', 'trip', 'transformed', 'australia', 'china', 'tie', 'five', 'decade', 'fall', 'pound', 'matter', 't20', 'world', 'cup', 'england', 'coach', 'matthew', 'mott', 'say', 'side', 'make', 'widespread', 'change', 'bristol', 'zoo', 'memory', 'major', 'part', 'city', 'life', 'close', 'flu', 'covid', 'could', 'make', 'hard', 'winter', 'uk', 'turkey', 'threatens', 'block', 'finland', 'sweden', 'nato', 'bid', 'epsom', 'college', 'death', 'family', 'tribute', 'head', 'teacher', 'daughter', 'liverpool', '01', 'real', 'madrid', 'red', 'beaten', 'paris', 'vinicius', 'jr', 'hit', 'winner', 'much', 'could', 'mortgage', 'rise', 'try', 'calculator', 'grieving', 'russian', 'cant', 'believe', 'talk', 'war', 'crime', 'ukraine', 'mohamed', 'salah', 'liverpool', 'forward', 'anfield', 'next', 'season', 'for', 'sure', 'leader', 'u', 'farright', 'militia', 'guilty', 'inciting', 'rebellion', 'taliban', 'official', 'must', 'sack', 'son', 'given', 'government', 'job', 'andrew', 'tate', 'see', 'luxury', 'villa', 'brother', 'house', 'arrest', 'kourtney', 'kardashians', 'lem', 'me', 'vagina', 'gummies', 'bother', 'say', 'expert', 'nato', 'veto', 'lifted', 'false', 'claim', 'today', 'ukraine', 'roundup', 'mortgage', 'happens', 'miss', 'payment', 'virat', 'kohlis', 'adelaide', 'record', 'could', 'bad', 'news', 'england', 't20', 'world', 'cup', 'semifinal', 'euro', '2024', 'qualifier', 'marcus', 'rashford', 'mason', 'mount', 'nick', 'pope', 'withdraw', 'england', 'squad', 'rugby', 'world', 'cup', 'england', 'marlie', 'packer', 'lead', 'muchchanged', 'side', 'eurovision', '2022', 'ukraine', 'win', 'uk', 'sam', 'ryder', 'come', 'second', 'priti', 'patel', 'nadine', 'dorries', 'step', 'ahead', 'new', 'pm', 'ukraine', 'crisis', 'west', 'fight', 'back', 'putin', 'disruptor', 'sea', 'turtle', 'navigate', 'boris', 'johnson', 'clash', 'mp', 'partygate', 'denial', 'russian', 'oligarch', 'lambasts', 'country', 'massacre', 'mariupol', 'theatre', 'we', 'knew', 'something', 'terrible', 'would', 'happen', 'we', 'single', 'penny', 'post', 'office', 'ive', 'achieve', 'sterling', 'sign', 'chelsea', 'knaresborough', 'litterpick', 'pair', 'car', 'trip', 'live', 'wwi', 'bomb', 'gareth', 'southgate', 'england', 'bos', 'welcome', 'germany', 'decision', 'take', 'knee', 'nation', 'league', 'pug', 'health', 'poor', 'cant', 'considered', 'typical', 'dog', 'study', 'may', 'thinking', 'digital', 'twin', 'within', 'decade', 'cost', 'living', 'weve', 'got', '30p', 'left', 'prepayment', 'meter', 'ukraine', 'war', 'kyiv', 'reject', 'putin', 'trivial', 'christmas', 'truce', 'notting', 'hill', 'carnival', 'rapper', 'takayo', 'nembhard', 'stabbed', 'death', 'energy', 'website', 'crash', 'meter', 'reading', 'rush', 'gianluigi', 'lentini', 'rise', 'fall', 'world', 'expensive', 'player', 'top', 'chef', 'tip', 'cooking', 'christmas', 'budget', 'mr', 'doodle', 'covered', 'entire', 'house', 'doodle', 'booker', 'prize', '2022', 'sri', 'lankan', 'author', 'shehan', 'karunatilaka', 'win', 'supernatural', 'satire', 'aaron', 'carter', 'backstreet', 'boy', 'star', 'lead', 'tribute', 'late', 'brother', 'dazzling', 'crown', 'sat', 'queen', 'coffin', 'a', 'fantasy', 'amateur', 'jockey', 'grand', 'national', 'fairytale', 'uk', 'falling', 'behind', 'net', 'zero', 'race', 'review', 'find', 'formula', 'milk', 'online', 'group', 'hunt', 'baby', 'milk', 'u', 'shortage', 'tory', 'leadership', 'ballot', 'delayed', 'security', 'fear', 'man', 'found', 'buried', 'garden', 'died', 'stab', 'wound', 'neck', 'kept', 'sexuality', 'secret', 'work', 'kuenssberg', 'need', 'step', 'up', 'keep', 'kid', 'safe', 'online', 'elon', 'musk', 'spending', 'time', 'twitter', 'mission', 'mar', '18', 'shipping', 'container', 'rotting', 'cabbage', 'patrick', 'lyoya', 'could', 'rethink', 'u', 'police', 'traffic', 'stop', 'save', 'life', 'south', 'korea', 'japan', 'milestone', 'meeting', 'frenemies', 'found', 'animal', 'origin', 'covid', 'get', 'cold', 'weather', 'payment', 'much', 'they', 'ukraine', 'war', 'germany', 'conundrum', 'tie', 'russia', 'business', 'rishi', 'sunak', 'asks', 'homeless', 'man', 'shelter', 'visit', 'paper', 'they', 'think', 'sober', 'pm', 'fear', 'woman', 'queen', 'funeral', 'plan', 'happen', 'day', 'turkey', 'huge', 'rally', 'opposition', 'canan', 'kaftancioglu', 'schengen', 'eu', 'borderfree', 'zone', 'romania', 'bulgaria', 'resident', 'turn', 'putin', 'liberated', 'lyman', 'talking', 'therapy', 'ice', 'cream', 'helping', 'people', 'discus', 'difficult', 'topic', 'harry', 'kane', 'tottenham', 'captain', 'subbed', 'suffering', 'fatigue', 'say', 'antonio', 'conte', 'brazil', 'election', 'campaign', 'turned', 'ugly', 'l', 'lowry', 'going', 'match', 'sell', '78m', 'auction', 'world', 'cup', '2022', 'watch', 'different', 'view', 'jude', 'bellingham', 'brilliant', 'display', 'england', 'senegal', 'puzzle', 'uk', 'half', 'million', 'missing', 'worker', 'scottish', 'bakery', 'morton', 'roll', 'cease', 'trading', 'commonwealth', 'game', 'geraint', 'thomas', 'take', 'time', 'trial', 'bronze', 'fred', 'wright', 'anna', 'henderson', 'win', 'silver', 'baby', 'sticky', 'tape', 'skin', 'test', 'predict', 'eczema', 'risk', 'po', 'ferry', 'preparing', 'restart', 'dovercalais', 'route', 'australia', 'flood', 'im', 'angry', 'happening', 'again', 'irmgard', 'furchner', 'nazi', 'typist', 'guilty', 'complicity', '10500', 'murder', 'john', 'motson', 'reminisces', 'career', 'football', 'commentator', 'josh', 'warrington', 'knock', 'kiko', 'martinez', 'regain', 'ibf', 'featherweight', 'title', 'highlight', 'awaits', 'brittney', 'griner', 'russian', 'penal', 'colony', 'bafta', 'tv', 'award', '2022', 'winner', 'full', 'world', 'cup', '2022', 'lionel', 'messi', 'diego', 'maradonas', 'world', 'cup', 'record', 'compared', 'bus', 'funeral', 'procession', 'manchester', 'veteran', 'driver', 'tintagel', 'among', 'castle', 'risk', 'climate', 'change', 'joe', 'lycett', 'asked', 'explain', 'comedy', 'show', 'joke', 'police', 'quadriplegic', 'cerebral', 'palsy', 'mum', 'see', 'son', 'walk', 'first', 'time', 'match', 'day', 'top', '10', 'gary', 'lineker', 'relives', 'barcelona', 'hattrick', 'real', 'madrid', 'london', 'luton', 'airport', 'government', 'hold', 'inquiry', 'growth', 'plan', 'carcharging', 'dog', 'hotel', 'seven', 'perk', 'lure', 'office', 'windfall', 'tax', 'oil', 'gas', 'company', 'hosepipe', 'ban', 'area', 'university', 'staff', 'plan', '18', 'new', 'day', 'strike', 'halloween', 'pigheaded', 'butcher', 'lead', 'scare', 'aberdare', 'house', 'wrexham', 'man', 'dy', 'bitten', 'dog', 'house', 'maxi', 'jazz', 'tribute', 'hail', 'faithless', 'singer', 'incredible', 'talent', 'afghanistan', 'womens', 'face', 'become', 'latest', 'taliban', 'restriction', 'face', 'veil', 'rule', 'ukraine', 'war', 'night', 'peaceful', 'last', 'trauma', 'air', 'raid', 'full', 'lunar', 'eclipse', 'bring', 'super', 'blood', 'moon', 'scottish', 'island', 'pladda', 'sale', 'price', 'city', 'flat', 'keely', 'hodgkinson', 'expecting', 'herself', 'eugene', 'six', 'nation', 'uini', 'atonio', 'banned', 'dangerous', 'tackle', 'rob', 'herring', 'ukraine', 'war', 'nurse', 'lost', 'leg', 'first', 'dance', 'husband', 'hospital', 'scottie', 'scheffler', 'win', 'player', 'championship', 'sawgrass', 'tyrrell', 'hatton', 'second', 'one', 'poorest', 'slum', 'argentina', 'family', 'rely', 'huge', 'landfill', 'site', 'food', 'liz', 'truss', 'resigns', 'race', 'kick', 'find', 'successor', 'within', 'week', 'bristol', 'longboarding', 'group', 'a', 'blessing', 'lockdown', 'week', 'picture', '29', 'october', '4', 'november', '2022', 'free', 'childcare', 'plan', 'why', 'wait', 'trespasser', 'cause', 'severe', 'rail', 'disruption', 'partygoer', 'dr', 'congo', 'my', 'life', 'changed', 'thanks', 'coffee', 'female', 'dance', 'act', 'largely', 'ignored', 'radio', 'study', 'say', 'bbc', 'unveils', 'modernised', 'flagship', 'tv', 'news', 'studio', 'chelsea', '22', 'tottenham', 'thomas', 'tuchel', 'say', 'match', 'sucked', 'in', 'antonio', 'conte', 'saw', 'red', 'german', 'master', 'ali', 'carter', 'beat', 'tom', 'ford', 'bit', 'help', 'whitney', 'houston', 'week', 'picture', '511', 'march', '2022', 'uvalde', 'school', 'shooting', 'embattled', 'police', 'chief', 'put', 'leave', 'former', 'airline', 'worker', 'it', 'would', 'like', 'going', 'back', 'ex', 'david', 'beckham', 'hand', 'instagram', 'account', 'ukrainian', 'doctor', 'leah', 'croucher', 'quiet', 'teenager', 'vanished', 'way', 'work', 'ukraine', 'roundup', 'mariupol', 'civilian', 'remain', 'trapped', 'russian', 'oligarch', 'decries', 'massacre', 'aek', 'larnaca', '02', 'west', 'ham', 'visitor', 'close', 'europa', 'conference', 'league', 'quarterfinal', 'ukraine', 'war', 'ally', 'seek', 'security', 'zaporizhzhia', 'nuclear', 'plant', 'transgender', 'child', 'texas', 'plan', 'probe', 'parent', 'halted', 'australia', 'election', 'simple', 'guide', 'ukrainian', 'president', 'volodymyr', 'zelensky', 'address', 'irish', 'parliament', 'joe', 'cordina', 'welshman', 'win', 'ibf', 'superfeatherweight', 'title', 'energy', 'price', 'cap', 'high', 'bill', 'go', 'premiership', 'northampton', 'saint', '3231', 'harlequin', 'james', 'grayson', 'penalty', 'seal', 'dramatic', 'win', 'deborah', 'james', 'passionate', 'vision', '68m', 'raised', 'u', 'midterm', 'bbcs', 'voter', 'profile', 'shown', 'hate', 'disinformation', 'online', 'sri', 'lankans', 'protesting', 'street', 'grooming', 'gang', 'ethnicity', 'evidence', 'say', 'piccadilly', 'circus', 'new', 'screen', 'make', 'landmark', 'bolder', 'brighter', 'refugee', 'wale', 'thank', 'god', 'came', 'home', 'bombed', 'nasa', 'orion', 'spacecraft', 'homewardbound', 'anime', 'japanese', 'animation', 'taken', 'west', 'storm', 'samantha', 'cristoforetti', 'astronaut', 'taking', 'tiktok', 'new', 'height', 'thank', 'you', 'king', 'brazil', 'light', 'pele', 'master', 'scottie', 'scheffler', 'win', 'first', 'major', 'rory', 'mcilroy', 'finish', 'second', 'crown', 'queen', 'friend', 'say', 'netflix', 'show', 'make', 'angry', 'hidden', 'history', 'scotland', 'biggest', 'nuclear', 'bunker', 'mum', 'warning', 'uterine', 'cancer', 'mistaken', 'period', 'french', 'open', 'dan', 'evans', 'cameron', 'norrie', 'win', 'roland', 'garros', 'harriet', 'dart', 'loses', 'debut', 'grandmother', 'alzheimers', 'face', 'deportation', 'sweden', 'hormone', 'replacement', 'therapy', 'menopause', 'need', 'know', 'hrt', 'womens', 'world', 'cup', 'england', 'set', 'face', 'south', 'africa', 'semifinal', 'womens', 'footballer', 'year', 'contender', 'alexia', 'putellas', 'welsh', 'rugby', 'crisis', 'wru', 'sign', 'sixyear', 'deal', 'four', 'professional', 'team', 'asteroid', 'next', 'big', 'prize', 'space', 'race', 'garth', 'crook', 'team', 'week', 'de', 'gea', 'foden', 'saka', 'ronaldo', 'newcastle', 'starting', 'upset', 'big', 'boy', 'alan', 'shearer', 'magpie', 'topfour', 'hope', 'win', 'spur', 'why', 'disabled', 'superhero', 'marvel', 'movie', 'ukraine', 'war', 'i', 'stay', 'ground', '60', 'day', 'girl', 'aloud', 'race', 'sarah', 'harding', 'hyde', 'park', 'roe', 'v', 'wade', 'biden', 'call', 'federal', 'law', 'restore', 'abortion', 'right', 'mindreading', 'combat', 'jet', 'future', 'england', 'scoring', 'record', 'mean', 'everything', 'kane', 'donald', 'trump', 'charged', 'happens', 'next', 'protest', 'iran', 'staterun', 'live', 'tv', 'hacked', 'protester', 'quiz', 'week', 'doctor', 'companion', 'back', 'tardis', 'six', 'nation', '2023', 'freddie', 'steward', 'red', 'card', 'ireland', 'called', 'an', 'utter', 'farce', 'strep', 'a', 'penarth', 'primary', 'school', 'child', 'dy', 'disease', 'uk', 'election', '2022', 'really', 'simple', 'guide', 'pension', 'lifetime', 'annual', 'allowance', 'changing', 'transfer', 'rumour', 'calvertlewin', 'pogba', 'lewandowski', 'sterling', 'guardiola', 'rice', 'benjamin', 'mendy', 'woman', 'woke', 'footballer', 'raping', 'her', 'court', 'told', 'brit', 'award', 'wet', 'leg', 'rina', 'sawayama', 'urge', 'change', 'female', 'nominee', 'liegebastogneliege', 'cycling', 'oldest', 'spring', 'classic', 'celebrates', '130', 'year', 'torture', 'john', 'travolta', 'pose', 'photo', 'norfolk', 'morrison', 'wetherspoon', 'covid', 'happened', 'care', 'home', 'early', 'pandemic', 'laver', 'cup', 'andy', 'murray', 'planning', 'roger', 'federerstyle', 'farewell', 'europe', 'lose', 'celtic', 'ease', 'dundee', 'utd', 'scottish', 'cup', 'last', 'four', 'student', 'loan', 'work', 'borrow', 'pay', 'back', 'billie', 'eilish', 'protest', 'u', 'abortion', 'ruling', 'glastonbury', 'naga', 'fit', 'laughter', 'charlies', 'mar', 'musing', 'england', 'v', 'india', 'harmanpreet', 'kaur', 'hit', 'masterful', 'century', 'lead', 'india', 'odi', 'series', 'win', 'johnson', 'partygate', 'avoided', 'physical', 'contact', 'passed', 'drink', 'story', 'lastsurviving', 'ww2', 'veteran', 'frenkie', 'de', 'jong', 'manchester', 'united', 'contact', 'barcelona', 'midfielder', 'dominic', 'raab', 'third', 'senior', 'civil', 'servant', 'give', 'evidence', 'bullying', 'probe', 'highlight', 'radacanu', 'beat', 'uytvanck', 'picture', 'mountain', 'bikers', 'descend', 'snowy', 'peak', 'company', 'must', 'help', 'cut', 'living', 'cost', 'say', 'new', 'cost', 'living', 'tsar', 'beware', 'online', 'car', 'sale', 'scam', 'consumer', 'warned']\n"
     ]
    }
   ],
   "source": [
    "print(token_clean_list)"
   ]
  },
  {
   "cell_type": "code",
   "execution_count": 74,
   "id": "a26291e7-b328-4896-99cb-f888d059b844",
   "metadata": {},
   "outputs": [],
   "source": [
    "#POS Tagging\n",
    "nlp = spacy.load('en_core_web_sm')"
   ]
  },
  {
   "cell_type": "code",
   "execution_count": 106,
   "id": "e74dbf50-fe51-4fc0-82ff-5315093140d0",
   "metadata": {},
   "outputs": [],
   "source": [
    "doc = nlp(' '.join(token_clean_list))"
   ]
  },
  {
   "cell_type": "code",
   "execution_count": 108,
   "id": "71fd54b5-a911-4ee0-bed9-539278fbc93c",
   "metadata": {},
   "outputs": [
    {
     "name": "stdout",
     "output_type": "stream",
     "text": [
      "refuse work liz truss brief world reacts uk political turmoil rationing energy nothing new offgrid community hunt superyachts sanctioned russian oligarch platinum jubilee 70 year queen 70 second red bull found guilty breaking formula 1 budget cap world triathlon championship series flora duffy beat georgia taylorbrown womens title terry hall coventry scooter rideout pay tribute singer post office fujitsu face inquiry horizon scandal pavement parking frightens me uk interest rate rise affect high could go stayed storm happens now six nation scotland best since 99 beat best ireland ever long liz truss survive prime minister platinum jubilee beacon light across globe celebrate queen reign top student loan interest rate cut 5 england russian said theyd take baby medic story week picture 1117 june 2022 xi jinping hong kong tight security city mark 25 year handover rescue carried silence listen sound life nick pope newcastle goalkeeper extends incredible clean sheet record china plan become next big space power barcelona thrash leader real madrid famous clasico win kuenssberg budget can not mask big change economy nicola bulley search know disappearance cost living christmas light display survive energy crisis 100yearold edinburgh man still working three day week freya 600kg walrus cause stir norway offer uk home ukrainian refugee nicola bulley search former police bos say criticism unfair bolduc democrat elevated republican backfire strike action cancelled queen death neighbourhood leading green energy revolution men u17 european championship dutch 17yearold isaac babadi score panenka penalty amtrak derailment three killed missouri train hit truck energy price cap rising bill four discount payment could help environment mushroom board future surfing flying boat tech cleaner shipping scottish football ban heading day match chris eubank jr v liam smith next boxing unacceptable taunt town destroyed make way whitesonly suburb ukraine war village celebrates russian retreat root hit ton england take command west indie heineken champion cup leicester 166 edinburgh jasper wiese try sends tiger last eight world cup 2022 bellingham gakpo fernandez breakout star briton jack fenton killed greek helicopter accident emotional sue barker get centre court ovation ukrainian skating sister back doing love england v india edgbaston official investigate crowd racism test newspaper headline rwanda plan will fail sa train kyiv force name leon sir lenny henry brings moving adoption story screen big brother star glyn wise plan priest minister asleep wheel dentist shortage say lib dems chris kaba met suspends officer shot dead unarmed man world cup 2022 learned group stage saw record number upset james webb nasa space telescope delivers spectacular picture constitution hill cheltenham champion hurdle winner the horse generation least one victim could survived arena bomb inquiry gareth bale wale captain retires football aged 33 ukraine war silent street wiped donetsk town world cup 2022 vittorio pozzos legacy record might finally threat train strike worker vote six month walkout eidevall 100 sure arsenal advance firstleg draw ukraine war returning place father killed furniture firm made collapse customer dark refund widow u capitol riot officer stigma death nh reach deal lifesaving breastcancer drug giant ceramic sculpture sandy brown unveiled cornwall ceo secret one company attracts men boris becker tennis superstar crashed earth turkish mine explosion kill 25 leaf dozen trapped indian well andy murray emma raducanu jack draper win reach third round world athletics championship gb keely hodgkinson narrowly miss gold dramatic 800m nh crisis medic trying fix health service jet crash block flat russia prince harry meghan get money chelsea 42 man utd chelsea win historic third successive wsl title tory leadership rather lose right thing say sunak omagh police shooting four men released john caldwell attack northern ireland 10 italy sarah mcfadden score famous winner belfast actress clara darcy starring play brain tumour bridgerton south asian face tv make happy prince harry remembers queen elizabeth ii infectious smile million receive latest costofliving payment joe biden head middle east amid faltering u sway nh public satisfaction health service drop record low seen major winter storm paper lion bare teeth starmers migration policy afghanistan pupil fear spate islamic state attack princess wale kate pay tribute queen elizabeth carol service emma raducanu u open champion discusses tough split coach torben beltz oxford united 03 arsenal eddie nketiah score twice gunner progress ukraine roundup putin defends necessary invasion kyiv averts cyberattack ni protocol uk eu reach agreement trade data sharing super mario bros movie jack black rise game adaptation fourtime slam champion osaka announces pregnancy mcdonalds cocacola boycott call grow russia womens footballer year contender sam kerr war ukraine vladimir putin trained fighter africa ryanairs michael oleary want practical immigration approach i planned end life 16 still here england 14 men whipped twickenham crowd stirring display open rory mcilroy viktor hovland share lead st andrew third round real madrid 20 eintracht frankfurt karim benzema score 324th goal real super cup win paper boris dossier judge to back down rwanda queen pull attending commonwealth service mosque fire suspect arrested second attack world cup 2022 belgium drop love away shirt qatar uk living covid plan soho street turned new london art gallery paper cruise ship house migrant new nh cash pay gap boss staff widen think tank local election child urge action save wildlife climate change uk track meet target trump investigation empty folder marked classified found maralago jim ratcliffe man bidding man utd shropshire baby death parent whose life changed forever bus journey taken since 2 fare cap say watchdog mexico kidnapping twisted moral code explains cartel apology rail fare england rise inflation rate minister say taliban school uturn a devastating day afghan girl malala yousafzai met police next force casey review ukraine war kherson mariupol key russian success heineken champion cup premiership cap hinders english team alex sanderson ukraine war protester expose crack kremlin war message liz truss vow match ukraine military support politics return wale population hit new high growth lowest many ukrainian fled home gone deloitte report european football made significant recovery covid pandemic nigeria flood overwhelming disaster leaf 600 people dead wimbledon emma raducanu andy murray set centre court day one journey site nord stream explosion quiz week lindsay lohan trouble gracie spinks receipt could traced killer family supreme court happens roe v wade overturned chancellor warns tax rise squeeze spending imran khan ousted pakistan pm key vote artemis nasa orion capsule break distance record ukraine winning social medium war flint arrest missing girl 12 found birmingham france drought parched town left short drinking water invergordon shed door marble bust could sold massive toll living leasehold property ukraine war put value profit nato chief tell country buyer revive interest city flat return office uk weather long cold snap last hidilyn diaz accusation antigovernment plot historic olympic gold government introduce independent football regulator england backing fanled review pint power parent three way budget could affect alevel gcse exam happens paper nato nordic expansion threat boost europe sudden unknown death childhood why beautiful son die droylsden man charged girl 6 abducted sexually assaulted fa cup wrexham 33 sheffield united egans late strike denies wrexham victory uk compassionate say pm suella braverman invasion row foreign secretary liz truss join tory leadership race world cup 2022 wale must put big boy pant on england say bos robert page forgive man tried murder announces leader death name replacement nurse strike much know pay try quiz rishi sunak speaks safety fear daughter leslie jordan grace star dy aged 67 olivia prattkorbel murderaccused highlevel drug dealer north carolina suspect15 custody raleigh shooting spree uk weather long cold snap last queen funeral guest attend rishi sunaks failure wear seat belt investigated heathrow airport extends cap passenger end october john peel family selling rare item archive mp call uk ban two chinese cctv firm u economy shrink sparking recession fear womens t20 world cup england india prepare decisive group stage encounter michaela mcareavey two men apologise video mocking bride murder scotland 21 republic ireland ryan christie late penalty give host crucial win much could mortgage rise try calculator covid vaccine linked death major u study find oscar 2023 rrrs naatu naatu win best original song paper russia accused genocide fuel duty cut forest set new record transferwindow rush watch russian tank abandoned retaken ukrainian territory could elgin marble returned greece review nottingham nh maternity failing launch world cup 2022 fan miss kickoff fifa ticket app issue england u21s 30 albania u21s young lion qualify 2023 european under21 championship make movie without huge carbon footprint tv presenter matthew bassett show life go spinal injury gta rockstar rejected eminem movie deal say insider world cup 2022 france kylian mbappe upstage olivier giroud goalscoring record mystery death two saudi sister sydney matt hancock celebrity led dozen complaint mp watchdog cricket world cup englandaustralia final shown free air sunday nurse strike thousand join first walkout sad day exeter man held murder woman ludwell valley park tory leadership truss criticised macron jury out remark keir starmer right wage stuck decade were behind you famous face cheer lioness zelensky asked give russia part ukraine amber heard easy forget human worker take london street amid cost living crisis my cancerous tumour big kettle bell chester zoo rare baby wallaby emerges mother pouch world cup 2022 belgium afraid lose morocco say roberto martinez boy george tear hancock enters celeb camp elon musk defends racist tirade dilbert creator scott adam henry cat heart addenbrookes hospital week picture 2 8 april 2022 former uk pm boris johnson make trip ukraine picture sporting memory queen cody gakpo liverpool agree sign forward say psv eindhoven prince william oversees trooping colour rehearsal new reality woman seeking abortion texas water pipe robot could stop billion litre leaking london west end man crushed telescopic urinal dy emma raducanu injured british number one face race fit wimbledon world cup south korea reach last 16 dramatic lastgasp win portugal china spy balloon u navy release photo debris child q schoolgirl stripsearch isolated issue police data suggests everybody allowed play football liverpool 33 brighton jurgen klopp vow red fight difficult spell rugby world cup england claudia macdonald hannah botterman start commonwealth game andrea spendolinisirieix noah williams win mixed synchronised 10m platform gold suella braverman challenge critic oust asylum row beth mead arsenal forward say record wsl crowd still beginning manchester united 30 sheriff tiraspol cristiano ronaldo score comfortable win t20 world cup england v india semifinal jos buttler alex hale star orkney part scallop disco fishing trial putin mariupol russian president saw visit ukraine war jewish child airlifted israel politics increasingly dealbreaker u dating scene covid19 china shanghai getting used new normal vietnam veteran win lottery six time intuition council tax much rising alex murdaugh trial power privilege murder downfall dynasty leicester city bos brendan rodgers vow to fight on survive edgware man arrested woman dy christmas day crash sweden 50 portugal man city filippa angeldal score two easy win swede ukraine war russian foreign minister sergei lavrov factchecked dominic raab face question aggressive behaviour claim pakistan flood map beforeafter photo show extent devastation sri lanka protest unifying nation ethnic fault line run deep u dollar strong mean disabled shropshire man completes sevenday marathon feat charlotszyu undisputed world champion break hand leila borrington woman jailed killing threeyearold stepson fa cup 2023 highlight joao palhinha manor solomon score wonder goal fulham beat leeds united alabama hunt missing prison inmate guard billie jean king cup final great britain underdog inspired glasgow past experience liverpool bos jurgen klopp say planning fa cup semifinal ridiculous mariupol video appear show dead civilian u open rory mcilroy england callum tarren one behind leader adam hadwin ml launch investigation dc united forward taxi fountas accused using racial slur match day 2 analysis bruno guimaraes game newcastle reanne evans beat stuart bingham become first woman win match snooker shoot ukraine conflict growing number firm pull back russia oleksiy vadatursky ukraine grain tycoon killed russian shelling mykolaiv tory member vent fury rishi sunaks coronation mp antonio conte italian thanks tottenham fan sharing passion football watch drama 60 second corrie mckeague would bingedrink friend death inquest british gymnastics name banned coach zero tolerance plan abuse strike rule trade union allowed strike commonwealth game england woman beat australia win historic first hockey gold worrying number slim child dieting wallasey pub shooting woman fatally shot targeted police putin set midnight deadline rouble gas payment big zuu breaking mould cookery show wayne quilliam photographing diversity aboriginal australia tory mp express concern tax cut pound fall war ukraine factchecking russian claim nato troop fighting ukraine ni election 2022 prime minister visit ni dup block assembly court bid protect tenant renttorent ghost landlord hundred boundary womens competition small duhan van der merwe score sensational six nation try scotland beat england rrr indian action spectacle charming west john lennon son open yoko ono performance centre liverpool background smith attack omagh police attack john caldwell ha suffered lifechanging injury pelosi visit taiwan put ball firmly xi jinpings court eva kaili senior eu lawmaker arrested alleged bribery gulf state england v south africa sophia dunkley ton lead host convincing win second odi doctor raise safety fear birmingham hospital energy saving scheme energy saving scheme electricity commonwealth game australia beat india nine run claim cricket gold man utd 21 liverpool ten hag get big call right manchester united stun liverpool historic english pub recognised interior pope francis apologises indigenous people canada swingometer inventor sir david butler dy 98 met police dark corner force wayne couzens worked ukraine war boris johnson visit sweden finland mountaineer jp mohrs message we reach summit deal ataglance house zana owner hope zara trademark win inspire others face face bandit warlord nigeria bucha murder german report say russian troop discussed killing bruce lehrmann australia parliament rape retrial abandoned love island ekinsu davide crowned 2022 winner live final england v south africa issy wong take late wicket boost host nba warrior coach texas school shooting when going something mary queen scot deposed ruler secret prison letter found decoded ukraine war im scared new teacher war big uk trial find best drug fight flu area new record july heatwave uk covid inquiry draft term reference set mp pierce johnson armour big moment durban flood survivor i thought world ending amazon begin drone delivery lockeford california year petrol price fuel duty going up michelle donelan new education secretary facing thousand complain hmrc tax repayment twitch streamer kai cenat break subscriber record champion league nearly 2000 liverpool fan set sue uefa climate change force indigenous islander panama relocate cost living firm warned consumer want low price kenya investigate sex work exposed bbc tea documentary wizz air suspend moldova flight airspace safety bristol mayor fly nine hour ted climate conference victoria azarenka want safeguarding improved female player being spiked stopped going again royal mail overseas parcel ban costing hundred pound doctor trailer drop fan christmas ae absolute chaos spent 15 hour trolley paper voter cost living fear drought day away ukraine yarmolenko get europa winner west ham england v south africa ben stokes change approach despite firsttest loss french open coco gauff call peace end gun violence camera message indonesia 120 dead football stampede excess death 2022 among worst 50 year it bit weird young mormon missionary bootcamp training italy world cup azzurri turn disaster north macedonia better future petr pavel exgeneral beat populist rival czech election half million people watch study tiktok comedian rhod gilbert receiving treatment cancer quiz week cristiano ronaldos offfield goal deptford london high street voted one world coolest alzheimers neil kinnock supporting wife disease paper wake zombie truss softens handout rock really power light bulb no say expert mind game argentina dancing hero olivier 2022 jason manfords best joke 7 highlight author benjamin myers cropcircle maker blew people mind king coronation oil animalcruelty free truss tax cut clearly wrong approach say shapps missing doncaster cockatiel prompt unusual search tactic owner election result 2022 boris johnson admits tough loss tory uk election 2022 really simple guide almost 400 migrant cross channel small boat grenfell tragedy government failing act inquiry report say london mayor josephine tewson keeping appearance actress dy 91 margaret thatcher secret brahms phone invented texas shooting sunny uvalde school day ended bloodshed hay fever getting worse uk ukraine war map tracking russian invasion covid spring booster jab launch over75s high risk england u midterm election finland answer fake news edinburgh festival biggest art festival world begin world cup 2022 wale allen back bale ramsey shine england game crown new season watched 11m uk launch day first official rating say partygate downing street party resulted fine far ukraine war rishi sunak visit president zelensky kyiv pledge 50m aid u tracking suspected chinese surveillance balloon cost living we work cant afford family rent assad syria leader make historic visit uae peru protest machu picchu closed indefinitely tourist stranded it felt like u looked like u klopp hail derby win macron defeat le pen vow unite divided france losing wife pancreatic cancer taught life loss world cup 2022 travelling fan found qatar tournament tree gift thousand u city world aquatic championship summer mcintosh 15 win gold great britain take relay bronze happened uk economy pound mortgage week traitor viewer became loyal bbc reality series picture harry meghan join royal national service thanksgiving euro 2022 look quarterfinal worcester warrior owner agree term sale club interested party chocolate sweet price jump ahead easter record number nurse quitting nh wimbledon ban russian player discrimination andrey rublev steve barclay new health secretary tackle first elaine thompsonherah beat dina ashersmith emphatic diamond league win labour conference sir keir starmer back net zero electricity boost growth sunak tried every way worked queen elizabeth ii personal touch plan funeral day european under19 championship england 40 serbia highlight washington dc tipping point migrant arrive border flesheating bug swansea dj tell graze almost killed vanessa bryant testifies blindsided leaked photo match peace tour i friend ukraine gun now cost living tip cut energy heating cost home photographer pick top shot year biden say maga force threaten u democracy roman abramovich chelsea credit card facility temporarily suspended megafire rip swathe land near bordeaux bristol mum writes heart surgery book help son jeremy corbyn starmer move flagrant attack democracy ukraine war oligarch eugene shvidlers jet held indefinitely ukraine war russia troop deployment belarus prompt speculation changing face north sea oil industry pink lady tractor road run help breast cancer research po ferry backlash grows firing 800 worker european super league new proposal would open competition say organiser euro 2022 watch angle alessia russos wow goal northern ireland meet designer learning disability ro atkins on windfall tax debate peterborough work start cut bretton oak tree online predator targeting livestreaming charity gymnast simone bile given highest u civilian award eliza fletcher police identify body found search heiress anteater rescued wildfire bolivian firefighter french open rafael nadal play wimbledon need foot injection i jumping hoop get loan not likely possible liverpool manager jurgen klopp title hope bank england vow bring inflation pound hit record low tax cut plan england v south africa danni wyatt sophia dunkley natalie sciver lead england victory longterm plan tackle racial disparity uk uk aid cut mean one south sudan hospital much talent problem indian cricket paper raabs high standard nicola cop search sea chelsea bridge man tasered critical condition river thames fall dutch boy 4 take mother car joyride oscar condemns smith slap launch review boris nemtsov murdered putin rival tailed agent linked fsb hit squad tv lookahead 23 highlight look 2023 n korea tested longrange missile say u new zealand storm gabrielle tense wait excyclone move north island ukraine war russian journalist oksana baulina killed kyiv shelling ukraine war priest shot checkpoint gazprom russian gas bos say our product rule supply row body missing hillwalker found glen coe government set miss air pollution goal report clive myrie ukrainian met give recession could affect me ukraine home office need get grip owen farrell say eddie jones sacking england bos unbelievably disappointing poland feel strain ukraine refugee ukraine war inside recaptured city izyum euro 2022 leah williamson never felt england going spain manchester united 22 leeds united jadon sancho goal earns home side point thriller champion league pep guardiolas manchester city aim advance most open competition joe clarke express embarrassment shame whatsapp message turkey earthquake antakya unrecognisable tour guide unproven tyre nichols rumour fit victimblaming pattern artemis nasa try launch moon rocket saturday el sistema venezuelan music scheme changed raploch quiz week oscar apologise week online porn my pupil ask violence independence day chicago radio became voice india freedom gorgosaurus ancient dinosaur skeleton sell 6m auction sikh prayer book return military 100 year world cup 2022 elation argentina sorrow france fan react st david award merthyr litter picker daniel lewis honoured ukraine battle control sky brit nominee pa salieu jailed coventry violent disorder ni politics another stormont election certainty rishi sunak promise antisocial behaviour crackdown kenyan climber join first allblack team attempting mount everest french election left surge threatens macron majority france nh mental health trust set food bank staff carrot ice lolly keeping animal cool heatwave warning fresh energy bill shock october price rise everton day hope end despair pressure increase frank lampard lib dems call higher pay social care staff uk inflation higher country nigeria historic dye pit kano risk closure sound 2023 cat burn went busking platinum record firm banging head wall postbrexit trade war ukraine change emphasis admission failure moscow ben earl saracen flanker named premiership player season crystal palace 11 manchester united michael olise score late equaliser united miss chance go second young nigerian pin hope presidential outsider cost living save money pet care attacking ukraine power grid war crime greg norman liv golf chief field question saudi arabia human right record dustin johnson resigns pga tour play liv golf sri lanka parliament vote new president amid crisis cost living deptford charity turn phone box community hub chancellor attempt put tax uturn behind megan newborough man strangled girlfriend convicted murder paper hopelessly devoted you taxplan tension arsenal 30 tottenham gunner victory ensures wsl title decided final day ecuador declares emergency gang crime castrating pablo escobars hippo paper uk hostage strike world cup le crunch chinataiwan china brood taiwan pelosi lovefest trump organization found guilty tax crime new york trial garth crook team week salah toney mount silva martinez medusa festival one killed strong wind cause stage collapse spain strictly come dancing year newlypaired couple feeling kinder chocolate factory told shut salmonella case paper vegan mob foiled care home crisis race make diesel engine run hydrogen manchester city 22 liverpool rivalry fierce pitch friendly child stopped sleeping eating play fornite lawsuit minibudget mean finance pakistan goat longeared kid becomes star time queen funeral wear military uniform question west ham united 21 anderlecht jarrod bowen said benrahma score hammer progress woman manipulated abortion pregnancy crisis centre curious owl inspects tv weather station camera dominic raabs quest reform human right law almost over ukrainian way uk hit paperwork deadend calais womens t20 world cup best shot alice capseys 51 ireland encanto director invite glass hero schoolgirl lowri baftas cheltenham stabbing man charged attempted murder woman attacked teacher top 10 earner area omicron v zerocovid long china hold on world cup 2022 argentina france meet final lusail stadium china hong kong five moment fraught relationship since handover salt bae get hold world cup final nurse striking area use lookup find scientist actually want inuit greenlanders demand answer danish birth control scandal teacher strike neu urge teacher reject new pay deal diwali 2022 india celebrates festival dazzling display light sir mo farah relieved home office take action citizenship harry style new album harrys house charm music critic young sport personality year 2022 gymnast jessica gadirova win award budget jeremy hunt expand free childcare one twoyearolds abortion overturn roe v wade mean it like oven life britain hottest neighbourhood canada mp regret calling debate toilet motd top 10 could trophy way spur last chandrashekhar harbola waited 38 year body came siachen sunken russian warship moskva know itaewon crush first emergency call came hour crush derby county administrator give chris kirchner friday deadline prove buy club covid five thing still need keep eye sir terry pratchett short story published found fan royal society chemistry report say racism pervasive italian pm mario draghi offer resignation coalition fall apart patagonia billionaire bos fashion retailer give company away struggling gym pool issue plea help i caught fraudster funeral director bos failing young people cancer no idea passenger land florida plane pilot fall ill china protest mystery beijing demonstrator spark online hunt tribute london zoo crocodile skin handbag display go viral rail worker given fresh pay offer dispute northumberland shooting star caught oneinmillion photo trapped saudi arabia mother fight free daughter julian nagelsmann bayern munich sack manager turn thomas tuchel police failing bring talent black community say racism lead north korea fighting covid traditional medicine killer history coercive behaviour face tougher sentence kanye west adidas investigates claim toxic behaviour boris johnson 48 hour political chaos train strike series walkout saturday suspended antarctic post office home christmas among penguin powerball store owner sold record u powerball ticket get 1m bonus brit award 2023 host mo gilligan gear show energy bill fear power cut switch nebuliser uk inflation rate calculator much price rising you car crushed tractor crash caught cctv raf mildenhall pdc world championship michael van gerwen play michael smith 2023 final nicola bulley dive team pull search extended tyson fury v dillian whyte world champion not thinking retirement ukraine war kyiv mayor klitschko warns evacuation power lost dog health buy bulldog breed reshaped vet plead watch rapper loyle carner jamie oliver talk food confidence qatar 2022 people protesting world cup host womens euro 2022 england germany fan arrive wembley world cup 2022 take penalty shootout rage machine pull reading leeds festival clarence house staff told job risk crash dummy aimed protecting woman driver heathrow airport two plane minor collision attacker clear wouldbe goal teammate line canadian premier league french election macron le pen clash tv presidential debate putin west unlikely reject russian energy year business close stay open day queen funeral energy bill fear winter loom edge scotland bbc presenter lost baby urge woman open miscarriage rupert murdoch jerry hall reportedly divorce paper tory infighting price avoid world war liverpool 11 crystal palace nunez red card costly anfield stalemate cost living roll royce staff get 2000 payment ukraine facing russian army front line donbas monkeypox catch it cost living young cancer patient in desperate situation rihanna headline super bowl halftime show actor orlando bloom meet child affected ukraine war visit zelensky scottish spaceports prototype rocket unveiled chancellor break pledge energy bill maralago trumpowned property overvalued pfas possible breakthrough destroy harmful forever chemical watch huge fireball engulfs church new jersey buffalo shooting ny probe bonechilling social medium role disney magic spell wearing off cost living university student priced out graduation birmingham fall womens super league highflyer relegation world cup 2022 switzerland 10 cameroon breel embolo strike secures win i change look talk fit work bus driver charged murder ramming quebec nursery i cant forget her myanmar soldier admit atrocity insulate britain judge inspired activist m25 protest coco gauff column tiktok jaden smith help escape australian open pressure covid uk first country approve dualstrain vaccine wimbledon ons jabeur postfinal tear bob marley runnerup trophy ulvade shooting kamala harris call assault weapon ban bob dylan apologises machineprinted signature womens six nation emilie boulard score brilliant try france italy phyllida barlow renowned british sculptor dy aged 78 master rory mcilroy a happy ever chipping 18th stunning final round iraq war ali abbas lost arm war high street shop thriving tough year xi jinpings party getting started country tackle energy bill chris mason boris johnson political future hang balance rugby world cup england keep cool biggest pool game heat pump work get one timed magazine issue final print edition 54 year imran khan pakistan police open investigation former pm liverpool 01 real madrid champion league defeat cap miserable end magnificent season amid paris chaos nikki haley five thing know white house hopeful u live xi jinpings world euro 2022 ni bos kenny shiels say created monster growing quickly jeremy hunt everyone pay tax falklands war i thought one like this liz truss short bumpy ride 85 second tech helping driverless car see round corner fryup breakfast cost 40p last year watch moment australian police swoop secret drug flight video game prescribed doctor treat adhd paying basic pushing people debt charity say medium given access family court hearing china heatwave temperature 40c expected weekend moment police arrest pub shooting suspect belgorod fear denial russian city hit shell council tax much rising nunez head winner benfica beat ajax reach last eight buyer back 62000 mr blobby suit purchase ten hag warning garnacho teenager star man utd win climate change first bill written child climate education secret filming victim feel let court m store sorry displaying daffodil alongside veg world snooker championship 2022 ronnie osullivan beat david gilbert prince harry i want father brother back pakistan v england rehan ahmed could make debut karachi woman found new life given six week live paper red alert earth pm turn sharm cricket world cup england australia set final tiverton honiton byelection voter think pm sunak welcome valuable talk health leader macron say uk france face problem leader unsure friendship eastenders edward syndrome difficult choice parent turkey earthquake rescue continues almost 150 hour on you miracle kardashian fined crypto pump dump netanyahus hardline new government take office israel england v south africa host win first t20 wrap multiformat series pitchside brain scan aim make sport safer dinosaur track 113m year ago exposed severe drought el clasico real madrid beat barcelona 31 bernabeu man city v man utd erik ten hag facing derby dilemma danny murphy analysis paper predator join police king bungle chantelle cameron beat jessica mccaskill become undisputed lightwelterweight champion ferrell oscar nomination elf say curtis royal mail worker hold 19 day strike action tony blair join queen highest chivalry order windsor ceremony uganda story parent never told rwanda asylum plan uk minister partially lose rwanda secrecy bid replace boris johnson anne frank betrayal book pulled finding discredited france mustard shortage leaf sour taste grand national preview rachael blackmore seek aintree double minella time shireen abu aqla violence al jazeera reporter funeral jerusalem two child diagnosed mnd euro 2024 italy manager mancini bemoans lack italian talent serie nicola bulley man 34 arrested police scene footage mazepin father added list wealthy russian sanctioned eu labour mp christian matheson resigns sexual misconduct england v india third odi pant hit five four row finish england raducanu indian well third round win garcia thames water plan introduce hosepipe ban in week akons wakanda grazing goat crumbling crypto dream rory mcilroy share lead canadian open final round cop27 egypt climate conference important woman given eightyear jail term false rape claim picture flooding across uk week heavy rain front line battle kharkiv platinum jubilee eight new city created queen honour uk athletics championship jeremiah azu daryll neita take 100m gold brother 12 13 wanted raiding top london hotel chicken getting expensive five way save money train ticket womens world cup playoff wale 10 bosniaherzegovina ratcliffe sheikh jassim submit new man utd bid turkeysyria earthquake first aid convoy reach oppositionheld idlib mobile phone fraud they stole 22500 using banking app covid test still need travel abroad strike rule allowed strike our mortgage got high put baby transgender prisoner row about vladimir putin actually arrested train driver offered pay rise bid end strike i adopt wobbly cat cost living made university flat hostile labour call vote give mp power appoint new ethic chief comic relief return traitor eurovision sketch meditative magic watching people pay respect indian well emma raducanu beat danka kovinic jack draper set dan evans clash commonwealth game watch opening ceremony best bit including duran duran lenny henry tom daley jacky huntbroersma cancer survivor ran 104 marathon 104 day bafta tv award eight highlight ceremony west ham united 12 eintracht frankfurt hammer trail first leg brentford hit four humiliate man utd energy bill cant pay could ukraine win war question ukraine war russia attack theatre sheltering civilian mariupol say pride london celebrating 50th anniversary uk first pride parade john lewis mary porta warns retailer let go soul angelina jolie visit cafe lviv ukraine world cup 2022 morocco dream beaten france semifinal colombia election surprise election runoff beckons watford 10 sheffield united hornet give rob edward winning start manager match day 2 analysis manchester uniteds shocking display we cant afford give away christmas cake year ancient egyptian green coffin returned cairo u lauren price welsh olympic champion win professional boxing debut wembley arena inside amapiano new sound south africa måneskin wanted show dark side fame new album rush bordeaux town hall set fire france pension protest bao fan chinese billionaire keep vanishing rohingya crisis world forgotten stateless refugee nicola bulley body found river confirmed missing mum buffalo shooting parent injured victim demand political action joey barton cleared assaulting wife georgia energy discount phishing robbed 25000 text scam call probe claim bbc chair helped expm secure loan ro atkins on pm lockdown party fine hundred shaheen afridi join welsh fire kate cross move northern supercharger world cup 2022 norm lgbtq football fan took granted shaken wagatha christie six takeaway vardy rooney trial queen funeral guest attend lucy porter tiktok kill standup comedy petrol price train fare head teacher quitting within five year taking job england jake wightman could successful ever coe snp candidate predict independence five year disabled get cost living 150 september twin flying support sister despite selection heartbreak i homeless dozen join christmas hike uk defies climate warning new oil gas licence manchester united 31 everton marcus rashford shine man utd beat everton fa cup paper foreign worker drive lilibet becomes princess paper travel carnage worsens pm fuel tory anger twitter elon musk keen taking control iranian woman need certificate prove virgin ukraine war world must act stop russia nuclear threat zelensky nation league wout weghorst denies wale draw late header netherlands go back iran husband kill earth wind fire drummer fred white dy aged 67 northern ireland need deal everton 11 tottenham michael keane stunner cancel harry kane penalty rishi sunak bow tory revolt internet safety law ghislaine maxwell appeal sex trafficking conviction singer changed one word canada anthem peace message gareth bale join child wale centenary year covid china call beijing strengthen response coleen rooney online post last resort russia invaded ukraine putin want rae morris i definitely fully dropped general election next one could called sooner mlb texas ranger eli white make outrageous catch stop home run tampa bay ray ukraine conflict oil price soar highest level since 2008 why cut homeless people hair free nicola sturgeon search begin find successor job i like breaking prison officer stereotype world cup england fan frustrated disappointing usa match the pinnacle quiz night airline told cancel flight stop travel chaos introducing dr ringo starr kherson inside city liberated russian roe v wade u supreme court ruling abortion tyre nichols exofficers plead guilty death bring head spy sent get bin laden stop oil 200 arrested oil terminal protest gadd ice climber closeup view climate change wimbledon 2022 stefanos tsitsipas disqualified this rare condition give tv static vision jurgen klopp liverpool manager plan quit unless someone tell me uk weather spring snow part country hit cold snap ukraine war flight ban hit russian foreign minister visit serbia euro 2022 beth mead goal give england winning start austria premier league chelsealiverpool man utdleeds brightonpalace queen funeral latest uk weather forecast extreme heat continue weekend mariupol satellite image suggest mass graf dug near besieged city know result four takeaway year gcse result british gas owner centrica shell see profit soar bill rise world cup 2022 england bos gareth southgate looking forward acid test france mesut ozil five great arsenal moment exreal madrid germany midfielder retires marcus north pull running england managing director men cricket quiz week cheese news week picture 30 april 6 may 2022 man city v liverpool premier league top two meet etihad stadium u midterm know election result ni secretary meet stormont political leader many people cross channel small boat come from paper a new iron curtain 100m royal grenfell tower fire music help young people cope newspaper headline ambulance strike threatens life call taxi liz truss sort prime minister be american turning some of gun british grand prix george russell say formula 1 need learn zhou guanyu crash public sector pay million worker await deal decision chris hipkins uphill battle loom new zealand next pm scan reveal covid may change brain hydra german police dismantled russian darknet site new chatbot everyone talking call extra bank holiday made permanent world cup 2022 iran performance wont enough v usa gareth southgate disabled fan treated like animal hearing told ambulance wait can please tell hurry shall dead commonwealth game take big step towards esports england show game glory remarkable test summer sky walkway proposal edinburgh radical road bavaria train crash least four killed german rail accident secondary school place parent find out world cup 2022 england step up wale win show frightening depth gareth southgates squad trip transformed australia china tie five decade fall pound matter t20 world cup england coach matthew mott say side make widespread change bristol zoo memory major part city life close flu covid could make hard winter uk turkey threatens block finland sweden nato bid epsom college death family tribute head teacher daughter liverpool 01 real madrid red beaten paris vinicius jr hit winner much could mortgage rise try calculator grieving russian cant believe talk war crime ukraine mohamed salah liverpool forward anfield next season for sure leader u farright militia guilty inciting rebellion taliban official must sack son given government job andrew tate see luxury villa brother house arrest kourtney kardashians lem me vagina gummies bother say expert nato veto lifted false claim today ukraine roundup mortgage happens miss payment virat kohlis adelaide record could bad news england t20 world cup semifinal euro 2024 qualifier marcus rashford mason mount nick pope withdraw england squad rugby world cup england marlie packer lead muchchanged side eurovision 2022 ukraine win uk sam ryder come second priti patel nadine dorries step ahead new pm ukraine crisis west fight back putin disruptor sea turtle navigate boris johnson clash mp partygate denial russian oligarch lambasts country massacre mariupol theatre we knew something terrible would happen we single penny post office ive achieve sterling sign chelsea knaresborough litterpick pair car trip live wwi bomb gareth southgate england bos welcome germany decision take knee nation league pug health poor cant considered typical dog study may thinking digital twin within decade cost living weve got 30p left prepayment meter ukraine war kyiv reject putin trivial christmas truce notting hill carnival rapper takayo nembhard stabbed death energy website crash meter reading rush gianluigi lentini rise fall world expensive player top chef tip cooking christmas budget mr doodle covered entire house doodle booker prize 2022 sri lankan author shehan karunatilaka win supernatural satire aaron carter backstreet boy star lead tribute late brother dazzling crown sat queen coffin a fantasy amateur jockey grand national fairytale uk falling behind net zero race review find formula milk online group hunt baby milk u shortage tory leadership ballot delayed security fear man found buried garden died stab wound neck kept sexuality secret work kuenssberg need step up keep kid safe online elon musk spending time twitter mission mar 18 shipping container rotting cabbage patrick lyoya could rethink u police traffic stop save life south korea japan milestone meeting frenemies found animal origin covid get cold weather payment much they ukraine war germany conundrum tie russia business rishi sunak asks homeless man shelter visit paper they think sober pm fear woman queen funeral plan happen day turkey huge rally opposition canan kaftancioglu schengen eu borderfree zone romania bulgaria resident turn putin liberated lyman talking therapy ice cream helping people discus difficult topic harry kane tottenham captain subbed suffering fatigue say antonio conte brazil election campaign turned ugly l lowry going match sell 78m auction world cup 2022 watch different view jude bellingham brilliant display england senegal puzzle uk half million missing worker scottish bakery morton roll cease trading commonwealth game geraint thomas take time trial bronze fred wright anna henderson win silver baby sticky tape skin test predict eczema risk po ferry preparing restart dovercalais route australia flood im angry happening again irmgard furchner nazi typist guilty complicity 10500 murder john motson reminisces career football commentator josh warrington knock kiko martinez regain ibf featherweight title highlight awaits brittney griner russian penal colony bafta tv award 2022 winner full world cup 2022 lionel messi diego maradonas world cup record compared bus funeral procession manchester veteran driver tintagel among castle risk climate change joe lycett asked explain comedy show joke police quadriplegic cerebral palsy mum see son walk first time match day top 10 gary lineker relives barcelona hattrick real madrid london luton airport government hold inquiry growth plan carcharging dog hotel seven perk lure office windfall tax oil gas company hosepipe ban area university staff plan 18 new day strike halloween pigheaded butcher lead scare aberdare house wrexham man dy bitten dog house maxi jazz tribute hail faithless singer incredible talent afghanistan womens face become latest taliban restriction face veil rule ukraine war night peaceful last trauma air raid full lunar eclipse bring super blood moon scottish island pladda sale price city flat keely hodgkinson expecting herself eugene six nation uini atonio banned dangerous tackle rob herring ukraine war nurse lost leg first dance husband hospital scottie scheffler win player championship sawgrass tyrrell hatton second one poorest slum argentina family rely huge landfill site food liz truss resigns race kick find successor within week bristol longboarding group a blessing lockdown week picture 29 october 4 november 2022 free childcare plan why wait trespasser cause severe rail disruption partygoer dr congo my life changed thanks coffee female dance act largely ignored radio study say bbc unveils modernised flagship tv news studio chelsea 22 tottenham thomas tuchel say match sucked in antonio conte saw red german master ali carter beat tom ford bit help whitney houston week picture 511 march 2022 uvalde school shooting embattled police chief put leave former airline worker it would like going back ex david beckham hand instagram account ukrainian doctor leah croucher quiet teenager vanished way work ukraine roundup mariupol civilian remain trapped russian oligarch decries massacre aek larnaca 02 west ham visitor close europa conference league quarterfinal ukraine war ally seek security zaporizhzhia nuclear plant transgender child texas plan probe parent halted australia election simple guide ukrainian president volodymyr zelensky address irish parliament joe cordina welshman win ibf superfeatherweight title energy price cap high bill go premiership northampton saint 3231 harlequin james grayson penalty seal dramatic win deborah james passionate vision 68m raised u midterm bbcs voter profile shown hate disinformation online sri lankans protesting street grooming gang ethnicity evidence say piccadilly circus new screen make landmark bolder brighter refugee wale thank god came home bombed nasa orion spacecraft homewardbound anime japanese animation taken west storm samantha cristoforetti astronaut taking tiktok new height thank you king brazil light pele master scottie scheffler win first major rory mcilroy finish second crown queen friend say netflix show make angry hidden history scotland biggest nuclear bunker mum warning uterine cancer mistaken period french open dan evans cameron norrie win roland garros harriet dart loses debut grandmother alzheimers face deportation sweden hormone replacement therapy menopause need know hrt womens world cup england set face south africa semifinal womens footballer year contender alexia putellas welsh rugby crisis wru sign sixyear deal four professional team asteroid next big prize space race garth crook team week de gea foden saka ronaldo newcastle starting upset big boy alan shearer magpie topfour hope win spur why disabled superhero marvel movie ukraine war i stay ground 60 day girl aloud race sarah harding hyde park roe v wade biden call federal law restore abortion right mindreading combat jet future england scoring record mean everything kane donald trump charged happens next protest iran staterun live tv hacked protester quiz week doctor companion back tardis six nation 2023 freddie steward red card ireland called an utter farce strep a penarth primary school child dy disease uk election 2022 really simple guide pension lifetime annual allowance changing transfer rumour calvertlewin pogba lewandowski sterling guardiola rice benjamin mendy woman woke footballer raping her court told brit award wet leg rina sawayama urge change female nominee liegebastogneliege cycling oldest spring classic celebrates 130 year torture john travolta pose photo norfolk morrison wetherspoon covid happened care home early pandemic laver cup andy murray planning roger federerstyle farewell europe lose celtic ease dundee utd scottish cup last four student loan work borrow pay back billie eilish protest u abortion ruling glastonbury naga fit laughter charlies mar musing england v india harmanpreet kaur hit masterful century lead india odi series win johnson partygate avoided physical contact passed drink story lastsurviving ww2 veteran frenkie de jong manchester united contact barcelona midfielder dominic raab third senior civil servant give evidence bullying probe highlight radacanu beat uytvanck picture mountain bikers descend snowy peak company must help cut living cost say new cost living tsar beware online car sale scam consumer warned\n"
     ]
    }
   ],
   "source": [
    "print(doc)"
   ]
  },
  {
   "cell_type": "code",
   "execution_count": 110,
   "id": "076eef0b-99c9-4786-be0e-60ec74777618",
   "metadata": {},
   "outputs": [],
   "source": [
    "pos_df = pd.DataFrame(columns=['token','pos_tag'])"
   ]
  },
  {
   "cell_type": "code",
   "execution_count": 112,
   "id": "493721a3-7a9f-473f-972d-e2490ca36938",
   "metadata": {},
   "outputs": [],
   "source": [
    "for token in doc:\n",
    "    pos_df = pd.concat([pos_df, pd.DataFrame.from_records(\n",
    "        [{'token': token.text, 'pos_tag': token.pos_}])], ignore_index=True)"
   ]
  },
  {
   "cell_type": "code",
   "execution_count": 113,
   "id": "d2ed2d1f-0e58-4665-a01d-68dac64f8cbb",
   "metadata": {},
   "outputs": [
    {
     "data": {
      "text/html": [
       "<div>\n",
       "<style scoped>\n",
       "    .dataframe tbody tr th:only-of-type {\n",
       "        vertical-align: middle;\n",
       "    }\n",
       "\n",
       "    .dataframe tbody tr th {\n",
       "        vertical-align: top;\n",
       "    }\n",
       "\n",
       "    .dataframe thead th {\n",
       "        text-align: right;\n",
       "    }\n",
       "</style>\n",
       "<table border=\"1\" class=\"dataframe\">\n",
       "  <thead>\n",
       "    <tr style=\"text-align: right;\">\n",
       "      <th></th>\n",
       "      <th>token</th>\n",
       "      <th>pos_tag</th>\n",
       "    </tr>\n",
       "  </thead>\n",
       "  <tbody>\n",
       "    <tr>\n",
       "      <th>0</th>\n",
       "      <td>refuse</td>\n",
       "      <td>AUX</td>\n",
       "    </tr>\n",
       "    <tr>\n",
       "      <th>1</th>\n",
       "      <td>work</td>\n",
       "      <td>NOUN</td>\n",
       "    </tr>\n",
       "    <tr>\n",
       "      <th>2</th>\n",
       "      <td>liz</td>\n",
       "      <td>PROPN</td>\n",
       "    </tr>\n",
       "    <tr>\n",
       "      <th>3</th>\n",
       "      <td>truss</td>\n",
       "      <td>ADJ</td>\n",
       "    </tr>\n",
       "    <tr>\n",
       "      <th>4</th>\n",
       "      <td>brief</td>\n",
       "      <td>ADJ</td>\n",
       "    </tr>\n",
       "  </tbody>\n",
       "</table>\n",
       "</div>"
      ],
      "text/plain": [
       "    token pos_tag\n",
       "0  refuse     AUX\n",
       "1    work    NOUN\n",
       "2     liz   PROPN\n",
       "3   truss     ADJ\n",
       "4   brief     ADJ"
      ]
     },
     "execution_count": 113,
     "metadata": {},
     "output_type": "execute_result"
    }
   ],
   "source": [
    "pos_df.head()"
   ]
  },
  {
   "cell_type": "code",
   "execution_count": 116,
   "id": "88697a98-9261-4829-b87e-ae5bfe7cfcb9",
   "metadata": {},
   "outputs": [],
   "source": [
    "pos_df_counts = pos_df.groupby(['token', 'pos_tag']).size().reset_index(name='counts').sort_values(by='counts', ascending=False)"
   ]
  },
  {
   "cell_type": "code",
   "execution_count": 118,
   "id": "dd982914-b77d-4dcc-80b1-a2c055e1d7d3",
   "metadata": {},
   "outputs": [
    {
     "data": {
      "text/html": [
       "<div>\n",
       "<style scoped>\n",
       "    .dataframe tbody tr th:only-of-type {\n",
       "        vertical-align: middle;\n",
       "    }\n",
       "\n",
       "    .dataframe tbody tr th {\n",
       "        vertical-align: top;\n",
       "    }\n",
       "\n",
       "    .dataframe thead th {\n",
       "        text-align: right;\n",
       "    }\n",
       "</style>\n",
       "<table border=\"1\" class=\"dataframe\">\n",
       "  <thead>\n",
       "    <tr style=\"text-align: right;\">\n",
       "      <th></th>\n",
       "      <th>token</th>\n",
       "      <th>pos_tag</th>\n",
       "      <th>counts</th>\n",
       "    </tr>\n",
       "  </thead>\n",
       "  <tbody>\n",
       "    <tr>\n",
       "      <th>30</th>\n",
       "      <td>2022</td>\n",
       "      <td>NUM</td>\n",
       "      <td>47</td>\n",
       "    </tr>\n",
       "    <tr>\n",
       "      <th>1162</th>\n",
       "      <td>england</td>\n",
       "      <td>PROPN</td>\n",
       "      <td>45</td>\n",
       "    </tr>\n",
       "    <tr>\n",
       "      <th>870</th>\n",
       "      <td>cup</td>\n",
       "      <td>PROPN</td>\n",
       "      <td>39</td>\n",
       "    </tr>\n",
       "    <tr>\n",
       "      <th>3056</th>\n",
       "      <td>say</td>\n",
       "      <td>VERB</td>\n",
       "      <td>37</td>\n",
       "    </tr>\n",
       "    <tr>\n",
       "      <th>3707</th>\n",
       "      <td>uk</td>\n",
       "      <td>PROPN</td>\n",
       "      <td>37</td>\n",
       "    </tr>\n",
       "  </tbody>\n",
       "</table>\n",
       "</div>"
      ],
      "text/plain": [
       "        token pos_tag  counts\n",
       "30       2022     NUM      47\n",
       "1162  england   PROPN      45\n",
       "870       cup   PROPN      39\n",
       "3056      say    VERB      37\n",
       "3707       uk   PROPN      37"
      ]
     },
     "execution_count": 118,
     "metadata": {},
     "output_type": "execute_result"
    }
   ],
   "source": [
    "pos_df_counts.head()"
   ]
  },
  {
   "cell_type": "code",
   "execution_count": 120,
   "id": "f46c44dd-502e-41dd-b0ce-bfa1c796abbc",
   "metadata": {},
   "outputs": [],
   "source": [
    "nouns = pos_df_counts[pos_df_counts.pos_tag == 'NOUN'][:10]"
   ]
  },
  {
   "cell_type": "code",
   "execution_count": 122,
   "id": "87514e46-b850-4539-8817-742c34230df2",
   "metadata": {},
   "outputs": [
    {
     "data": {
      "text/html": [
       "<div>\n",
       "<style scoped>\n",
       "    .dataframe tbody tr th:only-of-type {\n",
       "        vertical-align: middle;\n",
       "    }\n",
       "\n",
       "    .dataframe tbody tr th {\n",
       "        vertical-align: top;\n",
       "    }\n",
       "\n",
       "    .dataframe thead th {\n",
       "        text-align: right;\n",
       "    }\n",
       "</style>\n",
       "<table border=\"1\" class=\"dataframe\">\n",
       "  <thead>\n",
       "    <tr style=\"text-align: right;\">\n",
       "      <th></th>\n",
       "      <th>token</th>\n",
       "      <th>pos_tag</th>\n",
       "      <th>counts</th>\n",
       "    </tr>\n",
       "  </thead>\n",
       "  <tbody>\n",
       "    <tr>\n",
       "      <th>3840</th>\n",
       "      <td>war</td>\n",
       "      <td>NOUN</td>\n",
       "      <td>34</td>\n",
       "    </tr>\n",
       "    <tr>\n",
       "      <th>3948</th>\n",
       "      <td>world</td>\n",
       "      <td>NOUN</td>\n",
       "      <td>30</td>\n",
       "    </tr>\n",
       "    <tr>\n",
       "      <th>2136</th>\n",
       "      <td>man</td>\n",
       "      <td>NOUN</td>\n",
       "      <td>22</td>\n",
       "    </tr>\n",
       "    <tr>\n",
       "      <th>907</th>\n",
       "      <td>day</td>\n",
       "      <td>NOUN</td>\n",
       "      <td>21</td>\n",
       "    </tr>\n",
       "    <tr>\n",
       "      <th>3973</th>\n",
       "      <td>year</td>\n",
       "      <td>NOUN</td>\n",
       "      <td>20</td>\n",
       "    </tr>\n",
       "  </tbody>\n",
       "</table>\n",
       "</div>"
      ],
      "text/plain": [
       "      token pos_tag  counts\n",
       "3840    war    NOUN      34\n",
       "3948  world    NOUN      30\n",
       "2136    man    NOUN      22\n",
       "907     day    NOUN      21\n",
       "3973   year    NOUN      20"
      ]
     },
     "execution_count": 122,
     "metadata": {},
     "output_type": "execute_result"
    }
   ],
   "source": [
    "nouns.head()"
   ]
  },
  {
   "cell_type": "code",
   "execution_count": 129,
   "id": "7f60e2ce-b1a6-46c6-b889-870da8366320",
   "metadata": {},
   "outputs": [],
   "source": [
    "#NER\n",
    "ner_df = pd.DataFrame(columns=['token','ner_tag'])\n",
    "for token in doc.ents:\n",
    "    if pd.isna(token.label_) is False:\n",
    "        ner_df = pd.concat([ner_df, pd.DataFrame.from_records([{'token': token.text, 'ner_tag':token.label_}])], ignore_index=True)"
   ]
  },
  {
   "cell_type": "code",
   "execution_count": 131,
   "id": "96a1ef26-a8e0-4397-8c6f-129a4fda4df5",
   "metadata": {},
   "outputs": [
    {
     "data": {
      "text/html": [
       "<div>\n",
       "<style scoped>\n",
       "    .dataframe tbody tr th:only-of-type {\n",
       "        vertical-align: middle;\n",
       "    }\n",
       "\n",
       "    .dataframe tbody tr th {\n",
       "        vertical-align: top;\n",
       "    }\n",
       "\n",
       "    .dataframe thead th {\n",
       "        text-align: right;\n",
       "    }\n",
       "</style>\n",
       "<table border=\"1\" class=\"dataframe\">\n",
       "  <thead>\n",
       "    <tr style=\"text-align: right;\">\n",
       "      <th></th>\n",
       "      <th>token</th>\n",
       "      <th>ner_tag</th>\n",
       "    </tr>\n",
       "  </thead>\n",
       "  <tbody>\n",
       "    <tr>\n",
       "      <th>0</th>\n",
       "      <td>russian</td>\n",
       "      <td>NORP</td>\n",
       "    </tr>\n",
       "    <tr>\n",
       "      <th>1</th>\n",
       "      <td>70 year</td>\n",
       "      <td>DATE</td>\n",
       "    </tr>\n",
       "    <tr>\n",
       "      <th>2</th>\n",
       "      <td>70 second</td>\n",
       "      <td>TIME</td>\n",
       "    </tr>\n",
       "    <tr>\n",
       "      <th>3</th>\n",
       "      <td>bull</td>\n",
       "      <td>ORG</td>\n",
       "    </tr>\n",
       "    <tr>\n",
       "      <th>4</th>\n",
       "      <td>1</td>\n",
       "      <td>CARDINAL</td>\n",
       "    </tr>\n",
       "  </tbody>\n",
       "</table>\n",
       "</div>"
      ],
      "text/plain": [
       "       token   ner_tag\n",
       "0    russian      NORP\n",
       "1    70 year      DATE\n",
       "2  70 second      TIME\n",
       "3       bull       ORG\n",
       "4          1  CARDINAL"
      ]
     },
     "execution_count": 131,
     "metadata": {},
     "output_type": "execute_result"
    }
   ],
   "source": [
    "ner_df.head()"
   ]
  },
  {
   "cell_type": "code",
   "execution_count": 133,
   "id": "4b24cf47-1002-4729-9b7d-832c5a1fee1a",
   "metadata": {},
   "outputs": [],
   "source": [
    "ner_df_counts = ner_df.groupby(['token', 'ner_tag']).size().reset_index(name='counts').sort_values(by='counts', ascending=False)"
   ]
  },
  {
   "cell_type": "code",
   "execution_count": 135,
   "id": "8865f448-b63a-4d96-9623-37e82e856f0d",
   "metadata": {},
   "outputs": [
    {
     "data": {
      "text/html": [
       "<div>\n",
       "<style scoped>\n",
       "    .dataframe tbody tr th:only-of-type {\n",
       "        vertical-align: middle;\n",
       "    }\n",
       "\n",
       "    .dataframe tbody tr th {\n",
       "        vertical-align: top;\n",
       "    }\n",
       "\n",
       "    .dataframe thead th {\n",
       "        text-align: right;\n",
       "    }\n",
       "</style>\n",
       "<table border=\"1\" class=\"dataframe\">\n",
       "  <thead>\n",
       "    <tr style=\"text-align: right;\">\n",
       "      <th></th>\n",
       "      <th>token</th>\n",
       "      <th>ner_tag</th>\n",
       "      <th>counts</th>\n",
       "    </tr>\n",
       "  </thead>\n",
       "  <tbody>\n",
       "    <tr>\n",
       "      <th>34</th>\n",
       "      <td>2022</td>\n",
       "      <td>CARDINAL</td>\n",
       "      <td>30</td>\n",
       "    </tr>\n",
       "    <tr>\n",
       "      <th>451</th>\n",
       "      <td>russian</td>\n",
       "      <td>NORP</td>\n",
       "      <td>25</td>\n",
       "    </tr>\n",
       "    <tr>\n",
       "      <th>223</th>\n",
       "      <td>first</td>\n",
       "      <td>ORDINAL</td>\n",
       "      <td>15</td>\n",
       "    </tr>\n",
       "    <tr>\n",
       "      <th>35</th>\n",
       "      <td>2022</td>\n",
       "      <td>DATE</td>\n",
       "      <td>11</td>\n",
       "    </tr>\n",
       "    <tr>\n",
       "      <th>450</th>\n",
       "      <td>russia</td>\n",
       "      <td>GPE</td>\n",
       "      <td>10</td>\n",
       "    </tr>\n",
       "  </tbody>\n",
       "</table>\n",
       "</div>"
      ],
      "text/plain": [
       "       token   ner_tag  counts\n",
       "34      2022  CARDINAL      30\n",
       "451  russian      NORP      25\n",
       "223    first   ORDINAL      15\n",
       "35      2022      DATE      11\n",
       "450   russia       GPE      10"
      ]
     },
     "execution_count": 135,
     "metadata": {},
     "output_type": "execute_result"
    }
   ],
   "source": [
    "ner_df_counts.head()"
   ]
  },
  {
   "cell_type": "code",
   "execution_count": 141,
   "id": "fe25d993-3ed9-47f3-ab88-f5d6c6d6bddf",
   "metadata": {},
   "outputs": [],
   "source": [
    "people = ner_df_counts[ner_df_counts.ner_tag == 'PERSON'][:10]"
   ]
  },
  {
   "cell_type": "code",
   "execution_count": 143,
   "id": "f04d4291-c7fc-4474-a0ab-7497e56358dc",
   "metadata": {},
   "outputs": [
    {
     "data": {
      "text/html": [
       "<div>\n",
       "<style scoped>\n",
       "    .dataframe tbody tr th:only-of-type {\n",
       "        vertical-align: middle;\n",
       "    }\n",
       "\n",
       "    .dataframe tbody tr th {\n",
       "        vertical-align: top;\n",
       "    }\n",
       "\n",
       "    .dataframe thead th {\n",
       "        text-align: right;\n",
       "    }\n",
       "</style>\n",
       "<table border=\"1\" class=\"dataframe\">\n",
       "  <thead>\n",
       "    <tr style=\"text-align: right;\">\n",
       "      <th></th>\n",
       "      <th>token</th>\n",
       "      <th>ner_tag</th>\n",
       "      <th>counts</th>\n",
       "    </tr>\n",
       "  </thead>\n",
       "  <tbody>\n",
       "    <tr>\n",
       "      <th>432</th>\n",
       "      <td>putin</td>\n",
       "      <td>PERSON</td>\n",
       "      <td>7</td>\n",
       "    </tr>\n",
       "    <tr>\n",
       "      <th>127</th>\n",
       "      <td>boris johnson</td>\n",
       "      <td>PERSON</td>\n",
       "      <td>5</td>\n",
       "    </tr>\n",
       "    <tr>\n",
       "      <th>106</th>\n",
       "      <td>antonio conte</td>\n",
       "      <td>PERSON</td>\n",
       "      <td>3</td>\n",
       "    </tr>\n",
       "    <tr>\n",
       "      <th>102</th>\n",
       "      <td>andy murray</td>\n",
       "      <td>PERSON</td>\n",
       "      <td>3</td>\n",
       "    </tr>\n",
       "    <tr>\n",
       "      <th>254</th>\n",
       "      <td>hodgkinson</td>\n",
       "      <td>PERSON</td>\n",
       "      <td>2</td>\n",
       "    </tr>\n",
       "  </tbody>\n",
       "</table>\n",
       "</div>"
      ],
      "text/plain": [
       "             token ner_tag  counts\n",
       "432          putin  PERSON       7\n",
       "127  boris johnson  PERSON       5\n",
       "106  antonio conte  PERSON       3\n",
       "102    andy murray  PERSON       3\n",
       "254     hodgkinson  PERSON       2"
      ]
     },
     "execution_count": 143,
     "metadata": {},
     "output_type": "execute_result"
    }
   ],
   "source": [
    "people.head()"
   ]
  },
  {
   "cell_type": "code",
   "execution_count": null,
   "id": "b025a860-69d6-4db8-995b-8204d24cc01e",
   "metadata": {},
   "outputs": [],
   "source": []
  }
 ],
 "metadata": {
  "kernelspec": {
   "display_name": "Python [conda env:base] *",
   "language": "python",
   "name": "conda-base-py"
  },
  "language_info": {
   "codemirror_mode": {
    "name": "ipython",
    "version": 3
   },
   "file_extension": ".py",
   "mimetype": "text/x-python",
   "name": "python",
   "nbconvert_exporter": "python",
   "pygments_lexer": "ipython3",
   "version": "3.12.7"
  }
 },
 "nbformat": 4,
 "nbformat_minor": 5
}
