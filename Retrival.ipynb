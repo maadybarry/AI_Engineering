{
 "cells": [
  {
   "cell_type": "code",
   "execution_count": 1,
   "id": "fa764563-eb50-4e22-8448-e890be454980",
   "metadata": {},
   "outputs": [],
   "source": [
    "%load_ext dotenv\n",
    "%dotenv"
   ]
  },
  {
   "cell_type": "code",
   "execution_count": 2,
   "id": "628770b6-0941-42f7-8453-1484e8175353",
   "metadata": {},
   "outputs": [],
   "source": [
    "from langchain_openai.embeddings import OpenAIEmbeddings\n",
    "from langchain_chroma import Chroma\n",
    "from langchain_community.document_loaders import Docx2txtLoader\n",
    "from langchain.text_splitter import CharacterTextSplitter, MarkdownHeaderTextSplitter"
   ]
  },
  {
   "cell_type": "code",
   "execution_count": 3,
   "id": "119b840e-f3d7-4234-a848-05f2ed792cbb",
   "metadata": {},
   "outputs": [],
   "source": [
    "loader = Docx2txtLoader(\"Introduction_to_Data_and_Data_Science_2.docx\")"
   ]
  },
  {
   "cell_type": "code",
   "execution_count": 4,
   "id": "39d7701e-5d61-492e-a0f2-886c1df8c213",
   "metadata": {},
   "outputs": [],
   "source": [
    "whole_doc = loader.load()"
   ]
  },
  {
   "cell_type": "code",
   "execution_count": 5,
   "id": "e3052dd8-9158-4de6-b0bf-ecb1adb9ad18",
   "metadata": {},
   "outputs": [
    {
     "data": {
      "text/plain": [
       "'# Data Analytics Course\\n\\n## Analysis vs Analytics\\n\\nAnalysis vs Analytics\\n\\nAlright! So…\\nLet’s discuss the not-so-obvious differences\\nbetween the terms analysis and analytics.\\nDue to the similarity of the words, some people\\nbelieve they share the same meaning, and thus\\nuse them interchangeably. Technically, this\\nisn’t correct. There is, in fact, a distinct\\ndifference between the two. And the reason\\nfor one often being used instead of the other\\nis the lack of a transparent understanding\\nof both.\\nSo, let’s clear this up, shall we?\\nFirst, we will start with analysis.\\nConsider the following…\\nYou have a huge dataset containing data of\\nvarious types. Instead of tackling the entire\\ndataset and running the risk of becoming overwhelmed,\\nyou separate it into easier to digest chunks\\nand study them individually and examine how\\nthey relate to other parts. And that’s analysis\\nin a nutshell.\\nOne important thing to remember, however,\\nis that you perform analyses on things that\\nhave already happened in t'"
      ]
     },
     "execution_count": 5,
     "metadata": {},
     "output_type": "execute_result"
    }
   ],
   "source": [
    "whole_doc[0].page_content[:1000]"
   ]
  },
  {
   "cell_type": "code",
   "execution_count": 6,
   "id": "7c2470b2-491a-4759-9a6d-5266935551ac",
   "metadata": {},
   "outputs": [],
   "source": [
    "md_splitter = MarkdownHeaderTextSplitter(headers_to_split_on=[('#','course title'),('##','module title')])"
   ]
  },
  {
   "cell_type": "code",
   "execution_count": 7,
   "id": "02bedd2b-972a-48da-a6f1-e446d318566a",
   "metadata": {},
   "outputs": [],
   "source": [
    "md_doc = md_splitter.split_text(whole_doc[0].page_content)"
   ]
  },
  {
   "cell_type": "code",
   "execution_count": 8,
   "id": "15e6bf59-2a15-4b8d-8a12-2fd520a668ca",
   "metadata": {},
   "outputs": [],
   "source": [
    "for i in md_doc:\n",
    "    i.page_content = ' '.join(i.page_content.split())"
   ]
  },
  {
   "cell_type": "code",
   "execution_count": 9,
   "id": "e1af461c-4cb3-48b8-b73c-3bd032cd86a3",
   "metadata": {},
   "outputs": [],
   "source": [
    "char_splitter = CharacterTextSplitter(separator='.', chunk_size=500, chunk_overlap=50)"
   ]
  },
  {
   "cell_type": "code",
   "execution_count": 10,
   "id": "52645465-4e86-4e44-a2f1-e53be70ec352",
   "metadata": {},
   "outputs": [],
   "source": [
    "md_char_doc = char_splitter.split_documents(md_doc)"
   ]
  },
  {
   "cell_type": "code",
   "execution_count": 11,
   "id": "a6ea838b-d703-486c-8e50-2f421c1c8260",
   "metadata": {},
   "outputs": [
    {
     "data": {
      "text/plain": [
       "[Document(metadata={'course title': 'Data Analytics Course', 'module title': 'Analysis vs Analytics'}, page_content='Analysis vs Analytics Alright! So… Let’s discuss the not-so-obvious differences between the terms analysis and analytics. Due to the similarity of the words, some people believe they share the same meaning, and thus use them interchangeably. Technically, this isn’t correct. There is, in fact, a distinct difference between the two. And the reason for one often being used instead of the other is the lack of a transparent understanding of both'),\n",
       " Document(metadata={'course title': 'Data Analytics Course', 'module title': 'Analysis vs Analytics'}, page_content='So, let’s clear this up, shall we? First, we will start with analysis. Consider the following… You have a huge dataset containing data of various types. Instead of tackling the entire dataset and running the risk of becoming overwhelmed, you separate it into easier to digest chunks and study them individually and examine how they relate to other parts. And that’s analysis in a nutshell'),\n",
       " Document(metadata={'course title': 'Data Analytics Course', 'module title': 'Analysis vs Analytics'}, page_content='And that’s analysis in a nutshell. One important thing to remember, however, is that you perform analyses on things that have already happened in the past. Such as using an analysis to explain how a story ended the way it did or how there was a decrease in sales last summer. All this means that we do analyses to explain how and/or why something happened. Great! Now, this leads us nicely on to the definition of analytics. As you have probably guessed, analytics generally refers to the future'),\n",
       " Document(metadata={'course title': 'Data Analytics Course', 'module title': 'Analysis vs Analytics'}, page_content='Instead of explaining past events it explores potential future ones. Analytics is essentially the application of logical and computational reasoning to the component parts obtained in an analysis. And in doing this you are looking for patterns and exploring what you could do with them in the future. Here, analytics branches off into two areas: qualitative analytics – this is using your intuition and experience in conjunction with the analysis to plan your next business move'),\n",
       " Document(metadata={'course title': 'Data Analytics Course', 'module title': 'Analysis vs Analytics'}, page_content=\"And quantitative analytics – this is applying formulas and algorithms to numbers you have gathered from your analysis. Here are a couple of examples. Say, you are an owner of an online clothing store. You are ahead of the competition and have a great understanding of what your customer's needs and wants are. You’ve performed a very detailed analysis from women’s clothing articles and feel sure about which fashion trends to follow\"),\n",
       " Document(metadata={'course title': 'Data Analytics Course', 'module title': 'Analysis vs Analytics'}, page_content='You may use this intuition to decide on which styles of clothing to start selling. This would be qualitative analytics. But you might not know when to introduce the new collection. In that case, relying on past sales data and user experience data, you could predict in which month it would be best to do that. This is an example of using quantitative analytics'),\n",
       " Document(metadata={'course title': 'Data Analytics Course', 'module title': 'Analysis vs Analytics'}, page_content='Fantastic! To backtrack a little, you can combine these areas with analyses also – you could perform qualitative analysis – to explain how or why a story ended the way it did. And you can perform quantitative analysis – working with past data to explain how sales decreased last summer'),\n",
       " Document(metadata={'course title': 'Data Analytics Course', 'module title': 'Analysis vs Analytics'}, page_content='Perfect! Now that we have cleared up the differences between analysis and analytics it shouldn’t be too difficult to see how terms such as ‘data analysis’, ‘data analytics’, ‘business analysis’ and ‘business analytics’ can have their unique meanings too. More of this will be explained in the next video which aims to simplify these, as well as many more with a fantastic diagram. So, let’s move on!'),\n",
       " Document(metadata={'course title': 'Data Analytics Course', 'module title': 'Programming Languages & Software Employed in Data Science - All the Tools You Need'}, page_content='Alright! So… How are the techniques used in data, business intelligence, or predictive analytics applied in real life? Certainly, with the help of computers. You can basically split the relevant tools into two categories—programming languages and software. Knowing a programming language enables you to devise programs that can execute specific operations. Moreover, you can reuse these programs whenever you need to execute the same action'),\n",
       " Document(metadata={'course title': 'Data Analytics Course', 'module title': 'Programming Languages & Software Employed in Data Science - All the Tools You Need'}, page_content='As you can see from the infographic, R, and Python are the two most popular tools across all columns. Their biggest advantage is that they can manipulate data and are integrated within multiple data and data science software platforms. They are not just suitable for mathematical and statistical computations. In other words, R, and Python are adaptable. They can solve a wide variety of business and data-related problems from beginning to the end'),\n",
       " Document(metadata={'course title': 'Data Analytics Course', 'module title': 'Programming Languages & Software Employed in Data Science - All the Tools You Need'}, page_content='Of course, R, and Python do have their limitations. They are not able to address problems specific to some domains. One example is ‘relational database management systems’—there, SQL is king. It was specifically created for that purpose. SQL is at its most advantageous when working with traditional, historical data. When preparing your BI analysis, for instance, you will surely employ it. Okay. When it comes to data science, mentioning MATLAB is inevitable'),\n",
       " Document(metadata={'course title': 'Data Analytics Course', 'module title': 'Programming Languages & Software Employed in Data Science - All the Tools You Need'}, page_content='It is ideal for working with mathematical functions or matrix manipulations. That’s why it is present in all categories except for ‘big data’. While respectable, MATLAB usage is a paid service, and that’s one of the reasons why it is losing ground to open-source languages like R and Python. Either way, R, Python, and MATLAB, combined with SQL, cover most of the tools used when working with traditional data, BI, and conventional data science'),\n",
       " Document(metadata={'course title': 'Data Analytics Course', 'module title': 'Programming Languages & Software Employed in Data Science - All the Tools You Need'}, page_content='What about big data? Apart from R and Python, people working in this area are often proficient in other languages like Java or Scala. These two have not been developed specifically for doing statistical analyses, however they turn out to be very useful when combining data from multiple sources. All right! Let’s finish off with machine learning. When it comes to machine learning, we often deal with big data'),\n",
       " Document(metadata={'course title': 'Data Analytics Course', 'module title': 'Programming Languages & Software Employed in Data Science - All the Tools You Need'}, page_content='Thus, we need a lot of computational power, and we can expect people to use the languages similar to those in the big data column. Apart from R, Python, and MATLAB, other, faster languages are used like Java, JavaScript, C, C++, and Scala. Cool. What we said may be wonderful, but that’s not all! By using one or more programming languages, people create application software or, as they are sometimes called, software solutions, that are adjusted for specific business needs'),\n",
       " Document(metadata={'course title': 'Data Analytics Course', 'module title': 'Programming Languages & Software Employed in Data Science - All the Tools You Need'}, page_content='Their smaller scope does not make them less useful, in fact, just the opposite—they are a lot easier to learn and be adopted by others. You have already heard of several of those. Because of its ability to do relatively complex computations and good visualizations quickly, Excel is a tool applicable to more than one category—traditional data, BI, and Data Science. Similarly, SPSS is a very famous tool for working with traditional data and applying statistical analysis'),\n",
       " Document(metadata={'course title': 'Data Analytics Course', 'module title': 'Programming Languages & Software Employed in Data Science - All the Tools You Need'}, page_content='Among the many applications we have plotted, we can say there is an increasing amount of software designed for working with big data such as Apache Hadoop, Apache Hbase, and Mongo DB. In terms of big data, Hadoop is the name that must stick with you. Hadoop is listed as a software in the sense that it is a collection of programs, but don’t imagine it as a nice-looking application'),\n",
       " Document(metadata={'course title': 'Data Analytics Course', 'module title': 'Programming Languages & Software Employed in Data Science - All the Tools You Need'}, page_content='It’s actually a software framework which was designed to address the complexity of big data and its computational intensity. Most notably, Hadoop distributes the computational tasks on multiple computers which is basically the way to handle big data nowadays. Power BI, SaS, Qlik, and especially Tableau are top-notch examples of software designed for business intelligence visualizations'),\n",
       " Document(metadata={'course title': 'Data Analytics Course', 'module title': 'Programming Languages & Software Employed in Data Science - All the Tools You Need'}, page_content='In terms of predictive analytics, EViews is mostly used for working with econometric time-series models, and Stata—for academic statistical and econometric research, where techniques like regression, cluster, and factor analysis are constantly applied. As a final note, remember the following. Should you have the relevant business and theoretical knowledge, learning a software tool is relatively easy as opposed to learning a programming language'),\n",
       " Document(metadata={'course title': 'Data Analytics Course', 'module title': 'Programming Languages & Software Employed in Data Science - All the Tools You Need'}, page_content='More importantly, it will be sufficient for your need to create quick and accurate analyses. However, if your theoretical preparation is strong enough, you will find yourself restricted by software. Knowing a programming language such as R and Python, gives you the freedom to create specific, ad-hoc tools for each project you are working on'),\n",
       " Document(metadata={'course title': 'Data Analytics Course', 'module title': 'Programming Languages & Software Employed in Data Science - All the Tools You Need'}, page_content='Great! We hope we gave you a good idea about the level of applicability of the most frequently used programming and software tools in the field of data science. Thank you for watching!')]"
      ]
     },
     "execution_count": 11,
     "metadata": {},
     "output_type": "execute_result"
    }
   ],
   "source": [
    "md_char_doc"
   ]
  },
  {
   "cell_type": "code",
   "execution_count": 12,
   "id": "294132e9-bb32-4588-84be-ac171cf785aa",
   "metadata": {},
   "outputs": [],
   "source": [
    "embedding = OpenAIEmbeddings(model='text-embedding-ada-002')"
   ]
  },
  {
   "cell_type": "code",
   "execution_count": 30,
   "id": "1fdcbfb1-7ad2-4d4e-a5e2-712450cdc2e7",
   "metadata": {},
   "outputs": [],
   "source": [
    "vector_db_local = Chroma(persist_directory='./vector_db', embedding_function=embedding)"
   ]
  },
  {
   "cell_type": "code",
   "execution_count": 34,
   "id": "ae2be5af-e129-45b8-959e-13a9d8c417c9",
   "metadata": {},
   "outputs": [],
   "source": [
    "question = 'What are the popular programming languages used by Data Scientists?'"
   ]
  },
  {
   "cell_type": "code",
   "execution_count": 36,
   "id": "c17c28c6-a41d-492a-9490-6eaa52b274d5",
   "metadata": {},
   "outputs": [],
   "source": [
    "similarity_search = vector_db_local.similarity_search(query=question,k=5)"
   ]
  },
  {
   "cell_type": "code",
   "execution_count": 38,
   "id": "78c88a36-a180-40e1-a054-9b5f5a957527",
   "metadata": {},
   "outputs": [
    {
     "data": {
      "text/plain": [
       "[Document(id='1c9cdcd3-f066-4702-8aa3-b810795a72ae', metadata={'course title': 'Data Analytics Course', 'module title': 'Programming Languages & Software Employed in Data Science - All the Tools You Need'}, page_content='What about big data? Apart from R and Python, people working in this area are often proficient in other languages like Java or Scala. These two have not been developed specifically for doing statistical analyses, however they turn out to be very useful when combining data from multiple sources. All right! Let’s finish off with machine learning. When it comes to machine learning, we often deal with big data'),\n",
       " Document(id='fee6d2f3-7028-4ba6-8112-31cb32abc434', metadata={'course title': 'Data Analytics Course', 'module title': 'Programming Languages & Software Employed in Data Science - All the Tools You Need'}, page_content='As you can see from the infographic, R, and Python are the two most popular tools across all columns. Their biggest advantage is that they can manipulate data and are integrated within multiple data and data science software platforms. They are not just suitable for mathematical and statistical computations. In other words, R, and Python are adaptable. They can solve a wide variety of business and data-related problems from beginning to the end'),\n",
       " Document(id='863a3ae9-86ea-4b36-b57b-e2f6c3134edb', metadata={'course title': 'Data Analytics Course', 'module title': 'Programming Languages & Software Employed in Data Science - All the Tools You Need'}, page_content='Thus, we need a lot of computational power, and we can expect people to use the languages similar to those in the big data column. Apart from R, Python, and MATLAB, other, faster languages are used like Java, JavaScript, C, C++, and Scala. Cool. What we said may be wonderful, but that’s not all! By using one or more programming languages, people create application software or, as they are sometimes called, software solutions, that are adjusted for specific business needs'),\n",
       " Document(id='cb533e12-0b86-4e51-be2f-284a5d1bd3e1', metadata={'course title': 'Data Analytics Course', 'module title': 'Programming Languages & Software Employed in Data Science - All the Tools You Need'}, page_content='It is ideal for working with mathematical functions or matrix manipulations. That’s why it is present in all categories except for ‘big data’. While respectable, MATLAB usage is a paid service, and that’s one of the reasons why it is losing ground to open-source languages like R and Python. Either way, R, Python, and MATLAB, combined with SQL, cover most of the tools used when working with traditional data, BI, and conventional data science'),\n",
       " Document(id='f3ec4e51-0771-4ffe-a5dd-7c73ea8610ae', metadata={'course title': 'Data Analytics Course', 'module title': 'Programming Languages & Software Employed in Data Science - All the Tools You Need'}, page_content='Alright! So… How are the techniques used in data, business intelligence, or predictive analytics applied in real life? Certainly, with the help of computers. You can basically split the relevant tools into two categories—programming languages and software. Knowing a programming language enables you to devise programs that can execute specific operations. Moreover, you can reuse these programs whenever you need to execute the same action')]"
      ]
     },
     "execution_count": 38,
     "metadata": {},
     "output_type": "execute_result"
    }
   ],
   "source": [
    "similarity_search"
   ]
  },
  {
   "cell_type": "code",
   "execution_count": 40,
   "id": "9eb3100a-731c-4405-9787-405f428e8d6a",
   "metadata": {},
   "outputs": [],
   "source": [
    "question2 = 'What software do data scientists use?'"
   ]
  },
  {
   "cell_type": "code",
   "execution_count": 54,
   "id": "0a7a86ff-d648-4010-adfb-0d4bf4aa6759",
   "metadata": {},
   "outputs": [],
   "source": [
    "mmr_search = vector_db_local.max_marginal_relevance_search(query=question2, k=3, lambda_mult=0.5, filter={'module title':'Programming Languages & Software Employed in Data Science - All the Tools You Need'})"
   ]
  },
  {
   "cell_type": "code",
   "execution_count": 55,
   "id": "0a28c453-6128-487b-9db2-62abc9a544f1",
   "metadata": {},
   "outputs": [
    {
     "data": {
      "text/plain": [
       "[Document(id='fee6d2f3-7028-4ba6-8112-31cb32abc434', metadata={'course title': 'Data Analytics Course', 'module title': 'Programming Languages & Software Employed in Data Science - All the Tools You Need'}, page_content='As you can see from the infographic, R, and Python are the two most popular tools across all columns. Their biggest advantage is that they can manipulate data and are integrated within multiple data and data science software platforms. They are not just suitable for mathematical and statistical computations. In other words, R, and Python are adaptable. They can solve a wide variety of business and data-related problems from beginning to the end'),\n",
       " Document(id='d7780371-ba9d-412d-941c-473e01924b40', metadata={'course title': 'Data Analytics Course', 'module title': 'Programming Languages & Software Employed in Data Science - All the Tools You Need'}, page_content='Among the many applications we have plotted, we can say there is an increasing amount of software designed for working with big data such as Apache Hadoop, Apache Hbase, and Mongo DB. In terms of big data, Hadoop is the name that must stick with you. Hadoop is listed as a software in the sense that it is a collection of programs, but don’t imagine it as a nice-looking application'),\n",
       " Document(id='76e50d43-21ca-4b48-91a3-131c069b567d', metadata={'course title': 'Data Analytics Course', 'module title': 'Programming Languages & Software Employed in Data Science - All the Tools You Need'}, page_content='Great! We hope we gave you a good idea about the level of applicability of the most frequently used programming and software tools in the field of data science. Thank you for watching!')]"
      ]
     },
     "execution_count": 55,
     "metadata": {},
     "output_type": "execute_result"
    }
   ],
   "source": [
    "mmr_search"
   ]
  },
  {
   "cell_type": "code",
   "execution_count": 58,
   "id": "f1dfae5a-4543-4f56-8802-abf9e81c2abc",
   "metadata": {},
   "outputs": [],
   "source": [
    "retriver = vector_db_local.as_retriever(search_type='mmr',search_kwargs={'k':3,'lambda_mult':0.7})"
   ]
  },
  {
   "cell_type": "code",
   "execution_count": 60,
   "id": "e7de5a8e-7510-42ff-bde5-3b1604972722",
   "metadata": {},
   "outputs": [
    {
     "data": {
      "text/plain": [
       "VectorStoreRetriever(tags=['Chroma', 'OpenAIEmbeddings'], vectorstore=<langchain_chroma.vectorstores.Chroma object at 0x121d87500>, search_type='mmr', search_kwargs={'k': 3, 'lambda_mult': 0.7})"
      ]
     },
     "execution_count": 60,
     "metadata": {},
     "output_type": "execute_result"
    }
   ],
   "source": [
    "retriver"
   ]
  },
  {
   "cell_type": "code",
   "execution_count": 62,
   "id": "59213e88-9f9f-401e-9129-4c7e1a791924",
   "metadata": {},
   "outputs": [],
   "source": [
    "retrived_documents = retriver.invoke(question2)"
   ]
  },
  {
   "cell_type": "code",
   "execution_count": 64,
   "id": "c3a4e4cb-3cd3-400e-913e-1821bc4155a0",
   "metadata": {},
   "outputs": [
    {
     "data": {
      "text/plain": [
       "[Document(id='fee6d2f3-7028-4ba6-8112-31cb32abc434', metadata={'course title': 'Data Analytics Course', 'module title': 'Programming Languages & Software Employed in Data Science - All the Tools You Need'}, page_content='As you can see from the infographic, R, and Python are the two most popular tools across all columns. Their biggest advantage is that they can manipulate data and are integrated within multiple data and data science software platforms. They are not just suitable for mathematical and statistical computations. In other words, R, and Python are adaptable. They can solve a wide variety of business and data-related problems from beginning to the end'),\n",
       " Document(id='9b3ee7ae-0c07-49eb-aea5-f5b755e61f28', metadata={'course title': 'Data Analytics Course', 'module title': 'Programming Languages & Software Employed in Data Science - All the Tools You Need'}, page_content='It’s actually a software framework which was designed to address the complexity of big data and its computational intensity. Most notably, Hadoop distributes the computational tasks on multiple computers which is basically the way to handle big data nowadays. Power BI, SaS, Qlik, and especially Tableau are top-notch examples of software designed for business intelligence visualizations'),\n",
       " Document(id='76e50d43-21ca-4b48-91a3-131c069b567d', metadata={'course title': 'Data Analytics Course', 'module title': 'Programming Languages & Software Employed in Data Science - All the Tools You Need'}, page_content='Great! We hope we gave you a good idea about the level of applicability of the most frequently used programming and software tools in the field of data science. Thank you for watching!')]"
      ]
     },
     "execution_count": 64,
     "metadata": {},
     "output_type": "execute_result"
    }
   ],
   "source": [
    "retrived_documents"
   ]
  },
  {
   "cell_type": "code",
   "execution_count": null,
   "id": "2659ce2e-99b9-48af-bb64-1d4e7adb2598",
   "metadata": {},
   "outputs": [],
   "source": []
  }
 ],
 "metadata": {
  "kernelspec": {
   "display_name": "langchain_env",
   "language": "python",
   "name": "langchain_env"
  },
  "language_info": {
   "codemirror_mode": {
    "name": "ipython",
    "version": 3
   },
   "file_extension": ".py",
   "mimetype": "text/x-python",
   "name": "python",
   "nbconvert_exporter": "python",
   "pygments_lexer": "ipython3",
   "version": "3.12.9"
  }
 },
 "nbformat": 4,
 "nbformat_minor": 5
}
