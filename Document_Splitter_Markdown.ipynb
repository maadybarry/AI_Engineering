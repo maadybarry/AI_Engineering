{
 "cells": [
  {
   "cell_type": "code",
   "execution_count": 38,
   "id": "9417e2ab-9503-4cd2-8c65-ed5733787ead",
   "metadata": {},
   "outputs": [],
   "source": [
    "%load_ext dotenv\n",
    "%dotenv"
   ]
  },
  {
   "cell_type": "code",
   "execution_count": 52,
   "id": "a36ecbac-2d51-4224-8558-fc16ad375985",
   "metadata": {},
   "outputs": [],
   "source": [
    "from langchain_community.document_loaders import Docx2txtLoader\n",
    "from langchain.text_splitter import MarkdownHeaderTextSplitter, CharacterTextSplitter\n",
    "from langchain_openai.embeddings import OpenAIEmbeddings\n",
    "import numpy as np"
   ]
  },
  {
   "cell_type": "code",
   "execution_count": 4,
   "id": "26a20cd5-b74e-4923-a5ae-092e84b4884e",
   "metadata": {},
   "outputs": [],
   "source": [
    "load_doc = Docx2txtLoader(\"Introduction_to_Data_and_Data_Science_2.docx\")"
   ]
  },
  {
   "cell_type": "code",
   "execution_count": 6,
   "id": "523deee1-17c1-4f3e-8130-3ea5a0f2dfb8",
   "metadata": {},
   "outputs": [],
   "source": [
    "doc = load_doc.load()"
   ]
  },
  {
   "cell_type": "code",
   "execution_count": 10,
   "id": "b694c24b-da18-4e08-b5a3-13842b704dad",
   "metadata": {},
   "outputs": [],
   "source": [
    "markdown_splitter = MarkdownHeaderTextSplitter(headers_to_split_on=[('#','Course Title'),('##','Module Title')])"
   ]
  },
  {
   "cell_type": "code",
   "execution_count": 12,
   "id": "d3399b1e-b0fe-4c8b-869b-e7e30fe82ad9",
   "metadata": {},
   "outputs": [],
   "source": [
    "doc_mark_split = markdown_splitter.split_text(doc[0].page_content)"
   ]
  },
  {
   "cell_type": "code",
   "execution_count": 14,
   "id": "21beeb32-b8a0-451b-a1c8-d102ee5123fc",
   "metadata": {},
   "outputs": [
    {
     "data": {
      "text/plain": [
       "[Document(metadata={'Course Title': 'Data Analytics Course', 'Module Title': 'Analysis vs Analytics'}, page_content=\"Analysis vs Analytics  \\nAlright! So…\\nLet’s discuss the not-so-obvious differences\\nbetween the terms analysis and analytics.\\nDue to the similarity of the words, some people\\nbelieve they share the same meaning, and thus\\nuse them interchangeably. Technically, this\\nisn’t correct. There is, in fact, a distinct\\ndifference between the two. And the reason\\nfor one often being used instead of the other\\nis the lack of a transparent understanding\\nof both.\\nSo, let’s clear this up, shall we?\\nFirst, we will start with analysis.\\nConsider the following…\\nYou have a huge dataset containing data of\\nvarious types. Instead of tackling the entire\\ndataset and running the risk of becoming overwhelmed,\\nyou separate it into easier to digest chunks\\nand study them individually and examine how\\nthey relate to other parts. And that’s analysis\\nin a nutshell.\\nOne important thing to remember, however,\\nis that you perform analyses on things that\\nhave already happened in the past. Such as\\nusing an analysis to explain how a story ended\\nthe way it did or how there was a decrease\\nin sales last summer.\\nAll this means that we do analyses to explain\\nhow and/or why something happened.\\nGreat!\\nNow, this leads us nicely on to the definition\\nof analytics.\\nAs you have probably guessed, analytics generally\\nrefers to the future. Instead of explaining\\npast events it explores potential future ones.\\nAnalytics is essentially the application of\\nlogical and computational reasoning to the\\ncomponent parts obtained in an analysis. And\\nin doing this you are looking for patterns\\nand exploring what you could do with them\\nin the future.\\nHere, analytics branches off into two areas:\\nqualitative analytics – this is using your\\nintuition and experience in conjunction with\\nthe analysis to plan your next business move.\\nAnd quantitative analytics – this is applying\\nformulas and algorithms to numbers you have\\ngathered from your analysis.\\nHere are a couple of examples.\\nSay, you are an owner of an online clothing\\nstore. You are ahead of the competition and\\nhave a great understanding of what your customer's\\nneeds and wants are. You’ve performed a\\nvery detailed analysis from women’s clothing\\narticles and feel sure about which fashion\\ntrends to follow. You may use this intuition\\nto decide on which styles of clothing to start\\nselling. This would be qualitative analytics.\\nBut you might not know when to introduce the\\nnew collection. In that case, relying on past\\nsales data and user experience data, you could\\npredict in which month it would be best to\\ndo that. This is an example of using quantitative\\nanalytics.\\nFantastic!\\nTo backtrack a little, you can combine these\\nareas with analyses also – you could perform\\nqualitative analysis – to explain how or\\nwhy a story ended the way it did. And you\\ncan perform quantitative analysis – working\\nwith past data to explain how sales decreased\\nlast summer.\\nPerfect!\\nNow that we have cleared up the differences\\nbetween analysis and analytics it shouldn’t\\nbe too difficult to see how terms such as\\n‘data analysis’, ‘data analytics’,\\n‘business analysis’ and ‘business analytics’\\ncan have their unique meanings too.\\nMore of this will be explained in the next\\nvideo which aims to simplify these, as well\\nas many more with a fantastic diagram. So,\\nlet’s move on!\"),\n",
       " Document(metadata={'Course Title': 'Data Analytics Course', 'Module Title': 'Programming Languages & Software Employed in Data Science - All the Tools You Need'}, page_content='Alright! So…\\nHow are the techniques used in data, business\\nintelligence, or predictive analytics applied\\nin real life?\\nCertainly, with the help of computers.\\nYou can basically split the relevant tools\\ninto two categories—programming languages\\nand software.\\nKnowing a programming language enables you\\nto devise programs that can execute specific\\noperations. Moreover, you can reuse these\\nprograms whenever you need to execute the\\nsame action.\\nAs you can see from the infographic, R, and\\nPython are the two most popular tools across\\nall columns. Their biggest advantage is that\\nthey can manipulate data and are integrated\\nwithin multiple data and data science software\\nplatforms. They are not just suitable for\\nmathematical and statistical computations.\\nIn other words, R, and Python are adaptable.\\nThey can solve a wide variety of business\\nand data-related problems from beginning to\\nthe end.\\nOf course, R, and Python do have their limitations.\\nThey are not able to address problems specific\\nto some domains. One example is ‘relational\\ndatabase management systems’—there, SQL\\nis king. It was specifically created for that\\npurpose. SQL is at its most advantageous when\\nworking with traditional, historical data.\\nWhen preparing your BI analysis, for instance,\\nyou will surely employ it.\\nOkay.\\nWhen it comes to data science, mentioning\\nMATLAB is inevitable. It is ideal for working\\nwith mathematical functions or matrix manipulations.\\nThat’s why it is present in all categories\\nexcept for ‘big data’. While respectable,\\nMATLAB usage is a paid service, and that’s\\none of the reasons why it is losing ground\\nto open-source languages like R and Python.\\nEither way, R, Python, and MATLAB, combined\\nwith SQL, cover most of the tools used when\\nworking with traditional data, BI, and conventional\\ndata science.\\nWhat about big data?\\nApart from R and Python, people working in\\nthis area are often proficient in other languages\\nlike Java or Scala. These two have not been\\ndeveloped specifically for doing statistical\\nanalyses, however they turn out to be very\\nuseful when combining data from multiple sources.\\nAll right! Let’s finish off with machine\\nlearning.\\nWhen it comes to machine learning, we often\\ndeal with big data. Thus, we need a lot of\\ncomputational power, and we can expect people\\nto use the languages similar to those in the\\nbig data column. Apart from R, Python, and\\nMATLAB, other, faster languages are used like\\nJava, JavaScript, C, C++, and Scala.\\nCool.\\nWhat we said may be wonderful, but that’s\\nnot all!\\nBy using one or more programming languages,\\npeople create application software or, as\\nthey are sometimes called, software solutions,\\nthat are adjusted for specific business needs.\\nTheir smaller scope does not make them less\\nuseful, in fact, just the opposite—they\\nare a lot easier to learn and be adopted by\\nothers. You have already heard of several\\nof those.\\nBecause of its ability to do relatively complex\\ncomputations and good visualizations quickly,\\nExcel is a tool applicable to more than one\\ncategory—traditional data, BI, and Data\\nScience. Similarly, SPSS is a very famous\\ntool for working with traditional data and\\napplying statistical analysis.\\nAmong the many applications we have plotted,\\nwe can say there is an increasing amount of\\nsoftware designed for working with big data\\nsuch as Apache Hadoop, Apache Hbase, and Mongo\\nDB.\\nIn terms of big data, Hadoop is the name that\\nmust stick with you. Hadoop is listed as a\\nsoftware in the sense that it is a collection\\nof programs, but don’t imagine it as a nice-looking\\napplication. It’s actually a software framework\\nwhich was designed to address the complexity\\nof big data and its computational intensity.\\nMost notably, Hadoop distributes the computational\\ntasks on multiple computers which is basically\\nthe way to handle big data nowadays.\\nPower BI, SaS, Qlik, and especially Tableau\\nare top-notch examples of software designed\\nfor business intelligence visualizations.\\nIn terms of predictive analytics, EViews is\\nmostly used for working with econometric time-series\\nmodels, and Stata—for academic statistical\\nand econometric research, where techniques\\nlike regression, cluster, and factor analysis\\nare constantly applied.\\nAs a final note, remember the following.\\nShould you have the relevant business and\\ntheoretical knowledge, learning a software\\ntool is relatively easy as opposed to learning\\na programming language. More importantly,\\nit will be sufficient for your need to create\\nquick and accurate analyses.\\nHowever, if your theoretical preparation is\\nstrong enough, you will find yourself restricted\\nby software. Knowing a programming language\\nsuch as R and Python, gives you the freedom\\nto create specific, ad-hoc tools for each\\nproject you are working on.\\nGreat!\\nWe hope we gave you a good idea about the\\nlevel of applicability of the most frequently\\nused programming and software tools in the\\nfield of data science.\\nThank you for watching!')]"
      ]
     },
     "execution_count": 14,
     "metadata": {},
     "output_type": "execute_result"
    }
   ],
   "source": [
    "doc_mark_split"
   ]
  },
  {
   "cell_type": "code",
   "execution_count": 18,
   "id": "2d8b4ad4-8b4a-48f4-952d-4f2f73ae5067",
   "metadata": {},
   "outputs": [],
   "source": [
    "for i in doc_mark_split:\n",
    "    i.page_content = ' '.join(i.page_content.split())"
   ]
  },
  {
   "cell_type": "code",
   "execution_count": 20,
   "id": "18660978-971f-432f-a696-476e8671107b",
   "metadata": {},
   "outputs": [
    {
     "data": {
      "text/plain": [
       "[Document(metadata={'Course Title': 'Data Analytics Course', 'Module Title': 'Analysis vs Analytics'}, page_content=\"Analysis vs Analytics Alright! So… Let’s discuss the not-so-obvious differences between the terms analysis and analytics. Due to the similarity of the words, some people believe they share the same meaning, and thus use them interchangeably. Technically, this isn’t correct. There is, in fact, a distinct difference between the two. And the reason for one often being used instead of the other is the lack of a transparent understanding of both. So, let’s clear this up, shall we? First, we will start with analysis. Consider the following… You have a huge dataset containing data of various types. Instead of tackling the entire dataset and running the risk of becoming overwhelmed, you separate it into easier to digest chunks and study them individually and examine how they relate to other parts. And that’s analysis in a nutshell. One important thing to remember, however, is that you perform analyses on things that have already happened in the past. Such as using an analysis to explain how a story ended the way it did or how there was a decrease in sales last summer. All this means that we do analyses to explain how and/or why something happened. Great! Now, this leads us nicely on to the definition of analytics. As you have probably guessed, analytics generally refers to the future. Instead of explaining past events it explores potential future ones. Analytics is essentially the application of logical and computational reasoning to the component parts obtained in an analysis. And in doing this you are looking for patterns and exploring what you could do with them in the future. Here, analytics branches off into two areas: qualitative analytics – this is using your intuition and experience in conjunction with the analysis to plan your next business move. And quantitative analytics – this is applying formulas and algorithms to numbers you have gathered from your analysis. Here are a couple of examples. Say, you are an owner of an online clothing store. You are ahead of the competition and have a great understanding of what your customer's needs and wants are. You’ve performed a very detailed analysis from women’s clothing articles and feel sure about which fashion trends to follow. You may use this intuition to decide on which styles of clothing to start selling. This would be qualitative analytics. But you might not know when to introduce the new collection. In that case, relying on past sales data and user experience data, you could predict in which month it would be best to do that. This is an example of using quantitative analytics. Fantastic! To backtrack a little, you can combine these areas with analyses also – you could perform qualitative analysis – to explain how or why a story ended the way it did. And you can perform quantitative analysis – working with past data to explain how sales decreased last summer. Perfect! Now that we have cleared up the differences between analysis and analytics it shouldn’t be too difficult to see how terms such as ‘data analysis’, ‘data analytics’, ‘business analysis’ and ‘business analytics’ can have their unique meanings too. More of this will be explained in the next video which aims to simplify these, as well as many more with a fantastic diagram. So, let’s move on!\"),\n",
       " Document(metadata={'Course Title': 'Data Analytics Course', 'Module Title': 'Programming Languages & Software Employed in Data Science - All the Tools You Need'}, page_content='Alright! So… How are the techniques used in data, business intelligence, or predictive analytics applied in real life? Certainly, with the help of computers. You can basically split the relevant tools into two categories—programming languages and software. Knowing a programming language enables you to devise programs that can execute specific operations. Moreover, you can reuse these programs whenever you need to execute the same action. As you can see from the infographic, R, and Python are the two most popular tools across all columns. Their biggest advantage is that they can manipulate data and are integrated within multiple data and data science software platforms. They are not just suitable for mathematical and statistical computations. In other words, R, and Python are adaptable. They can solve a wide variety of business and data-related problems from beginning to the end. Of course, R, and Python do have their limitations. They are not able to address problems specific to some domains. One example is ‘relational database management systems’—there, SQL is king. It was specifically created for that purpose. SQL is at its most advantageous when working with traditional, historical data. When preparing your BI analysis, for instance, you will surely employ it. Okay. When it comes to data science, mentioning MATLAB is inevitable. It is ideal for working with mathematical functions or matrix manipulations. That’s why it is present in all categories except for ‘big data’. While respectable, MATLAB usage is a paid service, and that’s one of the reasons why it is losing ground to open-source languages like R and Python. Either way, R, Python, and MATLAB, combined with SQL, cover most of the tools used when working with traditional data, BI, and conventional data science. What about big data? Apart from R and Python, people working in this area are often proficient in other languages like Java or Scala. These two have not been developed specifically for doing statistical analyses, however they turn out to be very useful when combining data from multiple sources. All right! Let’s finish off with machine learning. When it comes to machine learning, we often deal with big data. Thus, we need a lot of computational power, and we can expect people to use the languages similar to those in the big data column. Apart from R, Python, and MATLAB, other, faster languages are used like Java, JavaScript, C, C++, and Scala. Cool. What we said may be wonderful, but that’s not all! By using one or more programming languages, people create application software or, as they are sometimes called, software solutions, that are adjusted for specific business needs. Their smaller scope does not make them less useful, in fact, just the opposite—they are a lot easier to learn and be adopted by others. You have already heard of several of those. Because of its ability to do relatively complex computations and good visualizations quickly, Excel is a tool applicable to more than one category—traditional data, BI, and Data Science. Similarly, SPSS is a very famous tool for working with traditional data and applying statistical analysis. Among the many applications we have plotted, we can say there is an increasing amount of software designed for working with big data such as Apache Hadoop, Apache Hbase, and Mongo DB. In terms of big data, Hadoop is the name that must stick with you. Hadoop is listed as a software in the sense that it is a collection of programs, but don’t imagine it as a nice-looking application. It’s actually a software framework which was designed to address the complexity of big data and its computational intensity. Most notably, Hadoop distributes the computational tasks on multiple computers which is basically the way to handle big data nowadays. Power BI, SaS, Qlik, and especially Tableau are top-notch examples of software designed for business intelligence visualizations. In terms of predictive analytics, EViews is mostly used for working with econometric time-series models, and Stata—for academic statistical and econometric research, where techniques like regression, cluster, and factor analysis are constantly applied. As a final note, remember the following. Should you have the relevant business and theoretical knowledge, learning a software tool is relatively easy as opposed to learning a programming language. More importantly, it will be sufficient for your need to create quick and accurate analyses. However, if your theoretical preparation is strong enough, you will find yourself restricted by software. Knowing a programming language such as R and Python, gives you the freedom to create specific, ad-hoc tools for each project you are working on. Great! We hope we gave you a good idea about the level of applicability of the most frequently used programming and software tools in the field of data science. Thank you for watching!')]"
      ]
     },
     "execution_count": 20,
     "metadata": {},
     "output_type": "execute_result"
    }
   ],
   "source": [
    "doc_mark_split"
   ]
  },
  {
   "cell_type": "code",
   "execution_count": 24,
   "id": "103fbd6d-1342-4df8-82e9-72ffae38a1dc",
   "metadata": {},
   "outputs": [],
   "source": [
    "char_split = CharacterTextSplitter(\n",
    "    separator='.',\n",
    "    chunk_size=500,\n",
    "    chunk_overlap=50\n",
    ")"
   ]
  },
  {
   "cell_type": "code",
   "execution_count": 26,
   "id": "2f6df784-d8fe-4889-8fc8-8df1e169cd96",
   "metadata": {},
   "outputs": [],
   "source": [
    "pages_split_md = char_split.split_documen ts(doc_mark_split)"
   ]
  },
  {
   "cell_type": "code",
   "execution_count": 42,
   "id": "3be83a4d-dd95-4eaf-9de7-068e95f7e2cf",
   "metadata": {},
   "outputs": [],
   "source": [
    "embedding_model = OpenAIEmbeddings(model='text-embedding-ada-002')"
   ]
  },
  {
   "cell_type": "code",
   "execution_count": 44,
   "id": "9dcd0103-a7f7-40e5-83b3-26bfc5957207",
   "metadata": {},
   "outputs": [],
   "source": [
    "vector1 = embedding_model.embed_query(pages_split_md[3].page_content)"
   ]
  },
  {
   "cell_type": "code",
   "execution_count": 64,
   "id": "ffc83778-6b8e-4caf-aa3c-5e8c8e33941a",
   "metadata": {},
   "outputs": [],
   "source": [
    "vector2 = embedding_model.embed_query(pages_split_md[5].page_content)"
   ]
  },
  {
   "cell_type": "code",
   "execution_count": 48,
   "id": "812d5263-948a-4f6f-b2f6-9d7921d69ba0",
   "metadata": {},
   "outputs": [],
   "source": [
    "vector3 = embedding_model.embed_query(pages_split_md[18].page_content)"
   ]
  },
  {
   "cell_type": "code",
   "execution_count": 66,
   "id": "a2aeb6c6-1bd0-46d7-a536-1208661c8f09",
   "metadata": {},
   "outputs": [
    {
     "data": {
      "text/plain": [
       "(np.float64(0.8820487719656078),\n",
       " np.float64(0.7950441539662565),\n",
       " np.float64(0.7934993700101874))"
      ]
     },
     "execution_count": 66,
     "metadata": {},
     "output_type": "execute_result"
    }
   ],
   "source": [
    "np.dot(vector1,vector2),np.dot(vector1,vector3),np.dot(vector2,vector3)"
   ]
  },
  {
   "cell_type": "code",
   "execution_count": 72,
   "id": "c3b38a9a-1c73-421f-ac7e-d194eac80f2c",
   "metadata": {},
   "outputs": [
    {
     "data": {
      "text/plain": [
       "(np.float64(0.9999999551041846),\n",
       " np.float64(0.9999999432048748),\n",
       " np.float64(0.9999999688261215))"
      ]
     },
     "execution_count": 72,
     "metadata": {},
     "output_type": "execute_result"
    }
   ],
   "source": [
    "np.linalg.norm(vector1),np.linalg.norm(vector2),np.linalg.norm(vector3)"
   ]
  },
  {
   "cell_type": "code",
   "execution_count": 74,
   "id": "e7eb167a-50c3-4fc6-ac76-65597b19f92f",
   "metadata": {},
   "outputs": [
    {
     "data": {
      "text/plain": [
       "20"
      ]
     },
     "execution_count": 74,
     "metadata": {},
     "output_type": "execute_result"
    }
   ],
   "source": [
    "len(pages_split_md)"
   ]
  }
 ],
 "metadata": {
  "kernelspec": {
   "display_name": "langchain_env",
   "language": "python",
   "name": "langchain_env"
  },
  "language_info": {
   "codemirror_mode": {
    "name": "ipython",
    "version": 3
   },
   "file_extension": ".py",
   "mimetype": "text/x-python",
   "name": "python",
   "nbconvert_exporter": "python",
   "pygments_lexer": "ipython3",
   "version": "3.12.9"
  }
 },
 "nbformat": 4,
 "nbformat_minor": 5
}
