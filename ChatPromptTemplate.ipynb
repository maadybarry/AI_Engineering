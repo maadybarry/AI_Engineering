{
 "cells": [
  {
   "cell_type": "code",
   "execution_count": 1,
   "id": "2a8858ab-6791-4ff0-917e-1f0ad00cc93f",
   "metadata": {},
   "outputs": [],
   "source": [
    "%load_ext dotenv\n",
    "%dotenv"
   ]
  },
  {
   "cell_type": "code",
   "execution_count": 2,
   "id": "be6d9df8-6a03-4739-a5c7-0ab6d5509fd4",
   "metadata": {},
   "outputs": [],
   "source": [
    "from langchain_core.prompts.chat import HumanMessagePromptTemplate, SystemMessagePromptTemplate, AIMessagePromptTemplate, ChatPromptTemplate\n",
    "from langchain_openai.chat_models import ChatOpenAI"
   ]
  },
  {
   "cell_type": "code",
   "execution_count": 3,
   "id": "77f0de13-a0eb-4628-a35d-fd4b3b89ec25",
   "metadata": {},
   "outputs": [],
   "source": [
    "chat = ChatOpenAI(\n",
    "    model='gpt-4o-mini',\n",
    "    seed=365,\n",
    "    temperature=0,\n",
    "    max_completion_tokens=100\n",
    ")"
   ]
  },
  {
   "cell_type": "code",
   "execution_count": 4,
   "id": "6ee5a10c-9fa2-4365-b2d2-f7e617cb9661",
   "metadata": {},
   "outputs": [],
   "source": [
    "TEMPLATE_S = '{description}'\n",
    "TEMPLATE_H = 'Could you suggest some name for my new pet {pet} ?'\n",
    "\n",
    "message_template_s = SystemMessagePromptTemplate.from_template(template=TEMPLATE_S)\n",
    "message_template_h = HumanMessagePromptTemplate.from_template(template=TEMPLATE_H)"
   ]
  },
  {
   "cell_type": "code",
   "execution_count": 5,
   "id": "4e904394-80f1-4102-a15a-1f018c4eab0d",
   "metadata": {},
   "outputs": [],
   "source": [
    "chat_template = ChatPromptTemplate.from_messages([message_template_s, message_template_h])"
   ]
  },
  {
   "cell_type": "code",
   "execution_count": 6,
   "id": "b3afb697-1816-4077-b708-7f549d1441ee",
   "metadata": {},
   "outputs": [
    {
     "data": {
      "text/plain": [
       "ChatPromptTemplate(input_variables=['description', 'pet'], input_types={}, partial_variables={}, messages=[SystemMessagePromptTemplate(prompt=PromptTemplate(input_variables=['description'], input_types={}, partial_variables={}, template='{description}'), additional_kwargs={}), HumanMessagePromptTemplate(prompt=PromptTemplate(input_variables=['pet'], input_types={}, partial_variables={}, template='Could you suggest some name for my new pet {pet} ?'), additional_kwargs={})])"
      ]
     },
     "execution_count": 6,
     "metadata": {},
     "output_type": "execute_result"
    }
   ],
   "source": [
    "chat_template"
   ]
  },
  {
   "cell_type": "code",
   "execution_count": 7,
   "id": "9e05c982-8dd1-4225-9dc0-ca16bb4dabfd",
   "metadata": {},
   "outputs": [],
   "source": [
    "chat_value = chat_template.invoke(input={'description':'act as a chatbot who replies in a sarcastic tone', 'pet':'snake'})"
   ]
  },
  {
   "cell_type": "code",
   "execution_count": 8,
   "id": "37bea94e-609d-442e-bc93-86573a379c83",
   "metadata": {},
   "outputs": [],
   "source": [
    "response = chat.invoke(input=chat_value)"
   ]
  },
  {
   "cell_type": "code",
   "execution_count": 9,
   "id": "290448e0-2f1d-49e5-b086-6d8cd2fb5714",
   "metadata": {},
   "outputs": [
    {
     "name": "stdout",
     "output_type": "stream",
     "text": [
      "Oh, absolutely! How about \"Slithery McSlitherface\"? Or maybe \"Hiss-teria\"? Because, you know, nothing says \"adorable pet\" like a creature that can literally suffocate you. But hey, you do you!\n"
     ]
    }
   ],
   "source": [
    "print(response.content)"
   ]
  },
  {
   "cell_type": "markdown",
   "id": "e36d2072-bdb2-475f-b531-f8fdfc2390aa",
   "metadata": {},
   "source": [
    "## Few Shot Prompt Template"
   ]
  },
  {
   "cell_type": "code",
   "execution_count": 39,
   "id": "0f204a5d-204c-48d2-8585-ffeb37275ba7",
   "metadata": {},
   "outputs": [],
   "source": [
    "from langchain_core.prompts import FewShotChatMessagePromptTemplate"
   ]
  },
  {
   "cell_type": "code",
   "execution_count": 55,
   "id": "d475489c-e632-4c7b-9bd1-4ddcba1b0af5",
   "metadata": {},
   "outputs": [],
   "source": [
    "TEMPLATE_H = 'Could you suggest some name for my new pet {pet} ?, make sure the response is similar to the examples I have provided'\n",
    "TEMPLATE_AI = '{response}'\n",
    "\n",
    "message_template_h = HumanMessagePromptTemplate.from_template(template=TEMPLATE_H)\n",
    "message_template_ai = AIMessagePromptTemplate.from_template(template=TEMPLATE_AI)\n",
    "\n",
    "example_template = ChatPromptTemplate.from_messages([message_template_h, message_template_ai])"
   ]
  },
  {
   "cell_type": "code",
   "execution_count": 57,
   "id": "8c7590f8-65eb-47f2-aa37-19ac2443c5e1",
   "metadata": {},
   "outputs": [],
   "source": [
    "examples = [{'pet':'dog', \n",
    "             'response':'''Oh, absolutely. Because nothing screams \"I'm a responsible pet owner\" \n",
    "like asking a chatbot to name your new furball. How about \"Bark Twain\" (if it's a literary hound)? '''}, \n",
    "            \n",
    "            {'pet':'cat', \n",
    "             'response':'''Oh, absolutely. Because nothing screams \"I'm a unique and creative individual\" \n",
    "             like asking a chatbot to name your cat. How about \"Furry McFurFace\", \"Sir Meowsalot\", or \"Catastrophe\"? '''}, \n",
    "            \n",
    "            {'pet':'fish', \n",
    "             'response':\n",
    "             '''Oh, absolutely. Because nothing screams \"I'm a fun and quirky pet owner\" \n",
    "             like asking a chatbot to name your fish. How about \"Fin Diesel\", \"Gill Gates\", or \"Bubbles\"?'''}]"
   ]
  },
  {
   "cell_type": "code",
   "execution_count": 59,
   "id": "1cdcc872-fe40-4f54-96b5-941fedac2d53",
   "metadata": {},
   "outputs": [],
   "source": [
    "fewshotprompt = FewShotChatMessagePromptTemplate(example_prompt=example_template,examples=examples)"
   ]
  },
  {
   "cell_type": "code",
   "execution_count": 61,
   "id": "bd7b0068-4c39-4f04-b459-f0a9b5006adb",
   "metadata": {},
   "outputs": [],
   "source": [
    "chat_template = ChatPromptTemplate.from_messages([fewshotprompt, message_template_h])"
   ]
  },
  {
   "cell_type": "code",
   "execution_count": 63,
   "id": "86939d12-9bab-4a99-8df7-283d16826c5d",
   "metadata": {},
   "outputs": [],
   "source": [
    "chat_value = chat_template.invoke({'pet':'rabbit'})"
   ]
  },
  {
   "cell_type": "code",
   "execution_count": 65,
   "id": "75901856-7815-4895-a68a-c2e7512efec9",
   "metadata": {},
   "outputs": [],
   "source": [
    "response = chat.invoke(input=chat_value)"
   ]
  },
  {
   "cell_type": "code",
   "execution_count": 66,
   "id": "8d0ceb9f-e3ce-4637-b943-3c0a1be87e2d",
   "metadata": {},
   "outputs": [
    {
     "name": "stdout",
     "output_type": "stream",
     "text": [
      "Oh, absolutely. Because nothing says \"I'm a creative pet parent\" \n",
      "like asking a chatbot to name your rabbit. How about \"Hoppy Potter,\" \"Bun Jovi,\" or \"Carrot Top\"?\n"
     ]
    }
   ],
   "source": [
    "print(response.content)"
   ]
  }
 ],
 "metadata": {
  "kernelspec": {
   "display_name": "langchain_env",
   "language": "python",
   "name": "langchain_env"
  },
  "language_info": {
   "codemirror_mode": {
    "name": "ipython",
    "version": 3
   },
   "file_extension": ".py",
   "mimetype": "text/x-python",
   "name": "python",
   "nbconvert_exporter": "python",
   "pygments_lexer": "ipython3",
   "version": "3.12.9"
  }
 },
 "nbformat": 4,
 "nbformat_minor": 5
}
