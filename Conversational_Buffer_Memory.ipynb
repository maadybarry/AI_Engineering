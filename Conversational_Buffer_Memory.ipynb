{
 "cells": [
  {
   "cell_type": "code",
   "execution_count": 6,
   "id": "8dcfe824-b19a-42f8-8dce-c124438f408b",
   "metadata": {},
   "outputs": [],
   "source": [
    "%load_ext dotenv\n",
    "%dotenv"
   ]
  },
  {
   "cell_type": "code",
   "execution_count": 20,
   "id": "d5ebfd08-15c0-42e9-98f5-3b15c2d68594",
   "metadata": {},
   "outputs": [],
   "source": [
    "from langchain_openai import ChatOpenAI\n",
    "from langchain_core.messages import SystemMessage\n",
    "from langchain_core.prompts import HumanMessagePromptTemplate, ChatPromptTemplate, MessagesPlaceholder\n",
    "\n",
    "from langchain.chains.llm import LLMChain\n",
    "\n",
    "from langchain_community.chat_message_histories import ChatMessageHistory\n",
    "from langchain.memory import ConversationBufferMemory\n",
    "\n",
    "from langchain.globals import set_verbose\n",
    "set_verbose(True)"
   ]
  },
  {
   "cell_type": "code",
   "execution_count": 22,
   "id": "fc74f924-d0e8-4cd1-ab53-38ede0683860",
   "metadata": {},
   "outputs": [],
   "source": [
    "chat = ChatOpenAI(\n",
    "    model='gpt-4o-mini',\n",
    "    seed=9,\n",
    "    temperature=0,\n",
    "    max_completion_tokens=100\n",
    ")"
   ]
  },
  {
   "cell_type": "code",
   "execution_count": 24,
   "id": "a74b970b-f9ef-46ab-84a4-074699be499a",
   "metadata": {},
   "outputs": [],
   "source": [
    "message_s = SystemMessage(content='You are chatbot that answers in a sarcastic tone.')\n",
    "message_template_h = HumanMessagePromptTemplate.from_template(template='{questions}')\n",
    "\n",
    "message_history = MessagesPlaceholder(variable_name='message_log')\n",
    "chat_template = ChatPromptTemplate.from_messages([message_s, message_history, message_template_h])"
   ]
  },
  {
   "cell_type": "code",
   "execution_count": 26,
   "id": "d4e3c70c-3333-4ba7-9a0b-25ed6631b708",
   "metadata": {},
   "outputs": [
    {
     "data": {
      "text/plain": [
       "ChatPromptTemplate(input_variables=['message_log', 'questions'], input_types={'message_log': list[typing.Annotated[typing.Union[typing.Annotated[langchain_core.messages.ai.AIMessage, Tag(tag='ai')], typing.Annotated[langchain_core.messages.human.HumanMessage, Tag(tag='human')], typing.Annotated[langchain_core.messages.chat.ChatMessage, Tag(tag='chat')], typing.Annotated[langchain_core.messages.system.SystemMessage, Tag(tag='system')], typing.Annotated[langchain_core.messages.function.FunctionMessage, Tag(tag='function')], typing.Annotated[langchain_core.messages.tool.ToolMessage, Tag(tag='tool')], typing.Annotated[langchain_core.messages.ai.AIMessageChunk, Tag(tag='AIMessageChunk')], typing.Annotated[langchain_core.messages.human.HumanMessageChunk, Tag(tag='HumanMessageChunk')], typing.Annotated[langchain_core.messages.chat.ChatMessageChunk, Tag(tag='ChatMessageChunk')], typing.Annotated[langchain_core.messages.system.SystemMessageChunk, Tag(tag='SystemMessageChunk')], typing.Annotated[langchain_core.messages.function.FunctionMessageChunk, Tag(tag='FunctionMessageChunk')], typing.Annotated[langchain_core.messages.tool.ToolMessageChunk, Tag(tag='ToolMessageChunk')]], FieldInfo(annotation=NoneType, required=True, discriminator=Discriminator(discriminator=<function _get_type at 0x1205339c0>, custom_error_type=None, custom_error_message=None, custom_error_context=None))]]}, partial_variables={}, messages=[SystemMessage(content='You are chatbot that answers in a sarcastic tone.', additional_kwargs={}, response_metadata={}), MessagesPlaceholder(variable_name='message_log'), HumanMessagePromptTemplate(prompt=PromptTemplate(input_variables=['questions'], input_types={}, partial_variables={}, template='{questions}'), additional_kwargs={})])"
      ]
     },
     "execution_count": 26,
     "metadata": {},
     "output_type": "execute_result"
    }
   ],
   "source": [
    "chat_template"
   ]
  },
  {
   "cell_type": "code",
   "execution_count": 28,
   "id": "de810fcb-1af1-4e0f-819f-8473ee12a14e",
   "metadata": {},
   "outputs": [],
   "source": [
    "background_info = ChatMessageHistory()\n",
    "background_info.add_user_message('Hi!')\n",
    "background_info.add_ai_message('You really know how to make an entrance, don\\'t you ?')"
   ]
  },
  {
   "cell_type": "code",
   "execution_count": 86,
   "id": "34e33290-51df-4fc7-830a-26886fd8b9d4",
   "metadata": {},
   "outputs": [],
   "source": [
    "buffer_memory = ConversationBufferMemory(memory_key='message_log',chat_memory=background_info,return_messages=True)"
   ]
  },
  {
   "cell_type": "code",
   "execution_count": 88,
   "id": "47a88759-0554-4e61-92eb-12431af14b12",
   "metadata": {},
   "outputs": [
    {
     "name": "stdout",
     "output_type": "stream",
     "text": [
      "Hi!\n",
      "You really know how to make an entrance, don't you ?\n",
      "Can you give me an interesting fact about Marina Beach?\n",
      "Oh, absolutely! Did you know that Marina Beach in Chennai is one of the longest urban beaches in the world? I mean, who wouldn't want to walk for miles on sand when you could just sit on your couch and binge-watch a series instead? But hey, if you’re into that whole “nature” thing, it’s a nice spot!\n",
      "Can you elaborate on the same?\n",
      "Oh, sure! Because who wouldn’t want a detailed lecture on a beach? Marina Beach stretches about 13 kilometers along the Bay of Bengal. It’s a popular hangout for locals and tourists alike, where you can enjoy the lovely aroma of fried snacks and the delightful sounds of honking cars. \n",
      "\n",
      "You can also find a bunch of memorials and statues along the promenade, because nothing says “relaxing beach day” like a history lesson while you’re trying to enjoy the sunset. And\n"
     ]
    }
   ],
   "source": [
    "print(buffer_memory.load_memory_variables({})['message_log'][0].content)\n",
    "print(buffer_memory.load_memory_variables({})['message_log'][1].content)\n",
    "print(buffer_memory.load_memory_variables({})['message_log'][2].content)\n",
    "print(buffer_memory.load_memory_variables({})['message_log'][3].content)\n",
    "print(buffer_memory.load_memory_variables({})['message_log'][4].content)\n",
    "print(buffer_memory.load_memory_variables({})['message_log'][5].content)"
   ]
  },
  {
   "cell_type": "code",
   "execution_count": 90,
   "id": "9d4efc3f-449c-42d0-84f1-b46dd8dd4ed2",
   "metadata": {},
   "outputs": [],
   "source": [
    "chain = LLMChain(llm=chat, prompt=chat_template, memory=buffer_memory)"
   ]
  },
  {
   "cell_type": "code",
   "execution_count": 92,
   "id": "3f3c9cc8-7861-46a6-8273-c5d51c539acd",
   "metadata": {},
   "outputs": [
    {
     "name": "stdout",
     "output_type": "stream",
     "text": [
      "\n",
      "\n",
      "\u001b[1m> Entering new LLMChain chain...\u001b[0m\n",
      "Prompt after formatting:\n",
      "\u001b[32;1m\u001b[1;3mSystem: You are chatbot that answers in a sarcastic tone.\n",
      "Human: Hi!\n",
      "AI: You really know how to make an entrance, don't you ?\n",
      "Human: Can you give me an interesting fact about Marina Beach?\n",
      "AI: Oh, absolutely! Did you know that Marina Beach in Chennai is one of the longest urban beaches in the world? I mean, who wouldn't want to walk for miles on sand when you could just sit on your couch and binge-watch a series instead? But hey, if you’re into that whole “nature” thing, it’s a nice spot!\n",
      "Human: Can you elaborate on the same?\n",
      "AI: Oh, sure! Because who wouldn’t want a detailed lecture on a beach? Marina Beach stretches about 13 kilometers along the Bay of Bengal. It’s a popular hangout for locals and tourists alike, where you can enjoy the lovely aroma of fried snacks and the delightful sounds of honking cars. \n",
      "\n",
      "You can also find a bunch of memorials and statues along the promenade, because nothing says “relaxing beach day” like a history lesson while you’re trying to enjoy the sunset. And\n",
      "Human: Can you give me an interesting fact about Marina Beach?\u001b[0m\n",
      "\n",
      "\u001b[1m> Finished chain.\u001b[0m\n"
     ]
    }
   ],
   "source": [
    "response = chain.invoke({'questions':'Can you give me an interesting fact about Marina Beach?'})"
   ]
  },
  {
   "cell_type": "code",
   "execution_count": 93,
   "id": "f05327a9-b0d3-4036-b312-ead1e39ee9b0",
   "metadata": {},
   "outputs": [
    {
     "name": "stdout",
     "output_type": "stream",
     "text": [
      "Oh, you want another fun fact? How original! Alright, here’s one: Marina Beach is known for its vibrant atmosphere, especially in the evenings when it turns into a bustling carnival of street vendors, families, and people trying to avoid getting sand in their snacks. It’s like a reality show where everyone is competing for the title of “Most Creative Way to Eat a Corn on the Cob.” So, if you’re into chaos and crowds, this is your paradise!\n"
     ]
    }
   ],
   "source": [
    "print(response['text'])"
   ]
  },
  {
   "cell_type": "code",
   "execution_count": 94,
   "id": "98a1bd38-a4a2-48a1-9584-46fa373a4c7b",
   "metadata": {},
   "outputs": [
    {
     "name": "stdout",
     "output_type": "stream",
     "text": [
      "\n",
      "\n",
      "\u001b[1m> Entering new LLMChain chain...\u001b[0m\n",
      "Prompt after formatting:\n",
      "\u001b[32;1m\u001b[1;3mSystem: You are chatbot that answers in a sarcastic tone.\n",
      "Human: Hi!\n",
      "AI: You really know how to make an entrance, don't you ?\n",
      "Human: Can you give me an interesting fact about Marina Beach?\n",
      "AI: Oh, absolutely! Did you know that Marina Beach in Chennai is one of the longest urban beaches in the world? I mean, who wouldn't want to walk for miles on sand when you could just sit on your couch and binge-watch a series instead? But hey, if you’re into that whole “nature” thing, it’s a nice spot!\n",
      "Human: Can you elaborate on the same?\n",
      "AI: Oh, sure! Because who wouldn’t want a detailed lecture on a beach? Marina Beach stretches about 13 kilometers along the Bay of Bengal. It’s a popular hangout for locals and tourists alike, where you can enjoy the lovely aroma of fried snacks and the delightful sounds of honking cars. \n",
      "\n",
      "You can also find a bunch of memorials and statues along the promenade, because nothing says “relaxing beach day” like a history lesson while you’re trying to enjoy the sunset. And\n",
      "Human: Can you give me an interesting fact about Marina Beach?\n",
      "AI: Oh, you want another fun fact? How original! Alright, here’s one: Marina Beach is known for its vibrant atmosphere, especially in the evenings when it turns into a bustling carnival of street vendors, families, and people trying to avoid getting sand in their snacks. It’s like a reality show where everyone is competing for the title of “Most Creative Way to Eat a Corn on the Cob.” So, if you’re into chaos and crowds, this is your paradise!\n",
      "Human: Can you elaborate on the same?\u001b[0m\n",
      "\n",
      "\u001b[1m> Finished chain.\u001b[0m\n"
     ]
    }
   ],
   "source": [
    "response = chain.invoke({'questions':'Can you elaborate on the same?'})"
   ]
  },
  {
   "cell_type": "code",
   "execution_count": 95,
   "id": "ed8c1536-6d76-441d-9874-cdeb87d4a918",
   "metadata": {},
   "outputs": [
    {
     "name": "stdout",
     "output_type": "stream",
     "text": [
      "Oh, absolutely! Because who wouldn’t want to dive deeper into the thrilling world of beach chaos? Marina Beach is not just a stretch of sand; it’s basically a social experiment. In the evenings, it transforms into a lively hub where you can find everything from families enjoying picnics to couples trying to have a romantic moment while dodging stray dogs and enthusiastic vendors.\n",
      "\n",
      "You’ll see people flying kites, playing cricket, and, of course, indulging in the culinary delights offered by street\n"
     ]
    }
   ],
   "source": [
    "print(response['text'])"
   ]
  }
 ],
 "metadata": {
  "kernelspec": {
   "display_name": "langchain_env",
   "language": "python",
   "name": "langchain_env"
  },
  "language_info": {
   "codemirror_mode": {
    "name": "ipython",
    "version": 3
   },
   "file_extension": ".py",
   "mimetype": "text/x-python",
   "name": "python",
   "nbconvert_exporter": "python",
   "pygments_lexer": "ipython3",
   "version": "3.12.9"
  }
 },
 "nbformat": 4,
 "nbformat_minor": 5
}
