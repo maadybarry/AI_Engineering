{
 "cells": [
  {
   "cell_type": "code",
   "execution_count": 1,
   "id": "fb6981c2-d571-4145-9378-393d17c44265",
   "metadata": {},
   "outputs": [],
   "source": [
    "%load_ext dotenv\n",
    "%dotenv"
   ]
  },
  {
   "cell_type": "code",
   "execution_count": 61,
   "id": "090e32da-756f-4522-98a2-70fb4806d6cc",
   "metadata": {},
   "outputs": [],
   "source": [
    "from langchain_core.prompts import PromptTemplate\n",
    "from langchain_chroma import Chroma\n",
    "from langchain_openai import OpenAIEmbeddings, ChatOpenAI\n",
    "from langchain_core.runnables import RunnablePassthrough\n",
    "from langchain_core.output_parsers import StrOutputParser"
   ]
  },
  {
   "cell_type": "code",
   "execution_count": 13,
   "id": "86caed2c-1025-4036-a6dd-8fae4edb820a",
   "metadata": {},
   "outputs": [],
   "source": [
    "embedding = OpenAIEmbeddings(model='text-embedding-ada-002')"
   ]
  },
  {
   "cell_type": "code",
   "execution_count": 15,
   "id": "b783c92f-ce7b-44a3-b1ee-dce4d22b2fe6",
   "metadata": {},
   "outputs": [],
   "source": [
    "vector_store = Chroma(persist_directory='./vector_db', embedding_function=embedding)"
   ]
  },
  {
   "cell_type": "code",
   "execution_count": 17,
   "id": "25075a92-14f0-4d3e-9129-fee97db36882",
   "metadata": {},
   "outputs": [],
   "source": [
    "TEMPLATE = '''\n",
    "Answer the following question:\n",
    "{question}\n",
    "\n",
    "To answer the question, use only the following context:\n",
    "{context}\n",
    "\n",
    "At the end of the response, specify the name of the lecture this context is taken from in the format:\n",
    "Resources: *Lecture Title*\n",
    "where *Lecture Title* should be substituted with the title of all resource lectures.\n",
    "'''\n",
    "\n",
    "prompt_template = PromptTemplate.from_template(TEMPLATE)"
   ]
  },
  {
   "cell_type": "code",
   "execution_count": 19,
   "id": "2b7325fb-662f-4dae-8e68-ba9a73131679",
   "metadata": {},
   "outputs": [],
   "source": [
    "retriever = vector_store.as_retriever(search_type='mmr',search_kwargs={'k':3,'lambda_mult':0.7})"
   ]
  },
  {
   "cell_type": "code",
   "execution_count": 23,
   "id": "dc16bc06-3d9e-4b7f-8597-9c92c4658028",
   "metadata": {},
   "outputs": [],
   "source": [
    "llm = ChatOpenAI(model='gpt-4o-mini',\n",
    "                temperature=0,\n",
    "                seed=10,\n",
    "                max_completion_tokens=250)"
   ]
  },
  {
   "cell_type": "code",
   "execution_count": 63,
   "id": "0b7a93e2-8c23-47b5-8d86-2dd2b535cdea",
   "metadata": {},
   "outputs": [],
   "source": [
    "str_parser = StrOutputParser()"
   ]
  },
  {
   "cell_type": "code",
   "execution_count": 25,
   "id": "6c34a578-9bb0-4ac8-abcc-bbd3c5bf5687",
   "metadata": {},
   "outputs": [],
   "source": [
    "question = 'what software do data scientists use?'"
   ]
  },
  {
   "cell_type": "code",
   "execution_count": 65,
   "id": "f443f7ab-d198-4749-a392-fa6506f06d6d",
   "metadata": {},
   "outputs": [],
   "source": [
    "chain = {'context':retriever,'question':RunnablePassthrough()} | prompt_template | llm | str_parser"
   ]
  },
  {
   "cell_type": "code",
   "execution_count": 67,
   "id": "7795566a-5bbd-4e91-b12a-ee367f9c56fb",
   "metadata": {},
   "outputs": [
    {
     "data": {
      "text/plain": [
       "'Data scientists commonly use R and Python as their primary programming languages due to their adaptability and ability to manipulate data effectively. These languages are integrated within various data science software platforms and are suitable for a wide range of mathematical and statistical computations. Additionally, software frameworks like Hadoop are utilized to manage big data by distributing computational tasks across multiple computers. For business intelligence visualizations, tools such as Power BI, SaS, Qlik, and Tableau are also popular among data scientists.\\n\\nResources: *Data Analytics Course*'"
      ]
     },
     "execution_count": 67,
     "metadata": {},
     "output_type": "execute_result"
    }
   ],
   "source": [
    "chain.invoke(question)"
   ]
  }
 ],
 "metadata": {
  "kernelspec": {
   "display_name": "langchain_env",
   "language": "python",
   "name": "langchain_env"
  },
  "language_info": {
   "codemirror_mode": {
    "name": "ipython",
    "version": 3
   },
   "file_extension": ".py",
   "mimetype": "text/x-python",
   "name": "python",
   "nbconvert_exporter": "python",
   "pygments_lexer": "ipython3",
   "version": "3.12.9"
  }
 },
 "nbformat": 4,
 "nbformat_minor": 5
}
