{
 "cells": [
  {
   "cell_type": "code",
   "execution_count": 2,
   "id": "8cb20bfc-0bbf-4923-a26d-2fd222e370dd",
   "metadata": {},
   "outputs": [],
   "source": [
    "%load_ext dotenv\n",
    "%dotenv"
   ]
  },
  {
   "cell_type": "code",
   "execution_count": 3,
   "id": "2e0e9afd-83f7-41db-8015-72ad92b12903",
   "metadata": {},
   "outputs": [],
   "source": [
    "from langchain.prompts import PromptTemplate\n",
    "from langchain.memory.summary import ConversationSummaryMemory\n",
    "\n",
    "from langchain_openai import ChatOpenAI\n",
    "\n",
    "from langchain.chains import LLMChain\n",
    "\n",
    "from langchain.globals import set_verbose\n",
    "\n",
    "set_verbose(True)"
   ]
  },
  {
   "cell_type": "code",
   "execution_count": 4,
   "id": "e86ef631-5d20-4e90-b93f-773cbbb58500",
   "metadata": {},
   "outputs": [],
   "source": [
    "TEMPLATE = '''\n",
    "You are an AI chatbot who replies to questions with an interesting fact. \n",
    "Below is the summary of the conversation so far and the new question from the user.\n",
    "\n",
    "Conversation Summary:\n",
    "{message_log}\n",
    "\n",
    "Human:\n",
    "{question}\n",
    "\n",
    "AI:\n",
    "'''\n",
    "\n",
    "prompt_template = PromptTemplate.from_template(template=TEMPLATE)"
   ]
  },
  {
   "cell_type": "code",
   "execution_count": 5,
   "id": "14903b11-696b-4ec0-9780-cee1a2d9c9ab",
   "metadata": {},
   "outputs": [],
   "source": [
    "model = ChatOpenAI(\n",
    "    model='gpt-4o-mini',\n",
    "    temperature=0,\n",
    "    max_completion_tokens=150\n",
    ")"
   ]
  },
  {
   "cell_type": "code",
   "execution_count": 6,
   "id": "78b2b75d-9d8b-4fa2-b4d4-c39d06619295",
   "metadata": {},
   "outputs": [
    {
     "name": "stderr",
     "output_type": "stream",
     "text": [
      "/var/folders/_l/x7sst6vd3cxcyz5906k1b_s40000gn/T/ipykernel_4378/3202248252.py:1: LangChainDeprecationWarning: Please see the migration guide at: https://python.langchain.com/docs/versions/migrating_memory/\n",
      "  summarizer = ConversationSummaryMemory(\n"
     ]
    }
   ],
   "source": [
    "summarizer = ConversationSummaryMemory(\n",
    "    llm=ChatOpenAI(),\n",
    "    memory_key='message_log',\n",
    "    return_messages=False\n",
    ")"
   ]
  },
  {
   "cell_type": "code",
   "execution_count": 7,
   "id": "a5b9810a-d1c9-4623-9fac-6c577ecb5440",
   "metadata": {},
   "outputs": [
    {
     "name": "stderr",
     "output_type": "stream",
     "text": [
      "/var/folders/_l/x7sst6vd3cxcyz5906k1b_s40000gn/T/ipykernel_4378/4151974373.py:1: LangChainDeprecationWarning: The class `LLMChain` was deprecated in LangChain 0.1.17 and will be removed in 1.0. Use :meth:`~RunnableSequence, e.g., `prompt | llm`` instead.\n",
      "  chain = LLMChain(\n"
     ]
    }
   ],
   "source": [
    "chain = LLMChain(\n",
    "    llm=model, prompt=prompt_template, memory=summarizer\n",
    ")"
   ]
  },
  {
   "cell_type": "code",
   "execution_count": 8,
   "id": "9cad85bb-f5ba-441e-a1f7-142f2a31b6be",
   "metadata": {},
   "outputs": [
    {
     "name": "stdout",
     "output_type": "stream",
     "text": [
      "\n",
      "\n",
      "\u001b[1m> Entering new LLMChain chain...\u001b[0m\n",
      "Prompt after formatting:\n",
      "\u001b[32;1m\u001b[1;3m\n",
      "You are an AI chatbot who replies to questions with an interesting fact. \n",
      "Below is the summary of the conversation so far and the new question from the user.\n",
      "\n",
      "Conversation Summary:\n",
      "\n",
      "\n",
      "Human:\n",
      "Can you tell me something about Marina Beach in Chennai ?\n",
      "\n",
      "AI:\n",
      "\u001b[0m\n",
      "\n",
      "\n",
      "\u001b[1m> Entering new LLMChain chain...\u001b[0m\n",
      "Prompt after formatting:\n",
      "\u001b[32;1m\u001b[1;3mProgressively summarize the lines of conversation provided, adding onto the previous summary returning a new summary.\n",
      "\n",
      "EXAMPLE\n",
      "Current summary:\n",
      "The human asks what the AI thinks of artificial intelligence. The AI thinks artificial intelligence is a force for good.\n",
      "\n",
      "New lines of conversation:\n",
      "Human: Why do you think artificial intelligence is a force for good?\n",
      "AI: Because artificial intelligence will help humans reach their full potential.\n",
      "\n",
      "New summary:\n",
      "The human asks what the AI thinks of artificial intelligence. The AI thinks artificial intelligence is a force for good because it will help humans reach their full potential.\n",
      "END OF EXAMPLE\n",
      "\n",
      "Current summary:\n",
      "\n",
      "\n",
      "New lines of conversation:\n",
      "Human: Can you tell me something about Marina Beach in Chennai ?\n",
      "AI: Marina Beach in Chennai is the second longest urban beach in the world, stretching over 13 kilometers (about 8 miles) along the Bay of Bengal! It's not just a popular spot for locals and tourists; it's also a hub for various cultural and sporting events throughout the year.\n",
      "\n",
      "New summary:\u001b[0m\n",
      "\n",
      "\u001b[1m> Finished chain.\u001b[0m\n",
      "\n",
      "\u001b[1m> Finished chain.\u001b[0m\n"
     ]
    },
    {
     "data": {
      "text/plain": [
       "{'question': 'Can you tell me something about Marina Beach in Chennai ?',\n",
       " 'message_log': '',\n",
       " 'text': \"Marina Beach in Chennai is the second longest urban beach in the world, stretching over 13 kilometers (about 8 miles) along the Bay of Bengal! It's not just a popular spot for locals and tourists; it's also a hub for various cultural and sporting events throughout the year.\"}"
      ]
     },
     "execution_count": 8,
     "metadata": {},
     "output_type": "execute_result"
    }
   ],
   "source": [
    "chain.invoke({'question':'Can you tell me something about Marina Beach in Chennai ?'})"
   ]
  },
  {
   "cell_type": "code",
   "execution_count": 9,
   "id": "2e00d79e-c2cf-4da6-8d48-b9fc96081a1b",
   "metadata": {},
   "outputs": [
    {
     "data": {
      "text/plain": [
       "<bound method ConversationSummaryMemory.load_memory_variables of ConversationSummaryMemory(llm=ChatOpenAI(client=<openai.resources.chat.completions.completions.Completions object at 0x1116cd6d0>, async_client=<openai.resources.chat.completions.completions.AsyncCompletions object at 0x1116cfce0>, root_client=<openai.OpenAI object at 0x1116b3440>, root_async_client=<openai.AsyncOpenAI object at 0x1116cd730>, model_kwargs={}, openai_api_key=SecretStr('**********')), chat_memory=InMemoryChatMessageHistory(messages=[HumanMessage(content='Can you tell me something about Marina Beach in Chennai ?', additional_kwargs={}, response_metadata={}), AIMessage(content=\"Marina Beach in Chennai is the second longest urban beach in the world, stretching over 13 kilometers (about 8 miles) along the Bay of Bengal! It's not just a popular spot for locals and tourists; it's also a hub for various cultural and sporting events throughout the year.\", additional_kwargs={}, response_metadata={})]), buffer='The human asks the AI to share information about Marina Beach in Chennai. The AI reveals that Marina Beach is the second longest urban beach in the world, stretching over 13 kilometers along the Bay of Bengal. It is not only a popular tourist spot but also hosts cultural and sporting events.', memory_key='message_log')>"
      ]
     },
     "execution_count": 9,
     "metadata": {},
     "output_type": "execute_result"
    }
   ],
   "source": [
    "summarizer.load_memory_variables"
   ]
  },
  {
   "cell_type": "code",
   "execution_count": 10,
   "id": "6814eb2f-f299-46f5-af27-8c013e42d4f6",
   "metadata": {},
   "outputs": [
    {
     "name": "stdout",
     "output_type": "stream",
     "text": [
      "\n",
      "\n",
      "\u001b[1m> Entering new LLMChain chain...\u001b[0m\n",
      "Prompt after formatting:\n",
      "\u001b[32;1m\u001b[1;3m\n",
      "You are an AI chatbot who replies to questions with an interesting fact. \n",
      "Below is the summary of the conversation so far and the new question from the user.\n",
      "\n",
      "Conversation Summary:\n",
      "The human asks the AI to share information about Marina Beach in Chennai. The AI reveals that Marina Beach is the second longest urban beach in the world, stretching over 13 kilometers along the Bay of Bengal. It is not only a popular tourist spot but also hosts cultural and sporting events.\n",
      "\n",
      "Human:\n",
      "Can you expand further?\n",
      "\n",
      "AI:\n",
      "\u001b[0m\n",
      "\n",
      "\n",
      "\u001b[1m> Entering new LLMChain chain...\u001b[0m\n",
      "Prompt after formatting:\n",
      "\u001b[32;1m\u001b[1;3mProgressively summarize the lines of conversation provided, adding onto the previous summary returning a new summary.\n",
      "\n",
      "EXAMPLE\n",
      "Current summary:\n",
      "The human asks what the AI thinks of artificial intelligence. The AI thinks artificial intelligence is a force for good.\n",
      "\n",
      "New lines of conversation:\n",
      "Human: Why do you think artificial intelligence is a force for good?\n",
      "AI: Because artificial intelligence will help humans reach their full potential.\n",
      "\n",
      "New summary:\n",
      "The human asks what the AI thinks of artificial intelligence. The AI thinks artificial intelligence is a force for good because it will help humans reach their full potential.\n",
      "END OF EXAMPLE\n",
      "\n",
      "Current summary:\n",
      "The human asks the AI to share information about Marina Beach in Chennai. The AI reveals that Marina Beach is the second longest urban beach in the world, stretching over 13 kilometers along the Bay of Bengal. It is not only a popular tourist spot but also hosts cultural and sporting events.\n",
      "\n",
      "New lines of conversation:\n",
      "Human: Can you expand further?\n",
      "AI: Sure! An interesting fact about Marina Beach is that it is home to several notable landmarks, including the iconic Anna Memorial and the statue of the famous Tamil poet Thiruvalluvar. The beach also features a vibrant atmosphere with numerous food stalls, making it a popular destination for both locals and tourists to enjoy traditional snacks like sundal and murukku while watching the sunset.\n",
      "\n",
      "New summary:\u001b[0m\n",
      "\n",
      "\u001b[1m> Finished chain.\u001b[0m\n",
      "\n",
      "\u001b[1m> Finished chain.\u001b[0m\n"
     ]
    },
    {
     "data": {
      "text/plain": [
       "{'question': 'Can you expand further?',\n",
       " 'message_log': 'The human asks the AI to share information about Marina Beach in Chennai. The AI reveals that Marina Beach is the second longest urban beach in the world, stretching over 13 kilometers along the Bay of Bengal. It is not only a popular tourist spot but also hosts cultural and sporting events.',\n",
       " 'text': 'Sure! An interesting fact about Marina Beach is that it is home to several notable landmarks, including the iconic Anna Memorial and the statue of the famous Tamil poet Thiruvalluvar. The beach also features a vibrant atmosphere with numerous food stalls, making it a popular destination for both locals and tourists to enjoy traditional snacks like sundal and murukku while watching the sunset.'}"
      ]
     },
     "execution_count": 10,
     "metadata": {},
     "output_type": "execute_result"
    }
   ],
   "source": [
    "chain.invoke({'question':'Can you expand further?'})"
   ]
  }
 ],
 "metadata": {
  "kernelspec": {
   "display_name": "langchain_env",
   "language": "python",
   "name": "langchain_env"
  },
  "language_info": {
   "codemirror_mode": {
    "name": "ipython",
    "version": 3
   },
   "file_extension": ".py",
   "mimetype": "text/x-python",
   "name": "python",
   "nbconvert_exporter": "python",
   "pygments_lexer": "ipython3",
   "version": "3.12.9"
  }
 },
 "nbformat": 4,
 "nbformat_minor": 5
}
