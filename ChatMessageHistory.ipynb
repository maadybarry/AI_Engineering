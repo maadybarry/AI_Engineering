{
 "cells": [
  {
   "cell_type": "code",
   "execution_count": 2,
   "id": "429ed079-3eaf-41f3-ac8c-76640ef5b2cb",
   "metadata": {},
   "outputs": [],
   "source": [
    "%load_ext dotenv\n",
    "%dotenv"
   ]
  },
  {
   "cell_type": "code",
   "execution_count": 27,
   "id": "9423471b-ee76-4692-9e5f-6d31f044ee78",
   "metadata": {},
   "outputs": [],
   "source": [
    "from langchain_openai import ChatOpenAI\n",
    "from langchain_core.prompts import HumanMessagePromptTemplate, ChatPromptTemplate\n",
    "from langchain.chains.llm import LLMChain\n",
    "from langchain_community.chat_message_histories import ChatMessageHistory"
   ]
  },
  {
   "cell_type": "code",
   "execution_count": 59,
   "id": "508a28aa-4466-46d5-a7ff-1994bc292107",
   "metadata": {},
   "outputs": [],
   "source": [
    "chat = ChatOpenAI(\n",
    "    model='gpt-4o-mini',\n",
    "    seed=9,\n",
    "    temperature=0\n",
    ")"
   ]
  },
  {
   "cell_type": "code",
   "execution_count": 61,
   "id": "e1922c58-6138-4f01-b75b-6a78ed33b7d4",
   "metadata": {},
   "outputs": [],
   "source": [
    "background_info = ChatMessageHistory()"
   ]
  },
  {
   "cell_type": "code",
   "execution_count": 63,
   "id": "2095e1e5-4b2e-41ba-8da6-241397fd4c1e",
   "metadata": {},
   "outputs": [
    {
     "data": {
      "text/plain": [
       "InMemoryChatMessageHistory(messages=[])"
      ]
     },
     "execution_count": 63,
     "metadata": {},
     "output_type": "execute_result"
    }
   ],
   "source": [
    "background_info"
   ]
  },
  {
   "cell_type": "code",
   "execution_count": 65,
   "id": "22ee7144-dc36-44e8-a98d-dc6df57ef169",
   "metadata": {},
   "outputs": [],
   "source": [
    "background_info.add_user_message('Hi, can you tell me an interesting fact?')\n",
    "background_info.add_ai_message('Sure, did you know the second longest beach in the world is located in Chennai, TN, India ? It\\'s called Marina Beach.')"
   ]
  },
  {
   "cell_type": "code",
   "execution_count": 67,
   "id": "973888f4-b044-4ceb-99b5-f89b9e5d9f45",
   "metadata": {},
   "outputs": [
    {
     "data": {
      "text/plain": [
       "InMemoryChatMessageHistory(messages=[HumanMessage(content='Hi, can you tell me an interesting fact?', additional_kwargs={}, response_metadata={}), AIMessage(content=\"Sure, did you know the second longest beach in the world is located in Chennai, TN, India ? It's called Marina Beach.\", additional_kwargs={}, response_metadata={})])"
      ]
     },
     "execution_count": 67,
     "metadata": {},
     "output_type": "execute_result"
    }
   ],
   "source": [
    "background_info"
   ]
  },
  {
   "cell_type": "code",
   "execution_count": 69,
   "id": "e687f202-ebfc-4213-b708-8995727e71e8",
   "metadata": {},
   "outputs": [
    {
     "data": {
      "text/plain": [
       "[HumanMessage(content='Hi, can you tell me an interesting fact?', additional_kwargs={}, response_metadata={}),\n",
       " AIMessage(content=\"Sure, did you know the second longest beach in the world is located in Chennai, TN, India ? It's called Marina Beach.\", additional_kwargs={}, response_metadata={})]"
      ]
     },
     "execution_count": 69,
     "metadata": {},
     "output_type": "execute_result"
    }
   ],
   "source": [
    "background_info.messages"
   ]
  },
  {
   "cell_type": "code",
   "execution_count": 71,
   "id": "a9dcf4c6-bade-4637-bb04-9c332185059d",
   "metadata": {},
   "outputs": [],
   "source": [
    "message_template_h = HumanMessagePromptTemplate.from_template(template='{follow-up-question}')"
   ]
  },
  {
   "cell_type": "code",
   "execution_count": 73,
   "id": "a2d5b7e3-b347-4a3d-a311-bcfb89fcce77",
   "metadata": {},
   "outputs": [],
   "source": [
    "chat_template = ChatPromptTemplate.from_messages(background_info.messages + [message_template_h])"
   ]
  },
  {
   "cell_type": "code",
   "execution_count": 75,
   "id": "575a01cf-9dfe-4426-822c-ae8ee2cfe0eb",
   "metadata": {},
   "outputs": [
    {
     "data": {
      "text/plain": [
       "ChatPromptTemplate(input_variables=['follow-up-question'], input_types={}, partial_variables={}, messages=[HumanMessage(content='Hi, can you tell me an interesting fact?', additional_kwargs={}, response_metadata={}), AIMessage(content=\"Sure, did you know the second longest beach in the world is located in Chennai, TN, India ? It's called Marina Beach.\", additional_kwargs={}, response_metadata={}), HumanMessagePromptTemplate(prompt=PromptTemplate(input_variables=['follow-up-question'], input_types={}, partial_variables={}, template='{follow-up-question}'), additional_kwargs={})])"
      ]
     },
     "execution_count": 75,
     "metadata": {},
     "output_type": "execute_result"
    }
   ],
   "source": [
    "chat_template"
   ]
  },
  {
   "cell_type": "code",
   "execution_count": 77,
   "id": "e4b7b669-e55e-405f-94a9-3d37c96e94d5",
   "metadata": {},
   "outputs": [],
   "source": [
    "chain = LLMChain(llm=chat, prompt=chat_template)"
   ]
  },
  {
   "cell_type": "code",
   "execution_count": 79,
   "id": "f0fdf13b-ff65-4e7c-9d65-f182f862177f",
   "metadata": {},
   "outputs": [],
   "source": [
    "response = chain.invoke({'follow-up-question':'Tell me more about that beach'})"
   ]
  },
  {
   "cell_type": "code",
   "execution_count": 80,
   "id": "ade43695-86bd-4ffd-916a-6106f6033db2",
   "metadata": {},
   "outputs": [
    {
     "name": "stdout",
     "output_type": "stream",
     "text": [
      "Marina Beach, located in Chennai, Tamil Nadu, India, is one of the longest urban beaches in the world, stretching approximately 13 kilometers (about 8 miles) along the Bay of Bengal. Here are some interesting facts and features about Marina Beach:\n",
      "\n",
      "1. **Historical Significance**: The beach has a rich history and has been a popular gathering place for locals and tourists alike. It has been a site for various cultural and political events over the years.\n",
      "\n",
      "2. **Landmarks**: Marina Beach is home to several notable landmarks, including the iconic statue of Mahatma Gandhi, which is located at the southern end of the beach. There are also memorials for other prominent figures in Indian history.\n",
      "\n",
      "3. **Activities**: The beach is a hub of activity, especially in the early mornings and evenings. People come to jog, walk, or simply enjoy the sea breeze. Street vendors sell a variety of snacks, including the famous sundal (a spiced chickpea dish) and fresh coconut water.\n",
      "\n",
      "4. **Natural Beauty**: The beach offers stunning views of the sunrise and sunset, making it a popular spot for photography. The golden sands and the gentle waves create a picturesque setting.\n",
      "\n",
      "5. **Cultural Events**: Marina Beach often hosts cultural events, festivals, and public gatherings. It serves as a venue for celebrations, including the annual Chennai Sangamam, which showcases traditional music and dance.\n",
      "\n",
      "6. **Environmental Concerns**: Like many urban beaches, Marina Beach faces challenges related to pollution and erosion. Efforts have been made to clean and maintain the beach, but it remains a work in progress.\n",
      "\n",
      "7. **Accessibility**: The beach is easily accessible from various parts of Chennai, making it a popular destination for both locals and tourists. It is well-connected by public transport.\n",
      "\n",
      "Overall, Marina Beach is not just a beautiful natural site but also a vibrant part of Chennai's cultural and social life.\n"
     ]
    }
   ],
   "source": [
    "print(response['text'])"
   ]
  },
  {
   "cell_type": "code",
   "execution_count": null,
   "id": "e48acbd6-0147-4d3b-9b53-c91a4fa09472",
   "metadata": {},
   "outputs": [],
   "source": []
  }
 ],
 "metadata": {
  "kernelspec": {
   "display_name": "langchain_env",
   "language": "python",
   "name": "langchain_env"
  },
  "language_info": {
   "codemirror_mode": {
    "name": "ipython",
    "version": 3
   },
   "file_extension": ".py",
   "mimetype": "text/x-python",
   "name": "python",
   "nbconvert_exporter": "python",
   "pygments_lexer": "ipython3",
   "version": "3.12.9"
  }
 },
 "nbformat": 4,
 "nbformat_minor": 5
}
