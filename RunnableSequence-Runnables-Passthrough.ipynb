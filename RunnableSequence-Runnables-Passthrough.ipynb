{
 "cells": [
  {
   "cell_type": "markdown",
   "id": "9851f216-3e91-4aee-817f-fdd28719ad13",
   "metadata": {},
   "source": [
    "## Runnables Basics - RunnableSequence, Runnable, RunnablePassthrough"
   ]
  },
  {
   "cell_type": "code",
   "execution_count": 2,
   "id": "14e59dc3-029e-497d-9d56-3d566cc613a7",
   "metadata": {},
   "outputs": [],
   "source": [
    "%load_ext dotenv\n",
    "%dotenv"
   ]
  },
  {
   "cell_type": "code",
   "execution_count": 3,
   "id": "adbda2c8-24e6-4a8e-9f91-0ee336b2a034",
   "metadata": {},
   "outputs": [],
   "source": [
    "from langchain_core.prompts import ChatPromptTemplate\n",
    "\n",
    "from langchain_openai import ChatOpenAI\n",
    "\n",
    "from langchain_core.output_parsers import StrOutputParser\n",
    "from langchain_core.runnables import RunnablePassthrough"
   ]
  },
  {
   "cell_type": "code",
   "execution_count": 4,
   "id": "983b77e7-13f2-4782-b0d3-39fe9931e537",
   "metadata": {},
   "outputs": [],
   "source": [
    "llm = ChatOpenAI(\n",
    "    model='gpt-4o-mini',\n",
    "    temperature=0,\n",
    "    seed=108\n",
    ")"
   ]
  },
  {
   "cell_type": "code",
   "execution_count": 5,
   "id": "ae31f24e-6b51-4fe2-b4d5-4f36bd047cf8",
   "metadata": {},
   "outputs": [],
   "source": [
    "chat_template_tools = ChatPromptTemplate.from_template(template='''\n",
    "I am planning to start a career in {job title}, Can you tell me what are most important tools I need to master?\n",
    "\n",
    "Display the output as a list of tool only.\n",
    "''')"
   ]
  },
  {
   "cell_type": "code",
   "execution_count": 6,
   "id": "0e245c51-2c66-451d-bb5a-d82f2bcdfbb6",
   "metadata": {},
   "outputs": [
    {
     "data": {
      "text/plain": [
       "ChatPromptTemplate(input_variables=['job title'], input_types={}, partial_variables={}, messages=[HumanMessagePromptTemplate(prompt=PromptTemplate(input_variables=['job title'], input_types={}, partial_variables={}, template='\\nI am planning to start a career in {job title}, Can you tell me what are most important tools I need to master?\\n\\nDisplay the output as a list of tool only.\\n'), additional_kwargs={})])"
      ]
     },
     "execution_count": 6,
     "metadata": {},
     "output_type": "execute_result"
    }
   ],
   "source": [
    "chat_template_tools"
   ]
  },
  {
   "cell_type": "code",
   "execution_count": 7,
   "id": "10c101ba-bd71-44cd-81de-7d1755506dec",
   "metadata": {},
   "outputs": [],
   "source": [
    "chat_template_mastery = ChatPromptTemplate.from_template(template='''\n",
    "Below are the list of tools, could you devise a strategy that I can follow to master each tool ?\n",
    "\n",
    "{tools}\n",
    "''')"
   ]
  },
  {
   "cell_type": "code",
   "execution_count": 8,
   "id": "802a211a-af5a-4644-9cca-a3a8d03f852a",
   "metadata": {},
   "outputs": [
    {
     "data": {
      "text/plain": [
       "ChatPromptTemplate(input_variables=['tools'], input_types={}, partial_variables={}, messages=[HumanMessagePromptTemplate(prompt=PromptTemplate(input_variables=['tools'], input_types={}, partial_variables={}, template='\\nBelow are the list of tools, could you devise a strategy that I can follow to master each tool ?\\n\\n{tools}\\n'), additional_kwargs={})])"
      ]
     },
     "execution_count": 8,
     "metadata": {},
     "output_type": "execute_result"
    }
   ],
   "source": [
    "chat_template_mastery"
   ]
  },
  {
   "cell_type": "code",
   "execution_count": 9,
   "id": "ae9554ca-bdbd-45b4-b143-5701094d1041",
   "metadata": {},
   "outputs": [],
   "source": [
    "str_output = StrOutputParser()"
   ]
  },
  {
   "cell_type": "code",
   "execution_count": 10,
   "id": "de4ce564-1c46-4381-a725-ab09d63220ac",
   "metadata": {},
   "outputs": [],
   "source": [
    "chain_tools = chat_template_tools | llm | str_output"
   ]
  },
  {
   "cell_type": "code",
   "execution_count": 11,
   "id": "a2715cdf-1be4-4108-9b31-c4b710eabe4b",
   "metadata": {},
   "outputs": [
    {
     "name": "stdout",
     "output_type": "stream",
     "text": [
      "1. Python\n",
      "2. TensorFlow\n",
      "3. PyTorch\n",
      "4. Keras\n",
      "5. Scikit-learn\n",
      "6. Jupyter Notebook\n",
      "7. Pandas\n",
      "8. NumPy\n",
      "9. Matplotlib\n",
      "10. OpenCV\n",
      "11. Apache Spark\n",
      "12. Docker\n",
      "13. Git\n",
      "14. SQL\n",
      "15. Cloud Platforms (AWS, Google Cloud, Azure)\n"
     ]
    }
   ],
   "source": [
    "print(chain_tools.invoke({'job title': 'AI Engineer'}))"
   ]
  },
  {
   "cell_type": "code",
   "execution_count": 12,
   "id": "60ff728e-893f-4e71-8639-45d957c1f802",
   "metadata": {},
   "outputs": [],
   "source": [
    "chain_mastery = chat_template_mastery | llm | str_output"
   ]
  },
  {
   "cell_type": "code",
   "execution_count": 13,
   "id": "feef17a3-cf56-404a-8ae4-b384a08f27f2",
   "metadata": {},
   "outputs": [
    {
     "name": "stdout",
     "output_type": "stream",
     "text": [
      "Mastering a diverse set of tools like the ones you've listed requires a structured approach. Below is a strategy that you can follow to effectively learn and master each tool. This strategy is divided into phases: foundational knowledge, practical application, project development, and continuous learning.\n",
      "\n",
      "### Phase 1: Foundational Knowledge\n",
      "\n",
      "1. **Python**\n",
      "   - **Resources**: Online courses (Codecademy, Coursera, edX), books (Automate the Boring Stuff with Python).\n",
      "   - **Practice**: Solve problems on platforms like LeetCode or HackerRank.\n",
      "\n",
      "2. **SQL**\n",
      "   - **Resources**: Online courses (SQL for Data Science on Coursera), books (SQL in 10 Minutes).\n",
      "   - **Practice**: Use platforms like Mode Analytics or SQLZoo to practice queries.\n",
      "\n",
      "3. **Git**\n",
      "   - **Resources**: Git documentation, online courses (Git & GitHub on Coursera).\n",
      "   - **Practice**: Create a GitHub account and start version controlling your projects.\n",
      "\n",
      "### Phase 2: Data Manipulation and Analysis\n",
      "\n",
      "4. **Pandas**\n",
      "   - **Resources**: Official documentation, online courses (Data Analysis with Pandas on Coursera).\n",
      "   - **Practice**: Work on datasets from Kaggle to manipulate and analyze data.\n",
      "\n",
      "5. **NumPy**\n",
      "   - **Resources**: Official documentation, online tutorials.\n",
      "   - **Practice**: Implement mathematical operations and array manipulations.\n",
      "\n",
      "6. **Jupyter Notebook**\n",
      "   - **Resources**: Official documentation, online tutorials.\n",
      "   - **Practice**: Use Jupyter for your Python projects and data analysis tasks.\n",
      "\n",
      "### Phase 3: Data Visualization\n",
      "\n",
      "7. **Matplotlib**\n",
      "   - **Resources**: Official documentation, online courses.\n",
      "   - **Practice**: Create visualizations for datasets you analyze with Pandas.\n",
      "\n",
      "### Phase 4: Machine Learning Frameworks\n",
      "\n",
      "8. **Scikit-learn**\n",
      "   - **Resources**: Official documentation, online courses (Machine Learning with Scikit-learn on Coursera).\n",
      "   - **Practice**: Implement various machine learning algorithms on datasets.\n",
      "\n",
      "9. **Keras**\n",
      "   - **Resources**: Official documentation, online courses (Deep Learning with Keras on Coursera).\n",
      "   - **Practice**: Build simple neural networks for classification tasks.\n",
      "\n",
      "10. **TensorFlow**\n",
      "    - **Resources**: Official documentation, online courses (TensorFlow in Practice on Coursera).\n",
      "    - **Practice**: Work on more complex models and projects.\n",
      "\n",
      "11. **PyTorch**\n",
      "    - **Resources**: Official documentation, online courses (Deep Learning with PyTorch on Coursera).\n",
      "    - **Practice**: Implement deep learning models and compare with TensorFlow.\n",
      "\n",
      "### Phase 5: Computer Vision and Big Data\n",
      "\n",
      "12. **OpenCV**\n",
      "    - **Resources**: Official documentation, online courses (OpenCV for Python on Coursera).\n",
      "    - **Practice**: Work on image processing projects and computer vision tasks.\n",
      "\n",
      "13. **Apache Spark**\n",
      "    - **Resources**: Official documentation, online courses (Big Data Analysis with Spark on Coursera).\n",
      "    - **Practice**: Work on large datasets and perform distributed data processing.\n",
      "\n",
      "### Phase 6: Containerization and Cloud Computing\n",
      "\n",
      "14. **Docker**\n",
      "    - **Resources**: Official documentation, online courses (Docker Mastery on Udemy).\n",
      "    - **Practice**: Containerize your applications and learn about Docker Compose.\n",
      "\n",
      "15. **Cloud Platforms (AWS, Google Cloud, Azure)**\n",
      "    - **Resources**: Official documentation, online courses (AWS Certified Solutions Architect, Google Cloud Fundamentals).\n",
      "    - **Practice**: Deploy applications and services on the cloud, experiment with different services.\n",
      "\n",
      "### Phase 7: Project Development and Continuous Learning\n",
      "\n",
      "- **Build Projects**: Start with small projects and gradually increase complexity. Consider contributing to open-source projects.\n",
      "- **Portfolio**: Create a portfolio showcasing your projects on GitHub or a personal website.\n",
      "- **Networking**: Join online communities (Stack Overflow, Reddit, LinkedIn groups) to connect with other learners and professionals.\n",
      "- **Stay Updated**: Follow blogs, podcasts, and YouTube channels related to data science, machine learning, and software development.\n",
      "\n",
      "### Tips for Mastery\n",
      "- **Consistency**: Dedicate a specific amount of time each week to learning and practicing.\n",
      "- **Hands-On Practice**: Focus on practical applications rather than just theoretical knowledge.\n",
      "- **Seek Feedback**: Share your work with peers or mentors to get constructive feedback.\n",
      "- **Iterate**: Revisit concepts and tools periodically to reinforce your understanding.\n",
      "\n",
      "By following this structured approach, you can effectively master each of the tools listed and build a strong foundation in data science, machine learning, and software development.\n"
     ]
    }
   ],
   "source": [
    "print(chain_mastery.invoke({'tools':'''\n",
    "1. Python\n",
    "2. TensorFlow\n",
    "3. PyTorch\n",
    "4. Keras\n",
    "5. Scikit-learn\n",
    "6. Jupyter Notebook\n",
    "7. Pandas\n",
    "8. NumPy\n",
    "9. Matplotlib\n",
    "10. OpenCV\n",
    "11. Apache Spark\n",
    "12. Docker\n",
    "13. Git\n",
    "14. SQL\n",
    "15. Cloud Platforms (AWS, Google Cloud, Azure)\n",
    "'''}))"
   ]
  },
  {
   "cell_type": "code",
   "execution_count": 14,
   "id": "41dfbd44-e12d-4189-8694-a3bdca806a4e",
   "metadata": {},
   "outputs": [],
   "source": [
    "#Time to combine both the chains using RunnablePassthrough class to pass the output of one Runnable to another without modifying the input\n",
    "\n",
    "chain_tools_passthrough = chat_template_tools | llm | str_output | {'tools':RunnablePassthrough()}\n",
    "chain_mastery_stream = chat_template_mastery | llm\n",
    "\n",
    "chain_combined = chain_tools_passthrough | chain_mastery_stream"
   ]
  },
  {
   "cell_type": "code",
   "execution_count": 15,
   "id": "3c9adbd2-581f-4d85-80d8-d672fc6bee4f",
   "metadata": {},
   "outputs": [],
   "source": [
    "ai_stream = chain_combined.stream({'job title':'Data Scientist'})"
   ]
  },
  {
   "cell_type": "code",
   "execution_count": 16,
   "id": "4c0eea87-d358-492b-aac2-12fa103b1c5d",
   "metadata": {},
   "outputs": [
    {
     "data": {
      "text/plain": [
       "<generator object RunnableSequence.stream at 0x109fdec50>"
      ]
     },
     "execution_count": 16,
     "metadata": {},
     "output_type": "execute_result"
    }
   ],
   "source": [
    "ai_stream"
   ]
  },
  {
   "cell_type": "code",
   "execution_count": 17,
   "id": "67a2c5fd-dfe5-4af7-8851-cfd59b6fe0f4",
   "metadata": {},
   "outputs": [
    {
     "name": "stdout",
     "output_type": "stream",
     "text": [
      "Mastering a set of tools like the ones you've listed requires a structured approach that combines theory, practice, and real-world application. Here’s a strategy you can follow for each tool:\n",
      "\n",
      "### General Strategy\n",
      "1. **Set Clear Goals**: Define what you want to achieve with each tool. For example, do you want to use Python for data analysis, machine learning, or web development?\n",
      "2. **Structured Learning**: Use online courses, books, and tutorials. Websites like Coursera, edX, Udacity, and DataCamp offer structured courses.\n",
      "3. **Hands-On Practice**: Implement projects or exercises that require you to use the tool. Websites like Kaggle provide datasets and competitions to practice.\n",
      "4. **Join Communities**: Engage with communities on platforms like Stack Overflow, GitHub, or Reddit to ask questions and share knowledge.\n",
      "5. **Build a Portfolio**: Document your projects and learning journey on platforms like GitHub or a personal blog.\n",
      "6. **Iterate and Reflect**: Regularly review what you’ve learned and identify areas for improvement.\n",
      "\n",
      "### Tool-Specific Strategies\n",
      "\n",
      "1. **Python**\n",
      "   - Start with the basics: syntax, data types, control structures.\n",
      "   - Work on small projects (e.g., a calculator, a simple web scraper).\n",
      "   - Explore libraries like Pandas and NumPy for data manipulation.\n",
      "\n",
      "2. **R**\n",
      "   - Learn the basics of R programming and its syntax.\n",
      "   - Focus on data analysis and visualization using ggplot2.\n",
      "   - Work on statistical analysis projects.\n",
      "\n",
      "3. **SQL**\n",
      "   - Understand database concepts and relational databases.\n",
      "   - Practice writing queries (SELECT, JOIN, GROUP BY).\n",
      "   - Use platforms like LeetCode or HackerRank for SQL challenges.\n",
      "\n",
      "4. **Pandas**\n",
      "   - Learn data manipulation techniques (filtering, grouping, merging).\n",
      "   - Work on data cleaning projects using real datasets.\n",
      "   - Explore time series analysis with Pandas.\n",
      "\n",
      "5. **NumPy**\n",
      "   - Understand array operations and mathematical functions.\n",
      "   - Implement numerical computations and linear algebra problems.\n",
      "   - Use NumPy in conjunction with Pandas for data analysis.\n",
      "\n",
      "6. **Scikit-learn**\n",
      "   - Learn the basics of machine learning concepts.\n",
      "   - Implement classification, regression, and clustering algorithms.\n",
      "   - Work on projects that involve building and evaluating models.\n",
      "\n",
      "7. **TensorFlow**\n",
      "   - Start with the basics of neural networks and deep learning.\n",
      "   - Follow tutorials to build simple models (e.g., image classification).\n",
      "   - Explore advanced topics like transfer learning and model optimization.\n",
      "\n",
      "8. **Keras**\n",
      "   - Use Keras as a high-level API for TensorFlow.\n",
      "   - Build and train deep learning models with Keras.\n",
      "   - Experiment with different architectures (CNNs, RNNs).\n",
      "\n",
      "9. **Matplotlib**\n",
      "   - Learn the basics of data visualization.\n",
      "   - Create various types of plots (line, bar, scatter).\n",
      "   - Integrate Matplotlib with Pandas for visualizing dataframes.\n",
      "\n",
      "10. **Seaborn**\n",
      "    - Explore statistical data visualization.\n",
      "    - Create complex visualizations with less code.\n",
      "    - Use Seaborn for exploratory data analysis.\n",
      "\n",
      "11. **Jupyter Notebook**\n",
      "    - Familiarize yourself with the interface and features.\n",
      "    - Use it for documenting your data analysis and machine learning projects.\n",
      "    - Explore interactive widgets and visualizations.\n",
      "\n",
      "12. **Apache Spark**\n",
      "    - Understand the basics of distributed computing.\n",
      "    - Learn Spark’s DataFrame API and RDDs.\n",
      "    - Work on big data projects to analyze large datasets.\n",
      "\n",
      "13. **Tableau**\n",
      "    - Learn the basics of data visualization and dashboard creation.\n",
      "    - Work on real datasets to create interactive dashboards.\n",
      "    - Explore advanced features like calculated fields and parameters.\n",
      "\n",
      "14. **Power BI**\n",
      "    - Understand the Power BI interface and data modeling.\n",
      "    - Create reports and dashboards using sample datasets.\n",
      "    - Explore DAX for advanced calculations.\n",
      "\n",
      "15. **Git**\n",
      "    - Learn the basics of version control and Git commands.\n",
      "    - Practice using Git for personal projects and collaborate on GitHub.\n",
      "    - Explore branching, merging, and pull requests.\n",
      "\n",
      "### Final Tips\n",
      "- **Time Management**: Allocate specific time slots for learning each tool.\n",
      "- **Project-Based Learning**: Focus on projects that interest you to keep motivation high.\n",
      "- **Stay Updated**: Follow blogs, podcasts, and YouTube channels related to data science and programming to stay current with trends and best practices.\n",
      "\n",
      "By following this structured approach, you can effectively master each of these tools and apply them in real-world scenarios. Good luck!"
     ]
    }
   ],
   "source": [
    "for i in ai_stream:\n",
    "    print(i.content, end='')"
   ]
  },
  {
   "cell_type": "code",
   "execution_count": 18,
   "id": "03c8f64b-7307-427c-b12a-e065d25ef7fe",
   "metadata": {},
   "outputs": [
    {
     "name": "stdout",
     "output_type": "stream",
     "text": [
      "{'tools': '1. Python\\n2. R\\n3. SQL\\n4. Pandas\\n5. NumPy\\n6. Scikit-learn\\n7. TensorFlow\\n8. Keras\\n9. Matplotlib\\n10. Seaborn\\n11. Jupyter Notebook\\n12. Apache Spark\\n13. Tableau\\n14. Power BI\\n15. Git'}\n"
     ]
    }
   ],
   "source": [
    "# Chumma just wanted to see what the output of runnablepassthrough part was\n",
    "print(chain_tools_passthrough.invoke({'job title':'Data Scientist'}))"
   ]
  },
  {
   "cell_type": "code",
   "execution_count": 45,
   "id": "c34ea746-0935-4a7f-a233-ee6ffb286564",
   "metadata": {},
   "outputs": [
    {
     "name": "stdout",
     "output_type": "stream",
     "text": [
      "    +-------------+    \n",
      "    | PromptInput |    \n",
      "    +-------------+    \n",
      "           *           \n",
      "           *           \n",
      "           *           \n",
      "+--------------------+ \n",
      "| ChatPromptTemplate | \n",
      "+--------------------+ \n",
      "           *           \n",
      "           *           \n",
      "           *           \n",
      "    +------------+     \n",
      "    | ChatOpenAI |     \n",
      "    +------------+     \n",
      "           *           \n",
      "           *           \n",
      "           *           \n",
      " +------------------+  \n",
      " | ChatOpenAIOutput |  \n",
      " +------------------+  \n",
      "           *           \n",
      "           *           \n",
      "           *           \n",
      "  +-----------------+  \n",
      "  | StrOutputParser |  \n",
      "  +-----------------+  \n",
      "           *           \n",
      "           *           \n",
      "           *           \n",
      "    +-------------+    \n",
      "    | Passthrough |    \n",
      "    +-------------+    \n",
      "           *           \n",
      "           *           \n",
      "           *           \n",
      "+--------------------+ \n",
      "| ChatPromptTemplate | \n",
      "+--------------------+ \n",
      "           *           \n",
      "           *           \n",
      "           *           \n",
      "    +------------+     \n",
      "    | ChatOpenAI |     \n",
      "    +------------+     \n",
      "           *           \n",
      "           *           \n",
      "           *           \n",
      " +------------------+  \n",
      " | ChatOpenAIOutput |  \n",
      " +------------------+  \n"
     ]
    }
   ],
   "source": [
    "chain_combined.get_graph().print_ascii()"
   ]
  }
 ],
 "metadata": {
  "kernelspec": {
   "display_name": "langchain_env",
   "language": "python",
   "name": "langchain_env"
  },
  "language_info": {
   "codemirror_mode": {
    "name": "ipython",
    "version": 3
   },
   "file_extension": ".py",
   "mimetype": "text/x-python",
   "name": "python",
   "nbconvert_exporter": "python",
   "pygments_lexer": "ipython3",
   "version": "3.12.9"
  }
 },
 "nbformat": 4,
 "nbformat_minor": 5
}
