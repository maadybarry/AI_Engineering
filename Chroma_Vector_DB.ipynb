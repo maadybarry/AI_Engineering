{
 "cells": [
  {
   "cell_type": "code",
   "execution_count": 2,
   "id": "aed51144-56cc-4f32-9a3f-14cb06dab467",
   "metadata": {},
   "outputs": [],
   "source": [
    "%load_ext dotenv\n",
    "%dotenv"
   ]
  },
  {
   "cell_type": "code",
   "execution_count": 20,
   "id": "317b9574-bfa9-41e6-be79-60ee0c846b75",
   "metadata": {},
   "outputs": [],
   "source": [
    "from langchain_community.document_loaders import Docx2txtLoader\n",
    "from langchain.text_splitter import MarkdownHeaderTextSplitter, CharacterTextSplitter\n",
    "from langchain_openai import OpenAIEmbeddings\n",
    "from langchain_chroma import Chroma"
   ]
  },
  {
   "cell_type": "code",
   "execution_count": 4,
   "id": "d5c9d2d4-4dd8-4fc0-9f0f-045b86080a5f",
   "metadata": {},
   "outputs": [],
   "source": [
    "loader = Docx2txtLoader(\"Introduction_to_Data_and_Data_Science_2.docx\")\n",
    "docs = loader.load()\n",
    "\n",
    "md_splitter = MarkdownHeaderTextSplitter(headers_to_split_on=[('#','Course Title'),('##','Module Title')])\n",
    "\n",
    "md_split_docs = md_splitter.split_text(docs[0].page_content)\n",
    "\n",
    "for i in md_split_docs:\n",
    "    i.page_content = ' '.join(i.page_content.split())\n",
    "\n",
    "character_splitter = CharacterTextSplitter(separator='.',chunk_size=500,chunk_overlap=50)\n",
    "\n",
    "md_char_docs = character_splitter.split_documents(md_split_docs)\n",
    "\n",
    "embedding = OpenAIEmbeddings(model='text-embedding-ada-002')"
   ]
  },
  {
   "cell_type": "code",
   "execution_count": 15,
   "id": "50cad1c1-c709-4e59-b14c-d3b82f502612",
   "metadata": {},
   "outputs": [],
   "source": [
    "vector_store = Chroma.from_documents(documents=md_char_docs, embedding=embedding, persist_directory='./vector_db')"
   ]
  },
  {
   "cell_type": "code",
   "execution_count": 22,
   "id": "634a6011-82fa-449b-b1c5-f556dc497643",
   "metadata": {},
   "outputs": [],
   "source": [
    "vector_store_local = Chroma(persist_directory='./vector_db', embedding_function=embedding)"
   ]
  },
  {
   "cell_type": "code",
   "execution_count": 26,
   "id": "89d78d0f-be59-4072-a17e-262b841f0f3c",
   "metadata": {},
   "outputs": [
    {
     "data": {
      "text/plain": [
       "{'ids': ['79249faf-190a-4327-96fd-1f08adec0fe5'],\n",
       " 'embeddings': array([[ 0.00571892, -0.02316084,  0.03221191, ...,  0.01521325,\n",
       "         -0.00926805, -0.00610018]], shape=(1, 1536)),\n",
       " 'documents': None,\n",
       " 'uris': None,\n",
       " 'included': ['embeddings'],\n",
       " 'data': None,\n",
       " 'metadatas': None}"
      ]
     },
     "execution_count": 26,
     "metadata": {},
     "output_type": "execute_result"
    }
   ],
   "source": [
    "vector_store_local.get(ids='79249faf-190a-4327-96fd-1f08adec0fe5', include=['embeddings'])"
   ]
  }
 ],
 "metadata": {
  "kernelspec": {
   "display_name": "langchain_env",
   "language": "python",
   "name": "langchain_env"
  },
  "language_info": {
   "codemirror_mode": {
    "name": "ipython",
    "version": 3
   },
   "file_extension": ".py",
   "mimetype": "text/x-python",
   "name": "python",
   "nbconvert_exporter": "python",
   "pygments_lexer": "ipython3",
   "version": "3.12.9"
  }
 },
 "nbformat": 4,
 "nbformat_minor": 5
}
