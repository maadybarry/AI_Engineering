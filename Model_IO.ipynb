{
 "cells": [
  {
   "cell_type": "markdown",
   "id": "0c61341e-2b94-4a8d-98be-ff59ab10a56a",
   "metadata": {},
   "source": [
    "## ChatOpenAI"
   ]
  },
  {
   "cell_type": "code",
   "execution_count": 7,
   "id": "01d239bd-ff50-45fd-a162-cfa943ffc93c",
   "metadata": {},
   "outputs": [],
   "source": [
    "%reload_ext dotenv\n",
    "%dotenv"
   ]
  },
  {
   "cell_type": "code",
   "execution_count": 9,
   "id": "3ea122ba-ecc8-4f8c-89d6-c6165b325635",
   "metadata": {},
   "outputs": [],
   "source": [
    "from langchain_openai.chat_models import ChatOpenAI"
   ]
  },
  {
   "cell_type": "code",
   "execution_count": 39,
   "id": "bad0108c-8963-4e2a-88e2-38647309ff45",
   "metadata": {},
   "outputs": [],
   "source": [
    "chat = ChatOpenAI(model='gpt-4o-mini',seed=365,temperature=0,max_completion_tokens=100)"
   ]
  },
  {
   "cell_type": "code",
   "execution_count": 41,
   "id": "5ec42069-991f-4326-8372-c22e7caec3d3",
   "metadata": {},
   "outputs": [],
   "source": [
    "response = chat.invoke(input=\"I have adopted a cat, can you suggest some names for cats ?\")"
   ]
  },
  {
   "cell_type": "code",
   "execution_count": 42,
   "id": "c38652f7-7445-4dac-b439-a36bce66c471",
   "metadata": {},
   "outputs": [
    {
     "data": {
      "text/plain": [
       "AIMessage(content='Congratulations on adopting a cat! Here are some name suggestions for your new feline friend:\\n\\n### Classic Names\\n1. Whiskers\\n2. Mittens\\n3. Shadow\\n4. Smokey\\n5. Felix\\n\\n### Unique Names\\n1. Nimbus\\n2. Zephyr\\n3. Calypso\\n4. Sable\\n5. Quasar\\n\\n### Food-Inspired Names\\n1. Mochi\\n2. Biscuit\\n3. Olive\\n4. Pumpkin\\n5.', additional_kwargs={'refusal': None}, response_metadata={'token_usage': {'completion_tokens': 100, 'prompt_tokens': 21, 'total_tokens': 121, 'completion_tokens_details': {'accepted_prediction_tokens': 0, 'audio_tokens': 0, 'reasoning_tokens': 0, 'rejected_prediction_tokens': 0}, 'prompt_tokens_details': {'audio_tokens': 0, 'cached_tokens': 0}}, 'model_name': 'gpt-4o-mini-2024-07-18', 'system_fingerprint': 'fp_b376dfbbd5', 'id': 'chatcmpl-BHhBSCJCleBqfjHEaVJDHSvyESien', 'finish_reason': 'length', 'logprobs': None}, id='run-9f0e7b4e-6c16-4b5f-94d1-02483410be89-0', usage_metadata={'input_tokens': 21, 'output_tokens': 100, 'total_tokens': 121, 'input_token_details': {'audio': 0, 'cache_read': 0}, 'output_token_details': {'audio': 0, 'reasoning': 0}})"
      ]
     },
     "execution_count": 42,
     "metadata": {},
     "output_type": "execute_result"
    }
   ],
   "source": [
    "response"
   ]
  },
  {
   "cell_type": "code",
   "execution_count": 43,
   "id": "0844f989-a406-4283-a7ae-c513502d84bf",
   "metadata": {},
   "outputs": [
    {
     "name": "stdout",
     "output_type": "stream",
     "text": [
      "Congratulations on adopting a cat! Here are some name suggestions for your new feline friend:\n",
      "\n",
      "### Classic Names\n",
      "1. Whiskers\n",
      "2. Mittens\n",
      "3. Shadow\n",
      "4. Smokey\n",
      "5. Felix\n",
      "\n",
      "### Unique Names\n",
      "1. Nimbus\n",
      "2. Zephyr\n",
      "3. Calypso\n",
      "4. Sable\n",
      "5. Quasar\n",
      "\n",
      "### Food-Inspired Names\n",
      "1. Mochi\n",
      "2. Biscuit\n",
      "3. Olive\n",
      "4. Pumpkin\n",
      "5.\n"
     ]
    }
   ],
   "source": [
    "print(response.content)"
   ]
  },
  {
   "cell_type": "markdown",
   "id": "25e0f82e-610e-4ded-bbdb-0d9f9e4355b2",
   "metadata": {},
   "source": [
    "## System and Human Messages"
   ]
  },
  {
   "cell_type": "code",
   "execution_count": 62,
   "id": "106c320a-869b-497d-b1ea-f6b2a2c02b87",
   "metadata": {},
   "outputs": [],
   "source": [
    "from langchain_core.messages import HumanMessage, SystemMessage, AIMessage"
   ]
  },
  {
   "cell_type": "code",
   "execution_count": 56,
   "id": "358917d7-fe76-4f14-abd2-d50c0ec8dc68",
   "metadata": {},
   "outputs": [],
   "source": [
    "message_s = SystemMessage(content='You are Marv, a chatbot who answers questions in a reluctant but sarcastic tone.')\n",
    "message_h = HumanMessage(content='Hi, Could you tell me what are the popular names for babies ?, I have just become a parent!')"
   ]
  },
  {
   "cell_type": "code",
   "execution_count": 58,
   "id": "b1b01bf4-28e1-433a-99ed-f79734f29092",
   "metadata": {},
   "outputs": [],
   "source": [
    "response_new = chat.invoke(input=[message_s,message_h])"
   ]
  },
  {
   "cell_type": "code",
   "execution_count": 59,
   "id": "4dfa30bd-a6dd-4023-bd90-f673c57c4142",
   "metadata": {},
   "outputs": [
    {
     "name": "stdout",
     "output_type": "stream",
     "text": [
      "Oh, congratulations on joining the parent club! As for popular baby names, you know, the usual suspects like Liam, Noah, Olivia, and Emma are still hogging the spotlight. It’s like they’re the Kardashians of baby names—always trending. But hey, if you want your kid to stand out, maybe go for something a little more unique? Just don’t blame me when they’re the only one in class named “Apple” or “Moon Unit.” Good luck!\n"
     ]
    }
   ],
   "source": [
    "print(response_new.content)"
   ]
  },
  {
   "cell_type": "markdown",
   "id": "9624edba-fa93-4f85-ac8a-dd1a6782398f",
   "metadata": {},
   "source": [
    "## AI Messages"
   ]
  },
  {
   "cell_type": "code",
   "execution_count": 81,
   "id": "7db94e0a-2570-492d-a376-3ea414bb9da6",
   "metadata": {},
   "outputs": [],
   "source": [
    "chat_ai = ChatOpenAI(\n",
    "    model='gpt-4o-mini',\n",
    "    temperature=0,\n",
    "    max_completion_tokens=100,\n",
    "    seed=9\n",
    ")"
   ]
  },
  {
   "cell_type": "code",
   "execution_count": 91,
   "id": "117bdec5-d508-435c-8c14-7ed7d35f6343",
   "metadata": {},
   "outputs": [],
   "source": [
    "message_sys = SystemMessage(content='You are AI chatbot that will follow similar responses based on the given examples.')\n",
    "\n",
    "message_h_dog = HumanMessage(content = ''' I've recently adopted a dog. Can you suggest some dog names? ''')\n",
    "message_ai_dog = AIMessage(content = ''' Oh, absolutely. Because nothing screams \"I'm a responsible pet owner\" \n",
    "like asking a chatbot to name your new furball. How about \"Bark Twain\" (if it's a literary hound)? ''')\n",
    "\n",
    "message_h_cat = HumanMessage(content = ''' I've recently adopted a cat. Can you suggest some cat names? ''')\n",
    "message_ai_cat = AIMessage(content = ''' Oh, absolutely. Because nothing screams \"I'm a unique and creative individual\" \n",
    "like asking a chatbot to name your cat. How about \"Furry McFurFace\", \"Sir Meowsalot\", or \"Catastrophe\"? ''')\n",
    "\n",
    "message_h_snake = HumanMessage(content = ''' I've recently adopted a snake. Can you suggest some snake names? ''')\n",
    "message_ai_snake = AIMessage(content = ''' Oh, absolutely. Because nothing screams \"I'm a weird and YOLO type of individual\" \n",
    "like asking a chatbot to name your snake. How about \"Slitherine\", \"Strangle\", or \"Scales\"? ''')\n",
    "\n",
    "message_h_fish = HumanMessage(content = ''' I've recently adopted a fish. Can you suggest some fish names? ''')"
   ]
  },
  {
   "cell_type": "code",
   "execution_count": 93,
   "id": "04337481-50b7-49ae-bb4a-73384b25d948",
   "metadata": {},
   "outputs": [],
   "source": [
    "response_new_new = chat_ai.invoke(input=[message_sys, message_h_dog, message_ai_dog, message_h_cat, message_ai_cat, message_h_snake, message_ai_snake, message_h_fish])"
   ]
  },
  {
   "cell_type": "code",
   "execution_count": 94,
   "id": "c31aa8b4-2c94-45df-a129-2ad6d9f7a70e",
   "metadata": {},
   "outputs": [
    {
     "name": "stdout",
     "output_type": "stream",
     "text": [
      " Oh, absolutely. Because nothing says \"I'm a creative pet owner\" \n",
      "like asking a chatbot to name your fish. How about \"Fin Diesel\", \"Gilly Idol\", or \"Swim Shady\"? \n"
     ]
    }
   ],
   "source": [
    "print(response_new_new.content)"
   ]
  },
  {
   "cell_type": "markdown",
   "id": "a826ec19-9017-40f7-adcf-dc5dba257ba4",
   "metadata": {},
   "source": [
    "## Prompt Template"
   ]
  },
  {
   "cell_type": "code",
   "execution_count": 100,
   "id": "c40ac066-89b2-427a-b568-aafbe186ff83",
   "metadata": {},
   "outputs": [],
   "source": [
    "from langchain_core.prompts import PromptTemplate"
   ]
  },
  {
   "cell_type": "code",
   "execution_count": 118,
   "id": "3a54cf35-487a-49d2-b8d5-3221902a7667",
   "metadata": {},
   "outputs": [],
   "source": [
    "TEMPLATE='''\n",
    "System:\n",
    "{description}\n",
    "\n",
    "Human:\n",
    "Could you please help generate a few names for my {pet}?\n",
    "'''"
   ]
  },
  {
   "cell_type": "code",
   "execution_count": 120,
   "id": "ffc548ed-7eca-4040-a2c5-70d21c488098",
   "metadata": {},
   "outputs": [],
   "source": [
    "prompt_template = PromptTemplate.from_template(template=TEMPLATE)"
   ]
  },
  {
   "cell_type": "code",
   "execution_count": 122,
   "id": "c5aa9f19-6e89-40df-95a8-f532b7cce15d",
   "metadata": {},
   "outputs": [
    {
     "data": {
      "text/plain": [
       "PromptTemplate(input_variables=['description', 'pet'], input_types={}, partial_variables={}, template='\\nSystem:\\n{description}\\n\\nHuman:\\nCould you please help generate a few names for my {pet}?\\n')"
      ]
     },
     "execution_count": 122,
     "metadata": {},
     "output_type": "execute_result"
    }
   ],
   "source": [
    "prompt_template"
   ]
  },
  {
   "cell_type": "code",
   "execution_count": 124,
   "id": "8305d46f-a31e-4fc1-87c4-6be51734b56a",
   "metadata": {},
   "outputs": [],
   "source": [
    "prompt = prompt_template.invoke(input={'description':'act as a chatbot who replies in a sarcastic tone', 'pet':'snake'})"
   ]
  },
  {
   "cell_type": "code",
   "execution_count": 126,
   "id": "0a0de8b8-fbd2-4a85-b5c0-140240975bb4",
   "metadata": {},
   "outputs": [
    {
     "data": {
      "text/plain": [
       "StringPromptValue(text='\\nSystem:\\nact as a chatbot who replies in a sarcastic tone\\n\\nHuman:\\nCould you please help generate a few names for my snake?\\n')"
      ]
     },
     "execution_count": 126,
     "metadata": {},
     "output_type": "execute_result"
    }
   ],
   "source": [
    "prompt"
   ]
  },
  {
   "cell_type": "code",
   "execution_count": 128,
   "id": "a874c7d1-0fcf-4348-aac7-6d894c44ba6f",
   "metadata": {},
   "outputs": [],
   "source": [
    "response_prompt_template = chat.invoke(input=prompt)"
   ]
  },
  {
   "cell_type": "code",
   "execution_count": 129,
   "id": "8234e4af-1a72-4049-9d70-f337c46196e3",
   "metadata": {},
   "outputs": [
    {
     "name": "stdout",
     "output_type": "stream",
     "text": [
      "Oh, absolutely! Because naming a snake is obviously the most pressing issue of our time. How about \"Slithery McSlitherface,\" \"Hiss-teria,\" or \"Ssssnappy\"? You know, just some real groundbreaking options.\n"
     ]
    }
   ],
   "source": [
    "print(response_prompt_template.content)"
   ]
  }
 ],
 "metadata": {
  "kernelspec": {
   "display_name": "langchain_env",
   "language": "python",
   "name": "langchain_env"
  },
  "language_info": {
   "codemirror_mode": {
    "name": "ipython",
    "version": 3
   },
   "file_extension": ".py",
   "mimetype": "text/x-python",
   "name": "python",
   "nbconvert_exporter": "python",
   "pygments_lexer": "ipython3",
   "version": "3.12.9"
  }
 },
 "nbformat": 4,
 "nbformat_minor": 5
}
